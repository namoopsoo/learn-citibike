{
 "cells": [
  {
   "cell_type": "markdown",
   "metadata": {},
   "source": [
    "In this notebook, taking another visual approach to do some EDA on the time_of_day feature.\n",
    "I am looking at this after already having done a good deal of model training. Perhaps if I had looked at this histograms below earlier, I would have not necessarily chosen this particular feature binned as arbitrarily as I had done."
   ]
  },
  {
   "cell_type": "code",
   "execution_count": 2,
   "metadata": {},
   "outputs": [],
   "source": [
    "import pandas as pd\n",
    "import numpy as np\n",
    "import datetime; import pytz\n",
    "from collections import Counter\n",
    "import matplotlib.pyplot as plt\n",
    "from joblib import dump, load\n",
    "import joblib\n",
    "import os\n",
    "from tqdm import tqdm\n",
    "from sklearn.datasets import load_svmlight_file\n",
    "from sklearn.metrics import accuracy_score, balanced_accuracy_score\n",
    "from scipy.stats import spearmanr\n",
    "from functools import reduce\n",
    "import fresh.s3utils as fs3\n",
    "from importlib import reload\n",
    "import json\n",
    "import fresh.plot as fp\n",
    "import fresh.vanilla_utils as fvu\n",
    "import fresh.metrics as fm\n",
    "\n",
    "import fresh.utils as fu\n"
   ]
  },
  {
   "cell_type": "code",
   "execution_count": 3,
   "metadata": {},
   "outputs": [],
   "source": [
    "%matplotlib inline"
   ]
  },
  {
   "cell_type": "code",
   "execution_count": 4,
   "metadata": {},
   "outputs": [],
   "source": [
    "# artifactsdir = '/opt/program/artifacts/2020-07-10T135910Z'\n",
    "train_loc = 'artifacts/2020-07-08T143732Z/train.libsvm'\n",
    "\n",
    "train_data = load_svmlight_file(train_loc)\n",
    "X_train = train_data[0].toarray()\n",
    "y_train = train_data[1]\n",
    "\n"
   ]
  },
  {
   "cell_type": "code",
   "execution_count": 5,
   "metadata": {},
   "outputs": [
    {
     "data": {
      "text/plain": [
       "((316281, 85), (316281,))"
      ]
     },
     "execution_count": 5,
     "metadata": {},
     "output_type": "execute_result"
    }
   ],
   "source": [
    "X_train.shape, y_train.shape"
   ]
  },
  {
   "cell_type": "code",
   "execution_count": 6,
   "metadata": {},
   "outputs": [],
   "source": [
    "# just quickly plot which source more common... \n",
    "X_source_neighborhood = np.argmax(X_train[:, :75], axis=1)\n",
    "\n",
    "X_time_of_day = np.argmax(X_train[:, 78:83], axis=1)\n",
    "X_weekday = X_train[:, 84]"
   ]
  },
  {
   "cell_type": "code",
   "execution_count": 7,
   "metadata": {},
   "outputs": [
    {
     "data": {
      "text/plain": [
       "Counter({1.0: 235318, 0.0: 80963})"
      ]
     },
     "execution_count": 7,
     "metadata": {},
     "output_type": "execute_result"
    }
   ],
   "source": [
    "\n",
    "Counter(X_weekday)"
   ]
  },
  {
   "cell_type": "code",
   "execution_count": 8,
   "metadata": {},
   "outputs": [
    {
     "data": {
      "text/plain": [
       "Counter({3: 115473, 2: 57914, 0: 54094, 1: 61246, 4: 27554})"
      ]
     },
     "execution_count": 8,
     "metadata": {},
     "output_type": "execute_result"
    }
   ],
   "source": [
    "Counter(X_time_of_day)"
   ]
  },
  {
   "cell_type": "code",
   "execution_count": 9,
   "metadata": {},
   "outputs": [
    {
     "data": {
      "text/plain": [
       "((316281,), (316281,))"
      ]
     },
     "execution_count": 9,
     "metadata": {},
     "output_type": "execute_result"
    }
   ],
   "source": [
    "X_time_of_day.shape, y_train.shape"
   ]
  },
  {
   "cell_type": "code",
   "execution_count": 10,
   "metadata": {
    "scrolled": true
   },
   "outputs": [
    {
     "data": {
      "text/plain": [
       "Counter({10.0: 6160,\n",
       "         42.0: 6751,\n",
       "         29.0: 8736,\n",
       "         8.0: 10565,\n",
       "         2.0: 3271,\n",
       "         46.0: 9515,\n",
       "         45.0: 8231,\n",
       "         30.0: 7301,\n",
       "         18.0: 7416,\n",
       "         0.0: 7881,\n",
       "         38.0: 6291,\n",
       "         48.0: 3656,\n",
       "         5.0: 5320,\n",
       "         22.0: 9432,\n",
       "         20.0: 7298,\n",
       "         32.0: 8739,\n",
       "         35.0: 7740,\n",
       "         43.0: 6399,\n",
       "         9.0: 6654,\n",
       "         16.0: 9370,\n",
       "         23.0: 9414,\n",
       "         53.0: 6583,\n",
       "         52.0: 9295,\n",
       "         34.0: 9082,\n",
       "         4.0: 7233,\n",
       "         1.0: 8395,\n",
       "         36.0: 2666,\n",
       "         21.0: 6957,\n",
       "         6.0: 1927,\n",
       "         25.0: 8607,\n",
       "         14.0: 3873,\n",
       "         26.0: 2726,\n",
       "         24.0: 5802,\n",
       "         40.0: 2200,\n",
       "         3.0: 2521,\n",
       "         37.0: 4234,\n",
       "         19.0: 1637,\n",
       "         50.0: 6287,\n",
       "         49.0: 8115,\n",
       "         11.0: 4921,\n",
       "         33.0: 9555,\n",
       "         7.0: 4008,\n",
       "         12.0: 1375,\n",
       "         17.0: 7319,\n",
       "         31.0: 5034,\n",
       "         39.0: 1536,\n",
       "         41.0: 4302,\n",
       "         15.0: 6963,\n",
       "         44.0: 673,\n",
       "         47.0: 919,\n",
       "         27.0: 5693,\n",
       "         51.0: 637,\n",
       "         13.0: 6953,\n",
       "         28.0: 2113})"
      ]
     },
     "execution_count": 10,
     "metadata": {},
     "output_type": "execute_result"
    }
   ],
   "source": [
    "Counter(y_train)"
   ]
  },
  {
   "cell_type": "code",
   "execution_count": 11,
   "metadata": {
    "scrolled": true
   },
   "outputs": [
    {
     "data": {
      "image/png": "[encoded data removed]",
      "text/plain": [
       "<Figure size 432x288 with 1 Axes>"
      ]
     },
     "metadata": {
      "needs_background": "light"
     },
     "output_type": "display_data"
    }
   ],
   "source": [
    "plt.hist(y_train, bins=100, density=True)\n",
    "plt.show()"
   ]
  },
  {
   "cell_type": "code",
   "execution_count": 12,
   "metadata": {},
   "outputs": [],
   "source": [
    "df = pd.DataFrame()\n",
    "df['X_time_of_day'] = X_time_of_day\n",
    "df['y_train'] = y_train\n",
    "# y_train.shape"
   ]
  },
  {
   "cell_type": "markdown",
   "metadata": {},
   "source": [
    "Here below, just sampling 10k , for the `5` different period of times of day, \n",
    "there looks to be a high regularity. These time periods were selected kind of arbitrarily and maybe there are other choices that perhaps highlight diffences better. But for these selections, visually they have limited distinction."
   ]
  },
  {
   "cell_type": "code",
   "execution_count": 34,
   "metadata": {},
   "outputs": [
    {
     "data": {
      "text/plain": [
       "(10000, 2)"
      ]
     },
     "execution_count": 34,
     "metadata": {},
     "output_type": "execute_result"
    }
   ],
   "source": [
    "sample = np.random.choice(range(df.shape[0]), int(1e4))\n",
    "df.iloc[sample].shape"
   ]
  },
  {
   "cell_type": "code",
   "execution_count": 37,
   "metadata": {},
   "outputs": [
    {
     "data": {
      "image/png": "[encoded data removed]",
      "text/plain": [
       "<Figure size 864x1152 with 4 Axes>"
      ]
     },
     "metadata": {
      "needs_background": "light"
     },
     "output_type": "display_data"
    }
   ],
   "source": [
    "fig = plt.figure(figsize=(12, 16))\n",
    "howmany = int(1e4)\n",
    "\n",
    "def sample_foo(df, howmany):\n",
    "    sample = np.random.choice(df.index.tolist(), howmany)\n",
    "    return df.loc[sample]\n",
    "\n",
    "time_of_day_map = {0: '6a-9a', \n",
    "                   1: '10a-1p', 2: '2p-4p', \n",
    "                   3: '5p-9p', 4: '10p-5a'}\n",
    "base = 0\n",
    "y1 = sample_foo(df[df['X_time_of_day'] == base], howmany)['y_train']\n",
    "\n",
    "for i in [1, 2, 3, 4]:\n",
    "    y2 = sample_foo(df[df['X_time_of_day'] == i], howmany)['y_train']\n",
    "    ax = fig.add_subplot(int('51' + f'{i + 1}'))\n",
    "    ax.hist(y1, \n",
    "            bins=100, density=True, alpha=0.2, label=f'time_of_day={base}')\n",
    "    \n",
    "    ax.hist(y2, \n",
    "            bins=100, density=True, alpha=0.2, label=f'time_of_day={i}')\n",
    "    ax.set_title(f'Destinations: {time_of_day_map[base]} ({base}) '\n",
    "                 f'vs {time_of_day_map[i]} ({i})')\n",
    "    ax.legend()\n",
    "fig.show()\n",
    "\n"
   ]
  },
  {
   "cell_type": "code",
   "execution_count": null,
   "metadata": {},
   "outputs": [],
   "source": []
  },
  {
   "cell_type": "code",
   "execution_count": 1,
   "metadata": {},
   "outputs": [
    {
     "data": {
      "text/plain": [
       "1"
      ]
     },
     "execution_count": 1,
     "metadata": {},
     "output_type": "execute_result"
    }
   ],
   "source": [
    "1"
   ]
  }
 ],
 "metadata": {
  "kernelspec": {
   "display_name": "Python 3",
   "language": "python",
   "name": "python3"
  },
  "language_info": {
   "codemirror_mode": {
    "name": "ipython",
    "version": 3
   },
   "file_extension": ".py",
   "mimetype": "text/x-python",
   "name": "python",
   "nbconvert_exporter": "python",
   "pygments_lexer": "ipython3",
   "version": "3.7.7"
  }
 },
 "nbformat": 4,
 "nbformat_minor": 4
}
