{
 "cells": [
  {
   "cell_type": "code",
   "execution_count": 2,
   "metadata": {
    "scrolled": true
   },
   "outputs": [],
   "source": [
    "import pandas as pd\n",
    "import xgboost as xgb\n",
    "from xgboost import XGBClassifier\n",
    "import datetime; import pytz\n",
    "import matplotlib.pyplot as plt\n",
    "from scipy.special import softmax\n",
    "from sklearn.model_selection import cross_val_score\n",
    "from sklearn.model_selection import train_test_split # (*arrays, **options)\n",
    "import numpy as np\n",
    "from sklearn.metrics import log_loss\n",
    "from sklearn.preprocessing import OneHotEncoder, LabelEncoder\n",
    "\n",
    "from joblib import dump, load\n",
    "import joblib\n",
    "import os\n",
    "from sklearn.metrics import confusion_matrix, mean_squared_error\n",
    "from sklearn.model_selection import KFold, train_test_split, GridSearchCV\n",
    "from sklearn.metrics import accuracy_score\n",
    "import fresh.utils as fu\n",
    "\n",
    "from importlib import reload\n",
    "from collections import Counter\n",
    "from tqdm.notebook import tqdm\n",
    "import fresh.preproc.v1 as pv1"
   ]
  },
  {
   "cell_type": "code",
   "execution_count": 23,
   "metadata": {},
   "outputs": [],
   "source": [
    "datadir = '/opt/data'\n",
    "localdir = '/opt/program'\n",
    "\n",
    "\n",
    "tripsdf = pd.read_csv(f'{datadir}/2013-07 - Citi Bike trip data.csv'\n",
    "                     )#.sample(frac=0.017, random_state=42)\n",
    "stationsdf = pd.read_csv(f'{localdir}/datas/stations/stations-2018-12-04-c.csv',\n",
    "                        index_col=0)\n"
   ]
  },
  {
   "cell_type": "code",
   "execution_count": 24,
   "metadata": {},
   "outputs": [],
   "source": [
    "\n",
    "X, y, neighborhoods = fu.prepare_data(tripsdf, stationsdf)\n",
    "X_train, X_test, y_train, y_test = train_test_split(X, y)\n",
    "\n",
    "# preproc\n",
    "(X_transformed,\n",
    "     one_hot_enc, le,\n",
    "     y_enc) = pv1.preprocess(X_train, y_train, # X[train_index]\n",
    "                         neighborhoods)\n",
    "labels = le.classes_\n",
    "\n",
    "# Test set\n",
    "X_test_transformed = one_hot_enc.transform(X_test)\n",
    "y_test_enc = le.transform(y_test)"
   ]
  },
  {
   "cell_type": "code",
   "execution_count": 25,
   "metadata": {},
   "outputs": [
    {
     "data": {
      "text/plain": [
       "877"
      ]
     },
     "execution_count": 25,
     "metadata": {},
     "output_type": "execute_result"
    }
   ],
   "source": [
    "os.getpid()"
   ]
  },
  {
   "cell_type": "code",
   "execution_count": 26,
   "metadata": {},
   "outputs": [
    {
     "name": "stdout",
     "output_type": "stream",
     "text": [
      "/opt/program/artifacts/2020-06-20T215346Z\n",
      "CPU times: user 20min 19s, sys: 8.64 s, total: 20min 27s\n",
      "Wall time: 23min 30s\n"
     ]
    }
   ],
   "source": [
    "%%time\n",
    "workdir = fu.make_work_dir(); print(workdir)\n",
    "fu.log(workdir, 'Starting')\n",
    "\n",
    "rng = np.random.RandomState(31337)\n",
    "\n",
    "kf = KFold(n_splits=2, shuffle=True, random_state=rng)\n",
    "for (i, (train_index, test_index)) in enumerate(kf.split(X)):    \n",
    "    # preproc\n",
    "    (X_transformed,\n",
    "         one_hot_enc, le,\n",
    "         y_enc) = pv1.preprocess(X[train_index], y[train_index], \n",
    "                             neighborhoods)\n",
    "    \n",
    "    xgb_model = xgb.XGBClassifier(objective='multi:softprob'\n",
    "                                 ).fit(X_transformed, \n",
    "                                        y_enc, verbose=True)\n",
    "    fu.log(workdir, f'[{i}] Done fit.')\n",
    "    \n",
    "    bundle_loc = f'{workdir}/bundle_{i}.joblib'\n",
    "    joblib.dump({'model': xgb_model}, bundle_loc)\n",
    "    #\n",
    "    X_test_transformed = one_hot_enc.transform(X[test_index])\n",
    "    actuals = le.transform(y[test_index]); len(actuals)\n",
    "    \n",
    "    predictions = xgb_model.predict(X_test_transformed)\n",
    "    confusion = confusion_matrix(actuals, predictions)\n",
    "    acc = accuracy_score(actuals, predictions)\n",
    "    \n",
    "    y_prob_vec = fu.predict_proba(X_test_transformed, bundle_loc=bundle_loc)\n",
    "    # xgb_model.predict_proba(X_test_transformed)\n",
    "    fu.log(workdir, f'[{i}] Done fu.predict_proba')\n",
    "    \n",
    "    \n",
    "    logloss = fu.big_logloss(actuals, y_prob_vec, list(range(len(labels))))\n",
    "    fu.log(workdir, f'[{i}] Done big_logloss, loss={logloss}.')\n",
    "                          \n",
    "    # save full now though\n",
    "    joblib.dump({'model': xgb_model,\n",
    "                'metrics': {'confusion': confusion,\n",
    "                           'validation_logloss': logloss,\n",
    "                           'validation_acc': acc}}, bundle_loc)\n",
    "    fu.log(workdir, f'[{i}] dumped bundle to {bundle_loc}')\n",
    "                             "
   ]
  },
  {
   "cell_type": "code",
   "execution_count": 27,
   "metadata": {},
   "outputs": [
    {
     "data": {
      "text/plain": [
       "{'model': XGBClassifier(base_score=0.5, booster='gbtree', colsample_bylevel=1,\n",
       "               colsample_bynode=1, colsample_bytree=1, gamma=0,\n",
       "               learning_rate=0.1, max_delta_step=0, max_depth=3,\n",
       "               min_child_weight=1, missing=nan, n_estimators=100, n_jobs=1,\n",
       "               nthread=None, objective='multi:softprob', random_state=0,\n",
       "               reg_alpha=0, reg_lambda=1, scale_pos_weight=1, seed=None,\n",
       "               silent=None, subsample=1, verbosity=1),\n",
       " 'metrics': {'confusion': array([[   0,   49,   12, ...,    0,    0,  143],\n",
       "         [   0, 1112,   13, ...,    0,    0,   39],\n",
       "         [   0,    1,  283, ...,    0,    0,  305],\n",
       "         ...,\n",
       "         [   0,    0,    7, ...,    0,    0,   73],\n",
       "         [   0,  567,   27, ...,    0,    0,   57],\n",
       "         [   0,   21,  163, ...,    0,    0, 2064]]),\n",
       "  'validation_logloss': 3.3088296090867195,\n",
       "  'validation_acc': 0.15462832101833496}}"
      ]
     },
     "execution_count": 27,
     "metadata": {},
     "output_type": "execute_result"
    }
   ],
   "source": [
    "bundle_loc = '/opt/program/artifacts/2020-06-20T215346Z/bundle_0.joblib'\n",
    "bundle = joblib.load(bundle_loc)\n",
    "bundle"
   ]
  },
  {
   "cell_type": "code",
   "execution_count": 28,
   "metadata": {
    "scrolled": true
   },
   "outputs": [
    {
     "data": {
      "text/plain": [
       "{'model': XGBClassifier(base_score=0.5, booster='gbtree', colsample_bylevel=1,\n",
       "               colsample_bynode=1, colsample_bytree=1, gamma=0,\n",
       "               learning_rate=0.1, max_delta_step=0, max_depth=3,\n",
       "               min_child_weight=1, missing=nan, n_estimators=100, n_jobs=1,\n",
       "               nthread=None, objective='multi:softprob', random_state=0,\n",
       "               reg_alpha=0, reg_lambda=1, scale_pos_weight=1, seed=None,\n",
       "               silent=None, subsample=1, verbosity=1),\n",
       " 'metrics': {'confusion': array([[ 193,   64,   14, ...,    0,    0,  150],\n",
       "         [  27, 1167,   16, ...,    0,    0,   28],\n",
       "         [   4,    6,  379, ...,    0,    0,  236],\n",
       "         ...,\n",
       "         [   0,    0,   17, ...,    0,    0,   46],\n",
       "         [  67,  599,   24, ...,    0,    0,   78],\n",
       "         [  19,    9,  196, ...,    0,    0, 2017]]),\n",
       "  'validation_logloss': 3.306871724048802,\n",
       "  'validation_acc': 0.1541161182619253}}"
      ]
     },
     "execution_count": 28,
     "metadata": {},
     "output_type": "execute_result"
    }
   ],
   "source": [
    "bundle_loc = '/opt/program/artifacts/2020-06-20T215346Z/bundle_1.joblib'\n",
    "bundle = joblib.load(bundle_loc)\n",
    "bundle"
   ]
  },
  {
   "cell_type": "code",
   "execution_count": 29,
   "metadata": {},
   "outputs": [
    {
     "name": "stdout",
     "output_type": "stream",
     "text": [
      "\u001b[?1h\u001b=\u001b[H\u001b[2J\u001b[mtop - 22:39:42 up 4 days, 21:42,  0 users,  load average: 0.41, 0.31, 0.56\u001b[m\u001b[m\u001b[m\u001b[m\u001b[K\n",
      "Tasks:\u001b[m\u001b[m\u001b[1m   6 \u001b[m\u001b[mtotal,\u001b[m\u001b[m\u001b[1m   1 \u001b[m\u001b[mrunning,\u001b[m\u001b[m\u001b[1m   5 \u001b[m\u001b[msleeping,\u001b[m\u001b[m\u001b[1m   0 \u001b[m\u001b[mstopped,\u001b[m\u001b[m\u001b[1m   0 \u001b[m\u001b[mzombie\u001b[m\u001b[m\u001b[m\u001b[m\u001b[K\n",
      "%Cpu(s):\u001b[m\u001b[m\u001b[1m  6.0 \u001b[m\u001b[mus,\u001b[m\u001b[m\u001b[1m  0.7 \u001b[m\u001b[msy,\u001b[m\u001b[m\u001b[1m  0.0 \u001b[m\u001b[mni,\u001b[m\u001b[m\u001b[1m 93.1 \u001b[m\u001b[mid,\u001b[m\u001b[m\u001b[1m  0.2 \u001b[m\u001b[mwa,\u001b[m\u001b[m\u001b[1m  0.0 \u001b[m\u001b[mhi,\u001b[m\u001b[m\u001b[1m  0.0 \u001b[m\u001b[msi,\u001b[m\u001b[m\u001b[1m  0.0 \u001b[m\u001b[mst\u001b[m\u001b[m\u001b[m\u001b[m\u001b[K\n",
      "KiB Mem :\u001b[m\u001b[m\u001b[1m  2046844 \u001b[m\u001b[mtotal,\u001b[m\u001b[m\u001b[1m   634640 \u001b[m\u001b[mfree,\u001b[m\u001b[m\u001b[1m  1234124 \u001b[m\u001b[mused,\u001b[m\u001b[m\u001b[1m   178080 \u001b[m\u001b[mbuff/cache\u001b[m\u001b[m\u001b[m\u001b[m\u001b[K\n",
      "KiB Swap:\u001b[m\u001b[m\u001b[1m  1048572 \u001b[m\u001b[mtotal,\u001b[m\u001b[m\u001b[1m    28140 \u001b[m\u001b[mfree,\u001b[m\u001b[m\u001b[1m  1020432 \u001b[m\u001b[mused.\u001b[m\u001b[m\u001b[1m   650456 \u001b[m\u001b[mavail Mem \u001b[m\u001b[m\u001b[m\u001b[m\u001b[K\n",
      "\u001b[K\n",
      "\u001b[7m  PID USER      PR  NI    VIRT    RES    SHR S  %CPU %MEM     TIME+ COMMAND     \u001b[m\u001b[m\u001b[K\n",
      "\u001b[m  667 root      20   0 1147296  21832   5456 S   5.9  1.1   7:40.77 jupyter-no+ \u001b[m\u001b[m\u001b[K\n",
      "\u001b[m  877 root      20   0 2782904 1.076g  11120 S   5.9 55.1  21:23.56 python      \u001b[m\u001b[m\u001b[K\n",
      "\u001b[m    1 root      20   0   18236      4      0 S   0.0  0.0   0:00.11 bash        \u001b[m\u001b[m\u001b[K\n",
      "\u001b[m  897 root      20   0  243148   3360   1240 S   0.0  0.2   0:00.12 python      \u001b[m\u001b[m\u001b[K\n",
      "\u001b[m  927 root      20   0    4500    748    680 S   0.0  0.0   0:00.55 sh          \u001b[m\u001b[m\u001b[K\n",
      "\u001b[m\u001b[1m  928 root      20   0   36852   3080   2672 R   0.0  0.2   0:00.00 top         \u001b[m\u001b[m\u001b[K\n",
      "\u001b[J\u001b[H\u001b[mtop - 22:39:45 up 4 days, 21:42,  0 users,  load average: 0.38, 0.30, 0.56\u001b[m\u001b[m\u001b[m\u001b[m\u001b[K\n",
      "Tasks:\u001b[m\u001b[m\u001b[1m   6 \u001b[m\u001b[mtotal,\u001b[m\u001b[m\u001b[1m   1 \u001b[m\u001b[mrunning,\u001b[m\u001b[m\u001b[1m   5 \u001b[m\u001b[msleeping,\u001b[m\u001b[m\u001b[1m   0 \u001b[m\u001b[mstopped,\u001b[m\u001b[m\u001b[1m   0 \u001b[m\u001b[mzombie\u001b[m\u001b[m\u001b[m\u001b[m\u001b[K\n",
      "%Cpu(s):\u001b[m\u001b[m\u001b[1m  0.6 \u001b[m\u001b[mus,\u001b[m\u001b[m\u001b[1m  1.2 \u001b[m\u001b[msy,\u001b[m\u001b[m\u001b[1m  0.0 \u001b[m\u001b[mni,\u001b[m\u001b[m\u001b[1m 98.0 \u001b[m\u001b[mid,\u001b[m\u001b[m\u001b[1m  0.1 \u001b[m\u001b[mwa,\u001b[m\u001b[m\u001b[1m  0.0 \u001b[m\u001b[mhi,\u001b[m\u001b[m\u001b[1m  0.1 \u001b[m\u001b[msi,\u001b[m\u001b[m\u001b[1m  0.0 \u001b[m\u001b[mst\u001b[m\u001b[m\u001b[m\u001b[m\u001b[K\n",
      "KiB Mem :\u001b[m\u001b[m\u001b[1m  2046844 \u001b[m\u001b[mtotal,\u001b[m\u001b[m\u001b[1m   634608 \u001b[m\u001b[mfree,\u001b[m\u001b[m\u001b[1m  1234020 \u001b[m\u001b[mused,\u001b[m\u001b[m\u001b[1m   178216 \u001b[m\u001b[mbuff/cache\u001b[m\u001b[m\u001b[m\u001b[m\u001b[K\n",
      "KiB Swap:\u001b[m\u001b[m\u001b[1m  1048572 \u001b[m\u001b[mtotal,\u001b[m\u001b[m\u001b[1m    28164 \u001b[m\u001b[mfree,\u001b[m\u001b[m\u001b[1m  1020408 \u001b[m\u001b[mused.\u001b[m\u001b[m\u001b[1m   650520 \u001b[m\u001b[mavail Mem \u001b[m\u001b[m\u001b[m\u001b[m\u001b[K\n",
      "\u001b[K\n",
      "\n",
      "\u001b[m  877 root      20   0 2782904 1.076g  11120 S   6.0 55.1  21:23.74 python      \u001b[m\u001b[m\u001b[K\n",
      "\u001b[m  667 root      20   0 1147296  21832   5456 S   3.3  1.1   7:40.87 jupyter-no+ \u001b[m\u001b[m\u001b[K\n",
      "\n",
      "\n",
      "\n",
      "\u001b[m\u001b[1m  928 root      20   0   36820   3096   2672 R   0.0  0.2   0:00.00 top         \u001b[m\u001b[m\u001b[K\n",
      "\u001b[J\u001b[H\u001b[mtop - 22:39:48 up 4 days, 21:42,  0 users,  load average: 0.35, 0.30, 0.56\u001b[m\u001b[m\u001b[m\u001b[m\u001b[K\n",
      "\n",
      "%Cpu(s):\u001b[m\u001b[m\u001b[1m  0.9 \u001b[m\u001b[mus,\u001b[m\u001b[m\u001b[1m  1.4 \u001b[m\u001b[msy,\u001b[m\u001b[m\u001b[1m  0.0 \u001b[m\u001b[mni,\u001b[m\u001b[m\u001b[1m 97.6 \u001b[m\u001b[mid,\u001b[m\u001b[m\u001b[1m  0.1 \u001b[m\u001b[mwa,\u001b[m\u001b[m\u001b[1m  0.0 \u001b[m\u001b[mhi,\u001b[m\u001b[m\u001b[1m  0.1 \u001b[m\u001b[msi,\u001b[m\u001b[m\u001b[1m  0.0 \u001b[m\u001b[mst\u001b[m\u001b[m\u001b[m\u001b[m\u001b[K\n",
      "KiB Mem :\u001b[m\u001b[m\u001b[1m  2046844 \u001b[m\u001b[mtotal,\u001b[m\u001b[m\u001b[1m   634360 \u001b[m\u001b[mfree,\u001b[m\u001b[m\u001b[1m  1234252 \u001b[m\u001b[mused,\u001b[m\u001b[m\u001b[1m   178232 \u001b[m\u001b[mbuff/cache\u001b[m\u001b[m\u001b[m\u001b[m\u001b[K\n",
      "KiB Swap:\u001b[m\u001b[m\u001b[1m  1048572 \u001b[m\u001b[mtotal,\u001b[m\u001b[m\u001b[1m    28168 \u001b[m\u001b[mfree,\u001b[m\u001b[m\u001b[1m  1020404 \u001b[m\u001b[mused.\u001b[m\u001b[m\u001b[1m   650272 \u001b[m\u001b[mavail Mem \u001b[m\u001b[m\u001b[m\u001b[m\u001b[K\n",
      "\u001b[K\n",
      "\n",
      "\u001b[m  877 root      20   0 2782904 1.076g  11120 S   7.0 55.1  21:23.95 python      \u001b[m\u001b[m\u001b[K\n",
      "\u001b[m  667 root      20   0 1147296  21832   5456 S   5.7  1.1   7:41.04 jupyter-no+ \u001b[m\u001b[m\u001b[K\n",
      "\n",
      "\n",
      "\n",
      "\n",
      "\u001b[J\u001b[H\u001b[mtop - 22:39:51 up 4 days, 21:42,  0 users,  load average: 0.35, 0.30, 0.56\u001b[m\u001b[m\u001b[m\u001b[m\u001b[K\n",
      "\n",
      "%Cpu(s):\u001b[m\u001b[m\u001b[1m  0.9 \u001b[m\u001b[mus,\u001b[m\u001b[m\u001b[1m  0.6 \u001b[m\u001b[msy,\u001b[m\u001b[m\u001b[1m  0.0 \u001b[m\u001b[mni,\u001b[m\u001b[m\u001b[1m 98.4 \u001b[m\u001b[mid,\u001b[m\u001b[m\u001b[1m  0.0 \u001b[m\u001b[mwa,\u001b[m\u001b[m\u001b[1m  0.0 \u001b[m\u001b[mhi,\u001b[m\u001b[m\u001b[1m  0.2 \u001b[m\u001b[msi,\u001b[m\u001b[m\u001b[1m  0.0 \u001b[m\u001b[mst\u001b[m\u001b[m\u001b[m\u001b[m\u001b[K\n",
      "KiB Mem :\u001b[m\u001b[m\u001b[1m  2046844 \u001b[m\u001b[mtotal,\u001b[m\u001b[m\u001b[1m   634360 \u001b[m\u001b[mfree,\u001b[m\u001b[m\u001b[1m  1234292 \u001b[m\u001b[mused,\u001b[m\u001b[m\u001b[1m   178192 \u001b[m\u001b[mbuff/cache\u001b[m\u001b[m\u001b[m\u001b[m\u001b[K\n",
      "KiB Swap:\u001b[m\u001b[m\u001b[1m  1048572 \u001b[m\u001b[mtotal,\u001b[m\u001b[m\u001b[1m    28172 \u001b[m\u001b[mfree,\u001b[m\u001b[m\u001b[1m  1020400 \u001b[m\u001b[mused.\u001b[m\u001b[m\u001b[1m   650272 \u001b[m\u001b[mavail Mem \u001b[m\u001b[m\u001b[m\u001b[m\u001b[K\n",
      "\u001b[K\n",
      "\n",
      "\u001b[m  877 root      20   0 2782904 1.076g  11120 S   5.3 55.1  21:24.11 python      \u001b[m\u001b[m\u001b[K\n",
      "\u001b[m  667 root      20   0 1147296  21832   5456 S   2.7  1.1   7:41.12 jupyter-no+ \u001b[m\u001b[m\u001b[K\n",
      "\u001b[m\u001b[1m  928 root      20   0   36820   3096   2672 R   0.3  0.2   0:00.01 top         \u001b[m\u001b[m\u001b[K\n",
      "\u001b[m    1 root      20   0   18236      4      0 S   0.0  0.0   0:00.11 bash        \u001b[m\u001b[m\u001b[K\n",
      "\u001b[m  897 root      20   0  243148   3360   1240 S   0.0  0.2   0:00.12 python      \u001b[m\u001b[m\u001b[K\n",
      "\u001b[m  927 root      20   0    4500    748    680 S   0.0  0.0   0:00.55 sh          \u001b[m\u001b[m\u001b[K\n",
      "\u001b[J\u001b[?1l\u001b>\u001b[25;1H\n",
      "\u001b[K"
     ]
    }
   ],
   "source": [
    "!top"
   ]
  },
  {
   "cell_type": "code",
   "execution_count": 30,
   "metadata": {
    "scrolled": true
   },
   "outputs": [
    {
     "data": {
      "text/plain": [
       "877"
      ]
     },
     "execution_count": 30,
     "metadata": {},
     "output_type": "execute_result"
    }
   ],
   "source": [
    "os.getpid()"
   ]
  },
  {
   "cell_type": "markdown",
   "metadata": {},
   "source": [
    "- Showing `1.076g` resident memory used by my notebook `pid=877` \n",
    "- This is anecdotally feeling better than before.\n",
    "- Oh and no crashes here. May be due to single notebook running, or might be the "
   ]
  },
  {
   "cell_type": "code",
   "execution_count": 31,
   "metadata": {},
   "outputs": [
    {
     "ename": "ImportError",
     "evalue": "cannot import name 'join' from 'shlex' (/opt/conda/lib/python3.7/shlex.py)",
     "output_type": "error",
     "traceback": [
      "\u001b[0;31m---------------------------------------------------------------------------\u001b[0m",
      "\u001b[0;31mImportError\u001b[0m                               Traceback (most recent call last)",
      "\u001b[0;32m<ipython-input-31-b44828d46bc6>\u001b[0m in \u001b[0;36m<module>\u001b[0;34m\u001b[0m\n\u001b[0;32m----> 1\u001b[0;31m \u001b[0;32mfrom\u001b[0m \u001b[0mshlex\u001b[0m \u001b[0;32mimport\u001b[0m \u001b[0mjoin\u001b[0m\u001b[0;34m\u001b[0m\u001b[0;34m\u001b[0m\u001b[0m\n\u001b[0m",
      "\u001b[0;31mImportError\u001b[0m: cannot import name 'join' from 'shlex' (/opt/conda/lib/python3.7/shlex.py)"
     ]
    }
   ],
   "source": [
    "from shlex import join"
   ]
  },
  {
   "cell_type": "code",
   "execution_count": 40,
   "metadata": {},
   "outputs": [
    {
     "name": "stdout",
     "output_type": "stream",
     "text": [
      "  PID  PPID %MEM   RSS\r\n",
      "  877   667 55.7 1142136\r\n"
     ]
    }
   ],
   "source": [
    "#import subprocess\n",
    "!ps -p 877 -o pid,ppid,pmem,rss\n"
   ]
  },
  {
   "cell_type": "code",
   "execution_count": 51,
   "metadata": {},
   "outputs": [
    {
     "name": "stdout",
     "output_type": "stream",
     "text": [
      "b'  PID  PPID %MEM   RSS\\n  877   667 55.8 1142288\\n'\n",
      "877, 55.8, 1142288\n",
      "1.0893707275390625\n"
     ]
    }
   ],
   "source": [
    "out = subprocess.check_output([\"ps\", \"-p\", \"877\", \"-o\", \"pid,ppid,pmem,rss\"])\n",
    "print(out)\n",
    "pid, ppid, pmem, rss = out.decode('utf-8').split('\\n')[1].strip().split()\n",
    "print(f'{pid}, {pmem}, {rss}')\n",
    "print(int(rss)/1024/1024) "
   ]
  },
  {
   "cell_type": "code",
   "execution_count": 52,
   "metadata": {},
   "outputs": [
    {
     "data": {
      "text/plain": [
       "{'pmem': '55.8', 'rss': 1.0894660949707031}"
      ]
     },
     "execution_count": 52,
     "metadata": {},
     "output_type": "execute_result"
    }
   ],
   "source": [
    "def get_my_memory():\n",
    "    mypid = os.getpid()\n",
    "    out = subprocess.check_output([\"ps\", \"-p\", f\"{mypid}\", \"-o\", \"pid,ppid,pmem,rss\"])\n",
    "\n",
    "    pid, ppid, pmem, rss = out.decode('utf-8').split('\\n')[1].strip().split()\n",
    "    # print(f'{pid}, {pmem}, {rss}')\n",
    "    gigs = int(rss)/1024/1024\n",
    "    assert int(pid) == mypid\n",
    "    return {'pmem': pmem, 'rss': gigs}\n",
    "get_my_memory()"
   ]
  }
 ],
 "metadata": {
  "kernelspec": {
   "display_name": "Python 3",
   "language": "python",
   "name": "python3"
  },
  "language_info": {
   "codemirror_mode": {
    "name": "ipython",
    "version": 3
   },
   "file_extension": ".py",
   "mimetype": "text/x-python",
   "name": "python",
   "nbconvert_exporter": "python",
   "pygments_lexer": "ipython3",
   "version": "3.7.7"
  }
 },
 "nbformat": 4,
 "nbformat_minor": 4
}
