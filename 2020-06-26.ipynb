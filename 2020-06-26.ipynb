{
 "cells": [
  {
   "cell_type": "markdown",
   "metadata": {},
   "source": [
    "### Notes\n",
    "- I had tried building a new dataset in \"2020-06-24\" but kernel kept on exploding. \n",
    "- So here, first I tried iterating through chunks of preprocessing at a time. That still exploded the kernel\n",
    "- But then [midway](#2020-06-27) I tried out a really cool numpy feature where you can save an array to a file in append mode. \n",
    "- And the preprocessing step (using encoders to build transformed data and saving that to disk) , on the `843,416` rows here, took about `39` seconds. "
   ]
  },
  {
   "cell_type": "code",
   "execution_count": 1,
   "metadata": {},
   "outputs": [],
   "source": [
    "import pandas as pd\n",
    "import xgboost as xgb\n",
    "from xgboost import XGBClassifier\n",
    "import datetime; import pytz\n",
    "import matplotlib.pyplot as plt\n",
    "from scipy.special import softmax\n",
    "from sklearn.model_selection import cross_val_score\n",
    "from sklearn.model_selection import train_test_split # (*arrays, **options)\n",
    "import numpy as np\n",
    "from sklearn.metrics import log_loss\n",
    "from sklearn.preprocessing import OneHotEncoder, LabelEncoder\n",
    "\n",
    "from joblib import dump, load\n",
    "import joblib\n",
    "import os\n",
    "from sklearn.metrics import confusion_matrix, mean_squared_error\n",
    "from sklearn.model_selection import KFold, train_test_split, GridSearchCV\n",
    "from sklearn.metrics import accuracy_score\n",
    "import fresh.utils as fu\n",
    "\n",
    "from importlib import reload\n",
    "from collections import Counter\n",
    "from tqdm.notebook import tqdm\n",
    "import fresh.preproc.v1 as pv1\n",
    "import fresh.preproc.v2 as pv2"
   ]
  },
  {
   "cell_type": "code",
   "execution_count": 2,
   "metadata": {},
   "outputs": [],
   "source": [
    "datadir = '/opt/data'\n",
    "localdir = '/opt/program'\n",
    "\n",
    "\n",
    "tripsdf = pd.read_csv(f'{datadir}/2013-07 - Citi Bike trip data.csv'\n",
    "                     )#.sample(frac=0.017, random_state=42)\n",
    "stationsdf = pd.read_csv(f'{localdir}/datas/stations/stations-2018-12-04-c.csv',\n",
    "                        index_col=0)\n"
   ]
  },
  {
   "cell_type": "code",
   "execution_count": 3,
   "metadata": {},
   "outputs": [],
   "source": [
    "\n",
    "X, y, neighborhoods = fu.prepare_data(tripsdf, stationsdf)\n",
    "# \n",
    "# future thinking here...\n",
    "# ..disk approach => return the location of X, y on disk instead "
   ]
  },
  {
   "cell_type": "code",
   "execution_count": 4,
   "metadata": {},
   "outputs": [
    {
     "name": "stdout",
     "output_type": "stream",
     "text": [
      "/opt/program/artifacts/2020-06-26T142154Z\n"
     ]
    }
   ],
   "source": [
    "workdir = fu.make_work_dir(); print(workdir)\n",
    "fu.log(workdir, 'Starting')"
   ]
  },
  {
   "cell_type": "code",
   "execution_count": 7,
   "metadata": {},
   "outputs": [
    {
     "name": "stderr",
     "output_type": "stream",
     "text": [
      "100%|██████████| 10/10 [00:00<00:00, 359.14it/s]\n"
     ]
    }
   ],
   "source": [
    "# place a small section of the pre-processed data into a target file..\n",
    "x_outfile = f'{workdir}/x_transformed.csv'\n",
    "y_outfile = f'{workdir}/y_enc.csv'\n",
    "\n",
    "X_transformed, y_enc, proc_dict = pv2.preprocess(\n",
    "        X[:1000], y[:1000], neighborhoods, labeled=True)"
   ]
  },
  {
   "cell_type": "code",
   "execution_count": 11,
   "metadata": {},
   "outputs": [],
   "source": [
    "np.savetxt(x_outfile, X_transformed, delimiter=',')"
   ]
  },
  {
   "cell_type": "code",
   "execution_count": 16,
   "metadata": {},
   "outputs": [
    {
     "data": {
      "text/plain": [
       "((1000, 85), (1000,), (1000, 86))"
      ]
     },
     "execution_count": 16,
     "metadata": {},
     "output_type": "execute_result"
    }
   ],
   "source": [
    "(X_transformed.shape, y_enc.shape, \n",
    " np.hstack((np.resize(y_enc, (1000, 1)), X_transformed)).shape)"
   ]
  },
  {
   "cell_type": "code",
   "execution_count": 18,
   "metadata": {},
   "outputs": [],
   "source": [
    "both_outfile = f'{workdir}/minidata.csv'\n",
    "yx_data = np.hstack((np.resize(y_enc, (1000, 1)), X_transformed))\n",
    "np.savetxt(both_outfile, yx_data, delimiter=',', fmt='%u')"
   ]
  },
  {
   "cell_type": "markdown",
   "metadata": {},
   "source": [
    "### 2020-06-27\n",
    "\n",
    "#### trying a looped numpy append technique\n",
    "* Read [here](https://stackoverflow.com/questions/27786868/python3-numpy-appending-to-a-file-using-numpy-savetxt#27980725) that you can pass a file description to `np.savetxt` to accomplish appending. "
   ]
  },
  {
   "cell_type": "code",
   "execution_count": 28,
   "metadata": {},
   "outputs": [],
   "source": [
    "# just writing same data a few times first..\n",
    "both_outfile = f'{workdir}/minidata.csv'\n",
    "yx_data = np.hstack((np.resize(y_enc, (1000, 1)), X_transformed))\n",
    "with open(both_outfile, 'ab') as fd:\n",
    "    np.savetxt(fd, yx_data, delimiter=',', fmt='%u')\n",
    "    np.savetxt(fd, yx_data, delimiter=',', fmt='%u')\n",
    "    "
   ]
  },
  {
   "cell_type": "code",
   "execution_count": 29,
   "metadata": {},
   "outputs": [
    {
     "data": {
      "text/plain": [
       "(3000, 86)"
      ]
     },
     "execution_count": 29,
     "metadata": {},
     "output_type": "execute_result"
    }
   ],
   "source": [
    "array = np.loadtxt(both_outfile, delimiter=',')\n",
    "array.shape"
   ]
  },
  {
   "cell_type": "code",
   "execution_count": 31,
   "metadata": {},
   "outputs": [
    {
     "data": {
      "text/plain": [
       "'/opt/program/artifacts/2020-06-26T142154Z/data.csv'"
      ]
     },
     "execution_count": 31,
     "metadata": {},
     "output_type": "execute_result"
    }
   ],
   "source": [
    "# nice!!! that worked .\n",
    "dataset_name = None#'train'\n",
    "outfile = f'{workdir}/{dataset_name or \"data\"}.csv'\n",
    "outfile"
   ]
  },
  {
   "cell_type": "code",
   "execution_count": 82,
   "metadata": {},
   "outputs": [
    {
     "name": "stderr",
     "output_type": "stream",
     "text": [
      "100%|██████████| 11/11 [00:46<00:00,  4.25s/it]\n",
      "  0%|          | 0/11 [00:00<?, ?it/s]"
     ]
    },
    {
     "name": "stdout",
     "output_type": "stream",
     "text": [
      "/opt/program/artifacts/2020-06-26T142154Z/train.libsvm\n",
      "Done  /opt/program/artifacts/2020-06-26T142154Z/proc_bundle.joblib\n"
     ]
    },
    {
     "name": "stderr",
     "output_type": "stream",
     "text": [
      "100%|██████████| 11/11 [00:15<00:00,  1.45s/it]"
     ]
    },
    {
     "name": "stdout",
     "output_type": "stream",
     "text": [
      "Done  /opt/program/artifacts/2020-06-26T142154Z/test.libsvm\n",
      "CPU times: user 29.6 s, sys: 690 ms, total: 30.3 s\n",
      "Wall time: 1min 3s\n"
     ]
    },
    {
     "name": "stderr",
     "output_type": "stream",
     "text": [
      "\n"
     ]
    }
   ],
   "source": [
    "%%time\n",
    "X_train, X_test, y_train, y_test = train_test_split(X, y)\n",
    "proc_bundle, train_loc = pv2.preprocess(\n",
    "        X_train, y_train, neighborhoods, workdir=workdir,\n",
    "        dataset_name='train')\n",
    "print(train_loc)\n",
    "bundle_loc = f'{workdir}/proc_bundle.joblib'\n",
    "joblib.dump({'notebook': '2020-06-26.ipynb',\n",
    "            'proc_bundle': proc_bundle,\n",
    "            },\n",
    "           f'{workdir}/proc_bundle.joblib')\n",
    "print('Done ', bundle_loc)\n",
    "test_loc = pv2.preprocess(\n",
    "        X_test, y_test, neighborhoods, proc_bundle=proc_bundle,\n",
    "        workdir=workdir,\n",
    "        dataset_name='test')\n",
    "print('Done ', test_loc)"
   ]
  },
  {
   "cell_type": "markdown",
   "metadata": {},
   "source": [
    "Ok cool that appears to have worked "
   ]
  },
  {
   "cell_type": "code",
   "execution_count": 83,
   "metadata": {
    "scrolled": true
   },
   "outputs": [
    {
     "data": {
      "text/plain": [
       "({'enc': OneHotEncoder(categories=[['Alphabet City', 'Battery Park City',\n",
       "                             'Bedford-Stuyvesant', 'Bloomingdale', 'Boerum Hill',\n",
       "                             'Bowery', 'Broadway Triangle', 'Brooklyn Heights',\n",
       "                             'Brooklyn Navy Yard', 'Carnegie Hill',\n",
       "                             'Carroll Gardens', 'Central Park', 'Chelsea',\n",
       "                             'Chinatown', 'Civic Center', 'Clinton Hill',\n",
       "                             'Cobble Hill', 'Columbia Street Waterfront District',\n",
       "                             'Downtown Brooklyn', 'Dumbo', 'East Harlem',\n",
       "                             'East Village', 'East Williamsburg',\n",
       "                             'Financial District', 'Flatiron District',\n",
       "                             'Fort Greene', 'Fulton Ferry District',\n",
       "                             'Garment District', 'Governors Island', 'Gowanus', ...],\n",
       "                            [0, 1, 2], [0, 1, 2, 3, 4]],\n",
       "                drop=None, dtype=<class 'numpy.float64'>, handle_unknown='error',\n",
       "                sparse=True),\n",
       "  'usertype_le': LabelEncoder(),\n",
       "  'le': LabelEncoder()},\n",
       " '/opt/program/artifacts/2020-06-26T142154Z/test.libsvm')"
      ]
     },
     "execution_count": 83,
     "metadata": {},
     "output_type": "execute_result"
    }
   ],
   "source": [
    "proc_bundle, outfile"
   ]
  },
  {
   "cell_type": "code",
   "execution_count": 84,
   "metadata": {
    "scrolled": true
   },
   "outputs": [
    {
     "name": "stdout",
     "output_type": "stream",
     "text": [
      "-rw-r--r-- 1 root root 139M Jun 27 18:38 /opt/program/artifacts/2020-06-26T142154Z/train.csv\r\n"
     ]
    }
   ],
   "source": [
    "!ls -lh '/opt/program/artifacts/2020-06-26T142154Z/train.csv'"
   ]
  },
  {
   "cell_type": "code",
   "execution_count": 85,
   "metadata": {},
   "outputs": [],
   "source": [
    "# Check if class distribution for split was good...\n",
    "\n",
    "records = [\n",
    "    {k:v/x[1] for (k,v) in x[0]} for x in \n",
    "[\n",
    "[[list(a.items()), sum(a.values())] \n",
    "                           for a in [dict(Counter(dd))]][0]    \n",
    "\n",
    " for dd in [y, y_train, y_test]\n",
    "]\n",
    "]\n"
   ]
  },
  {
   "cell_type": "code",
   "execution_count": 86,
   "metadata": {
    "scrolled": true
   },
   "outputs": [
    {
     "data": {
      "text/html": [
       "<div>\n",
       "<style scoped>\n",
       "    .dataframe tbody tr th:only-of-type {\n",
       "        vertical-align: middle;\n",
       "    }\n",
       "\n",
       "    .dataframe tbody tr th {\n",
       "        vertical-align: top;\n",
       "    }\n",
       "\n",
       "    .dataframe thead th {\n",
       "        text-align: right;\n",
       "    }\n",
       "</style>\n",
       "<table border=\"1\" class=\"dataframe\">\n",
       "  <thead>\n",
       "    <tr style=\"text-align: right;\">\n",
       "      <th></th>\n",
       "      <th>0</th>\n",
       "      <th>1</th>\n",
       "      <th>2</th>\n",
       "    </tr>\n",
       "  </thead>\n",
       "  <tbody>\n",
       "    <tr>\n",
       "      <th>Stuyvesant Town</th>\n",
       "      <td>0.013765</td>\n",
       "      <td>0.013720</td>\n",
       "      <td>0.013901</td>\n",
       "    </tr>\n",
       "    <tr>\n",
       "      <th>Gramercy Park</th>\n",
       "      <td>0.016522</td>\n",
       "      <td>0.016575</td>\n",
       "      <td>0.016362</td>\n",
       "    </tr>\n",
       "    <tr>\n",
       "      <th>Theater District</th>\n",
       "      <td>0.025667</td>\n",
       "      <td>0.025719</td>\n",
       "      <td>0.025511</td>\n",
       "    </tr>\n",
       "    <tr>\n",
       "      <th>East Village</th>\n",
       "      <td>0.016433</td>\n",
       "      <td>0.016373</td>\n",
       "      <td>0.016613</td>\n",
       "    </tr>\n",
       "    <tr>\n",
       "      <th>Chelsea</th>\n",
       "      <td>0.109935</td>\n",
       "      <td>0.109766</td>\n",
       "      <td>0.110441</td>\n",
       "    </tr>\n",
       "    <tr>\n",
       "      <th>Union Square</th>\n",
       "      <td>0.013583</td>\n",
       "      <td>0.013524</td>\n",
       "      <td>0.013758</td>\n",
       "    </tr>\n",
       "    <tr>\n",
       "      <th>Rose Hill</th>\n",
       "      <td>0.007548</td>\n",
       "      <td>0.007501</td>\n",
       "      <td>0.007688</td>\n",
       "    </tr>\n",
       "    <tr>\n",
       "      <th>Midtown West</th>\n",
       "      <td>0.036301</td>\n",
       "      <td>0.036243</td>\n",
       "      <td>0.036475</td>\n",
       "    </tr>\n",
       "    <tr>\n",
       "      <th>Midtown East</th>\n",
       "      <td>0.048963</td>\n",
       "      <td>0.049088</td>\n",
       "      <td>0.048588</td>\n",
       "    </tr>\n",
       "    <tr>\n",
       "      <th>Murray Hill</th>\n",
       "      <td>0.021489</td>\n",
       "      <td>0.021377</td>\n",
       "      <td>0.021826</td>\n",
       "    </tr>\n",
       "    <tr>\n",
       "      <th>Midtown</th>\n",
       "      <td>0.031083</td>\n",
       "      <td>0.030941</td>\n",
       "      <td>0.031510</td>\n",
       "    </tr>\n",
       "    <tr>\n",
       "      <th>Ukrainian Village</th>\n",
       "      <td>0.025094</td>\n",
       "      <td>0.025041</td>\n",
       "      <td>0.025254</td>\n",
       "    </tr>\n",
       "    <tr>\n",
       "      <th>Nolita</th>\n",
       "      <td>0.013509</td>\n",
       "      <td>0.013528</td>\n",
       "      <td>0.013455</td>\n",
       "    </tr>\n",
       "    <tr>\n",
       "      <th>Garment District</th>\n",
       "      <td>0.018445</td>\n",
       "      <td>0.018613</td>\n",
       "      <td>0.017941</td>\n",
       "    </tr>\n",
       "    <tr>\n",
       "      <th>Lower East Side</th>\n",
       "      <td>0.031720</td>\n",
       "      <td>0.031839</td>\n",
       "      <td>0.031363</td>\n",
       "    </tr>\n",
       "    <tr>\n",
       "      <th>West Village</th>\n",
       "      <td>0.042675</td>\n",
       "      <td>0.042750</td>\n",
       "      <td>0.042451</td>\n",
       "    </tr>\n",
       "    <tr>\n",
       "      <th>Central Park</th>\n",
       "      <td>0.006890</td>\n",
       "      <td>0.006945</td>\n",
       "      <td>0.006725</td>\n",
       "    </tr>\n",
       "    <tr>\n",
       "      <th>Alphabet City</th>\n",
       "      <td>0.022391</td>\n",
       "      <td>0.022444</td>\n",
       "      <td>0.022233</td>\n",
       "    </tr>\n",
       "    <tr>\n",
       "      <th>Greenwich Village</th>\n",
       "      <td>0.047612</td>\n",
       "      <td>0.047666</td>\n",
       "      <td>0.047450</td>\n",
       "    </tr>\n",
       "    <tr>\n",
       "      <th>Kips Bay</th>\n",
       "      <td>0.029481</td>\n",
       "      <td>0.029564</td>\n",
       "      <td>0.029233</td>\n",
       "    </tr>\n",
       "    <tr>\n",
       "      <th>Hell's Kitchen</th>\n",
       "      <td>0.044097</td>\n",
       "      <td>0.043912</td>\n",
       "      <td>0.044652</td>\n",
       "    </tr>\n",
       "    <tr>\n",
       "      <th>Peter Cooper Village</th>\n",
       "      <td>0.003429</td>\n",
       "      <td>0.003489</td>\n",
       "      <td>0.003249</td>\n",
       "    </tr>\n",
       "    <tr>\n",
       "      <th>Financial District</th>\n",
       "      <td>0.042757</td>\n",
       "      <td>0.042914</td>\n",
       "      <td>0.042285</td>\n",
       "    </tr>\n",
       "    <tr>\n",
       "      <th>NoHo</th>\n",
       "      <td>0.004204</td>\n",
       "      <td>0.004224</td>\n",
       "      <td>0.004145</td>\n",
       "    </tr>\n",
       "    <tr>\n",
       "      <th>NoMad</th>\n",
       "      <td>0.007185</td>\n",
       "      <td>0.007191</td>\n",
       "      <td>0.007166</td>\n",
       "    </tr>\n",
       "    <tr>\n",
       "      <th>Flatiron District</th>\n",
       "      <td>0.019050</td>\n",
       "      <td>0.018974</td>\n",
       "      <td>0.019279</td>\n",
       "    </tr>\n",
       "    <tr>\n",
       "      <th>Lincoln Square</th>\n",
       "      <td>0.011050</td>\n",
       "      <td>0.011121</td>\n",
       "      <td>0.010837</td>\n",
       "    </tr>\n",
       "    <tr>\n",
       "      <th>SoHo</th>\n",
       "      <td>0.015908</td>\n",
       "      <td>0.015918</td>\n",
       "      <td>0.015878</td>\n",
       "    </tr>\n",
       "    <tr>\n",
       "      <th>Fort Greene</th>\n",
       "      <td>0.019774</td>\n",
       "      <td>0.019856</td>\n",
       "      <td>0.019530</td>\n",
       "    </tr>\n",
       "    <tr>\n",
       "      <th>Tribeca</th>\n",
       "      <td>0.046969</td>\n",
       "      <td>0.046846</td>\n",
       "      <td>0.047336</td>\n",
       "    </tr>\n",
       "    <tr>\n",
       "      <th>Bowery</th>\n",
       "      <td>0.017722</td>\n",
       "      <td>0.017837</td>\n",
       "      <td>0.017377</td>\n",
       "    </tr>\n",
       "    <tr>\n",
       "      <th>Brooklyn Heights</th>\n",
       "      <td>0.010232</td>\n",
       "      <td>0.010220</td>\n",
       "      <td>0.010268</td>\n",
       "    </tr>\n",
       "    <tr>\n",
       "      <th>Two Bridges</th>\n",
       "      <td>0.006071</td>\n",
       "      <td>0.006018</td>\n",
       "      <td>0.006227</td>\n",
       "    </tr>\n",
       "    <tr>\n",
       "      <th>Park Slope</th>\n",
       "      <td>0.002419</td>\n",
       "      <td>0.002449</td>\n",
       "      <td>0.002329</td>\n",
       "    </tr>\n",
       "    <tr>\n",
       "      <th>Chinatown</th>\n",
       "      <td>0.014955</td>\n",
       "      <td>0.014871</td>\n",
       "      <td>0.015205</td>\n",
       "    </tr>\n",
       "    <tr>\n",
       "      <th>Sutton Place</th>\n",
       "      <td>0.001056</td>\n",
       "      <td>0.001020</td>\n",
       "      <td>0.001167</td>\n",
       "    </tr>\n",
       "    <tr>\n",
       "      <th>Battery Park City</th>\n",
       "      <td>0.028728</td>\n",
       "      <td>0.028906</td>\n",
       "      <td>0.028195</td>\n",
       "    </tr>\n",
       "    <tr>\n",
       "      <th>Hudson Square</th>\n",
       "      <td>0.011434</td>\n",
       "      <td>0.011384</td>\n",
       "      <td>0.011586</td>\n",
       "    </tr>\n",
       "    <tr>\n",
       "      <th>Tudor City</th>\n",
       "      <td>0.001449</td>\n",
       "      <td>0.001459</td>\n",
       "      <td>0.001418</td>\n",
       "    </tr>\n",
       "    <tr>\n",
       "      <th>Little Italy</th>\n",
       "      <td>0.003408</td>\n",
       "      <td>0.003408</td>\n",
       "      <td>0.003405</td>\n",
       "    </tr>\n",
       "    <tr>\n",
       "      <th>Lower Manhattan</th>\n",
       "      <td>0.017927</td>\n",
       "      <td>0.017851</td>\n",
       "      <td>0.018155</td>\n",
       "    </tr>\n",
       "    <tr>\n",
       "      <th>Korea Town</th>\n",
       "      <td>0.004240</td>\n",
       "      <td>0.004249</td>\n",
       "      <td>0.004211</td>\n",
       "    </tr>\n",
       "    <tr>\n",
       "      <th>Civic Center</th>\n",
       "      <td>0.013253</td>\n",
       "      <td>0.013208</td>\n",
       "      <td>0.013388</td>\n",
       "    </tr>\n",
       "    <tr>\n",
       "      <th>Downtown Brooklyn</th>\n",
       "      <td>0.016036</td>\n",
       "      <td>0.016128</td>\n",
       "      <td>0.015760</td>\n",
       "    </tr>\n",
       "    <tr>\n",
       "      <th>Bedford-Stuyvesant</th>\n",
       "      <td>0.005347</td>\n",
       "      <td>0.005373</td>\n",
       "      <td>0.005269</td>\n",
       "    </tr>\n",
       "    <tr>\n",
       "      <th>Boerum Hill</th>\n",
       "      <td>0.003998</td>\n",
       "      <td>0.003979</td>\n",
       "      <td>0.004055</td>\n",
       "    </tr>\n",
       "    <tr>\n",
       "      <th>Williamsburg</th>\n",
       "      <td>0.014461</td>\n",
       "      <td>0.014259</td>\n",
       "      <td>0.015067</td>\n",
       "    </tr>\n",
       "    <tr>\n",
       "      <th>Clinton Hill</th>\n",
       "      <td>0.008885</td>\n",
       "      <td>0.008829</td>\n",
       "      <td>0.009054</td>\n",
       "    </tr>\n",
       "    <tr>\n",
       "      <th>Meatpacking District</th>\n",
       "      <td>0.009344</td>\n",
       "      <td>0.009414</td>\n",
       "      <td>0.009134</td>\n",
       "    </tr>\n",
       "    <tr>\n",
       "      <th>Dumbo</th>\n",
       "      <td>0.006647</td>\n",
       "      <td>0.006551</td>\n",
       "      <td>0.006934</td>\n",
       "    </tr>\n",
       "    <tr>\n",
       "      <th>Brooklyn Navy Yard</th>\n",
       "      <td>0.003053</td>\n",
       "      <td>0.003114</td>\n",
       "      <td>0.002869</td>\n",
       "    </tr>\n",
       "    <tr>\n",
       "      <th>Fulton Ferry District</th>\n",
       "      <td>0.002557</td>\n",
       "      <td>0.002575</td>\n",
       "      <td>0.002504</td>\n",
       "    </tr>\n",
       "    <tr>\n",
       "      <th>Vinegar Hill</th>\n",
       "      <td>0.000988</td>\n",
       "      <td>0.000998</td>\n",
       "      <td>0.000958</td>\n",
       "    </tr>\n",
       "    <tr>\n",
       "      <th>Columbia Street Waterfront District</th>\n",
       "      <td>0.002257</td>\n",
       "      <td>0.002234</td>\n",
       "      <td>0.002329</td>\n",
       "    </tr>\n",
       "  </tbody>\n",
       "</table>\n",
       "</div>"
      ],
      "text/plain": [
       "                                            0         1         2\n",
       "Stuyvesant Town                      0.013765  0.013720  0.013901\n",
       "Gramercy Park                        0.016522  0.016575  0.016362\n",
       "Theater District                     0.025667  0.025719  0.025511\n",
       "East Village                         0.016433  0.016373  0.016613\n",
       "Chelsea                              0.109935  0.109766  0.110441\n",
       "Union Square                         0.013583  0.013524  0.013758\n",
       "Rose Hill                            0.007548  0.007501  0.007688\n",
       "Midtown West                         0.036301  0.036243  0.036475\n",
       "Midtown East                         0.048963  0.049088  0.048588\n",
       "Murray Hill                          0.021489  0.021377  0.021826\n",
       "Midtown                              0.031083  0.030941  0.031510\n",
       "Ukrainian Village                    0.025094  0.025041  0.025254\n",
       "Nolita                               0.013509  0.013528  0.013455\n",
       "Garment District                     0.018445  0.018613  0.017941\n",
       "Lower East Side                      0.031720  0.031839  0.031363\n",
       "West Village                         0.042675  0.042750  0.042451\n",
       "Central Park                         0.006890  0.006945  0.006725\n",
       "Alphabet City                        0.022391  0.022444  0.022233\n",
       "Greenwich Village                    0.047612  0.047666  0.047450\n",
       "Kips Bay                             0.029481  0.029564  0.029233\n",
       "Hell's Kitchen                       0.044097  0.043912  0.044652\n",
       "Peter Cooper Village                 0.003429  0.003489  0.003249\n",
       "Financial District                   0.042757  0.042914  0.042285\n",
       "NoHo                                 0.004204  0.004224  0.004145\n",
       "NoMad                                0.007185  0.007191  0.007166\n",
       "Flatiron District                    0.019050  0.018974  0.019279\n",
       "Lincoln Square                       0.011050  0.011121  0.010837\n",
       "SoHo                                 0.015908  0.015918  0.015878\n",
       "Fort Greene                          0.019774  0.019856  0.019530\n",
       "Tribeca                              0.046969  0.046846  0.047336\n",
       "Bowery                               0.017722  0.017837  0.017377\n",
       "Brooklyn Heights                     0.010232  0.010220  0.010268\n",
       "Two Bridges                          0.006071  0.006018  0.006227\n",
       "Park Slope                           0.002419  0.002449  0.002329\n",
       "Chinatown                            0.014955  0.014871  0.015205\n",
       "Sutton Place                         0.001056  0.001020  0.001167\n",
       "Battery Park City                    0.028728  0.028906  0.028195\n",
       "Hudson Square                        0.011434  0.011384  0.011586\n",
       "Tudor City                           0.001449  0.001459  0.001418\n",
       "Little Italy                         0.003408  0.003408  0.003405\n",
       "Lower Manhattan                      0.017927  0.017851  0.018155\n",
       "Korea Town                           0.004240  0.004249  0.004211\n",
       "Civic Center                         0.013253  0.013208  0.013388\n",
       "Downtown Brooklyn                    0.016036  0.016128  0.015760\n",
       "Bedford-Stuyvesant                   0.005347  0.005373  0.005269\n",
       "Boerum Hill                          0.003998  0.003979  0.004055\n",
       "Williamsburg                         0.014461  0.014259  0.015067\n",
       "Clinton Hill                         0.008885  0.008829  0.009054\n",
       "Meatpacking District                 0.009344  0.009414  0.009134\n",
       "Dumbo                                0.006647  0.006551  0.006934\n",
       "Brooklyn Navy Yard                   0.003053  0.003114  0.002869\n",
       "Fulton Ferry District                0.002557  0.002575  0.002504\n",
       "Vinegar Hill                         0.000988  0.000998  0.000958\n",
       "Columbia Street Waterfront District  0.002257  0.002234  0.002329"
      ]
     },
     "execution_count": 86,
     "metadata": {},
     "output_type": "execute_result"
    }
   ],
   "source": [
    "# nice. randomness for the win... class distribution looking good here.\n",
    "proportionsdf = pd.DataFrame.from_records(records).T\n",
    "proportionsdf"
   ]
  },
  {
   "cell_type": "code",
   "execution_count": 20,
   "metadata": {},
   "outputs": [
    {
     "name": "stdout",
     "output_type": "stream",
     "text": [
      "[15:28:46] 1000x85 matrix with 85000 entries loaded from /opt/program/artifacts/2020-06-26T142154Z/minidata.csv?format=csv&label_column=0&delimiter=,\n"
     ]
    }
   ],
   "source": [
    "# quick test one more time, can I use a DMatrix on xgb.XGBClassifier ? \n",
    "# no not really... \n",
    "dmatrix = xgb.DMatrix(\n",
    "    f'{both_outfile}?format=csv&label_column=0&delimiter=,')\n"
   ]
  },
  {
   "cell_type": "code",
   "execution_count": 21,
   "metadata": {},
   "outputs": [
    {
     "ename": "TypeError",
     "evalue": "fit() missing 1 required positional argument: 'y'",
     "output_type": "error",
     "traceback": [
      "\u001b[0;31m---------------------------------------------------------------------------\u001b[0m",
      "\u001b[0;31mTypeError\u001b[0m                                 Traceback (most recent call last)",
      "\u001b[0;32m<ipython-input-21-aee50f0fc1ac>\u001b[0m in \u001b[0;36m<module>\u001b[0;34m\u001b[0m\n\u001b[1;32m      1\u001b[0m \u001b[0mxgb_model\u001b[0m \u001b[0;34m=\u001b[0m \u001b[0mxgb\u001b[0m\u001b[0;34m.\u001b[0m\u001b[0mXGBClassifier\u001b[0m\u001b[0;34m(\u001b[0m\u001b[0mobjective\u001b[0m\u001b[0;34m=\u001b[0m\u001b[0;34m'multi:softprob'\u001b[0m\u001b[0;34m)\u001b[0m\u001b[0;34m\u001b[0m\u001b[0;34m\u001b[0m\u001b[0m\n\u001b[0;32m----> 2\u001b[0;31m \u001b[0mxgb_model\u001b[0m\u001b[0;34m.\u001b[0m\u001b[0mfit\u001b[0m\u001b[0;34m(\u001b[0m\u001b[0mdmatrix\u001b[0m\u001b[0;34m,\u001b[0m  \u001b[0mverbose\u001b[0m\u001b[0;34m=\u001b[0m\u001b[0;32mTrue\u001b[0m\u001b[0;34m)\u001b[0m\u001b[0;34m\u001b[0m\u001b[0;34m\u001b[0m\u001b[0m\n\u001b[0m",
      "\u001b[0;31mTypeError\u001b[0m: fit() missing 1 required positional argument: 'y'"
     ]
    }
   ],
   "source": [
    "xgb_model = xgb.XGBClassifier(objective='multi:softprob')\n",
    "xgb_model.fit(dmatrix,  verbose=True)"
   ]
  },
  {
   "cell_type": "markdown",
   "metadata": {},
   "source": [
    "##### thoughts on params to mess with..\n",
    "num_round , make sure at least 100\n",
    "gamma, 0\n",
    "max_delta_step , 1\n",
    "n_estimators , >100..\n",
    "min_child_weight, 30\n",
    "max_depth , 3,4,5,6...\n",
    "colsample_bytree, 0.4..1.0 \n",
    "subsample, 0.5..1.0\n"
   ]
  },
  {
   "cell_type": "markdown",
   "metadata": {},
   "source": [
    "#### references\n",
    "- [this](https://github.com/aws/sagemaker-xgboost-container/blob/master/src/sagemaker_xgboost_container/data_utils.py) is a handy reference around xgb utils"
   ]
  },
  {
   "cell_type": "code",
   "execution_count": 35,
   "metadata": {},
   "outputs": [
    {
     "data": {
      "text/plain": [
       "1342"
      ]
     },
     "execution_count": 35,
     "metadata": {},
     "output_type": "execute_result"
    }
   ],
   "source": [
    "os.getpid()"
   ]
  }
 ],
 "metadata": {
  "kernelspec": {
   "display_name": "Python 3",
   "language": "python",
   "name": "python3"
  },
  "language_info": {
   "codemirror_mode": {
    "name": "ipython",
    "version": 3
   },
   "file_extension": ".py",
   "mimetype": "text/x-python",
   "name": "python",
   "nbconvert_exporter": "python",
   "pygments_lexer": "ipython3",
   "version": "3.7.7"
  }
 },
 "nbformat": 4,
 "nbformat_minor": 4
}
