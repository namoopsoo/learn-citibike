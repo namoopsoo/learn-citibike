{
 "cells": [
  {
   "cell_type": "code",
   "execution_count": 1,
   "metadata": {},
   "outputs": [],
   "source": [
    "import pandas as pd\n",
    "import xgboost as xgb\n",
    "from xgboost import XGBClassifier\n",
    "import datetime; import pytz\n",
    "import matplotlib.pyplot as plt\n",
    "from scipy.special import softmax\n",
    "from sklearn.model_selection import cross_val_score\n",
    "from sklearn.model_selection import train_test_split # (*arrays, **options)\n",
    "import numpy as np\n",
    "from sklearn.metrics import log_loss\n",
    "from sklearn.preprocessing import OneHotEncoder, LabelEncoder\n",
    "\n",
    "from joblib import dump, load\n",
    "import joblib\n",
    "import os\n",
    "from sklearn.metrics import confusion_matrix, mean_squared_error\n",
    "from sklearn.model_selection import KFold, train_test_split, GridSearchCV\n",
    "from sklearn.metrics import accuracy_score\n",
    "import fresh.utils as fu\n",
    "\n",
    "from importlib import reload\n",
    "from collections import Counter\n",
    "from tqdm.notebook import tqdm\n",
    "import fresh.preproc.v1 as pv1\n",
    "import fresh.preproc.v2 as pv2"
   ]
  },
  {
   "cell_type": "code",
   "execution_count": 2,
   "metadata": {},
   "outputs": [],
   "source": [
    "datadir = '/opt/data'\n",
    "localdir = '/opt/program'\n",
    "\n",
    "\n",
    "tripsdf = pd.read_csv(f'{datadir}/2013-07 - Citi Bike trip data.csv'\n",
    "                     )#.sample(frac=0.017, random_state=42)\n",
    "stationsdf = pd.read_csv(f'{localdir}/datas/stations/stations-2018-12-04-c.csv',\n",
    "                        index_col=0)"
   ]
  },
  {
   "cell_type": "code",
   "execution_count": 3,
   "metadata": {},
   "outputs": [],
   "source": [
    "\n",
    "X, y, neighborhoods = fu.prepare_data(tripsdf, stationsdf)\n",
    "# \n",
    "# future thinking here...\n",
    "# ..disk approach => return the location of X, y on disk instead "
   ]
  },
  {
   "cell_type": "code",
   "execution_count": 4,
   "metadata": {},
   "outputs": [
    {
     "data": {
      "text/plain": [
       "{'pmem': '26.9', 'rss': '0.525 GiB'}"
      ]
     },
     "execution_count": 4,
     "metadata": {},
     "output_type": "execute_result"
    }
   ],
   "source": [
    "fu.get_my_memory()"
   ]
  },
  {
   "cell_type": "code",
   "execution_count": null,
   "metadata": {},
   "outputs": [
    {
     "name": "stderr",
     "output_type": "stream",
     "text": [
      " 64%|██████▎   | 7/11 [00:11<00:09,  2.30s/it]"
     ]
    }
   ],
   "source": [
    "%%time\n",
    "reload(pv2)\n",
    "# wow kernel keeps dying here .. guess got to baatch the preprocessing.\n",
    "#with ipdb.launch_ipdb_on_exception():\n",
    "X_transformed, y_enc, proc_dict = pv2.preprocess(\n",
    "        X, y, neighborhoods, labeled=True)"
   ]
  },
  {
   "cell_type": "markdown",
   "metadata": {},
   "source": [
    "- hmm strange bug?..  from my ipdb runcall..\n",
    "- \"the array at index 0 has size     84341\" \n",
    "- \"and the array at index 1 has size 843416\"\n",
    "- \n",
    "```python\n",
    "ipdb> \n",
    "> /opt/program/fresh/preproc/v2.py(55)xform()\n",
    "     54                 ),\n",
    "---> 55             X[a:b, 4:5]\n",
    "     56             ))\n",
    "\n",
    "ipdb> \n",
    "ValueError: all the input array dimensions for the concatenation axis must match exactly, but along dimension 0, the array at index 0 has size 84341 and the array at index 1 has size 843416\n",
    "> /opt/program/fresh/preproc/v2.py(55)xform()\n",
    "     54                 ),\n",
    "---> 55             X[a:b, 4:5]\n",
    "     56             ))\n",
    "```"
   ]
  },
  {
   "cell_type": "markdown",
   "metadata": {},
   "source": [
    "#### planb?\n",
    "- If i cant get this transformation partitioned in memory... \n",
    "- then plan b should be going deeper on the disk-cache numpy approach.\n",
    "\n",
    "#### plan b indeed.\n",
    "- So after partitioning, getting  half way through and dead kernel again\n",
    "\n",
    "```\n",
    " 64%|██████▎   | 7/11 [00:11<00:09,  2.30s/it]\n",
    "```\n",
    "- so yea, I'm thinking either trying to run this as a separate process, \n",
    "- or yea use h5py , or native numpy disk based storage here..\n",
    "- and in general this means the processed data cannot be in memory anyway, so for sure going to have to find some way to stitch up the data on disk w/ the numpy / h5py . "
   ]
  },
  {
   "cell_type": "code",
   "execution_count": 7,
   "metadata": {},
   "outputs": [
    {
     "data": {
      "text/plain": [
       "<module 'fresh.utils' from '/opt/program/fresh/utils.py'>"
      ]
     },
     "execution_count": 7,
     "metadata": {},
     "output_type": "execute_result"
    }
   ],
   "source": [
    "import fresh.utils as fu\n",
    "from importlib import reload\n",
    "reload(fu)"
   ]
  },
  {
   "cell_type": "code",
   "execution_count": 6,
   "metadata": {},
   "outputs": [
    {
     "name": "stdout",
     "output_type": "stream",
     "text": [
      "0\n",
      "100\n",
      "200\n",
      "300\n",
      "400\n",
      "500\n",
      "600\n",
      "700\n",
      "800\n",
      "900\n"
     ]
    }
   ],
   "source": [
    "num_rows = 1000\n",
    "slices = fu.get_slices(list(range(num_rows)), num_slices=10)\n",
    "for a,b in slices:\n",
    "    print(a)"
   ]
  },
  {
   "cell_type": "code",
   "execution_count": 2,
   "metadata": {},
   "outputs": [
    {
     "name": "stdout",
     "output_type": "stream",
     "text": [
      "\u001b[?1h\u001b=\u001b[H\u001b[2J\u001b[mtop - 13:19:19 up 6 days,  4:33,  0 users,  load average: 0.59, 0.29, 0.14\u001b[m\u001b[m\u001b[m\u001b[m\u001b[K\n",
      "Tasks:\u001b[m\u001b[m\u001b[1m   5 \u001b[m\u001b[mtotal,\u001b[m\u001b[m\u001b[1m   1 \u001b[m\u001b[mrunning,\u001b[m\u001b[m\u001b[1m   4 \u001b[m\u001b[msleeping,\u001b[m\u001b[m\u001b[1m   0 \u001b[m\u001b[mstopped,\u001b[m\u001b[m\u001b[1m   0 \u001b[m\u001b[mzombie\u001b[m\u001b[m\u001b[m\u001b[m\u001b[K\n",
      "%Cpu(s):\u001b[m\u001b[m\u001b[1m  7.1 \u001b[m\u001b[mus,\u001b[m\u001b[m\u001b[1m  0.6 \u001b[m\u001b[msy,\u001b[m\u001b[m\u001b[1m  0.0 \u001b[m\u001b[mni,\u001b[m\u001b[m\u001b[1m 92.1 \u001b[m\u001b[mid,\u001b[m\u001b[m\u001b[1m  0.2 \u001b[m\u001b[mwa,\u001b[m\u001b[m\u001b[1m  0.0 \u001b[m\u001b[mhi,\u001b[m\u001b[m\u001b[1m  0.0 \u001b[m\u001b[msi,\u001b[m\u001b[m\u001b[1m  0.0 \u001b[m\u001b[mst\u001b[m\u001b[m\u001b[m\u001b[m\u001b[K\n",
      "KiB Mem :\u001b[m\u001b[m\u001b[1m  2046844 \u001b[m\u001b[mtotal,\u001b[m\u001b[m\u001b[1m  1820120 \u001b[m\u001b[mfree,\u001b[m\u001b[m\u001b[1m   111344 \u001b[m\u001b[mused,\u001b[m\u001b[m\u001b[1m   115380 \u001b[m\u001b[mbuff/cache\u001b[m\u001b[m\u001b[m\u001b[m\u001b[K\n",
      "KiB Swap:\u001b[m\u001b[m\u001b[1m  1048572 \u001b[m\u001b[mtotal,\u001b[m\u001b[m\u001b[1m   776864 \u001b[m\u001b[mfree,\u001b[m\u001b[m\u001b[1m   271708 \u001b[m\u001b[mused.\u001b[m\u001b[m\u001b[1m  1791560 \u001b[m\u001b[mavail Mem \u001b[m\u001b[m\u001b[m\u001b[m\u001b[K\n",
      "\u001b[K\n",
      "\u001b[7m  PID USER      PR  NI    VIRT    RES    SHR S  %CPU %MEM     TIME+ COMMAND     \u001b[m\u001b[m\u001b[K\n",
      "\u001b[m 1296 root      20   0  562408  52916  13632 S   6.7  2.6   0:00.30 python      \u001b[m\u001b[m\u001b[K\n",
      "\u001b[m    1 root      20   0   18236     40      0 S   0.0  0.0   0:00.22 bash        \u001b[m\u001b[m\u001b[K\n",
      "\u001b[m 1053 root      20   0  558948  19272   6204 S   0.0  0.9   0:18.98 jupyter-no+ \u001b[m\u001b[m\u001b[K\n",
      "\u001b[m 1310 root      20   0    4500    748    676 S   0.0  0.0   0:00.52 sh          \u001b[m\u001b[m\u001b[K\n",
      "\u001b[m\u001b[1m 1311 root      20   0   36852   3076   2668 R   0.0  0.2   0:00.00 top         \u001b[m\u001b[m\u001b[K\n",
      "\u001b[J\u001b[?1l\u001b>\u001b[25;1H\n",
      "\u001b[K"
     ]
    }
   ],
   "source": [
    "#fu.get_my_memory()#\n",
    "!top"
   ]
  }
 ],
 "metadata": {
  "kernelspec": {
   "display_name": "Python 3",
   "language": "python",
   "name": "python3"
  },
  "language_info": {
   "codemirror_mode": {
    "name": "ipython",
    "version": 3
   },
   "file_extension": ".py",
   "mimetype": "text/x-python",
   "name": "python",
   "nbconvert_exporter": "python",
   "pygments_lexer": "ipython3",
   "version": "3.7.7"
  }
 },
 "nbformat": 4,
 "nbformat_minor": 4
}
