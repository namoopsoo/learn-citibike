{
 "cells": [
  {
   "cell_type": "markdown",
   "metadata": {},
   "source": [
    "###### Initial notes\n",
    "\n",
    "To use SGD, http://scikit-learn.org/stable/modules/sgd.html , \n",
    "the input data needs to be scaled and currently the dataset in use is not scaled.\n",
    "\n",
    "\n",
    "* scale / normalize my data ( zero mean and unit variance ) \n",
    "  * so i should test how well classification works before and after that normalization\n",
    "  * looks like there is definitely a noticeable difference before and after.\n",
    "* SGD also has several hyperparameters (including regularization parameter and the number of iterations ) \n",
    "  * similarly, i should look at performance before and after trying out some parameter tuning ( including some grid search)\n",
    "  \n",
    "\n",
    "* and need a process for assigning name or id to the model, storing the model and \n",
    "    the training set used to build it, as well as the standard scaler, label encoders \n",
    "    and anything else required to use on new input vectors to classify.\n",
    "* further down, see what results look like with different sizes of training data\n",
    "  * and should get this visualized too.\n",
    "  \n",
    "This was a good reference for some quick plots, https://twiecki.github.io/blog/2014/11/18/python-for-data-science/\n"
   ]
  },
  {
   "cell_type": "code",
   "execution_count": 1,
   "metadata": {
    "collapsed": false,
    "scrolled": true
   },
   "outputs": [],
   "source": [
    "%matplotlib inline"
   ]
  },
  {
   "cell_type": "code",
   "execution_count": 2,
   "metadata": {
    "collapsed": false
   },
   "outputs": [
    {
     "name": "stderr",
     "output_type": "stream",
     "text": [
      "/Users/michal/.pyenv/versions/byke/lib/python2.7/site-packages/IPython/html.py:14: ShimWarning: The `IPython.html` package has been deprecated. You should import from `notebook` instead. `IPython.html.widgets` has moved to `ipywidgets`.\n",
      "  \"`IPython.html.widgets` has moved to `ipywidgets`.\", ShimWarning)\n"
     ]
    }
   ],
   "source": [
    "import pandas as pd\n",
    "import seaborn as sns\n",
    "import itertools\n",
    "import datetime\n",
    "from copy import deepcopy"
   ]
  },
  {
   "cell_type": "code",
   "execution_count": 29,
   "metadata": {
    "collapsed": true
   },
   "outputs": [],
   "source": [
    "from citibike_datas import (build_classifier_to_predict_destination_station)\n",
    "from pipeline_data import (append_travel_stats, load_data, \n",
    "                           choose_end_station_label_column, re_index)\n",
    "\n",
    "from annotate_geolocation import annotate_df_with_geoloc\n",
    "\n",
    "\n",
    "import settings as s\n",
    "\n",
    "from pprint import pprint"
   ]
  },
  {
   "cell_type": "code",
   "execution_count": 4,
   "metadata": {
    "collapsed": true
   },
   "outputs": [],
   "source": [
    "station_df_columns = [u'station_name', u'postal_code', u'sublocality',\n",
    "       u'neighborhood', u'state']\n",
    "\n",
    "def make_column_rename_dict(columns, prefix):\n",
    "    '''Apply prefix and make a dict that can be used with \n",
    "    pd.DataFrame.rename() func\n",
    "    '''\n",
    "    d = {col: '{}_{}'.format(prefix, col) for col in columns}\n",
    "    return d\n",
    "\n",
    "step1_rename_dict = make_column_rename_dict(station_df_columns, 'start')\n",
    "step2_rename_dict = make_column_rename_dict(station_df_columns, 'end')\n",
    "\n"
   ]
  },
  {
   "cell_type": "code",
   "execution_count": 5,
   "metadata": {
    "collapsed": false
   },
   "outputs": [
    {
     "data": {
      "text/plain": [
       "Index([u'Unnamed: 0', u'station_name', u'postal_code', u'sublocality',\n",
       "       u'neighborhood', u'state'],\n",
       "      dtype='object')"
      ]
     },
     "execution_count": 5,
     "metadata": {},
     "output_type": "execute_result"
    }
   ],
   "source": [
    "\n",
    "df = load_data('data/201510-citibike-tripdata.csv.annotated.mini.02212016T1641.csv')\n",
    "\n",
    "station_dataset = 'data/stations_geoloc_data.03262016T1349.csv'\n",
    "station_df = pd.read_csv(station_dataset)\n",
    "station_df.columns\n",
    "    \n",
    "    "
   ]
  },
  {
   "cell_type": "code",
   "execution_count": 6,
   "metadata": {
    "collapsed": true
   },
   "outputs": [],
   "source": [
    "\n",
    "next_df = annotate_df_with_geoloc(df, station_df)"
   ]
  },
  {
   "cell_type": "code",
   "execution_count": 8,
   "metadata": {
    "collapsed": true
   },
   "outputs": [],
   "source": [
    "def experiment_with_sgd(df):\n",
    "    '''Annotate end station id data using new geolocation meta data and run classification.\n",
    "    \n",
    "    Geocoding data brings in zip codes, borough names (a.k.a. sub localities) \n",
    "    and neighborhoods. Given that there are 5 boroughs, this makes the classification\n",
    "    task much more narrow and focused.\n",
    "    '''\n",
    "    cols = [s.END_STATION_NAME, s.END_STATION_ID, s.NEW_END_POSTAL_CODE,\n",
    "        s.NEW_END_BOROUGH, s.NEW_END_NEIGHBORHOOD]\n",
    "\n",
    "    features = [\n",
    "        s.START_STATION_ID,\n",
    "        s.START_TIME_BUCKET,\n",
    "        s.AGE_COL_NAME,\n",
    "        s.GENDER,] + s.NEW_START_STATION_COLS\n",
    "    all_results = []\n",
    "    \n",
    "    base_definition = {\n",
    "        'features': features,\n",
    "        'feature_encoding': {\n",
    "            s.NEW_END_STATE: 1, s.NEW_END_BOROUGH: 1,\n",
    "            s.NEW_END_NEIGHBORHOOD: 1, s.NEW_END_STATION_NAME: 1,\n",
    "            s.NEW_START_STATE: 1,\n",
    "            s.NEW_START_BOROUGH: 1,\n",
    "            s.NEW_START_NEIGHBORHOOD: 1,\n",
    "            s.NEW_START_STATION_NAME: 1\n",
    "        },\n",
    "    }\n",
    "    \n",
    "    for feature_scaling, label_column, classification in itertools.product(\n",
    "            [0,1], [s.NEW_END_BOROUGH, s.NEW_END_POSTAL_CODE,\n",
    "                        s.NEW_END_NEIGHBORHOOD, ],\n",
    "            ['lr', 'sgd']): \n",
    "        delta_definition = {            \n",
    "            'feature_standard_scaling': feature_scaling,\n",
    "            'label_col': label_column,\n",
    "            'classification': classification,\n",
    "        }\n",
    "        definition = deepcopy(base_definition)\n",
    "        definition.update(delta_definition)\n",
    "\n",
    "        annotated_df = choose_end_station_label_column(df, label_column)\n",
    "        results = build_classifier_to_predict_destination_station(annotated_df,\n",
    "                                                                 definition)\n",
    "\n",
    "        all_results.append([delta_definition, results])\n",
    "        \n",
    "    return all_results\n",
    "\n"
   ]
  },
  {
   "cell_type": "code",
   "execution_count": 9,
   "metadata": {
    "collapsed": false,
    "scrolled": true
   },
   "outputs": [
    {
     "name": "stderr",
     "output_type": "stream",
     "text": [
      "classify.py:45: SettingWithCopyWarning: \n",
      "A value is trying to be set on a copy of a slice from a DataFrame.\n",
      "Try using .loc[row_indexer,col_indexer] = value instead\n",
      "\n",
      "See the caveats in the documentation: http://pandas.pydata.org/pandas-docs/stable/indexing.html#indexing-view-versus-copy\n",
      "  df[feature])\n"
     ]
    },
    {
     "name": "stdout",
     "output_type": "stream",
     "text": [
      "> /Users/michal/repo/citibike/citibike_datas.py(105)build_classifier_to_predict_destination_station()\n",
      "-> best_params = grid_search_params(datas)\n",
      "(Pdb) l\n",
      "100  \t\n",
      "101  \t    results = OrderedDict()\n",
      "102  \t\n",
      "103  \t    import pdb; pdb.set_trace()\n",
      "104  \t\n",
      "105  ->\t    best_params = grid_search_params(datas)\n",
      "106  \t\n",
      "107  \t\n",
      "108  \t    classifier = build_classifier(definition)\n",
      "109  \t    classifier.fit(datas['X_train'], datas['y_train'])\n",
      "110  \t\n",
      "(Pdb) s\n",
      "--Call--\n",
      "> /Users/michal/repo/citibike/classify.py(93)grid_search_params()\n",
      "-> def grid_search_params(data):\n",
      "(Pdb) n\n",
      "> /Users/michal/repo/citibike/classify.py(95)grid_search_params()\n",
      "-> classifier = SGDClassifier(n_iter=10**2)\n",
      "(Pdb) l\n",
      " 90  \t\n",
      " 91  \t    return out\n",
      " 92  \t\n",
      " 93  \tdef grid_search_params(data):\n",
      " 94  \t\n",
      " 95  ->\t    classifier = SGDClassifier(n_iter=10**2)\n",
      " 96  \t\n",
      " 97  \t    parameters = {'alpha': 10.0**-np.arange(1,7)}\n",
      " 98  \t\n",
      " 99  \t    clf = GridSearchCV(classifier, parameters)\n",
      "100  \t    clf.fit(data['X'], data['y'])\n",
      "(Pdb) \n",
      "101  \t\n",
      "102  \t    best_params = clf.best_params_\n",
      "103  \t    return best_params\n",
      "104  \t\n",
      "105  \t    \n",
      "106  \tdef build_classifier(definition):\n",
      "107  \t\n",
      "108  \t    if definition['classification'] == 'lr':\n",
      "109  \t        classifier = LogisticRegression(C=1.5)\n",
      "110  \t    elif definition['classification'] == 'sgd':\n",
      "111  \t        classifier = SGDClassifier(alpha=0.0001, n_iter = 10**2)\n",
      "(Pdb) n\n",
      "> /Users/michal/repo/citibike/classify.py(97)grid_search_params()\n",
      "-> parameters = {'alpha': 10.0**-np.arange(1,7)}\n",
      "(Pdb) \n",
      "> /Users/michal/repo/citibike/classify.py(99)grid_search_params()\n",
      "-> clf = GridSearchCV(classifier, parameters)\n",
      "(Pdb) pp parameters\n",
      "{'alpha': array([  1.00000000e-01,   1.00000000e-02,   1.00000000e-03,\n",
      "         1.00000000e-04,   1.00000000e-05,   1.00000000e-06])}\n",
      "(Pdb) n\n",
      "> /Users/michal/repo/citibike/classify.py(100)grid_search_params()\n",
      "-> clf.fit(data['X'], data['y'])\n",
      "(Pdb) \n",
      "> /Users/michal/repo/citibike/classify.py(102)grid_search_params()\n",
      "-> best_params = clf.best_params_\n",
      "(Pdb) n\n",
      "> /Users/michal/repo/citibike/classify.py(103)grid_search_params()\n",
      "-> return best_params\n",
      "(Pdb) pp best_params\n",
      "{'alpha': 0.01}\n",
      "(Pdb) c\n"
     ]
    },
    {
     "name": "stderr",
     "output_type": "stream",
     "text": [
      "/Users/michal/.pyenv/versions/byke/lib/python2.7/site-packages/sklearn/metrics/classification.py:756: DeprecationWarning: The default `weighted` averaging is deprecated, and from version 0.18, use of precision, recall or F-score with multiclass or multilabel data or pos_label=None will result in an exception. Please set an explicit value for `average`, one of (None, 'micro', 'macro', 'weighted', 'samples'). In cross validation use, for instance, scoring=\"f1_weighted\" instead of scoring=\"f1\".\n",
      "  sample_weight=sample_weight)\n",
      "/Users/michal/.pyenv/versions/byke/lib/python2.7/site-packages/sklearn/metrics/classification.py:1304: DeprecationWarning: The default `weighted` averaging is deprecated, and from version 0.18, use of precision, recall or F-score with multiclass or multilabel data or pos_label=None will result in an exception. Please set an explicit value for `average`, one of (None, 'micro', 'macro', 'weighted', 'samples'). In cross validation use, for instance, scoring=\"f1_weighted\" instead of scoring=\"f1\".\n",
      "  sample_weight=sample_weight)\n",
      "/Users/michal/.pyenv/versions/byke/lib/python2.7/site-packages/sklearn/metrics/classification.py:1203: DeprecationWarning: The default `weighted` averaging is deprecated, and from version 0.18, use of precision, recall or F-score with multiclass or multilabel data or pos_label=None will result in an exception. Please set an explicit value for `average`, one of (None, 'micro', 'macro', 'weighted', 'samples'). In cross validation use, for instance, scoring=\"f1_weighted\" instead of scoring=\"f1\".\n",
      "  sample_weight=sample_weight)\n",
      "/Users/michal/.pyenv/versions/byke/lib/python2.7/site-packages/sklearn/metrics/classification.py:756: DeprecationWarning: The default `weighted` averaging is deprecated, and from version 0.18, use of precision, recall or F-score with multiclass or multilabel data or pos_label=None will result in an exception. Please set an explicit value for `average`, one of (None, 'micro', 'macro', 'weighted', 'samples'). In cross validation use, for instance, scoring=\"f1_weighted\" instead of scoring=\"f1\".\n",
      "  sample_weight=sample_weight)\n",
      "/Users/michal/.pyenv/versions/byke/lib/python2.7/site-packages/sklearn/metrics/classification.py:1304: DeprecationWarning: The default `weighted` averaging is deprecated, and from version 0.18, use of precision, recall or F-score with multiclass or multilabel data or pos_label=None will result in an exception. Please set an explicit value for `average`, one of (None, 'micro', 'macro', 'weighted', 'samples'). In cross validation use, for instance, scoring=\"f1_weighted\" instead of scoring=\"f1\".\n",
      "  sample_weight=sample_weight)\n",
      "/Users/michal/.pyenv/versions/byke/lib/python2.7/site-packages/sklearn/metrics/classification.py:1203: DeprecationWarning: The default `weighted` averaging is deprecated, and from version 0.18, use of precision, recall or F-score with multiclass or multilabel data or pos_label=None will result in an exception. Please set an explicit value for `average`, one of (None, 'micro', 'macro', 'weighted', 'samples'). In cross validation use, for instance, scoring=\"f1_weighted\" instead of scoring=\"f1\".\n",
      "  sample_weight=sample_weight)\n"
     ]
    },
    {
     "name": "stdout",
     "output_type": "stream",
     "text": [
      "couldnt run metrik  <function roc_curve at 0x10730eaa0>  =>  Data is not binary and pos_label is not specified\n",
      "couldnt run metrik  <function roc_curve at 0x10730eaa0>  =>  Data is not binary and pos_label is not specified\n",
      "> /Users/michal/repo/citibike/citibike_datas.py(105)build_classifier_to_predict_destination_station()\n",
      "-> best_params = grid_search_params(datas)\n",
      "(Pdb) c\n"
     ]
    },
    {
     "name": "stderr",
     "output_type": "stream",
     "text": [
      "/Users/michal/.pyenv/versions/byke/lib/python2.7/site-packages/sklearn/metrics/classification.py:756: DeprecationWarning: The default `weighted` averaging is deprecated, and from version 0.18, use of precision, recall or F-score with multiclass or multilabel data or pos_label=None will result in an exception. Please set an explicit value for `average`, one of (None, 'micro', 'macro', 'weighted', 'samples'). In cross validation use, for instance, scoring=\"f1_weighted\" instead of scoring=\"f1\".\n",
      "  sample_weight=sample_weight)\n",
      "/Users/michal/.pyenv/versions/byke/lib/python2.7/site-packages/sklearn/metrics/classification.py:1074: UndefinedMetricWarning: F-score is ill-defined and being set to 0.0 in labels with no predicted samples.\n",
      "  'precision', 'predicted', average, warn_for)\n",
      "/Users/michal/.pyenv/versions/byke/lib/python2.7/site-packages/sklearn/metrics/classification.py:1304: DeprecationWarning: The default `weighted` averaging is deprecated, and from version 0.18, use of precision, recall or F-score with multiclass or multilabel data or pos_label=None will result in an exception. Please set an explicit value for `average`, one of (None, 'micro', 'macro', 'weighted', 'samples'). In cross validation use, for instance, scoring=\"f1_weighted\" instead of scoring=\"f1\".\n",
      "  sample_weight=sample_weight)\n",
      "/Users/michal/.pyenv/versions/byke/lib/python2.7/site-packages/sklearn/metrics/classification.py:1203: DeprecationWarning: The default `weighted` averaging is deprecated, and from version 0.18, use of precision, recall or F-score with multiclass or multilabel data or pos_label=None will result in an exception. Please set an explicit value for `average`, one of (None, 'micro', 'macro', 'weighted', 'samples'). In cross validation use, for instance, scoring=\"f1_weighted\" instead of scoring=\"f1\".\n",
      "  sample_weight=sample_weight)\n",
      "/Users/michal/.pyenv/versions/byke/lib/python2.7/site-packages/sklearn/metrics/classification.py:1074: UndefinedMetricWarning: Precision is ill-defined and being set to 0.0 in labels with no predicted samples.\n",
      "  'precision', 'predicted', average, warn_for)\n",
      "/Users/michal/.pyenv/versions/byke/lib/python2.7/site-packages/sklearn/metrics/classification.py:756: DeprecationWarning: The default `weighted` averaging is deprecated, and from version 0.18, use of precision, recall or F-score with multiclass or multilabel data or pos_label=None will result in an exception. Please set an explicit value for `average`, one of (None, 'micro', 'macro', 'weighted', 'samples'). In cross validation use, for instance, scoring=\"f1_weighted\" instead of scoring=\"f1\".\n",
      "  sample_weight=sample_weight)\n",
      "/Users/michal/.pyenv/versions/byke/lib/python2.7/site-packages/sklearn/metrics/classification.py:1304: DeprecationWarning: The default `weighted` averaging is deprecated, and from version 0.18, use of precision, recall or F-score with multiclass or multilabel data or pos_label=None will result in an exception. Please set an explicit value for `average`, one of (None, 'micro', 'macro', 'weighted', 'samples'). In cross validation use, for instance, scoring=\"f1_weighted\" instead of scoring=\"f1\".\n",
      "  sample_weight=sample_weight)\n",
      "/Users/michal/.pyenv/versions/byke/lib/python2.7/site-packages/sklearn/metrics/classification.py:1203: DeprecationWarning: The default `weighted` averaging is deprecated, and from version 0.18, use of precision, recall or F-score with multiclass or multilabel data or pos_label=None will result in an exception. Please set an explicit value for `average`, one of (None, 'micro', 'macro', 'weighted', 'samples'). In cross validation use, for instance, scoring=\"f1_weighted\" instead of scoring=\"f1\".\n",
      "  sample_weight=sample_weight)\n"
     ]
    },
    {
     "name": "stdout",
     "output_type": "stream",
     "text": [
      "couldnt run metrik  <function roc_curve at 0x10730eaa0>  =>  Data is not binary and pos_label is not specified\n",
      "couldnt run metrik  <function roc_curve at 0x10730eaa0>  =>  Data is not binary and pos_label is not specified\n",
      "> /Users/michal/repo/citibike/citibike_datas.py(105)build_classifier_to_predict_destination_station()\n",
      "-> best_params = grid_search_params(datas)\n",
      "(Pdb) c\n"
     ]
    },
    {
     "name": "stderr",
     "output_type": "stream",
     "text": [
      "/Users/michal/.pyenv/versions/byke/lib/python2.7/site-packages/sklearn/cross_validation.py:516: Warning: The least populated class in y has only 1 members, which is too few. The minimum number of labels for any class cannot be less than n_folds=3.\n",
      "  % (min_labels, self.n_folds)), Warning)\n",
      "/Users/michal/.pyenv/versions/byke/lib/python2.7/site-packages/sklearn/metrics/classification.py:756: DeprecationWarning: The default `weighted` averaging is deprecated, and from version 0.18, use of precision, recall or F-score with multiclass or multilabel data or pos_label=None will result in an exception. Please set an explicit value for `average`, one of (None, 'micro', 'macro', 'weighted', 'samples'). In cross validation use, for instance, scoring=\"f1_weighted\" instead of scoring=\"f1\".\n",
      "  sample_weight=sample_weight)\n",
      "/Users/michal/.pyenv/versions/byke/lib/python2.7/site-packages/sklearn/metrics/classification.py:1304: DeprecationWarning: The default `weighted` averaging is deprecated, and from version 0.18, use of precision, recall or F-score with multiclass or multilabel data or pos_label=None will result in an exception. Please set an explicit value for `average`, one of (None, 'micro', 'macro', 'weighted', 'samples'). In cross validation use, for instance, scoring=\"f1_weighted\" instead of scoring=\"f1\".\n",
      "  sample_weight=sample_weight)\n",
      "/Users/michal/.pyenv/versions/byke/lib/python2.7/site-packages/sklearn/metrics/classification.py:1203: DeprecationWarning: The default `weighted` averaging is deprecated, and from version 0.18, use of precision, recall or F-score with multiclass or multilabel data or pos_label=None will result in an exception. Please set an explicit value for `average`, one of (None, 'micro', 'macro', 'weighted', 'samples'). In cross validation use, for instance, scoring=\"f1_weighted\" instead of scoring=\"f1\".\n",
      "  sample_weight=sample_weight)\n",
      "/Users/michal/.pyenv/versions/byke/lib/python2.7/site-packages/sklearn/metrics/classification.py:756: DeprecationWarning: The default `weighted` averaging is deprecated, and from version 0.18, use of precision, recall or F-score with multiclass or multilabel data or pos_label=None will result in an exception. Please set an explicit value for `average`, one of (None, 'micro', 'macro', 'weighted', 'samples'). In cross validation use, for instance, scoring=\"f1_weighted\" instead of scoring=\"f1\".\n",
      "  sample_weight=sample_weight)\n",
      "/Users/michal/.pyenv/versions/byke/lib/python2.7/site-packages/sklearn/metrics/classification.py:1076: UndefinedMetricWarning: F-score is ill-defined and being set to 0.0 in labels with no true samples.\n",
      "  'recall', 'true', average, warn_for)\n",
      "/Users/michal/.pyenv/versions/byke/lib/python2.7/site-packages/sklearn/metrics/classification.py:1304: DeprecationWarning: The default `weighted` averaging is deprecated, and from version 0.18, use of precision, recall or F-score with multiclass or multilabel data or pos_label=None will result in an exception. Please set an explicit value for `average`, one of (None, 'micro', 'macro', 'weighted', 'samples'). In cross validation use, for instance, scoring=\"f1_weighted\" instead of scoring=\"f1\".\n",
      "  sample_weight=sample_weight)\n",
      "/Users/michal/.pyenv/versions/byke/lib/python2.7/site-packages/sklearn/metrics/classification.py:1076: UndefinedMetricWarning: Recall is ill-defined and being set to 0.0 in labels with no true samples.\n",
      "  'recall', 'true', average, warn_for)\n",
      "/Users/michal/.pyenv/versions/byke/lib/python2.7/site-packages/sklearn/metrics/classification.py:1203: DeprecationWarning: The default `weighted` averaging is deprecated, and from version 0.18, use of precision, recall or F-score with multiclass or multilabel data or pos_label=None will result in an exception. Please set an explicit value for `average`, one of (None, 'micro', 'macro', 'weighted', 'samples'). In cross validation use, for instance, scoring=\"f1_weighted\" instead of scoring=\"f1\".\n",
      "  sample_weight=sample_weight)\n"
     ]
    },
    {
     "name": "stdout",
     "output_type": "stream",
     "text": [
      "couldnt run metrik  <function roc_curve at 0x10730eaa0>  =>  Data is not binary and pos_label is not specified\n",
      "couldnt run metrik  <function roc_curve at 0x10730eaa0>  =>  Data is not binary and pos_label is not specified\n",
      "> /Users/michal/repo/citibike/citibike_datas.py(105)build_classifier_to_predict_destination_station()\n",
      "-> best_params = grid_search_params(datas)\n",
      "(Pdb) n\n",
      "> /Users/michal/repo/citibike/citibike_datas.py(108)build_classifier_to_predict_destination_station()\n",
      "-> classifier = build_classifier(definition)\n",
      "(Pdb) pp best_params\n",
      "{'alpha': 0.10000000000000001}\n",
      "(Pdb) pp definition\n",
      "{'classification': 'sgd',\n",
      " 'feature_encoding': {'end_neighborhood': 1,\n",
      "                      'end_state': 1,\n",
      "                      'end_station_name': 1,\n",
      "                      'end_sublocality': 1,\n",
      "                      'start_neighborhood': 1,\n",
      "                      'start_state': 1,\n",
      "                      'start_station_name': 1,\n",
      "                      'start_sublocality': 1},\n",
      " 'feature_standard_scaling': 0,\n",
      " 'features': ['start station id',\n",
      "              'starttime_bucket',\n",
      "              'age',\n",
      "              'gender',\n",
      "              'start_postal_code',\n",
      "              'start_state',\n",
      "              'start_sublocality',\n",
      "              'start_neighborhood',\n",
      "              'start_station_name'],\n",
      " 'label_col': 'end_postal_code'}\n",
      "(Pdb) c\n"
     ]
    },
    {
     "name": "stderr",
     "output_type": "stream",
     "text": [
      "/Users/michal/.pyenv/versions/byke/lib/python2.7/site-packages/sklearn/metrics/classification.py:756: DeprecationWarning: The default `weighted` averaging is deprecated, and from version 0.18, use of precision, recall or F-score with multiclass or multilabel data or pos_label=None will result in an exception. Please set an explicit value for `average`, one of (None, 'micro', 'macro', 'weighted', 'samples'). In cross validation use, for instance, scoring=\"f1_weighted\" instead of scoring=\"f1\".\n",
      "  sample_weight=sample_weight)\n",
      "/Users/michal/.pyenv/versions/byke/lib/python2.7/site-packages/sklearn/metrics/classification.py:1304: DeprecationWarning: The default `weighted` averaging is deprecated, and from version 0.18, use of precision, recall or F-score with multiclass or multilabel data or pos_label=None will result in an exception. Please set an explicit value for `average`, one of (None, 'micro', 'macro', 'weighted', 'samples'). In cross validation use, for instance, scoring=\"f1_weighted\" instead of scoring=\"f1\".\n",
      "  sample_weight=sample_weight)\n",
      "/Users/michal/.pyenv/versions/byke/lib/python2.7/site-packages/sklearn/metrics/classification.py:1203: DeprecationWarning: The default `weighted` averaging is deprecated, and from version 0.18, use of precision, recall or F-score with multiclass or multilabel data or pos_label=None will result in an exception. Please set an explicit value for `average`, one of (None, 'micro', 'macro', 'weighted', 'samples'). In cross validation use, for instance, scoring=\"f1_weighted\" instead of scoring=\"f1\".\n",
      "  sample_weight=sample_weight)\n",
      "/Users/michal/.pyenv/versions/byke/lib/python2.7/site-packages/sklearn/metrics/classification.py:756: DeprecationWarning: The default `weighted` averaging is deprecated, and from version 0.18, use of precision, recall or F-score with multiclass or multilabel data or pos_label=None will result in an exception. Please set an explicit value for `average`, one of (None, 'micro', 'macro', 'weighted', 'samples'). In cross validation use, for instance, scoring=\"f1_weighted\" instead of scoring=\"f1\".\n",
      "  sample_weight=sample_weight)\n",
      "/Users/michal/.pyenv/versions/byke/lib/python2.7/site-packages/sklearn/metrics/classification.py:1304: DeprecationWarning: The default `weighted` averaging is deprecated, and from version 0.18, use of precision, recall or F-score with multiclass or multilabel data or pos_label=None will result in an exception. Please set an explicit value for `average`, one of (None, 'micro', 'macro', 'weighted', 'samples'). In cross validation use, for instance, scoring=\"f1_weighted\" instead of scoring=\"f1\".\n",
      "  sample_weight=sample_weight)\n",
      "/Users/michal/.pyenv/versions/byke/lib/python2.7/site-packages/sklearn/metrics/classification.py:1203: DeprecationWarning: The default `weighted` averaging is deprecated, and from version 0.18, use of precision, recall or F-score with multiclass or multilabel data or pos_label=None will result in an exception. Please set an explicit value for `average`, one of (None, 'micro', 'macro', 'weighted', 'samples'). In cross validation use, for instance, scoring=\"f1_weighted\" instead of scoring=\"f1\".\n",
      "  sample_weight=sample_weight)\n"
     ]
    },
    {
     "name": "stdout",
     "output_type": "stream",
     "text": [
      "couldnt run metrik  <function roc_curve at 0x10730eaa0>  =>  Data is not binary and pos_label is not specified\n",
      "couldnt run metrik  <function roc_curve at 0x10730eaa0>  =>  Data is not binary and pos_label is not specified\n",
      "> /Users/michal/repo/citibike/citibike_datas.py(105)build_classifier_to_predict_destination_station()\n",
      "-> best_params = grid_search_params(datas)\n",
      "(Pdb) pp definition\n",
      "{'classification': 'lr',\n",
      " 'feature_encoding': {'end_neighborhood': 1,\n",
      "                      'end_state': 1,\n",
      "                      'end_station_name': 1,\n",
      "                      'end_sublocality': 1,\n",
      "                      'start_neighborhood': 1,\n",
      "                      'start_state': 1,\n",
      "                      'start_station_name': 1,\n",
      "                      'start_sublocality': 1},\n",
      " 'feature_standard_scaling': 0,\n",
      " 'features': ['start station id',\n",
      "              'starttime_bucket',\n",
      "              'age',\n",
      "              'gender',\n",
      "              'start_postal_code',\n",
      "              'start_state',\n",
      "              'start_sublocality',\n",
      "              'start_neighborhood',\n",
      "              'start_station_name'],\n",
      " 'label_col': 'end_neighborhood'}\n",
      "(Pdb) n\n",
      "> /Users/michal/repo/citibike/citibike_datas.py(108)build_classifier_to_predict_destination_station()\n",
      "-> classifier = build_classifier(definition)\n",
      "(Pdb) pp best_params\n",
      "{'alpha': 0.01}\n",
      "(Pdb) c\n"
     ]
    },
    {
     "name": "stderr",
     "output_type": "stream",
     "text": [
      "/Users/michal/.pyenv/versions/byke/lib/python2.7/site-packages/sklearn/metrics/classification.py:756: DeprecationWarning: The default `weighted` averaging is deprecated, and from version 0.18, use of precision, recall or F-score with multiclass or multilabel data or pos_label=None will result in an exception. Please set an explicit value for `average`, one of (None, 'micro', 'macro', 'weighted', 'samples'). In cross validation use, for instance, scoring=\"f1_weighted\" instead of scoring=\"f1\".\n",
      "  sample_weight=sample_weight)\n",
      "/Users/michal/.pyenv/versions/byke/lib/python2.7/site-packages/sklearn/metrics/classification.py:1304: DeprecationWarning: The default `weighted` averaging is deprecated, and from version 0.18, use of precision, recall or F-score with multiclass or multilabel data or pos_label=None will result in an exception. Please set an explicit value for `average`, one of (None, 'micro', 'macro', 'weighted', 'samples'). In cross validation use, for instance, scoring=\"f1_weighted\" instead of scoring=\"f1\".\n",
      "  sample_weight=sample_weight)\n",
      "/Users/michal/.pyenv/versions/byke/lib/python2.7/site-packages/sklearn/metrics/classification.py:1203: DeprecationWarning: The default `weighted` averaging is deprecated, and from version 0.18, use of precision, recall or F-score with multiclass or multilabel data or pos_label=None will result in an exception. Please set an explicit value for `average`, one of (None, 'micro', 'macro', 'weighted', 'samples'). In cross validation use, for instance, scoring=\"f1_weighted\" instead of scoring=\"f1\".\n",
      "  sample_weight=sample_weight)\n",
      "/Users/michal/.pyenv/versions/byke/lib/python2.7/site-packages/sklearn/metrics/classification.py:756: DeprecationWarning: The default `weighted` averaging is deprecated, and from version 0.18, use of precision, recall or F-score with multiclass or multilabel data or pos_label=None will result in an exception. Please set an explicit value for `average`, one of (None, 'micro', 'macro', 'weighted', 'samples'). In cross validation use, for instance, scoring=\"f1_weighted\" instead of scoring=\"f1\".\n",
      "  sample_weight=sample_weight)\n",
      "/Users/michal/.pyenv/versions/byke/lib/python2.7/site-packages/sklearn/metrics/classification.py:1304: DeprecationWarning: The default `weighted` averaging is deprecated, and from version 0.18, use of precision, recall or F-score with multiclass or multilabel data or pos_label=None will result in an exception. Please set an explicit value for `average`, one of (None, 'micro', 'macro', 'weighted', 'samples'). In cross validation use, for instance, scoring=\"f1_weighted\" instead of scoring=\"f1\".\n",
      "  sample_weight=sample_weight)\n",
      "/Users/michal/.pyenv/versions/byke/lib/python2.7/site-packages/sklearn/metrics/classification.py:1203: DeprecationWarning: The default `weighted` averaging is deprecated, and from version 0.18, use of precision, recall or F-score with multiclass or multilabel data or pos_label=None will result in an exception. Please set an explicit value for `average`, one of (None, 'micro', 'macro', 'weighted', 'samples'). In cross validation use, for instance, scoring=\"f1_weighted\" instead of scoring=\"f1\".\n",
      "  sample_weight=sample_weight)\n"
     ]
    },
    {
     "name": "stdout",
     "output_type": "stream",
     "text": [
      "couldnt run metrik  <function roc_curve at 0x10730eaa0>  =>  Data is not binary and pos_label is not specified\n",
      "couldnt run metrik  <function roc_curve at 0x10730eaa0>  =>  Data is not binary and pos_label is not specified\n",
      "> /Users/michal/repo/citibike/citibike_datas.py(105)build_classifier_to_predict_destination_station()\n",
      "-> best_params = grid_search_params(datas)\n",
      "(Pdb) n\n",
      "> /Users/michal/repo/citibike/citibike_datas.py(108)build_classifier_to_predict_destination_station()\n",
      "-> classifier = build_classifier(definition)\n",
      "(Pdb) pp best_params\n",
      "{'alpha': 0.10000000000000001}\n",
      "(Pdb) pp definition\n",
      "{'classification': 'sgd',\n",
      " 'feature_encoding': {'end_neighborhood': 1,\n",
      "                      'end_state': 1,\n",
      "                      'end_station_name': 1,\n",
      "                      'end_sublocality': 1,\n",
      "                      'start_neighborhood': 1,\n",
      "                      'start_state': 1,\n",
      "                      'start_station_name': 1,\n",
      "                      'start_sublocality': 1},\n",
      " 'feature_standard_scaling': 0,\n",
      " 'features': ['start station id',\n",
      "              'starttime_bucket',\n",
      "              'age',\n",
      "              'gender',\n",
      "              'start_postal_code',\n",
      "              'start_state',\n",
      "              'start_sublocality',\n",
      "              'start_neighborhood',\n",
      "              'start_station_name'],\n",
      " 'label_col': 'end_neighborhood'}\n",
      "(Pdb) c\n"
     ]
    },
    {
     "name": "stderr",
     "output_type": "stream",
     "text": [
      "/Users/michal/.pyenv/versions/byke/lib/python2.7/site-packages/sklearn/metrics/classification.py:756: DeprecationWarning: The default `weighted` averaging is deprecated, and from version 0.18, use of precision, recall or F-score with multiclass or multilabel data or pos_label=None will result in an exception. Please set an explicit value for `average`, one of (None, 'micro', 'macro', 'weighted', 'samples'). In cross validation use, for instance, scoring=\"f1_weighted\" instead of scoring=\"f1\".\n",
      "  sample_weight=sample_weight)\n",
      "/Users/michal/.pyenv/versions/byke/lib/python2.7/site-packages/sklearn/metrics/classification.py:1304: DeprecationWarning: The default `weighted` averaging is deprecated, and from version 0.18, use of precision, recall or F-score with multiclass or multilabel data or pos_label=None will result in an exception. Please set an explicit value for `average`, one of (None, 'micro', 'macro', 'weighted', 'samples'). In cross validation use, for instance, scoring=\"f1_weighted\" instead of scoring=\"f1\".\n",
      "  sample_weight=sample_weight)\n",
      "/Users/michal/.pyenv/versions/byke/lib/python2.7/site-packages/sklearn/metrics/classification.py:1203: DeprecationWarning: The default `weighted` averaging is deprecated, and from version 0.18, use of precision, recall or F-score with multiclass or multilabel data or pos_label=None will result in an exception. Please set an explicit value for `average`, one of (None, 'micro', 'macro', 'weighted', 'samples'). In cross validation use, for instance, scoring=\"f1_weighted\" instead of scoring=\"f1\".\n",
      "  sample_weight=sample_weight)\n",
      "/Users/michal/.pyenv/versions/byke/lib/python2.7/site-packages/sklearn/metrics/classification.py:756: DeprecationWarning: The default `weighted` averaging is deprecated, and from version 0.18, use of precision, recall or F-score with multiclass or multilabel data or pos_label=None will result in an exception. Please set an explicit value for `average`, one of (None, 'micro', 'macro', 'weighted', 'samples'). In cross validation use, for instance, scoring=\"f1_weighted\" instead of scoring=\"f1\".\n",
      "  sample_weight=sample_weight)\n",
      "/Users/michal/.pyenv/versions/byke/lib/python2.7/site-packages/sklearn/metrics/classification.py:1304: DeprecationWarning: The default `weighted` averaging is deprecated, and from version 0.18, use of precision, recall or F-score with multiclass or multilabel data or pos_label=None will result in an exception. Please set an explicit value for `average`, one of (None, 'micro', 'macro', 'weighted', 'samples'). In cross validation use, for instance, scoring=\"f1_weighted\" instead of scoring=\"f1\".\n",
      "  sample_weight=sample_weight)\n",
      "/Users/michal/.pyenv/versions/byke/lib/python2.7/site-packages/sklearn/metrics/classification.py:1203: DeprecationWarning: The default `weighted` averaging is deprecated, and from version 0.18, use of precision, recall or F-score with multiclass or multilabel data or pos_label=None will result in an exception. Please set an explicit value for `average`, one of (None, 'micro', 'macro', 'weighted', 'samples'). In cross validation use, for instance, scoring=\"f1_weighted\" instead of scoring=\"f1\".\n",
      "  sample_weight=sample_weight)\n"
     ]
    },
    {
     "name": "stdout",
     "output_type": "stream",
     "text": [
      "couldnt run metrik  <function roc_curve at 0x10730eaa0>  =>  Data is not binary and pos_label is not specified\n",
      "couldnt run metrik  <function roc_curve at 0x10730eaa0>  =>  Data is not binary and pos_label is not specified\n",
      "> /Users/michal/repo/citibike/citibike_datas.py(105)build_classifier_to_predict_destination_station()\n",
      "-> best_params = grid_search_params(datas)\n",
      "(Pdb) n\n",
      "> /Users/michal/repo/citibike/citibike_datas.py(108)build_classifier_to_predict_destination_station()\n",
      "-> classifier = build_classifier(definition)\n",
      "(Pdb) best_params\n",
      "{'alpha': 0.0001}\n",
      "(Pdb) pp definition\n",
      "{'classification': 'lr',\n",
      " 'feature_encoding': {'end_neighborhood': 1,\n",
      "                      'end_state': 1,\n",
      "                      'end_station_name': 1,\n",
      "                      'end_sublocality': 1,\n",
      "                      'start_neighborhood': 1,\n",
      "                      'start_state': 1,\n",
      "                      'start_station_name': 1,\n",
      "                      'start_sublocality': 1},\n",
      " 'feature_standard_scaling': 1,\n",
      " 'features': ['start station id',\n",
      "              'starttime_bucket',\n",
      "              'age',\n",
      "              'gender',\n",
      "              'start_postal_code',\n",
      "              'start_state',\n",
      "              'start_sublocality',\n",
      "              'start_neighborhood',\n",
      "              'start_station_name'],\n",
      " 'label_col': 'end_sublocality'}\n",
      "(Pdb) pp best_params\n",
      "{'alpha': 0.0001}\n",
      "(Pdb) c\n"
     ]
    },
    {
     "name": "stderr",
     "output_type": "stream",
     "text": [
      "/Users/michal/.pyenv/versions/byke/lib/python2.7/site-packages/sklearn/metrics/classification.py:756: DeprecationWarning: The default `weighted` averaging is deprecated, and from version 0.18, use of precision, recall or F-score with multiclass or multilabel data or pos_label=None will result in an exception. Please set an explicit value for `average`, one of (None, 'micro', 'macro', 'weighted', 'samples'). In cross validation use, for instance, scoring=\"f1_weighted\" instead of scoring=\"f1\".\n",
      "  sample_weight=sample_weight)\n",
      "/Users/michal/.pyenv/versions/byke/lib/python2.7/site-packages/sklearn/metrics/classification.py:1304: DeprecationWarning: The default `weighted` averaging is deprecated, and from version 0.18, use of precision, recall or F-score with multiclass or multilabel data or pos_label=None will result in an exception. Please set an explicit value for `average`, one of (None, 'micro', 'macro', 'weighted', 'samples'). In cross validation use, for instance, scoring=\"f1_weighted\" instead of scoring=\"f1\".\n",
      "  sample_weight=sample_weight)\n",
      "/Users/michal/.pyenv/versions/byke/lib/python2.7/site-packages/sklearn/metrics/classification.py:1203: DeprecationWarning: The default `weighted` averaging is deprecated, and from version 0.18, use of precision, recall or F-score with multiclass or multilabel data or pos_label=None will result in an exception. Please set an explicit value for `average`, one of (None, 'micro', 'macro', 'weighted', 'samples'). In cross validation use, for instance, scoring=\"f1_weighted\" instead of scoring=\"f1\".\n",
      "  sample_weight=sample_weight)\n",
      "/Users/michal/.pyenv/versions/byke/lib/python2.7/site-packages/sklearn/metrics/classification.py:756: DeprecationWarning: The default `weighted` averaging is deprecated, and from version 0.18, use of precision, recall or F-score with multiclass or multilabel data or pos_label=None will result in an exception. Please set an explicit value for `average`, one of (None, 'micro', 'macro', 'weighted', 'samples'). In cross validation use, for instance, scoring=\"f1_weighted\" instead of scoring=\"f1\".\n",
      "  sample_weight=sample_weight)\n",
      "/Users/michal/.pyenv/versions/byke/lib/python2.7/site-packages/sklearn/metrics/classification.py:1304: DeprecationWarning: The default `weighted` averaging is deprecated, and from version 0.18, use of precision, recall or F-score with multiclass or multilabel data or pos_label=None will result in an exception. Please set an explicit value for `average`, one of (None, 'micro', 'macro', 'weighted', 'samples'). In cross validation use, for instance, scoring=\"f1_weighted\" instead of scoring=\"f1\".\n",
      "  sample_weight=sample_weight)\n",
      "/Users/michal/.pyenv/versions/byke/lib/python2.7/site-packages/sklearn/metrics/classification.py:1203: DeprecationWarning: The default `weighted` averaging is deprecated, and from version 0.18, use of precision, recall or F-score with multiclass or multilabel data or pos_label=None will result in an exception. Please set an explicit value for `average`, one of (None, 'micro', 'macro', 'weighted', 'samples'). In cross validation use, for instance, scoring=\"f1_weighted\" instead of scoring=\"f1\".\n",
      "  sample_weight=sample_weight)\n"
     ]
    },
    {
     "name": "stdout",
     "output_type": "stream",
     "text": [
      "couldnt run metrik  <function roc_curve at 0x10730eaa0>  =>  Data is not binary and pos_label is not specified\n",
      "couldnt run metrik  <function roc_curve at 0x10730eaa0>  =>  Data is not binary and pos_label is not specified\n",
      "> /Users/michal/repo/citibike/citibike_datas.py(105)build_classifier_to_predict_destination_station()\n",
      "-> best_params = grid_search_params(datas)\n",
      "(Pdb) \n",
      "(Pdb) n\n",
      "> /Users/michal/repo/citibike/citibike_datas.py(108)build_classifier_to_predict_destination_station()\n",
      "-> classifier = build_classifier(definition)\n",
      "(Pdb) pp best_params\n",
      "{'alpha': 0.0001}\n",
      "(Pdb) pp definition\n",
      "{'classification': 'sgd',\n",
      " 'feature_encoding': {'end_neighborhood': 1,\n",
      "                      'end_state': 1,\n",
      "                      'end_station_name': 1,\n",
      "                      'end_sublocality': 1,\n",
      "                      'start_neighborhood': 1,\n",
      "                      'start_state': 1,\n",
      "                      'start_station_name': 1,\n",
      "                      'start_sublocality': 1},\n",
      " 'feature_standard_scaling': 1,\n",
      " 'features': ['start station id',\n",
      "              'starttime_bucket',\n",
      "              'age',\n",
      "              'gender',\n",
      "              'start_postal_code',\n",
      "              'start_state',\n",
      "              'start_sublocality',\n",
      "              'start_neighborhood',\n",
      "              'start_station_name'],\n",
      " 'label_col': 'end_sublocality'}\n",
      "(Pdb) c\n"
     ]
    },
    {
     "name": "stderr",
     "output_type": "stream",
     "text": [
      "/Users/michal/.pyenv/versions/byke/lib/python2.7/site-packages/sklearn/metrics/classification.py:756: DeprecationWarning: The default `weighted` averaging is deprecated, and from version 0.18, use of precision, recall or F-score with multiclass or multilabel data or pos_label=None will result in an exception. Please set an explicit value for `average`, one of (None, 'micro', 'macro', 'weighted', 'samples'). In cross validation use, for instance, scoring=\"f1_weighted\" instead of scoring=\"f1\".\n",
      "  sample_weight=sample_weight)\n",
      "/Users/michal/.pyenv/versions/byke/lib/python2.7/site-packages/sklearn/metrics/classification.py:1304: DeprecationWarning: The default `weighted` averaging is deprecated, and from version 0.18, use of precision, recall or F-score with multiclass or multilabel data or pos_label=None will result in an exception. Please set an explicit value for `average`, one of (None, 'micro', 'macro', 'weighted', 'samples'). In cross validation use, for instance, scoring=\"f1_weighted\" instead of scoring=\"f1\".\n",
      "  sample_weight=sample_weight)\n",
      "/Users/michal/.pyenv/versions/byke/lib/python2.7/site-packages/sklearn/metrics/classification.py:1203: DeprecationWarning: The default `weighted` averaging is deprecated, and from version 0.18, use of precision, recall or F-score with multiclass or multilabel data or pos_label=None will result in an exception. Please set an explicit value for `average`, one of (None, 'micro', 'macro', 'weighted', 'samples'). In cross validation use, for instance, scoring=\"f1_weighted\" instead of scoring=\"f1\".\n",
      "  sample_weight=sample_weight)\n",
      "/Users/michal/.pyenv/versions/byke/lib/python2.7/site-packages/sklearn/metrics/classification.py:756: DeprecationWarning: The default `weighted` averaging is deprecated, and from version 0.18, use of precision, recall or F-score with multiclass or multilabel data or pos_label=None will result in an exception. Please set an explicit value for `average`, one of (None, 'micro', 'macro', 'weighted', 'samples'). In cross validation use, for instance, scoring=\"f1_weighted\" instead of scoring=\"f1\".\n",
      "  sample_weight=sample_weight)\n",
      "/Users/michal/.pyenv/versions/byke/lib/python2.7/site-packages/sklearn/metrics/classification.py:1304: DeprecationWarning: The default `weighted` averaging is deprecated, and from version 0.18, use of precision, recall or F-score with multiclass or multilabel data or pos_label=None will result in an exception. Please set an explicit value for `average`, one of (None, 'micro', 'macro', 'weighted', 'samples'). In cross validation use, for instance, scoring=\"f1_weighted\" instead of scoring=\"f1\".\n",
      "  sample_weight=sample_weight)\n",
      "/Users/michal/.pyenv/versions/byke/lib/python2.7/site-packages/sklearn/metrics/classification.py:1203: DeprecationWarning: The default `weighted` averaging is deprecated, and from version 0.18, use of precision, recall or F-score with multiclass or multilabel data or pos_label=None will result in an exception. Please set an explicit value for `average`, one of (None, 'micro', 'macro', 'weighted', 'samples'). In cross validation use, for instance, scoring=\"f1_weighted\" instead of scoring=\"f1\".\n",
      "  sample_weight=sample_weight)\n"
     ]
    },
    {
     "name": "stdout",
     "output_type": "stream",
     "text": [
      "couldnt run metrik  <function roc_curve at 0x10730eaa0>  =>  Data is not binary and pos_label is not specified\n",
      "couldnt run metrik  <function roc_curve at 0x10730eaa0>  =>  Data is not binary and pos_label is not specified\n",
      "> /Users/michal/repo/citibike/citibike_datas.py(105)build_classifier_to_predict_destination_station()\n",
      "-> best_params = grid_search_params(datas)\n",
      "(Pdb) c\n"
     ]
    },
    {
     "name": "stderr",
     "output_type": "stream",
     "text": [
      "/Users/michal/.pyenv/versions/byke/lib/python2.7/site-packages/sklearn/metrics/classification.py:756: DeprecationWarning: The default `weighted` averaging is deprecated, and from version 0.18, use of precision, recall or F-score with multiclass or multilabel data or pos_label=None will result in an exception. Please set an explicit value for `average`, one of (None, 'micro', 'macro', 'weighted', 'samples'). In cross validation use, for instance, scoring=\"f1_weighted\" instead of scoring=\"f1\".\n",
      "  sample_weight=sample_weight)\n",
      "/Users/michal/.pyenv/versions/byke/lib/python2.7/site-packages/sklearn/metrics/classification.py:1304: DeprecationWarning: The default `weighted` averaging is deprecated, and from version 0.18, use of precision, recall or F-score with multiclass or multilabel data or pos_label=None will result in an exception. Please set an explicit value for `average`, one of (None, 'micro', 'macro', 'weighted', 'samples'). In cross validation use, for instance, scoring=\"f1_weighted\" instead of scoring=\"f1\".\n",
      "  sample_weight=sample_weight)\n",
      "/Users/michal/.pyenv/versions/byke/lib/python2.7/site-packages/sklearn/metrics/classification.py:1203: DeprecationWarning: The default `weighted` averaging is deprecated, and from version 0.18, use of precision, recall or F-score with multiclass or multilabel data or pos_label=None will result in an exception. Please set an explicit value for `average`, one of (None, 'micro', 'macro', 'weighted', 'samples'). In cross validation use, for instance, scoring=\"f1_weighted\" instead of scoring=\"f1\".\n",
      "  sample_weight=sample_weight)\n",
      "/Users/michal/.pyenv/versions/byke/lib/python2.7/site-packages/sklearn/metrics/classification.py:756: DeprecationWarning: The default `weighted` averaging is deprecated, and from version 0.18, use of precision, recall or F-score with multiclass or multilabel data or pos_label=None will result in an exception. Please set an explicit value for `average`, one of (None, 'micro', 'macro', 'weighted', 'samples'). In cross validation use, for instance, scoring=\"f1_weighted\" instead of scoring=\"f1\".\n",
      "  sample_weight=sample_weight)\n",
      "/Users/michal/.pyenv/versions/byke/lib/python2.7/site-packages/sklearn/metrics/classification.py:1304: DeprecationWarning: The default `weighted` averaging is deprecated, and from version 0.18, use of precision, recall or F-score with multiclass or multilabel data or pos_label=None will result in an exception. Please set an explicit value for `average`, one of (None, 'micro', 'macro', 'weighted', 'samples'). In cross validation use, for instance, scoring=\"f1_weighted\" instead of scoring=\"f1\".\n",
      "  sample_weight=sample_weight)\n",
      "/Users/michal/.pyenv/versions/byke/lib/python2.7/site-packages/sklearn/metrics/classification.py:1203: DeprecationWarning: The default `weighted` averaging is deprecated, and from version 0.18, use of precision, recall or F-score with multiclass or multilabel data or pos_label=None will result in an exception. Please set an explicit value for `average`, one of (None, 'micro', 'macro', 'weighted', 'samples'). In cross validation use, for instance, scoring=\"f1_weighted\" instead of scoring=\"f1\".\n",
      "  sample_weight=sample_weight)\n"
     ]
    },
    {
     "name": "stdout",
     "output_type": "stream",
     "text": [
      "couldnt run metrik  <function roc_curve at 0x10730eaa0>  =>  Data is not binary and pos_label is not specified\n",
      "couldnt run metrik  <function roc_curve at 0x10730eaa0>  =>  Data is not binary and pos_label is not specified\n",
      "> /Users/michal/repo/citibike/citibike_datas.py(105)build_classifier_to_predict_destination_station()\n",
      "-> best_params = grid_search_params(datas)\n",
      "(Pdb) n\n",
      "> /Users/michal/repo/citibike/citibike_datas.py(108)build_classifier_to_predict_destination_station()\n",
      "-> classifier = build_classifier(definition)\n",
      "(Pdb) pp best_params\n",
      "{'alpha': 0.001}\n",
      "(Pdb) pp definition\n",
      "{'classification': 'sgd',\n",
      " 'feature_encoding': {'end_neighborhood': 1,\n",
      "                      'end_state': 1,\n",
      "                      'end_station_name': 1,\n",
      "                      'end_sublocality': 1,\n",
      "                      'start_neighborhood': 1,\n",
      "                      'start_state': 1,\n",
      "                      'start_station_name': 1,\n",
      "                      'start_sublocality': 1},\n",
      " 'feature_standard_scaling': 1,\n",
      " 'features': ['start station id',\n",
      "              'starttime_bucket',\n",
      "              'age',\n",
      "              'gender',\n",
      "              'start_postal_code',\n",
      "              'start_state',\n",
      "              'start_sublocality',\n",
      "              'start_neighborhood',\n",
      "              'start_station_name'],\n",
      " 'label_col': 'end_postal_code'}\n",
      "(Pdb) c\n"
     ]
    },
    {
     "name": "stderr",
     "output_type": "stream",
     "text": [
      "/Users/michal/.pyenv/versions/byke/lib/python2.7/site-packages/sklearn/metrics/classification.py:756: DeprecationWarning: The default `weighted` averaging is deprecated, and from version 0.18, use of precision, recall or F-score with multiclass or multilabel data or pos_label=None will result in an exception. Please set an explicit value for `average`, one of (None, 'micro', 'macro', 'weighted', 'samples'). In cross validation use, for instance, scoring=\"f1_weighted\" instead of scoring=\"f1\".\n",
      "  sample_weight=sample_weight)\n",
      "/Users/michal/.pyenv/versions/byke/lib/python2.7/site-packages/sklearn/metrics/classification.py:1304: DeprecationWarning: The default `weighted` averaging is deprecated, and from version 0.18, use of precision, recall or F-score with multiclass or multilabel data or pos_label=None will result in an exception. Please set an explicit value for `average`, one of (None, 'micro', 'macro', 'weighted', 'samples'). In cross validation use, for instance, scoring=\"f1_weighted\" instead of scoring=\"f1\".\n",
      "  sample_weight=sample_weight)\n",
      "/Users/michal/.pyenv/versions/byke/lib/python2.7/site-packages/sklearn/metrics/classification.py:1203: DeprecationWarning: The default `weighted` averaging is deprecated, and from version 0.18, use of precision, recall or F-score with multiclass or multilabel data or pos_label=None will result in an exception. Please set an explicit value for `average`, one of (None, 'micro', 'macro', 'weighted', 'samples'). In cross validation use, for instance, scoring=\"f1_weighted\" instead of scoring=\"f1\".\n",
      "  sample_weight=sample_weight)\n",
      "/Users/michal/.pyenv/versions/byke/lib/python2.7/site-packages/sklearn/metrics/classification.py:756: DeprecationWarning: The default `weighted` averaging is deprecated, and from version 0.18, use of precision, recall or F-score with multiclass or multilabel data or pos_label=None will result in an exception. Please set an explicit value for `average`, one of (None, 'micro', 'macro', 'weighted', 'samples'). In cross validation use, for instance, scoring=\"f1_weighted\" instead of scoring=\"f1\".\n",
      "  sample_weight=sample_weight)\n",
      "/Users/michal/.pyenv/versions/byke/lib/python2.7/site-packages/sklearn/metrics/classification.py:1304: DeprecationWarning: The default `weighted` averaging is deprecated, and from version 0.18, use of precision, recall or F-score with multiclass or multilabel data or pos_label=None will result in an exception. Please set an explicit value for `average`, one of (None, 'micro', 'macro', 'weighted', 'samples'). In cross validation use, for instance, scoring=\"f1_weighted\" instead of scoring=\"f1\".\n",
      "  sample_weight=sample_weight)\n",
      "/Users/michal/.pyenv/versions/byke/lib/python2.7/site-packages/sklearn/metrics/classification.py:1203: DeprecationWarning: The default `weighted` averaging is deprecated, and from version 0.18, use of precision, recall or F-score with multiclass or multilabel data or pos_label=None will result in an exception. Please set an explicit value for `average`, one of (None, 'micro', 'macro', 'weighted', 'samples'). In cross validation use, for instance, scoring=\"f1_weighted\" instead of scoring=\"f1\".\n",
      "  sample_weight=sample_weight)\n"
     ]
    },
    {
     "name": "stdout",
     "output_type": "stream",
     "text": [
      "couldnt run metrik  <function roc_curve at 0x10730eaa0>  =>  Data is not binary and pos_label is not specified\n",
      "couldnt run metrik  <function roc_curve at 0x10730eaa0>  =>  Data is not binary and pos_label is not specified\n",
      "> /Users/michal/repo/citibike/citibike_datas.py(105)build_classifier_to_predict_destination_station()\n",
      "-> best_params = grid_search_params(datas)\n",
      "(Pdb) n\n",
      "> /Users/michal/repo/citibike/citibike_datas.py(108)build_classifier_to_predict_destination_station()\n",
      "-> classifier = build_classifier(definition)\n",
      "(Pdb) pp best_params\n",
      "{'alpha': 0.001}\n",
      "(Pdb) pp definition\n",
      "{'classification': 'lr',\n",
      " 'feature_encoding': {'end_neighborhood': 1,\n",
      "                      'end_state': 1,\n",
      "                      'end_station_name': 1,\n",
      "                      'end_sublocality': 1,\n",
      "                      'start_neighborhood': 1,\n",
      "                      'start_state': 1,\n",
      "                      'start_station_name': 1,\n",
      "                      'start_sublocality': 1},\n",
      " 'feature_standard_scaling': 1,\n",
      " 'features': ['start station id',\n",
      "              'starttime_bucket',\n",
      "              'age',\n",
      "              'gender',\n",
      "              'start_postal_code',\n",
      "              'start_state',\n",
      "              'start_sublocality',\n",
      "              'start_neighborhood',\n",
      "              'start_station_name'],\n",
      " 'label_col': 'end_neighborhood'}\n",
      "(Pdb) c\n"
     ]
    },
    {
     "name": "stderr",
     "output_type": "stream",
     "text": [
      "/Users/michal/.pyenv/versions/byke/lib/python2.7/site-packages/sklearn/metrics/classification.py:756: DeprecationWarning: The default `weighted` averaging is deprecated, and from version 0.18, use of precision, recall or F-score with multiclass or multilabel data or pos_label=None will result in an exception. Please set an explicit value for `average`, one of (None, 'micro', 'macro', 'weighted', 'samples'). In cross validation use, for instance, scoring=\"f1_weighted\" instead of scoring=\"f1\".\n",
      "  sample_weight=sample_weight)\n",
      "/Users/michal/.pyenv/versions/byke/lib/python2.7/site-packages/sklearn/metrics/classification.py:1304: DeprecationWarning: The default `weighted` averaging is deprecated, and from version 0.18, use of precision, recall or F-score with multiclass or multilabel data or pos_label=None will result in an exception. Please set an explicit value for `average`, one of (None, 'micro', 'macro', 'weighted', 'samples'). In cross validation use, for instance, scoring=\"f1_weighted\" instead of scoring=\"f1\".\n",
      "  sample_weight=sample_weight)\n",
      "/Users/michal/.pyenv/versions/byke/lib/python2.7/site-packages/sklearn/metrics/classification.py:1203: DeprecationWarning: The default `weighted` averaging is deprecated, and from version 0.18, use of precision, recall or F-score with multiclass or multilabel data or pos_label=None will result in an exception. Please set an explicit value for `average`, one of (None, 'micro', 'macro', 'weighted', 'samples'). In cross validation use, for instance, scoring=\"f1_weighted\" instead of scoring=\"f1\".\n",
      "  sample_weight=sample_weight)\n",
      "/Users/michal/.pyenv/versions/byke/lib/python2.7/site-packages/sklearn/metrics/classification.py:756: DeprecationWarning: The default `weighted` averaging is deprecated, and from version 0.18, use of precision, recall or F-score with multiclass or multilabel data or pos_label=None will result in an exception. Please set an explicit value for `average`, one of (None, 'micro', 'macro', 'weighted', 'samples'). In cross validation use, for instance, scoring=\"f1_weighted\" instead of scoring=\"f1\".\n",
      "  sample_weight=sample_weight)\n",
      "/Users/michal/.pyenv/versions/byke/lib/python2.7/site-packages/sklearn/metrics/classification.py:1304: DeprecationWarning: The default `weighted` averaging is deprecated, and from version 0.18, use of precision, recall or F-score with multiclass or multilabel data or pos_label=None will result in an exception. Please set an explicit value for `average`, one of (None, 'micro', 'macro', 'weighted', 'samples'). In cross validation use, for instance, scoring=\"f1_weighted\" instead of scoring=\"f1\".\n",
      "  sample_weight=sample_weight)\n",
      "/Users/michal/.pyenv/versions/byke/lib/python2.7/site-packages/sklearn/metrics/classification.py:1203: DeprecationWarning: The default `weighted` averaging is deprecated, and from version 0.18, use of precision, recall or F-score with multiclass or multilabel data or pos_label=None will result in an exception. Please set an explicit value for `average`, one of (None, 'micro', 'macro', 'weighted', 'samples'). In cross validation use, for instance, scoring=\"f1_weighted\" instead of scoring=\"f1\".\n",
      "  sample_weight=sample_weight)\n"
     ]
    },
    {
     "name": "stdout",
     "output_type": "stream",
     "text": [
      "couldnt run metrik  <function roc_curve at 0x10730eaa0>  =>  Data is not binary and pos_label is not specified\n",
      "couldnt run metrik  <function roc_curve at 0x10730eaa0>  =>  Data is not binary and pos_label is not specified\n",
      "> /Users/michal/repo/citibike/citibike_datas.py(105)build_classifier_to_predict_destination_station()\n",
      "-> best_params = grid_search_params(datas)\n",
      "(Pdb) c\n",
      "couldnt run metrik  <function roc_curve at 0x10730eaa0>  =>  Data is not binary and pos_label is not specified\n",
      "couldnt run metrik  <function roc_curve at 0x10730eaa0>  =>  Data is not binary and pos_label is not specified\n"
     ]
    },
    {
     "name": "stderr",
     "output_type": "stream",
     "text": [
      "/Users/michal/.pyenv/versions/byke/lib/python2.7/site-packages/sklearn/metrics/classification.py:756: DeprecationWarning: The default `weighted` averaging is deprecated, and from version 0.18, use of precision, recall or F-score with multiclass or multilabel data or pos_label=None will result in an exception. Please set an explicit value for `average`, one of (None, 'micro', 'macro', 'weighted', 'samples'). In cross validation use, for instance, scoring=\"f1_weighted\" instead of scoring=\"f1\".\n",
      "  sample_weight=sample_weight)\n",
      "/Users/michal/.pyenv/versions/byke/lib/python2.7/site-packages/sklearn/metrics/classification.py:1304: DeprecationWarning: The default `weighted` averaging is deprecated, and from version 0.18, use of precision, recall or F-score with multiclass or multilabel data or pos_label=None will result in an exception. Please set an explicit value for `average`, one of (None, 'micro', 'macro', 'weighted', 'samples'). In cross validation use, for instance, scoring=\"f1_weighted\" instead of scoring=\"f1\".\n",
      "  sample_weight=sample_weight)\n",
      "/Users/michal/.pyenv/versions/byke/lib/python2.7/site-packages/sklearn/metrics/classification.py:1203: DeprecationWarning: The default `weighted` averaging is deprecated, and from version 0.18, use of precision, recall or F-score with multiclass or multilabel data or pos_label=None will result in an exception. Please set an explicit value for `average`, one of (None, 'micro', 'macro', 'weighted', 'samples'). In cross validation use, for instance, scoring=\"f1_weighted\" instead of scoring=\"f1\".\n",
      "  sample_weight=sample_weight)\n",
      "/Users/michal/.pyenv/versions/byke/lib/python2.7/site-packages/sklearn/metrics/classification.py:756: DeprecationWarning: The default `weighted` averaging is deprecated, and from version 0.18, use of precision, recall or F-score with multiclass or multilabel data or pos_label=None will result in an exception. Please set an explicit value for `average`, one of (None, 'micro', 'macro', 'weighted', 'samples'). In cross validation use, for instance, scoring=\"f1_weighted\" instead of scoring=\"f1\".\n",
      "  sample_weight=sample_weight)\n",
      "/Users/michal/.pyenv/versions/byke/lib/python2.7/site-packages/sklearn/metrics/classification.py:1304: DeprecationWarning: The default `weighted` averaging is deprecated, and from version 0.18, use of precision, recall or F-score with multiclass or multilabel data or pos_label=None will result in an exception. Please set an explicit value for `average`, one of (None, 'micro', 'macro', 'weighted', 'samples'). In cross validation use, for instance, scoring=\"f1_weighted\" instead of scoring=\"f1\".\n",
      "  sample_weight=sample_weight)\n",
      "/Users/michal/.pyenv/versions/byke/lib/python2.7/site-packages/sklearn/metrics/classification.py:1203: DeprecationWarning: The default `weighted` averaging is deprecated, and from version 0.18, use of precision, recall or F-score with multiclass or multilabel data or pos_label=None will result in an exception. Please set an explicit value for `average`, one of (None, 'micro', 'macro', 'weighted', 'samples'). In cross validation use, for instance, scoring=\"f1_weighted\" instead of scoring=\"f1\".\n",
      "  sample_weight=sample_weight)\n"
     ]
    }
   ],
   "source": [
    "results = experiment_with_sgd(next_df)"
   ]
  },
  {
   "cell_type": "code",
   "execution_count": 22,
   "metadata": {
    "collapsed": true
   },
   "outputs": [],
   "source": [
    "def _df_from_results(results_list):\n",
    "    df_results_columns = ['indx','feature_standard_scaling', 'label_col',\n",
    "                          'classification', 'accuracy_score', 'f1_score', 'recall_score', \n",
    "                          'precision_score']\n",
    "\n",
    "    results_df = pd.DataFrame(columns=df_results_columns)\n",
    "    \n",
    "    for i, row in enumerate(results_list):\n",
    "        row_dict = deepcopy(row[0])\n",
    "        row_dict.update(row[1]['test'])\n",
    "        row_dict.update({'indx': i})\n",
    "        results_df.loc[i] = pd.Series(pd.Series(row_dict))\n",
    "    return results_df\n",
    "    \n",
    "    "
   ]
  },
  {
   "cell_type": "code",
   "execution_count": 23,
   "metadata": {
    "collapsed": false
   },
   "outputs": [],
   "source": [
    "results_df = _df_from_results(results)\n"
   ]
  },
  {
   "cell_type": "code",
   "execution_count": 24,
   "metadata": {
    "collapsed": false
   },
   "outputs": [
    {
     "data": {
      "text/html": [
       "<div>\n",
       "<table border=\"1\" class=\"dataframe\">\n",
       "  <thead>\n",
       "    <tr style=\"text-align: right;\">\n",
       "      <th></th>\n",
       "      <th>indx</th>\n",
       "      <th>feature_standard_scaling</th>\n",
       "      <th>label_col</th>\n",
       "      <th>classification</th>\n",
       "      <th>accuracy_score</th>\n",
       "      <th>f1_score</th>\n",
       "      <th>recall_score</th>\n",
       "      <th>precision_score</th>\n",
       "    </tr>\n",
       "  </thead>\n",
       "  <tbody>\n",
       "    <tr>\n",
       "      <th>0</th>\n",
       "      <td>0</td>\n",
       "      <td>0</td>\n",
       "      <td>end_sublocality</td>\n",
       "      <td>lr</td>\n",
       "      <td>0.952612</td>\n",
       "      <td>0.952955</td>\n",
       "      <td>0.952612</td>\n",
       "      <td>0.953891</td>\n",
       "    </tr>\n",
       "    <tr>\n",
       "      <th>1</th>\n",
       "      <td>1</td>\n",
       "      <td>0</td>\n",
       "      <td>end_sublocality</td>\n",
       "      <td>sgd</td>\n",
       "      <td>0.903069</td>\n",
       "      <td>0.857073</td>\n",
       "      <td>0.903069</td>\n",
       "      <td>0.815534</td>\n",
       "    </tr>\n",
       "    <tr>\n",
       "      <th>2</th>\n",
       "      <td>2</td>\n",
       "      <td>0</td>\n",
       "      <td>end_postal_code</td>\n",
       "      <td>lr</td>\n",
       "      <td>0.132549</td>\n",
       "      <td>0.058216</td>\n",
       "      <td>0.132549</td>\n",
       "      <td>0.049196</td>\n",
       "    </tr>\n",
       "    <tr>\n",
       "      <th>3</th>\n",
       "      <td>3</td>\n",
       "      <td>0</td>\n",
       "      <td>end_postal_code</td>\n",
       "      <td>sgd</td>\n",
       "      <td>0.076430</td>\n",
       "      <td>0.027110</td>\n",
       "      <td>0.076430</td>\n",
       "      <td>0.022991</td>\n",
       "    </tr>\n",
       "    <tr>\n",
       "      <th>4</th>\n",
       "      <td>4</td>\n",
       "      <td>0</td>\n",
       "      <td>end_neighborhood</td>\n",
       "      <td>lr</td>\n",
       "      <td>0.400109</td>\n",
       "      <td>0.293629</td>\n",
       "      <td>0.400109</td>\n",
       "      <td>0.275040</td>\n",
       "    </tr>\n",
       "  </tbody>\n",
       "</table>\n",
       "</div>"
      ],
      "text/plain": [
       "   indx  feature_standard_scaling         label_col classification  \\\n",
       "0     0                         0   end_sublocality             lr   \n",
       "1     1                         0   end_sublocality            sgd   \n",
       "2     2                         0   end_postal_code             lr   \n",
       "3     3                         0   end_postal_code            sgd   \n",
       "4     4                         0  end_neighborhood             lr   \n",
       "\n",
       "   accuracy_score  f1_score  recall_score  precision_score  \n",
       "0        0.952612  0.952955      0.952612         0.953891  \n",
       "1        0.903069  0.857073      0.903069         0.815534  \n",
       "2        0.132549  0.058216      0.132549         0.049196  \n",
       "3        0.076430  0.027110      0.076430         0.022991  \n",
       "4        0.400109  0.293629      0.400109         0.275040  "
      ]
     },
     "execution_count": 24,
     "metadata": {},
     "output_type": "execute_result"
    }
   ],
   "source": [
    "results_df.head()"
   ]
  },
  {
   "cell_type": "code",
   "execution_count": 25,
   "metadata": {
    "collapsed": false,
    "scrolled": true
   },
   "outputs": [
    {
     "data": {
      "image/png": "[encoded data removed]",
      "text/plain": [
       "<matplotlib.figure.Figure at 0x10899ac90>"
      ]
     },
     "metadata": {},
     "output_type": "display_data"
    }
   ],
   "source": [
    "# this result seems to show that standard scaling the features\n",
    "# does improve the SGD accuracy.\n",
    "sns.lmplot(\"f1_score\", \"accuracy_score\",\n",
    "           results_df[results_df['classification'] == 'sgd'],\n",
    "           col=\"feature_standard_scaling\");"
   ]
  },
  {
   "cell_type": "code",
   "execution_count": 32,
   "metadata": {
    "collapsed": false
   },
   "outputs": [],
   "source": [
    "results_sorted_by_accuracy = re_index(results_df.sort_values('accuracy_score'))\n"
   ]
  },
  {
   "cell_type": "code",
   "execution_count": 34,
   "metadata": {
    "collapsed": true
   },
   "outputs": [],
   "source": [
    "results_sorted_by_accuracy['indx'] = results_sorted_by_accuracy.index"
   ]
  },
  {
   "cell_type": "code",
   "execution_count": 35,
   "metadata": {
    "collapsed": false,
    "scrolled": false
   },
   "outputs": [
    {
     "data": {
      "text/html": [
       "<div>\n",
       "<table border=\"1\" class=\"dataframe\">\n",
       "  <thead>\n",
       "    <tr style=\"text-align: right;\">\n",
       "      <th></th>\n",
       "      <th>indx</th>\n",
       "      <th>feature_standard_scaling</th>\n",
       "      <th>label_col</th>\n",
       "      <th>classification</th>\n",
       "      <th>accuracy_score</th>\n",
       "      <th>f1_score</th>\n",
       "      <th>recall_score</th>\n",
       "      <th>precision_score</th>\n",
       "    </tr>\n",
       "  </thead>\n",
       "  <tbody>\n",
       "    <tr>\n",
       "      <th>0</th>\n",
       "      <td>0</td>\n",
       "      <td>1</td>\n",
       "      <td>end_postal_code</td>\n",
       "      <td>sgd</td>\n",
       "      <td>0.075361</td>\n",
       "      <td>0.059486</td>\n",
       "      <td>0.075361</td>\n",
       "      <td>0.061977</td>\n",
       "    </tr>\n",
       "    <tr>\n",
       "      <th>1</th>\n",
       "      <td>1</td>\n",
       "      <td>0</td>\n",
       "      <td>end_postal_code</td>\n",
       "      <td>sgd</td>\n",
       "      <td>0.076430</td>\n",
       "      <td>0.027110</td>\n",
       "      <td>0.076430</td>\n",
       "      <td>0.022991</td>\n",
       "    </tr>\n",
       "    <tr>\n",
       "      <th>2</th>\n",
       "      <td>2</td>\n",
       "      <td>0</td>\n",
       "      <td>end_postal_code</td>\n",
       "      <td>lr</td>\n",
       "      <td>0.132549</td>\n",
       "      <td>0.058216</td>\n",
       "      <td>0.132549</td>\n",
       "      <td>0.049196</td>\n",
       "    </tr>\n",
       "    <tr>\n",
       "      <th>3</th>\n",
       "      <td>3</td>\n",
       "      <td>1</td>\n",
       "      <td>end_postal_code</td>\n",
       "      <td>lr</td>\n",
       "      <td>0.160342</td>\n",
       "      <td>0.083981</td>\n",
       "      <td>0.160342</td>\n",
       "      <td>0.094756</td>\n",
       "    </tr>\n",
       "    <tr>\n",
       "      <th>4</th>\n",
       "      <td>4</td>\n",
       "      <td>0</td>\n",
       "      <td>end_neighborhood</td>\n",
       "      <td>sgd</td>\n",
       "      <td>0.187296</td>\n",
       "      <td>0.123287</td>\n",
       "      <td>0.187296</td>\n",
       "      <td>0.120098</td>\n",
       "    </tr>\n",
       "    <tr>\n",
       "      <th>5</th>\n",
       "      <td>5</td>\n",
       "      <td>1</td>\n",
       "      <td>end_neighborhood</td>\n",
       "      <td>sgd</td>\n",
       "      <td>0.318132</td>\n",
       "      <td>0.229970</td>\n",
       "      <td>0.318132</td>\n",
       "      <td>0.376443</td>\n",
       "    </tr>\n",
       "    <tr>\n",
       "      <th>6</th>\n",
       "      <td>6</td>\n",
       "      <td>0</td>\n",
       "      <td>end_neighborhood</td>\n",
       "      <td>lr</td>\n",
       "      <td>0.400109</td>\n",
       "      <td>0.293629</td>\n",
       "      <td>0.400109</td>\n",
       "      <td>0.275040</td>\n",
       "    </tr>\n",
       "    <tr>\n",
       "      <th>7</th>\n",
       "      <td>7</td>\n",
       "      <td>1</td>\n",
       "      <td>end_neighborhood</td>\n",
       "      <td>lr</td>\n",
       "      <td>0.406623</td>\n",
       "      <td>0.301851</td>\n",
       "      <td>0.406623</td>\n",
       "      <td>0.396778</td>\n",
       "    </tr>\n",
       "    <tr>\n",
       "      <th>8</th>\n",
       "      <td>8</td>\n",
       "      <td>0</td>\n",
       "      <td>end_sublocality</td>\n",
       "      <td>sgd</td>\n",
       "      <td>0.903069</td>\n",
       "      <td>0.857073</td>\n",
       "      <td>0.903069</td>\n",
       "      <td>0.815534</td>\n",
       "    </tr>\n",
       "    <tr>\n",
       "      <th>9</th>\n",
       "      <td>9</td>\n",
       "      <td>0</td>\n",
       "      <td>end_sublocality</td>\n",
       "      <td>lr</td>\n",
       "      <td>0.952612</td>\n",
       "      <td>0.952955</td>\n",
       "      <td>0.952612</td>\n",
       "      <td>0.953891</td>\n",
       "    </tr>\n",
       "    <tr>\n",
       "      <th>10</th>\n",
       "      <td>10</td>\n",
       "      <td>1</td>\n",
       "      <td>end_sublocality</td>\n",
       "      <td>lr</td>\n",
       "      <td>0.954227</td>\n",
       "      <td>0.954561</td>\n",
       "      <td>0.954227</td>\n",
       "      <td>0.956389</td>\n",
       "    </tr>\n",
       "    <tr>\n",
       "      <th>11</th>\n",
       "      <td>11</td>\n",
       "      <td>1</td>\n",
       "      <td>end_sublocality</td>\n",
       "      <td>sgd</td>\n",
       "      <td>0.957997</td>\n",
       "      <td>0.958806</td>\n",
       "      <td>0.957997</td>\n",
       "      <td>0.961875</td>\n",
       "    </tr>\n",
       "  </tbody>\n",
       "</table>\n",
       "</div>"
      ],
      "text/plain": [
       "    indx  feature_standard_scaling         label_col classification  \\\n",
       "0      0                         1   end_postal_code            sgd   \n",
       "1      1                         0   end_postal_code            sgd   \n",
       "2      2                         0   end_postal_code             lr   \n",
       "3      3                         1   end_postal_code             lr   \n",
       "4      4                         0  end_neighborhood            sgd   \n",
       "5      5                         1  end_neighborhood            sgd   \n",
       "6      6                         0  end_neighborhood             lr   \n",
       "7      7                         1  end_neighborhood             lr   \n",
       "8      8                         0   end_sublocality            sgd   \n",
       "9      9                         0   end_sublocality             lr   \n",
       "10    10                         1   end_sublocality             lr   \n",
       "11    11                         1   end_sublocality            sgd   \n",
       "\n",
       "    accuracy_score  f1_score  recall_score  precision_score  \n",
       "0         0.075361  0.059486      0.075361         0.061977  \n",
       "1         0.076430  0.027110      0.076430         0.022991  \n",
       "2         0.132549  0.058216      0.132549         0.049196  \n",
       "3         0.160342  0.083981      0.160342         0.094756  \n",
       "4         0.187296  0.123287      0.187296         0.120098  \n",
       "5         0.318132  0.229970      0.318132         0.376443  \n",
       "6         0.400109  0.293629      0.400109         0.275040  \n",
       "7         0.406623  0.301851      0.406623         0.396778  \n",
       "8         0.903069  0.857073      0.903069         0.815534  \n",
       "9         0.952612  0.952955      0.952612         0.953891  \n",
       "10        0.954227  0.954561      0.954227         0.956389  \n",
       "11        0.957997  0.958806      0.957997         0.961875  "
      ]
     },
     "execution_count": 35,
     "metadata": {},
     "output_type": "execute_result"
    }
   ],
   "source": [
    "results_sorted_by_accuracy"
   ]
  },
  {
   "cell_type": "code",
   "execution_count": null,
   "metadata": {
    "collapsed": true
   },
   "outputs": [],
   "source": [
    "''' Comparing by accuracy score, predicting the 'end_sublocality' (a.k.a. borough) \n",
    "is the most reliable. And in most cases, feature standard scaling improves the SGD performance,\n",
    "measuring by accuracy. But when it comes to predicting the neighborhood, although\n",
    "both basic LR and SGD are doing pretty poorly around 40%, LR is doing much better than SGD here.\n",
    "The note also is that SGD used here is w/o parameter tuning.\n",
    "'''"
   ]
  },
  {
   "cell_type": "code",
   "execution_count": 36,
   "metadata": {
    "collapsed": false
   },
   "outputs": [
    {
     "data": {
      "image/png": "[encoded data removed]",
      "text/plain": [
       "<matplotlib.figure.Figure at 0x10984e310>"
      ]
     },
     "metadata": {},
     "output_type": "display_data"
    }
   ],
   "source": [
    "ax = sns.regplot(x='indx', y=\"accuracy_score\", data=results_sorted_by_accuracy)"
   ]
  },
  {
   "cell_type": "code",
   "execution_count": null,
   "metadata": {
    "collapsed": false
   },
   "outputs": [],
   "source": [
    "df_results_columns = results[0][0].keys() + results[0][1]['training'].keys()"
   ]
  },
  {
   "cell_type": "code",
   "execution_count": null,
   "metadata": {
    "collapsed": false
   },
   "outputs": [],
   "source": [
    "df_results_columns"
   ]
  },
  {
   "cell_type": "code",
   "execution_count": null,
   "metadata": {
    "collapsed": false
   },
   "outputs": [],
   "source": [
    "results[0]\n",
    "        \n"
   ]
  },
  {
   "cell_type": "code",
   "execution_count": null,
   "metadata": {
    "collapsed": false
   },
   "outputs": [],
   "source": [
    "results_df.head()"
   ]
  },
  {
   "cell_type": "code",
   "execution_count": null,
   "metadata": {
    "collapsed": false
   },
   "outputs": [],
   "source": [
    "results_df.to_dict()"
   ]
  },
  {
   "cell_type": "code",
   "execution_count": null,
   "metadata": {
    "collapsed": true
   },
   "outputs": [],
   "source": [
    "'''\n",
    "output data columns are : accuracy, f1 score, \n",
    "\n",
    "inputs are classification, feature scaling, \n",
    "'''"
   ]
  },
  {
   "cell_type": "code",
   "execution_count": null,
   "metadata": {
    "collapsed": false
   },
   "outputs": [],
   "source": [
    "next_df.columns"
   ]
  },
  {
   "cell_type": "code",
   "execution_count": null,
   "metadata": {
    "collapsed": true
   },
   "outputs": [],
   "source": [
    "label_column = s.NEW_END_NEIGHBORHOOD"
   ]
  },
  {
   "cell_type": "code",
   "execution_count": null,
   "metadata": {
    "collapsed": false
   },
   "outputs": [],
   "source": [
    "label_column"
   ]
  },
  {
   "cell_type": "code",
   "execution_count": null,
   "metadata": {
    "collapsed": false
   },
   "outputs": [],
   "source": [
    "annotated_df = choose_end_station_label_column(next_df, label_column)"
   ]
  },
  {
   "cell_type": "code",
   "execution_count": null,
   "metadata": {
    "collapsed": false
   },
   "outputs": [],
   "source": [
    "next_df.shape, annotated_df.shape"
   ]
  },
  {
   "cell_type": "code",
   "execution_count": null,
   "metadata": {
    "collapsed": false
   },
   "outputs": [],
   "source": [
    "set(next_df.columns)-set(annotated_df.columns)"
   ]
  },
  {
   "cell_type": "code",
   "execution_count": null,
   "metadata": {
    "collapsed": false
   },
   "outputs": [],
   "source": [
    "annotated_df.to_csv(datetime.datetime.now().strftime('tempdf_%m%d%YT%H%M.csv'))"
   ]
  },
  {
   "cell_type": "code",
   "execution_count": null,
   "metadata": {
    "collapsed": true
   },
   "outputs": [],
   "source": [
    "\n",
    "# , \n",
    "label_column = s.NEW_END_NEIGHBORHOOD\n",
    "label_column = s.NEW_END_BOROUGH\n",
    "annotated_df = choose_end_station_label_column(df, label_column)\n",
    "\n",
    "experiment_with_different_sgd(annotated_df)"
   ]
  },
  {
   "cell_type": "code",
   "execution_count": null,
   "metadata": {
    "collapsed": true
   },
   "outputs": [],
   "source": [
    "from sklearn.preprocessing import StandardScaler"
   ]
  },
  {
   "cell_type": "code",
   "execution_count": null,
   "metadata": {
    "collapsed": false
   },
   "outputs": [],
   "source": [
    "scaler = StandardScaler()\n",
    "\n",
    "X_train = [[56, 6, 1.0, 10],\n",
    "           [1.0, 7, 0.1, 34],\n",
    "           [0.3, 5, 0.6, 99],\n",
    "          ]\n",
    "scaler.fit(X_train)  # Don't cheat - fit only on training data\n",
    "X_train_scaled = scaler.transform(X_train)\n",
    "# X_test = scaler.transform(X_test)  # apply same transformation to test data\n",
    "print X_train_scaled\n"
   ]
  },
  {
   "cell_type": "code",
   "execution_count": null,
   "metadata": {
    "collapsed": false
   },
   "outputs": [],
   "source": [
    "scaler"
   ]
  },
  {
   "cell_type": "code",
   "execution_count": null,
   "metadata": {
    "collapsed": false
   },
   "outputs": [],
   "source": [
    "print scaler.mean_, '\\n', scaler.std_\n",
    "print (1.0 - scaler.mean_[0])/scaler.std_[0]"
   ]
  }
 ],
 "metadata": {
  "kernelspec": {
   "display_name": "Python 2",
   "language": "python",
   "name": "python2"
  },
  "language_info": {
   "codemirror_mode": {
    "name": "ipython",
    "version": 2
   },
   "file_extension": ".py",
   "mimetype": "text/x-python",
   "name": "python",
   "nbconvert_exporter": "python",
   "pygments_lexer": "ipython2",
   "version": "2.7.8"
  }
 },
 "nbformat": 4,
 "nbformat_minor": 0
}
