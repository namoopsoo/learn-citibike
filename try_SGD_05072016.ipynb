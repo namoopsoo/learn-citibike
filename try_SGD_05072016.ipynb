{
 "cells": [
  {
   "cell_type": "markdown",
   "metadata": {},
   "source": [
    "###### Initial notes\n",
    "\n",
    "To use SGD, http://scikit-learn.org/stable/modules/sgd.html , \n",
    "the input data needs to be scaled and currently the dataset in use is not scaled.\n",
    "\n",
    "\n",
    "* scale / normalize my data ( zero mean and unit variance ) \n",
    "  * so i should test how well classification works before and after that normalization\n",
    "  * looks like there is definitely a noticeable difference before and after.\n",
    "* SGD also has several hyperparameters (including regularization parameter and the number of iterations ) \n",
    "  * similarly, i should look at performance before and after trying out some parameter tuning ( including some grid search)\n",
    "  \n",
    "\n",
    "* and need a process for assigning name or id to the model, storing the model and \n",
    "    the training set used to build it, as well as the standard scaler, label encoders \n",
    "    and anything else required to use on new input vectors to classify.\n",
    "* further down, see what results look like with different sizes of training data\n",
    "  * and should get this visualized too.\n",
    "* remember the ability to cache results so that i dont need to re-run all the tests. \n",
    "  * at some point that will be more important, when trying more and more combinations\n",
    "  \n",
    "This was a good reference for some quick plots, https://twiecki.github.io/blog/2014/11/18/python-for-data-science/\n"
   ]
  },
  {
   "cell_type": "markdown",
   "metadata": {},
   "source": [
    "###### notes 05/28/16\n",
    "\n",
    "* Next goal is to run grid search and try to find a parameter alpha for the SGD classifier, for the particular dataset I have. It turns out that the best alpha depends on the input data.\n",
    "* Then lets see how that param-optimized SGD comopares w/ non-optimized SGD. \n",
    "* Then it would be cool to try another variable as the amount of data being used. Also want to see the performance of that. At this point, it may turn out that we need to do some of this work remotely and I should check back on the results at a later time. \n",
    "* And not necessarily last, but push up latest code.\n",
    "* should look at some of the warnings classification is returning , and can improve my metrics anyway, since they're not so great \n",
    "\n",
    "###### finishing up, \n",
    "* next should modify `create_annotated_dataset()`, to do the newer geolocation data annotations (including joining w/ the stations df ) \n",
    "  * and also be able to vary the scale of data used for training ( 100, 1000, 10^4, 10^5, ...) so it is easier to compare the pipelines "
   ]
  },
  {
   "cell_type": "markdown",
   "metadata": {},
   "source": [
    "###### notes 06/04/16\n",
    "\n",
    "* for the most recent tests, the process has been to load a pre-annotated mini dataset and then apply the latest geolocation data, so now, per the 05/28/16 notes, `create_annotated_dataset()` should produce the annotated datasets from different source datasets too.\n",
    "  * right now, this func creates the dataset as a csv file. That is definitely better than re-creating the dataset from scratch each time, especially since the annotation can take time. \n",
    "  * However, the dataset should be good quality\n",
    "* also missing stations from stations df, ...\n",
    "'Center Blvd\\xc2\\xa0& Borden Ave'\n",
    "['E 67 St & Lexington Ave', 'MacDougal St & Prince St', 'Rivington St & Ridge St', 'Washington Square E', 'Center Blvd\\xc2\\xa0& Borden Ave', 'Hanover Pl & Livingston St', 'E 40 St & 5 Ave']\n",
    "  * ok filled in some missing stations"
   ]
  },
  {
   "cell_type": "code",
   "execution_count": 1,
   "metadata": {
    "collapsed": false,
    "scrolled": true
   },
   "outputs": [],
   "source": [
    "%matplotlib inline"
   ]
  },
  {
   "cell_type": "code",
   "execution_count": 2,
   "metadata": {
    "collapsed": false
   },
   "outputs": [
    {
     "name": "stderr",
     "output_type": "stream",
     "text": [
      "/Users/michal/.pyenv/versions/byke/lib/python2.7/site-packages/IPython/html.py:14: ShimWarning: The `IPython.html` package has been deprecated. You should import from `notebook` instead. `IPython.html.widgets` has moved to `ipywidgets`.\n",
      "  \"`IPython.html.widgets` has moved to `ipywidgets`.\", ShimWarning)\n"
     ]
    }
   ],
   "source": [
    "import pandas as pd\n",
    "import seaborn as sns\n",
    "import itertools\n",
    "import datetime\n",
    "from copy import deepcopy"
   ]
  },
  {
   "cell_type": "code",
   "execution_count": 11,
   "metadata": {
    "collapsed": true
   },
   "outputs": [],
   "source": [
    "from citibike_datas import (build_classifier_to_predict_destination_station)\n",
    "from pipeline_data import (append_travel_stats, load_data, \n",
    "                           choose_end_station_label_column, re_index,\n",
    "                          create_annotated_dataset)\n",
    "\n",
    "from annotate_geolocation import annotate_df_with_geoloc\n",
    "\n",
    "\n",
    "import settings as s\n",
    "import numpy as np\n",
    "\n",
    "from pprint import pprint"
   ]
  },
  {
   "cell_type": "code",
   "execution_count": 15,
   "metadata": {
    "collapsed": true
   },
   "outputs": [],
   "source": [
    "df1 = load_data('data/201509-citibike-tripdata.csv', num_rows=1000)"
   ]
  },
  {
   "cell_type": "code",
   "execution_count": 14,
   "metadata": {
    "collapsed": false,
    "scrolled": true
   },
   "outputs": [
    {
     "data": {
      "text/html": [
       "<div>\n",
       "<table border=\"1\" class=\"dataframe\">\n",
       "  <thead>\n",
       "    <tr style=\"text-align: right;\">\n",
       "      <th></th>\n",
       "      <th>tripduration</th>\n",
       "      <th>starttime</th>\n",
       "      <th>stoptime</th>\n",
       "      <th>start station id</th>\n",
       "      <th>start station name</th>\n",
       "      <th>start station latitude</th>\n",
       "      <th>start station longitude</th>\n",
       "      <th>end station id</th>\n",
       "      <th>end station name</th>\n",
       "      <th>end station latitude</th>\n",
       "      <th>end station longitude</th>\n",
       "      <th>bikeid</th>\n",
       "      <th>usertype</th>\n",
       "      <th>birth year</th>\n",
       "      <th>gender</th>\n",
       "    </tr>\n",
       "  </thead>\n",
       "  <tbody>\n",
       "  </tbody>\n",
       "</table>\n",
       "</div>"
      ],
      "text/plain": [
       "Empty DataFrame\n",
       "Columns: [tripduration, starttime, stoptime, start station id, start station name, start station latitude, start station longitude, end station id, end station name, end station latitude, end station longitude, bikeid, usertype, birth year, gender]\n",
       "Index: []"
      ]
     },
     "execution_count": 14,
     "metadata": {},
     "output_type": "execute_result"
    }
   ],
   "source": [
    "df1[df1['start station name'] == 'Center Blvd\\xc2\\xa0& Borden Ave']"
   ]
  },
  {
   "cell_type": "code",
   "execution_count": 17,
   "metadata": {
    "collapsed": false,
    "scrolled": true
   },
   "outputs": [
    {
     "name": "stdout",
     "output_type": "stream",
     "text": [
      "working on full dataset now...\n"
     ]
    },
    {
     "ename": "AssertionError",
     "evalue": "missing stations: set(['E 67 St & Lexington Ave', 'MacDougal St & Prince St', 'Rivington St & Ridge St', 'Washington Square E', 'Center Blvd\\xc2\\xa0& Borden Ave', 'Hanover Pl & Livingston St', 'E 40 St & 5 Ave'])",
     "output_type": "error",
     "traceback": [
      "\u001b[0;31m---------------------------------------------------------------------------\u001b[0m",
      "\u001b[0;31mAssertionError\u001b[0m                            Traceback (most recent call last)",
      "\u001b[0;32m<ipython-input-17-da43f12e69b0>\u001b[0m in \u001b[0;36m<module>\u001b[0;34m()\u001b[0m\n\u001b[0;32m----> 1\u001b[0;31m \u001b[0mcreate_annotated_dataset\u001b[0m \u001b[0;34m(\u001b[0m\u001b[0;34m'201509-citibike-tripdata.csv'\u001b[0m\u001b[0;34m,\u001b[0m \u001b[0msize\u001b[0m\u001b[0;34m=\u001b[0m\u001b[0;36m10000\u001b[0m\u001b[0;34m,\u001b[0m \u001b[0mpreview_too\u001b[0m\u001b[0;34m=\u001b[0m\u001b[0mFalse\u001b[0m\u001b[0;34m)\u001b[0m\u001b[0;34m\u001b[0m\u001b[0m\n\u001b[0m",
      "\u001b[0;32m/Users/michal/repo/citibike/pipeline_data.py\u001b[0m in \u001b[0;36mcreate_annotated_dataset\u001b[0;34m(dataset_name, preview_too, size)\u001b[0m\n\u001b[1;32m     89\u001b[0m     \u001b[0mstation_df\u001b[0m \u001b[0;34m=\u001b[0m \u001b[0mpd\u001b[0m\u001b[0;34m.\u001b[0m\u001b[0mread_csv\u001b[0m\u001b[0;34m(\u001b[0m\u001b[0mstation_dataset\u001b[0m\u001b[0;34m)\u001b[0m\u001b[0;34m\u001b[0m\u001b[0m\n\u001b[1;32m     90\u001b[0m \u001b[0;34m\u001b[0m\u001b[0m\n\u001b[0;32m---> 91\u001b[0;31m     \u001b[0mnext_df\u001b[0m \u001b[0;34m=\u001b[0m \u001b[0mannotate_df_with_geoloc\u001b[0m\u001b[0;34m(\u001b[0m\u001b[0mannotated_df\u001b[0m\u001b[0;34m,\u001b[0m \u001b[0mstation_df\u001b[0m\u001b[0;34m)\u001b[0m\u001b[0;34m\u001b[0m\u001b[0m\n\u001b[0m\u001b[1;32m     92\u001b[0m \u001b[0;34m\u001b[0m\u001b[0m\n\u001b[1;32m     93\u001b[0m     \u001b[0;32mif\u001b[0m \u001b[0;32mnot\u001b[0m \u001b[0msize\u001b[0m\u001b[0;34m:\u001b[0m\u001b[0;34m\u001b[0m\u001b[0m\n",
      "\u001b[0;32m/Users/michal/repo/citibike/annotate_geolocation.py\u001b[0m in \u001b[0;36mannotate_df_with_geoloc\u001b[0;34m(df, station_df)\u001b[0m\n\u001b[1;32m     32\u001b[0m             - set(np.unique(station_df['station_name'].values))) \n\u001b[1;32m     33\u001b[0m \u001b[0;34m\u001b[0m\u001b[0m\n\u001b[0;32m---> 34\u001b[0;31m     \u001b[0;32massert\u001b[0m \u001b[0mlen\u001b[0m\u001b[0;34m(\u001b[0m\u001b[0mmissing_stations\u001b[0m\u001b[0;34m)\u001b[0m \u001b[0;34m==\u001b[0m \u001b[0;36m0\u001b[0m\u001b[0;34m,\u001b[0m \u001b[0;34m'missing stations: %s'\u001b[0m \u001b[0;34m%\u001b[0m \u001b[0mmissing_stations\u001b[0m\u001b[0;34m\u001b[0m\u001b[0m\n\u001b[0m\u001b[1;32m     35\u001b[0m \u001b[0;34m\u001b[0m\u001b[0m\n\u001b[1;32m     36\u001b[0m \u001b[0;34m\u001b[0m\u001b[0m\n",
      "\u001b[0;31mAssertionError\u001b[0m: missing stations: set(['E 67 St & Lexington Ave', 'MacDougal St & Prince St', 'Rivington St & Ridge St', 'Washington Square E', 'Center Blvd\\xc2\\xa0& Borden Ave', 'Hanover Pl & Livingston St', 'E 40 St & 5 Ave'])"
     ]
    }
   ],
   "source": [
    "create_annotated_dataset ('201509-citibike-tripdata.csv', size=10000, preview_too=False)\n"
   ]
  },
  {
   "cell_type": "code",
   "execution_count": 4,
   "metadata": {
    "collapsed": true
   },
   "outputs": [],
   "source": [
    "station_df_columns = [u'station_name', u'postal_code', u'sublocality',\n",
    "       u'neighborhood', u'state']\n",
    "\n",
    "def make_column_rename_dict(columns, prefix):\n",
    "    '''Apply prefix and make a dict that can be used with \n",
    "    pd.DataFrame.rename() func\n",
    "    '''\n",
    "    d = {col: '{}_{}'.format(prefix, col) for col in columns}\n",
    "    return d\n",
    "\n",
    "step1_rename_dict = make_column_rename_dict(station_df_columns, 'start')\n",
    "step2_rename_dict = make_column_rename_dict(station_df_columns, 'end')\n",
    "\n"
   ]
  },
  {
   "cell_type": "code",
   "execution_count": 5,
   "metadata": {
    "collapsed": false
   },
   "outputs": [
    {
     "data": {
      "text/plain": [
       "Index([u'Unnamed: 0', u'station_name', u'postal_code', u'sublocality',\n",
       "       u'neighborhood', u'state'],\n",
       "      dtype='object')"
      ]
     },
     "execution_count": 5,
     "metadata": {},
     "output_type": "execute_result"
    }
   ],
   "source": [
    "\n",
    "df = load_data('data/201510-citibike-tripdata.csv.annotated.mini.02212016T1641.csv')\n",
    "\n",
    "station_dataset = 'data/stations_geoloc_data.03262016T1349.csv'\n",
    "station_df = pd.read_csv(station_dataset)\n",
    "station_df.columns\n",
    "    \n",
    "    "
   ]
  },
  {
   "cell_type": "code",
   "execution_count": 6,
   "metadata": {
    "collapsed": true
   },
   "outputs": [],
   "source": [
    "\n",
    "next_df = annotate_df_with_geoloc(df, station_df)"
   ]
  },
  {
   "cell_type": "code",
   "execution_count": 12,
   "metadata": {
    "collapsed": true
   },
   "outputs": [],
   "source": [
    "def experiment_with_sgd(df):\n",
    "    '''Annotate end station id data using new geolocation meta data and run classification.\n",
    "    \n",
    "    Geocoding data brings in zip codes, borough names (a.k.a. sub localities) \n",
    "    and neighborhoods. Given that there are 5 boroughs, this makes the classification\n",
    "    task much more narrow and focused.\n",
    "    '''\n",
    "    cols = [s.END_STATION_NAME, s.END_STATION_ID, s.NEW_END_POSTAL_CODE,\n",
    "        s.NEW_END_BOROUGH, s.NEW_END_NEIGHBORHOOD]\n",
    "\n",
    "    features = [\n",
    "        s.START_STATION_ID,\n",
    "        s.START_TIME_BUCKET,\n",
    "        s.AGE_COL_NAME,\n",
    "        s.GENDER,] + s.NEW_START_STATION_COLS\n",
    "    all_results = []\n",
    "    \n",
    "    base_definition = {\n",
    "        'features': features,\n",
    "        'feature_encoding': {\n",
    "            s.NEW_END_STATE: 1, s.NEW_END_BOROUGH: 1,\n",
    "            s.NEW_END_NEIGHBORHOOD: 1, s.NEW_END_STATION_NAME: 1,\n",
    "            s.NEW_START_STATE: 1,\n",
    "            s.NEW_START_BOROUGH: 1,\n",
    "            s.NEW_START_NEIGHBORHOOD: 1,\n",
    "            s.NEW_START_STATION_NAME: 1\n",
    "        },\n",
    "    }\n",
    "\n",
    "    num = 0\n",
    "    for feature_scaling, label_column, classification in itertools.product(\n",
    "            [0,1], [s.NEW_END_BOROUGH, s.NEW_END_POSTAL_CODE,\n",
    "                        s.NEW_END_NEIGHBORHOOD, ],\n",
    "            ['sgd_grid', 'lr', 'sgd']):\n",
    "        \n",
    "        delta_definition = {\n",
    "            'feature_standard_scaling': feature_scaling,\n",
    "            'label_col': label_column,\n",
    "            'classification': classification,\n",
    "        }\n",
    "        print 'starting num ', num, delta_definition\n",
    "        \n",
    "        definition = deepcopy(base_definition)\n",
    "        definition.update(delta_definition)\n",
    "\n",
    "        annotated_df = choose_end_station_label_column(df, label_column)\n",
    "        clf, results = build_classifier_to_predict_destination_station(annotated_df,\n",
    "                                                                 definition)\n",
    "\n",
    "        all_results.append([delta_definition, results])\n",
    "        num += 1\n",
    " \n",
    "        \n",
    "    return all_results\n",
    "\n"
   ]
  },
  {
   "cell_type": "code",
   "execution_count": 9,
   "metadata": {
    "collapsed": false,
    "scrolled": true
   },
   "outputs": [
    {
     "name": "stderr",
     "output_type": "stream",
     "text": [
      "classify.py:45: SettingWithCopyWarning: \n",
      "A value is trying to be set on a copy of a slice from a DataFrame.\n",
      "Try using .loc[row_indexer,col_indexer] = value instead\n",
      "\n",
      "See the caveats in the documentation: http://pandas.pydata.org/pandas-docs/stable/indexing.html#indexing-view-versus-copy\n",
      "  df[feature])\n"
     ]
    },
    {
     "name": "stdout",
     "output_type": "stream",
     "text": [
      "> /Users/michal/repo/citibike/citibike_datas.py(105)build_classifier_to_predict_destination_station()\n",
      "-> best_params = grid_search_params(datas)\n",
      "(Pdb) l\n",
      "100  \t\n",
      "101  \t    results = OrderedDict()\n",
      "102  \t\n",
      "103  \t    import pdb; pdb.set_trace()\n",
      "104  \t\n",
      "105  ->\t    best_params = grid_search_params(datas)\n",
      "106  \t\n",
      "107  \t\n",
      "108  \t    classifier = build_classifier(definition)\n",
      "109  \t    classifier.fit(datas['X_train'], datas['y_train'])\n",
      "110  \t\n",
      "(Pdb) s\n",
      "--Call--\n",
      "> /Users/michal/repo/citibike/classify.py(93)grid_search_params()\n",
      "-> def grid_search_params(data):\n",
      "(Pdb) n\n",
      "> /Users/michal/repo/citibike/classify.py(95)grid_search_params()\n",
      "-> classifier = SGDClassifier(n_iter=10**2)\n",
      "(Pdb) l\n",
      " 90  \t\n",
      " 91  \t    return out\n",
      " 92  \t\n",
      " 93  \tdef grid_search_params(data):\n",
      " 94  \t\n",
      " 95  ->\t    classifier = SGDClassifier(n_iter=10**2)\n",
      " 96  \t\n",
      " 97  \t    parameters = {'alpha': 10.0**-np.arange(1,7)}\n",
      " 98  \t\n",
      " 99  \t    clf = GridSearchCV(classifier, parameters)\n",
      "100  \t    clf.fit(data['X'], data['y'])\n",
      "(Pdb) \n",
      "101  \t\n",
      "102  \t    best_params = clf.best_params_\n",
      "103  \t    return best_params\n",
      "104  \t\n",
      "105  \t    \n",
      "106  \tdef build_classifier(definition):\n",
      "107  \t\n",
      "108  \t    if definition['classification'] == 'lr':\n",
      "109  \t        classifier = LogisticRegression(C=1.5)\n",
      "110  \t    elif definition['classification'] == 'sgd':\n",
      "111  \t        classifier = SGDClassifier(alpha=0.0001, n_iter = 10**2)\n",
      "(Pdb) n\n",
      "> /Users/michal/repo/citibike/classify.py(97)grid_search_params()\n",
      "-> parameters = {'alpha': 10.0**-np.arange(1,7)}\n",
      "(Pdb) \n",
      "> /Users/michal/repo/citibike/classify.py(99)grid_search_params()\n",
      "-> clf = GridSearchCV(classifier, parameters)\n",
      "(Pdb) pp parameters\n",
      "{'alpha': array([  1.00000000e-01,   1.00000000e-02,   1.00000000e-03,\n",
      "         1.00000000e-04,   1.00000000e-05,   1.00000000e-06])}\n",
      "(Pdb) n\n",
      "> /Users/michal/repo/citibike/classify.py(100)grid_search_params()\n",
      "-> clf.fit(data['X'], data['y'])\n",
      "(Pdb) \n",
      "> /Users/michal/repo/citibike/classify.py(102)grid_search_params()\n",
      "-> best_params = clf.best_params_\n",
      "(Pdb) n\n",
      "> /Users/michal/repo/citibike/classify.py(103)grid_search_params()\n",
      "-> return best_params\n",
      "(Pdb) pp best_params\n",
      "{'alpha': 0.01}\n",
      "(Pdb) c\n"
     ]
    },
    {
     "name": "stderr",
     "output_type": "stream",
     "text": [
      "/Users/michal/.pyenv/versions/byke/lib/python2.7/site-packages/sklearn/metrics/classification.py:756: DeprecationWarning: The default `weighted` averaging is deprecated, and from version 0.18, use of precision, recall or F-score with multiclass or multilabel data or pos_label=None will result in an exception. Please set an explicit value for `average`, one of (None, 'micro', 'macro', 'weighted', 'samples'). In cross validation use, for instance, scoring=\"f1_weighted\" instead of scoring=\"f1\".\n",
      "  sample_weight=sample_weight)\n",
      "/Users/michal/.pyenv/versions/byke/lib/python2.7/site-packages/sklearn/metrics/classification.py:1304: DeprecationWarning: The default `weighted` averaging is deprecated, and from version 0.18, use of precision, recall or F-score with multiclass or multilabel data or pos_label=None will result in an exception. Please set an explicit value for `average`, one of (None, 'micro', 'macro', 'weighted', 'samples'). In cross validation use, for instance, scoring=\"f1_weighted\" instead of scoring=\"f1\".\n",
      "  sample_weight=sample_weight)\n",
      "/Users/michal/.pyenv/versions/byke/lib/python2.7/site-packages/sklearn/metrics/classification.py:1203: DeprecationWarning: The default `weighted` averaging is deprecated, and from version 0.18, use of precision, recall or F-score with multiclass or multilabel data or pos_label=None will result in an exception. Please set an explicit value for `average`, one of (None, 'micro', 'macro', 'weighted', 'samples'). In cross validation use, for instance, scoring=\"f1_weighted\" instead of scoring=\"f1\".\n",
      "  sample_weight=sample_weight)\n",
      "/Users/michal/.pyenv/versions/byke/lib/python2.7/site-packages/sklearn/metrics/classification.py:756: DeprecationWarning: The default `weighted` averaging is deprecated, and from version 0.18, use of precision, recall or F-score with multiclass or multilabel data or pos_label=None will result in an exception. Please set an explicit value for `average`, one of (None, 'micro', 'macro', 'weighted', 'samples'). In cross validation use, for instance, scoring=\"f1_weighted\" instead of scoring=\"f1\".\n",
      "  sample_weight=sample_weight)\n",
      "/Users/michal/.pyenv/versions/byke/lib/python2.7/site-packages/sklearn/metrics/classification.py:1304: DeprecationWarning: The default `weighted` averaging is deprecated, and from version 0.18, use of precision, recall or F-score with multiclass or multilabel data or pos_label=None will result in an exception. Please set an explicit value for `average`, one of (None, 'micro', 'macro', 'weighted', 'samples'). In cross validation use, for instance, scoring=\"f1_weighted\" instead of scoring=\"f1\".\n",
      "  sample_weight=sample_weight)\n",
      "/Users/michal/.pyenv/versions/byke/lib/python2.7/site-packages/sklearn/metrics/classification.py:1203: DeprecationWarning: The default `weighted` averaging is deprecated, and from version 0.18, use of precision, recall or F-score with multiclass or multilabel data or pos_label=None will result in an exception. Please set an explicit value for `average`, one of (None, 'micro', 'macro', 'weighted', 'samples'). In cross validation use, for instance, scoring=\"f1_weighted\" instead of scoring=\"f1\".\n",
      "  sample_weight=sample_weight)\n"
     ]
    },
    {
     "name": "stdout",
     "output_type": "stream",
     "text": [
      "couldnt run metrik  <function roc_curve at 0x10730eaa0>  =>  Data is not binary and pos_label is not specified\n",
      "couldnt run metrik  <function roc_curve at 0x10730eaa0>  =>  Data is not binary and pos_label is not specified\n",
      "> /Users/michal/repo/citibike/citibike_datas.py(105)build_classifier_to_predict_destination_station()\n",
      "-> best_params = grid_search_params(datas)\n",
      "(Pdb) c\n"
     ]
    },
    {
     "name": "stderr",
     "output_type": "stream",
     "text": [
      "/Users/michal/.pyenv/versions/byke/lib/python2.7/site-packages/sklearn/metrics/classification.py:756: DeprecationWarning: The default `weighted` averaging is deprecated, and from version 0.18, use of precision, recall or F-score with multiclass or multilabel data or pos_label=None will result in an exception. Please set an explicit value for `average`, one of (None, 'micro', 'macro', 'weighted', 'samples'). In cross validation use, for instance, scoring=\"f1_weighted\" instead of scoring=\"f1\".\n",
      "  sample_weight=sample_weight)\n",
      "/Users/michal/.pyenv/versions/byke/lib/python2.7/site-packages/sklearn/metrics/classification.py:1074: UndefinedMetricWarning: F-score is ill-defined and being set to 0.0 in labels with no predicted samples.\n",
      "  'precision', 'predicted', average, warn_for)\n",
      "/Users/michal/.pyenv/versions/byke/lib/python2.7/site-packages/sklearn/metrics/classification.py:1304: DeprecationWarning: The default `weighted` averaging is deprecated, and from version 0.18, use of precision, recall or F-score with multiclass or multilabel data or pos_label=None will result in an exception. Please set an explicit value for `average`, one of (None, 'micro', 'macro', 'weighted', 'samples'). In cross validation use, for instance, scoring=\"f1_weighted\" instead of scoring=\"f1\".\n",
      "  sample_weight=sample_weight)\n",
      "/Users/michal/.pyenv/versions/byke/lib/python2.7/site-packages/sklearn/metrics/classification.py:1203: DeprecationWarning: The default `weighted` averaging is deprecated, and from version 0.18, use of precision, recall or F-score with multiclass or multilabel data or pos_label=None will result in an exception. Please set an explicit value for `average`, one of (None, 'micro', 'macro', 'weighted', 'samples'). In cross validation use, for instance, scoring=\"f1_weighted\" instead of scoring=\"f1\".\n",
      "  sample_weight=sample_weight)\n",
      "/Users/michal/.pyenv/versions/byke/lib/python2.7/site-packages/sklearn/metrics/classification.py:1074: UndefinedMetricWarning: Precision is ill-defined and being set to 0.0 in labels with no predicted samples.\n",
      "  'precision', 'predicted', average, warn_for)\n",
      "/Users/michal/.pyenv/versions/byke/lib/python2.7/site-packages/sklearn/metrics/classification.py:756: DeprecationWarning: The default `weighted` averaging is deprecated, and from version 0.18, use of precision, recall or F-score with multiclass or multilabel data or pos_label=None will result in an exception. Please set an explicit value for `average`, one of (None, 'micro', 'macro', 'weighted', 'samples'). In cross validation use, for instance, scoring=\"f1_weighted\" instead of scoring=\"f1\".\n",
      "  sample_weight=sample_weight)\n",
      "/Users/michal/.pyenv/versions/byke/lib/python2.7/site-packages/sklearn/metrics/classification.py:1304: DeprecationWarning: The default `weighted` averaging is deprecated, and from version 0.18, use of precision, recall or F-score with multiclass or multilabel data or pos_label=None will result in an exception. Please set an explicit value for `average`, one of (None, 'micro', 'macro', 'weighted', 'samples'). In cross validation use, for instance, scoring=\"f1_weighted\" instead of scoring=\"f1\".\n",
      "  sample_weight=sample_weight)\n",
      "/Users/michal/.pyenv/versions/byke/lib/python2.7/site-packages/sklearn/metrics/classification.py:1203: DeprecationWarning: The default `weighted` averaging is deprecated, and from version 0.18, use of precision, recall or F-score with multiclass or multilabel data or pos_label=None will result in an exception. Please set an explicit value for `average`, one of (None, 'micro', 'macro', 'weighted', 'samples'). In cross validation use, for instance, scoring=\"f1_weighted\" instead of scoring=\"f1\".\n",
      "  sample_weight=sample_weight)\n"
     ]
    },
    {
     "name": "stdout",
     "output_type": "stream",
     "text": [
      "couldnt run metrik  <function roc_curve at 0x10730eaa0>  =>  Data is not binary and pos_label is not specified\n",
      "couldnt run metrik  <function roc_curve at 0x10730eaa0>  =>  Data is not binary and pos_label is not specified\n",
      "> /Users/michal/repo/citibike/citibike_datas.py(105)build_classifier_to_predict_destination_station()\n",
      "-> best_params = grid_search_params(datas)\n",
      "(Pdb) c\n"
     ]
    },
    {
     "name": "stderr",
     "output_type": "stream",
     "text": [
      "/Users/michal/.pyenv/versions/byke/lib/python2.7/site-packages/sklearn/cross_validation.py:516: Warning: The least populated class in y has only 1 members, which is too few. The minimum number of labels for any class cannot be less than n_folds=3.\n",
      "  % (min_labels, self.n_folds)), Warning)\n",
      "/Users/michal/.pyenv/versions/byke/lib/python2.7/site-packages/sklearn/metrics/classification.py:756: DeprecationWarning: The default `weighted` averaging is deprecated, and from version 0.18, use of precision, recall or F-score with multiclass or multilabel data or pos_label=None will result in an exception. Please set an explicit value for `average`, one of (None, 'micro', 'macro', 'weighted', 'samples'). In cross validation use, for instance, scoring=\"f1_weighted\" instead of scoring=\"f1\".\n",
      "  sample_weight=sample_weight)\n",
      "/Users/michal/.pyenv/versions/byke/lib/python2.7/site-packages/sklearn/metrics/classification.py:1304: DeprecationWarning: The default `weighted` averaging is deprecated, and from version 0.18, use of precision, recall or F-score with multiclass or multilabel data or pos_label=None will result in an exception. Please set an explicit value for `average`, one of (None, 'micro', 'macro', 'weighted', 'samples'). In cross validation use, for instance, scoring=\"f1_weighted\" instead of scoring=\"f1\".\n",
      "  sample_weight=sample_weight)\n",
      "/Users/michal/.pyenv/versions/byke/lib/python2.7/site-packages/sklearn/metrics/classification.py:1203: DeprecationWarning: The default `weighted` averaging is deprecated, and from version 0.18, use of precision, recall or F-score with multiclass or multilabel data or pos_label=None will result in an exception. Please set an explicit value for `average`, one of (None, 'micro', 'macro', 'weighted', 'samples'). In cross validation use, for instance, scoring=\"f1_weighted\" instead of scoring=\"f1\".\n",
      "  sample_weight=sample_weight)\n",
      "/Users/michal/.pyenv/versions/byke/lib/python2.7/site-packages/sklearn/metrics/classification.py:756: DeprecationWarning: The default `weighted` averaging is deprecated, and from version 0.18, use of precision, recall or F-score with multiclass or multilabel data or pos_label=None will result in an exception. Please set an explicit value for `average`, one of (None, 'micro', 'macro', 'weighted', 'samples'). In cross validation use, for instance, scoring=\"f1_weighted\" instead of scoring=\"f1\".\n",
      "  sample_weight=sample_weight)\n",
      "/Users/michal/.pyenv/versions/byke/lib/python2.7/site-packages/sklearn/metrics/classification.py:1076: UndefinedMetricWarning: F-score is ill-defined and being set to 0.0 in labels with no true samples.\n",
      "  'recall', 'true', average, warn_for)\n",
      "/Users/michal/.pyenv/versions/byke/lib/python2.7/site-packages/sklearn/metrics/classification.py:1304: DeprecationWarning: The default `weighted` averaging is deprecated, and from version 0.18, use of precision, recall or F-score with multiclass or multilabel data or pos_label=None will result in an exception. Please set an explicit value for `average`, one of (None, 'micro', 'macro', 'weighted', 'samples'). In cross validation use, for instance, scoring=\"f1_weighted\" instead of scoring=\"f1\".\n",
      "  sample_weight=sample_weight)\n",
      "/Users/michal/.pyenv/versions/byke/lib/python2.7/site-packages/sklearn/metrics/classification.py:1076: UndefinedMetricWarning: Recall is ill-defined and being set to 0.0 in labels with no true samples.\n",
      "  'recall', 'true', average, warn_for)\n",
      "/Users/michal/.pyenv/versions/byke/lib/python2.7/site-packages/sklearn/metrics/classification.py:1203: DeprecationWarning: The default `weighted` averaging is deprecated, and from version 0.18, use of precision, recall or F-score with multiclass or multilabel data or pos_label=None will result in an exception. Please set an explicit value for `average`, one of (None, 'micro', 'macro', 'weighted', 'samples'). In cross validation use, for instance, scoring=\"f1_weighted\" instead of scoring=\"f1\".\n",
      "  sample_weight=sample_weight)\n"
     ]
    },
    {
     "name": "stdout",
     "output_type": "stream",
     "text": [
      "couldnt run metrik  <function roc_curve at 0x10730eaa0>  =>  Data is not binary and pos_label is not specified\n",
      "couldnt run metrik  <function roc_curve at 0x10730eaa0>  =>  Data is not binary and pos_label is not specified\n",
      "> /Users/michal/repo/citibike/citibike_datas.py(105)build_classifier_to_predict_destination_station()\n",
      "-> best_params = grid_search_params(datas)\n",
      "(Pdb) n\n",
      "> /Users/michal/repo/citibike/citibike_datas.py(108)build_classifier_to_predict_destination_station()\n",
      "-> classifier = build_classifier(definition)\n",
      "(Pdb) pp best_params\n",
      "{'alpha': 0.10000000000000001}\n",
      "(Pdb) pp definition\n",
      "{'classification': 'sgd',\n",
      " 'feature_encoding': {'end_neighborhood': 1,\n",
      "                      'end_state': 1,\n",
      "                      'end_station_name': 1,\n",
      "                      'end_sublocality': 1,\n",
      "                      'start_neighborhood': 1,\n",
      "                      'start_state': 1,\n",
      "                      'start_station_name': 1,\n",
      "                      'start_sublocality': 1},\n",
      " 'feature_standard_scaling': 0,\n",
      " 'features': ['start station id',\n",
      "              'starttime_bucket',\n",
      "              'age',\n",
      "              'gender',\n",
      "              'start_postal_code',\n",
      "              'start_state',\n",
      "              'start_sublocality',\n",
      "              'start_neighborhood',\n",
      "              'start_station_name'],\n",
      " 'label_col': 'end_postal_code'}\n",
      "(Pdb) c\n"
     ]
    },
    {
     "name": "stderr",
     "output_type": "stream",
     "text": [
      "/Users/michal/.pyenv/versions/byke/lib/python2.7/site-packages/sklearn/metrics/classification.py:756: DeprecationWarning: The default `weighted` averaging is deprecated, and from version 0.18, use of precision, recall or F-score with multiclass or multilabel data or pos_label=None will result in an exception. Please set an explicit value for `average`, one of (None, 'micro', 'macro', 'weighted', 'samples'). In cross validation use, for instance, scoring=\"f1_weighted\" instead of scoring=\"f1\".\n",
      "  sample_weight=sample_weight)\n",
      "/Users/michal/.pyenv/versions/byke/lib/python2.7/site-packages/sklearn/metrics/classification.py:1304: DeprecationWarning: The default `weighted` averaging is deprecated, and from version 0.18, use of precision, recall or F-score with multiclass or multilabel data or pos_label=None will result in an exception. Please set an explicit value for `average`, one of (None, 'micro', 'macro', 'weighted', 'samples'). In cross validation use, for instance, scoring=\"f1_weighted\" instead of scoring=\"f1\".\n",
      "  sample_weight=sample_weight)\n",
      "/Users/michal/.pyenv/versions/byke/lib/python2.7/site-packages/sklearn/metrics/classification.py:1203: DeprecationWarning: The default `weighted` averaging is deprecated, and from version 0.18, use of precision, recall or F-score with multiclass or multilabel data or pos_label=None will result in an exception. Please set an explicit value for `average`, one of (None, 'micro', 'macro', 'weighted', 'samples'). In cross validation use, for instance, scoring=\"f1_weighted\" instead of scoring=\"f1\".\n",
      "  sample_weight=sample_weight)\n",
      "/Users/michal/.pyenv/versions/byke/lib/python2.7/site-packages/sklearn/metrics/classification.py:756: DeprecationWarning: The default `weighted` averaging is deprecated, and from version 0.18, use of precision, recall or F-score with multiclass or multilabel data or pos_label=None will result in an exception. Please set an explicit value for `average`, one of (None, 'micro', 'macro', 'weighted', 'samples'). In cross validation use, for instance, scoring=\"f1_weighted\" instead of scoring=\"f1\".\n",
      "  sample_weight=sample_weight)\n",
      "/Users/michal/.pyenv/versions/byke/lib/python2.7/site-packages/sklearn/metrics/classification.py:1304: DeprecationWarning: The default `weighted` averaging is deprecated, and from version 0.18, use of precision, recall or F-score with multiclass or multilabel data or pos_label=None will result in an exception. Please set an explicit value for `average`, one of (None, 'micro', 'macro', 'weighted', 'samples'). In cross validation use, for instance, scoring=\"f1_weighted\" instead of scoring=\"f1\".\n",
      "  sample_weight=sample_weight)\n",
      "/Users/michal/.pyenv/versions/byke/lib/python2.7/site-packages/sklearn/metrics/classification.py:1203: DeprecationWarning: The default `weighted` averaging is deprecated, and from version 0.18, use of precision, recall or F-score with multiclass or multilabel data or pos_label=None will result in an exception. Please set an explicit value for `average`, one of (None, 'micro', 'macro', 'weighted', 'samples'). In cross validation use, for instance, scoring=\"f1_weighted\" instead of scoring=\"f1\".\n",
      "  sample_weight=sample_weight)\n"
     ]
    },
    {
     "name": "stdout",
     "output_type": "stream",
     "text": [
      "couldnt run metrik  <function roc_curve at 0x10730eaa0>  =>  Data is not binary and pos_label is not specified\n",
      "couldnt run metrik  <function roc_curve at 0x10730eaa0>  =>  Data is not binary and pos_label is not specified\n",
      "> /Users/michal/repo/citibike/citibike_datas.py(105)build_classifier_to_predict_destination_station()\n",
      "-> best_params = grid_search_params(datas)\n",
      "(Pdb) pp definition\n",
      "{'classification': 'lr',\n",
      " 'feature_encoding': {'end_neighborhood': 1,\n",
      "                      'end_state': 1,\n",
      "                      'end_station_name': 1,\n",
      "                      'end_sublocality': 1,\n",
      "                      'start_neighborhood': 1,\n",
      "                      'start_state': 1,\n",
      "                      'start_station_name': 1,\n",
      "                      'start_sublocality': 1},\n",
      " 'feature_standard_scaling': 0,\n",
      " 'features': ['start station id',\n",
      "              'starttime_bucket',\n",
      "              'age',\n",
      "              'gender',\n",
      "              'start_postal_code',\n",
      "              'start_state',\n",
      "              'start_sublocality',\n",
      "              'start_neighborhood',\n",
      "              'start_station_name'],\n",
      " 'label_col': 'end_neighborhood'}\n",
      "(Pdb) n\n",
      "> /Users/michal/repo/citibike/citibike_datas.py(108)build_classifier_to_predict_destination_station()\n",
      "-> classifier = build_classifier(definition)\n",
      "(Pdb) pp best_params\n",
      "{'alpha': 0.01}\n",
      "(Pdb) c\n"
     ]
    },
    {
     "name": "stderr",
     "output_type": "stream",
     "text": [
      "/Users/michal/.pyenv/versions/byke/lib/python2.7/site-packages/sklearn/metrics/classification.py:756: DeprecationWarning: The default `weighted` averaging is deprecated, and from version 0.18, use of precision, recall or F-score with multiclass or multilabel data or pos_label=None will result in an exception. Please set an explicit value for `average`, one of (None, 'micro', 'macro', 'weighted', 'samples'). In cross validation use, for instance, scoring=\"f1_weighted\" instead of scoring=\"f1\".\n",
      "  sample_weight=sample_weight)\n",
      "/Users/michal/.pyenv/versions/byke/lib/python2.7/site-packages/sklearn/metrics/classification.py:1304: DeprecationWarning: The default `weighted` averaging is deprecated, and from version 0.18, use of precision, recall or F-score with multiclass or multilabel data or pos_label=None will result in an exception. Please set an explicit value for `average`, one of (None, 'micro', 'macro', 'weighted', 'samples'). In cross validation use, for instance, scoring=\"f1_weighted\" instead of scoring=\"f1\".\n",
      "  sample_weight=sample_weight)\n",
      "/Users/michal/.pyenv/versions/byke/lib/python2.7/site-packages/sklearn/metrics/classification.py:1203: DeprecationWarning: The default `weighted` averaging is deprecated, and from version 0.18, use of precision, recall or F-score with multiclass or multilabel data or pos_label=None will result in an exception. Please set an explicit value for `average`, one of (None, 'micro', 'macro', 'weighted', 'samples'). In cross validation use, for instance, scoring=\"f1_weighted\" instead of scoring=\"f1\".\n",
      "  sample_weight=sample_weight)\n",
      "/Users/michal/.pyenv/versions/byke/lib/python2.7/site-packages/sklearn/metrics/classification.py:756: DeprecationWarning: The default `weighted` averaging is deprecated, and from version 0.18, use of precision, recall or F-score with multiclass or multilabel data or pos_label=None will result in an exception. Please set an explicit value for `average`, one of (None, 'micro', 'macro', 'weighted', 'samples'). In cross validation use, for instance, scoring=\"f1_weighted\" instead of scoring=\"f1\".\n",
      "  sample_weight=sample_weight)\n",
      "/Users/michal/.pyenv/versions/byke/lib/python2.7/site-packages/sklearn/metrics/classification.py:1304: DeprecationWarning: The default `weighted` averaging is deprecated, and from version 0.18, use of precision, recall or F-score with multiclass or multilabel data or pos_label=None will result in an exception. Please set an explicit value for `average`, one of (None, 'micro', 'macro', 'weighted', 'samples'). In cross validation use, for instance, scoring=\"f1_weighted\" instead of scoring=\"f1\".\n",
      "  sample_weight=sample_weight)\n",
      "/Users/michal/.pyenv/versions/byke/lib/python2.7/site-packages/sklearn/metrics/classification.py:1203: DeprecationWarning: The default `weighted` averaging is deprecated, and from version 0.18, use of precision, recall or F-score with multiclass or multilabel data or pos_label=None will result in an exception. Please set an explicit value for `average`, one of (None, 'micro', 'macro', 'weighted', 'samples'). In cross validation use, for instance, scoring=\"f1_weighted\" instead of scoring=\"f1\".\n",
      "  sample_weight=sample_weight)\n"
     ]
    },
    {
     "name": "stdout",
     "output_type": "stream",
     "text": [
      "couldnt run metrik  <function roc_curve at 0x10730eaa0>  =>  Data is not binary and pos_label is not specified\n",
      "couldnt run metrik  <function roc_curve at 0x10730eaa0>  =>  Data is not binary and pos_label is not specified\n",
      "> /Users/michal/repo/citibike/citibike_datas.py(105)build_classifier_to_predict_destination_station()\n",
      "-> best_params = grid_search_params(datas)\n",
      "(Pdb) n\n",
      "> /Users/michal/repo/citibike/citibike_datas.py(108)build_classifier_to_predict_destination_station()\n",
      "-> classifier = build_classifier(definition)\n",
      "(Pdb) pp best_params\n",
      "{'alpha': 0.10000000000000001}\n",
      "(Pdb) pp definition\n",
      "{'classification': 'sgd',\n",
      " 'feature_encoding': {'end_neighborhood': 1,\n",
      "                      'end_state': 1,\n",
      "                      'end_station_name': 1,\n",
      "                      'end_sublocality': 1,\n",
      "                      'start_neighborhood': 1,\n",
      "                      'start_state': 1,\n",
      "                      'start_station_name': 1,\n",
      "                      'start_sublocality': 1},\n",
      " 'feature_standard_scaling': 0,\n",
      " 'features': ['start station id',\n",
      "              'starttime_bucket',\n",
      "              'age',\n",
      "              'gender',\n",
      "              'start_postal_code',\n",
      "              'start_state',\n",
      "              'start_sublocality',\n",
      "              'start_neighborhood',\n",
      "              'start_station_name'],\n",
      " 'label_col': 'end_neighborhood'}\n",
      "(Pdb) c\n"
     ]
    },
    {
     "name": "stderr",
     "output_type": "stream",
     "text": [
      "/Users/michal/.pyenv/versions/byke/lib/python2.7/site-packages/sklearn/metrics/classification.py:756: DeprecationWarning: The default `weighted` averaging is deprecated, and from version 0.18, use of precision, recall or F-score with multiclass or multilabel data or pos_label=None will result in an exception. Please set an explicit value for `average`, one of (None, 'micro', 'macro', 'weighted', 'samples'). In cross validation use, for instance, scoring=\"f1_weighted\" instead of scoring=\"f1\".\n",
      "  sample_weight=sample_weight)\n",
      "/Users/michal/.pyenv/versions/byke/lib/python2.7/site-packages/sklearn/metrics/classification.py:1304: DeprecationWarning: The default `weighted` averaging is deprecated, and from version 0.18, use of precision, recall or F-score with multiclass or multilabel data or pos_label=None will result in an exception. Please set an explicit value for `average`, one of (None, 'micro', 'macro', 'weighted', 'samples'). In cross validation use, for instance, scoring=\"f1_weighted\" instead of scoring=\"f1\".\n",
      "  sample_weight=sample_weight)\n",
      "/Users/michal/.pyenv/versions/byke/lib/python2.7/site-packages/sklearn/metrics/classification.py:1203: DeprecationWarning: The default `weighted` averaging is deprecated, and from version 0.18, use of precision, recall or F-score with multiclass or multilabel data or pos_label=None will result in an exception. Please set an explicit value for `average`, one of (None, 'micro', 'macro', 'weighted', 'samples'). In cross validation use, for instance, scoring=\"f1_weighted\" instead of scoring=\"f1\".\n",
      "  sample_weight=sample_weight)\n",
      "/Users/michal/.pyenv/versions/byke/lib/python2.7/site-packages/sklearn/metrics/classification.py:756: DeprecationWarning: The default `weighted` averaging is deprecated, and from version 0.18, use of precision, recall or F-score with multiclass or multilabel data or pos_label=None will result in an exception. Please set an explicit value for `average`, one of (None, 'micro', 'macro', 'weighted', 'samples'). In cross validation use, for instance, scoring=\"f1_weighted\" instead of scoring=\"f1\".\n",
      "  sample_weight=sample_weight)\n",
      "/Users/michal/.pyenv/versions/byke/lib/python2.7/site-packages/sklearn/metrics/classification.py:1304: DeprecationWarning: The default `weighted` averaging is deprecated, and from version 0.18, use of precision, recall or F-score with multiclass or multilabel data or pos_label=None will result in an exception. Please set an explicit value for `average`, one of (None, 'micro', 'macro', 'weighted', 'samples'). In cross validation use, for instance, scoring=\"f1_weighted\" instead of scoring=\"f1\".\n",
      "  sample_weight=sample_weight)\n",
      "/Users/michal/.pyenv/versions/byke/lib/python2.7/site-packages/sklearn/metrics/classification.py:1203: DeprecationWarning: The default `weighted` averaging is deprecated, and from version 0.18, use of precision, recall or F-score with multiclass or multilabel data or pos_label=None will result in an exception. Please set an explicit value for `average`, one of (None, 'micro', 'macro', 'weighted', 'samples'). In cross validation use, for instance, scoring=\"f1_weighted\" instead of scoring=\"f1\".\n",
      "  sample_weight=sample_weight)\n"
     ]
    },
    {
     "name": "stdout",
     "output_type": "stream",
     "text": [
      "couldnt run metrik  <function roc_curve at 0x10730eaa0>  =>  Data is not binary and pos_label is not specified\n",
      "couldnt run metrik  <function roc_curve at 0x10730eaa0>  =>  Data is not binary and pos_label is not specified\n",
      "> /Users/michal/repo/citibike/citibike_datas.py(105)build_classifier_to_predict_destination_station()\n",
      "-> best_params = grid_search_params(datas)\n",
      "(Pdb) n\n",
      "> /Users/michal/repo/citibike/citibike_datas.py(108)build_classifier_to_predict_destination_station()\n",
      "-> classifier = build_classifier(definition)\n",
      "(Pdb) best_params\n",
      "{'alpha': 0.0001}\n",
      "(Pdb) pp definition\n",
      "{'classification': 'lr',\n",
      " 'feature_encoding': {'end_neighborhood': 1,\n",
      "                      'end_state': 1,\n",
      "                      'end_station_name': 1,\n",
      "                      'end_sublocality': 1,\n",
      "                      'start_neighborhood': 1,\n",
      "                      'start_state': 1,\n",
      "                      'start_station_name': 1,\n",
      "                      'start_sublocality': 1},\n",
      " 'feature_standard_scaling': 1,\n",
      " 'features': ['start station id',\n",
      "              'starttime_bucket',\n",
      "              'age',\n",
      "              'gender',\n",
      "              'start_postal_code',\n",
      "              'start_state',\n",
      "              'start_sublocality',\n",
      "              'start_neighborhood',\n",
      "              'start_station_name'],\n",
      " 'label_col': 'end_sublocality'}\n",
      "(Pdb) pp best_params\n",
      "{'alpha': 0.0001}\n",
      "(Pdb) c\n"
     ]
    },
    {
     "name": "stderr",
     "output_type": "stream",
     "text": [
      "/Users/michal/.pyenv/versions/byke/lib/python2.7/site-packages/sklearn/metrics/classification.py:756: DeprecationWarning: The default `weighted` averaging is deprecated, and from version 0.18, use of precision, recall or F-score with multiclass or multilabel data or pos_label=None will result in an exception. Please set an explicit value for `average`, one of (None, 'micro', 'macro', 'weighted', 'samples'). In cross validation use, for instance, scoring=\"f1_weighted\" instead of scoring=\"f1\".\n",
      "  sample_weight=sample_weight)\n",
      "/Users/michal/.pyenv/versions/byke/lib/python2.7/site-packages/sklearn/metrics/classification.py:1304: DeprecationWarning: The default `weighted` averaging is deprecated, and from version 0.18, use of precision, recall or F-score with multiclass or multilabel data or pos_label=None will result in an exception. Please set an explicit value for `average`, one of (None, 'micro', 'macro', 'weighted', 'samples'). In cross validation use, for instance, scoring=\"f1_weighted\" instead of scoring=\"f1\".\n",
      "  sample_weight=sample_weight)\n",
      "/Users/michal/.pyenv/versions/byke/lib/python2.7/site-packages/sklearn/metrics/classification.py:1203: DeprecationWarning: The default `weighted` averaging is deprecated, and from version 0.18, use of precision, recall or F-score with multiclass or multilabel data or pos_label=None will result in an exception. Please set an explicit value for `average`, one of (None, 'micro', 'macro', 'weighted', 'samples'). In cross validation use, for instance, scoring=\"f1_weighted\" instead of scoring=\"f1\".\n",
      "  sample_weight=sample_weight)\n",
      "/Users/michal/.pyenv/versions/byke/lib/python2.7/site-packages/sklearn/metrics/classification.py:756: DeprecationWarning: The default `weighted` averaging is deprecated, and from version 0.18, use of precision, recall or F-score with multiclass or multilabel data or pos_label=None will result in an exception. Please set an explicit value for `average`, one of (None, 'micro', 'macro', 'weighted', 'samples'). In cross validation use, for instance, scoring=\"f1_weighted\" instead of scoring=\"f1\".\n",
      "  sample_weight=sample_weight)\n",
      "/Users/michal/.pyenv/versions/byke/lib/python2.7/site-packages/sklearn/metrics/classification.py:1304: DeprecationWarning: The default `weighted` averaging is deprecated, and from version 0.18, use of precision, recall or F-score with multiclass or multilabel data or pos_label=None will result in an exception. Please set an explicit value for `average`, one of (None, 'micro', 'macro', 'weighted', 'samples'). In cross validation use, for instance, scoring=\"f1_weighted\" instead of scoring=\"f1\".\n",
      "  sample_weight=sample_weight)\n",
      "/Users/michal/.pyenv/versions/byke/lib/python2.7/site-packages/sklearn/metrics/classification.py:1203: DeprecationWarning: The default `weighted` averaging is deprecated, and from version 0.18, use of precision, recall or F-score with multiclass or multilabel data or pos_label=None will result in an exception. Please set an explicit value for `average`, one of (None, 'micro', 'macro', 'weighted', 'samples'). In cross validation use, for instance, scoring=\"f1_weighted\" instead of scoring=\"f1\".\n",
      "  sample_weight=sample_weight)\n"
     ]
    },
    {
     "name": "stdout",
     "output_type": "stream",
     "text": [
      "couldnt run metrik  <function roc_curve at 0x10730eaa0>  =>  Data is not binary and pos_label is not specified\n",
      "couldnt run metrik  <function roc_curve at 0x10730eaa0>  =>  Data is not binary and pos_label is not specified\n",
      "> /Users/michal/repo/citibike/citibike_datas.py(105)build_classifier_to_predict_destination_station()\n",
      "-> best_params = grid_search_params(datas)\n",
      "(Pdb) \n",
      "(Pdb) n\n",
      "> /Users/michal/repo/citibike/citibike_datas.py(108)build_classifier_to_predict_destination_station()\n",
      "-> classifier = build_classifier(definition)\n",
      "(Pdb) pp best_params\n",
      "{'alpha': 0.0001}\n",
      "(Pdb) pp definition\n",
      "{'classification': 'sgd',\n",
      " 'feature_encoding': {'end_neighborhood': 1,\n",
      "                      'end_state': 1,\n",
      "                      'end_station_name': 1,\n",
      "                      'end_sublocality': 1,\n",
      "                      'start_neighborhood': 1,\n",
      "                      'start_state': 1,\n",
      "                      'start_station_name': 1,\n",
      "                      'start_sublocality': 1},\n",
      " 'feature_standard_scaling': 1,\n",
      " 'features': ['start station id',\n",
      "              'starttime_bucket',\n",
      "              'age',\n",
      "              'gender',\n",
      "              'start_postal_code',\n",
      "              'start_state',\n",
      "              'start_sublocality',\n",
      "              'start_neighborhood',\n",
      "              'start_station_name'],\n",
      " 'label_col': 'end_sublocality'}\n",
      "(Pdb) c\n"
     ]
    },
    {
     "name": "stderr",
     "output_type": "stream",
     "text": [
      "/Users/michal/.pyenv/versions/byke/lib/python2.7/site-packages/sklearn/metrics/classification.py:756: DeprecationWarning: The default `weighted` averaging is deprecated, and from version 0.18, use of precision, recall or F-score with multiclass or multilabel data or pos_label=None will result in an exception. Please set an explicit value for `average`, one of (None, 'micro', 'macro', 'weighted', 'samples'). In cross validation use, for instance, scoring=\"f1_weighted\" instead of scoring=\"f1\".\n",
      "  sample_weight=sample_weight)\n",
      "/Users/michal/.pyenv/versions/byke/lib/python2.7/site-packages/sklearn/metrics/classification.py:1304: DeprecationWarning: The default `weighted` averaging is deprecated, and from version 0.18, use of precision, recall or F-score with multiclass or multilabel data or pos_label=None will result in an exception. Please set an explicit value for `average`, one of (None, 'micro', 'macro', 'weighted', 'samples'). In cross validation use, for instance, scoring=\"f1_weighted\" instead of scoring=\"f1\".\n",
      "  sample_weight=sample_weight)\n",
      "/Users/michal/.pyenv/versions/byke/lib/python2.7/site-packages/sklearn/metrics/classification.py:1203: DeprecationWarning: The default `weighted` averaging is deprecated, and from version 0.18, use of precision, recall or F-score with multiclass or multilabel data or pos_label=None will result in an exception. Please set an explicit value for `average`, one of (None, 'micro', 'macro', 'weighted', 'samples'). In cross validation use, for instance, scoring=\"f1_weighted\" instead of scoring=\"f1\".\n",
      "  sample_weight=sample_weight)\n",
      "/Users/michal/.pyenv/versions/byke/lib/python2.7/site-packages/sklearn/metrics/classification.py:756: DeprecationWarning: The default `weighted` averaging is deprecated, and from version 0.18, use of precision, recall or F-score with multiclass or multilabel data or pos_label=None will result in an exception. Please set an explicit value for `average`, one of (None, 'micro', 'macro', 'weighted', 'samples'). In cross validation use, for instance, scoring=\"f1_weighted\" instead of scoring=\"f1\".\n",
      "  sample_weight=sample_weight)\n",
      "/Users/michal/.pyenv/versions/byke/lib/python2.7/site-packages/sklearn/metrics/classification.py:1304: DeprecationWarning: The default `weighted` averaging is deprecated, and from version 0.18, use of precision, recall or F-score with multiclass or multilabel data or pos_label=None will result in an exception. Please set an explicit value for `average`, one of (None, 'micro', 'macro', 'weighted', 'samples'). In cross validation use, for instance, scoring=\"f1_weighted\" instead of scoring=\"f1\".\n",
      "  sample_weight=sample_weight)\n",
      "/Users/michal/.pyenv/versions/byke/lib/python2.7/site-packages/sklearn/metrics/classification.py:1203: DeprecationWarning: The default `weighted` averaging is deprecated, and from version 0.18, use of precision, recall or F-score with multiclass or multilabel data or pos_label=None will result in an exception. Please set an explicit value for `average`, one of (None, 'micro', 'macro', 'weighted', 'samples'). In cross validation use, for instance, scoring=\"f1_weighted\" instead of scoring=\"f1\".\n",
      "  sample_weight=sample_weight)\n"
     ]
    },
    {
     "name": "stdout",
     "output_type": "stream",
     "text": [
      "couldnt run metrik  <function roc_curve at 0x10730eaa0>  =>  Data is not binary and pos_label is not specified\n",
      "couldnt run metrik  <function roc_curve at 0x10730eaa0>  =>  Data is not binary and pos_label is not specified\n",
      "> /Users/michal/repo/citibike/citibike_datas.py(105)build_classifier_to_predict_destination_station()\n",
      "-> best_params = grid_search_params(datas)\n",
      "(Pdb) c\n"
     ]
    },
    {
     "name": "stderr",
     "output_type": "stream",
     "text": [
      "/Users/michal/.pyenv/versions/byke/lib/python2.7/site-packages/sklearn/metrics/classification.py:756: DeprecationWarning: The default `weighted` averaging is deprecated, and from version 0.18, use of precision, recall or F-score with multiclass or multilabel data or pos_label=None will result in an exception. Please set an explicit value for `average`, one of (None, 'micro', 'macro', 'weighted', 'samples'). In cross validation use, for instance, scoring=\"f1_weighted\" instead of scoring=\"f1\".\n",
      "  sample_weight=sample_weight)\n",
      "/Users/michal/.pyenv/versions/byke/lib/python2.7/site-packages/sklearn/metrics/classification.py:1304: DeprecationWarning: The default `weighted` averaging is deprecated, and from version 0.18, use of precision, recall or F-score with multiclass or multilabel data or pos_label=None will result in an exception. Please set an explicit value for `average`, one of (None, 'micro', 'macro', 'weighted', 'samples'). In cross validation use, for instance, scoring=\"f1_weighted\" instead of scoring=\"f1\".\n",
      "  sample_weight=sample_weight)\n",
      "/Users/michal/.pyenv/versions/byke/lib/python2.7/site-packages/sklearn/metrics/classification.py:1203: DeprecationWarning: The default `weighted` averaging is deprecated, and from version 0.18, use of precision, recall or F-score with multiclass or multilabel data or pos_label=None will result in an exception. Please set an explicit value for `average`, one of (None, 'micro', 'macro', 'weighted', 'samples'). In cross validation use, for instance, scoring=\"f1_weighted\" instead of scoring=\"f1\".\n",
      "  sample_weight=sample_weight)\n",
      "/Users/michal/.pyenv/versions/byke/lib/python2.7/site-packages/sklearn/metrics/classification.py:756: DeprecationWarning: The default `weighted` averaging is deprecated, and from version 0.18, use of precision, recall or F-score with multiclass or multilabel data or pos_label=None will result in an exception. Please set an explicit value for `average`, one of (None, 'micro', 'macro', 'weighted', 'samples'). In cross validation use, for instance, scoring=\"f1_weighted\" instead of scoring=\"f1\".\n",
      "  sample_weight=sample_weight)\n",
      "/Users/michal/.pyenv/versions/byke/lib/python2.7/site-packages/sklearn/metrics/classification.py:1304: DeprecationWarning: The default `weighted` averaging is deprecated, and from version 0.18, use of precision, recall or F-score with multiclass or multilabel data or pos_label=None will result in an exception. Please set an explicit value for `average`, one of (None, 'micro', 'macro', 'weighted', 'samples'). In cross validation use, for instance, scoring=\"f1_weighted\" instead of scoring=\"f1\".\n",
      "  sample_weight=sample_weight)\n",
      "/Users/michal/.pyenv/versions/byke/lib/python2.7/site-packages/sklearn/metrics/classification.py:1203: DeprecationWarning: The default `weighted` averaging is deprecated, and from version 0.18, use of precision, recall or F-score with multiclass or multilabel data or pos_label=None will result in an exception. Please set an explicit value for `average`, one of (None, 'micro', 'macro', 'weighted', 'samples'). In cross validation use, for instance, scoring=\"f1_weighted\" instead of scoring=\"f1\".\n",
      "  sample_weight=sample_weight)\n"
     ]
    },
    {
     "name": "stdout",
     "output_type": "stream",
     "text": [
      "couldnt run metrik  <function roc_curve at 0x10730eaa0>  =>  Data is not binary and pos_label is not specified\n",
      "couldnt run metrik  <function roc_curve at 0x10730eaa0>  =>  Data is not binary and pos_label is not specified\n",
      "> /Users/michal/repo/citibike/citibike_datas.py(105)build_classifier_to_predict_destination_station()\n",
      "-> best_params = grid_search_params(datas)\n",
      "(Pdb) n\n",
      "> /Users/michal/repo/citibike/citibike_datas.py(108)build_classifier_to_predict_destination_station()\n",
      "-> classifier = build_classifier(definition)\n",
      "(Pdb) pp best_params\n",
      "{'alpha': 0.001}\n",
      "(Pdb) pp definition\n",
      "{'classification': 'sgd',\n",
      " 'feature_encoding': {'end_neighborhood': 1,\n",
      "                      'end_state': 1,\n",
      "                      'end_station_name': 1,\n",
      "                      'end_sublocality': 1,\n",
      "                      'start_neighborhood': 1,\n",
      "                      'start_state': 1,\n",
      "                      'start_station_name': 1,\n",
      "                      'start_sublocality': 1},\n",
      " 'feature_standard_scaling': 1,\n",
      " 'features': ['start station id',\n",
      "              'starttime_bucket',\n",
      "              'age',\n",
      "              'gender',\n",
      "              'start_postal_code',\n",
      "              'start_state',\n",
      "              'start_sublocality',\n",
      "              'start_neighborhood',\n",
      "              'start_station_name'],\n",
      " 'label_col': 'end_postal_code'}\n",
      "(Pdb) c\n"
     ]
    },
    {
     "name": "stderr",
     "output_type": "stream",
     "text": [
      "/Users/michal/.pyenv/versions/byke/lib/python2.7/site-packages/sklearn/metrics/classification.py:756: DeprecationWarning: The default `weighted` averaging is deprecated, and from version 0.18, use of precision, recall or F-score with multiclass or multilabel data or pos_label=None will result in an exception. Please set an explicit value for `average`, one of (None, 'micro', 'macro', 'weighted', 'samples'). In cross validation use, for instance, scoring=\"f1_weighted\" instead of scoring=\"f1\".\n",
      "  sample_weight=sample_weight)\n",
      "/Users/michal/.pyenv/versions/byke/lib/python2.7/site-packages/sklearn/metrics/classification.py:1304: DeprecationWarning: The default `weighted` averaging is deprecated, and from version 0.18, use of precision, recall or F-score with multiclass or multilabel data or pos_label=None will result in an exception. Please set an explicit value for `average`, one of (None, 'micro', 'macro', 'weighted', 'samples'). In cross validation use, for instance, scoring=\"f1_weighted\" instead of scoring=\"f1\".\n",
      "  sample_weight=sample_weight)\n",
      "/Users/michal/.pyenv/versions/byke/lib/python2.7/site-packages/sklearn/metrics/classification.py:1203: DeprecationWarning: The default `weighted` averaging is deprecated, and from version 0.18, use of precision, recall or F-score with multiclass or multilabel data or pos_label=None will result in an exception. Please set an explicit value for `average`, one of (None, 'micro', 'macro', 'weighted', 'samples'). In cross validation use, for instance, scoring=\"f1_weighted\" instead of scoring=\"f1\".\n",
      "  sample_weight=sample_weight)\n",
      "/Users/michal/.pyenv/versions/byke/lib/python2.7/site-packages/sklearn/metrics/classification.py:756: DeprecationWarning: The default `weighted` averaging is deprecated, and from version 0.18, use of precision, recall or F-score with multiclass or multilabel data or pos_label=None will result in an exception. Please set an explicit value for `average`, one of (None, 'micro', 'macro', 'weighted', 'samples'). In cross validation use, for instance, scoring=\"f1_weighted\" instead of scoring=\"f1\".\n",
      "  sample_weight=sample_weight)\n",
      "/Users/michal/.pyenv/versions/byke/lib/python2.7/site-packages/sklearn/metrics/classification.py:1304: DeprecationWarning: The default `weighted` averaging is deprecated, and from version 0.18, use of precision, recall or F-score with multiclass or multilabel data or pos_label=None will result in an exception. Please set an explicit value for `average`, one of (None, 'micro', 'macro', 'weighted', 'samples'). In cross validation use, for instance, scoring=\"f1_weighted\" instead of scoring=\"f1\".\n",
      "  sample_weight=sample_weight)\n",
      "/Users/michal/.pyenv/versions/byke/lib/python2.7/site-packages/sklearn/metrics/classification.py:1203: DeprecationWarning: The default `weighted` averaging is deprecated, and from version 0.18, use of precision, recall or F-score with multiclass or multilabel data or pos_label=None will result in an exception. Please set an explicit value for `average`, one of (None, 'micro', 'macro', 'weighted', 'samples'). In cross validation use, for instance, scoring=\"f1_weighted\" instead of scoring=\"f1\".\n",
      "  sample_weight=sample_weight)\n"
     ]
    },
    {
     "name": "stdout",
     "output_type": "stream",
     "text": [
      "couldnt run metrik  <function roc_curve at 0x10730eaa0>  =>  Data is not binary and pos_label is not specified\n",
      "couldnt run metrik  <function roc_curve at 0x10730eaa0>  =>  Data is not binary and pos_label is not specified\n",
      "> /Users/michal/repo/citibike/citibike_datas.py(105)build_classifier_to_predict_destination_station()\n",
      "-> best_params = grid_search_params(datas)\n",
      "(Pdb) n\n",
      "> /Users/michal/repo/citibike/citibike_datas.py(108)build_classifier_to_predict_destination_station()\n",
      "-> classifier = build_classifier(definition)\n",
      "(Pdb) pp best_params\n",
      "{'alpha': 0.001}\n",
      "(Pdb) pp definition\n",
      "{'classification': 'lr',\n",
      " 'feature_encoding': {'end_neighborhood': 1,\n",
      "                      'end_state': 1,\n",
      "                      'end_station_name': 1,\n",
      "                      'end_sublocality': 1,\n",
      "                      'start_neighborhood': 1,\n",
      "                      'start_state': 1,\n",
      "                      'start_station_name': 1,\n",
      "                      'start_sublocality': 1},\n",
      " 'feature_standard_scaling': 1,\n",
      " 'features': ['start station id',\n",
      "              'starttime_bucket',\n",
      "              'age',\n",
      "              'gender',\n",
      "              'start_postal_code',\n",
      "              'start_state',\n",
      "              'start_sublocality',\n",
      "              'start_neighborhood',\n",
      "              'start_station_name'],\n",
      " 'label_col': 'end_neighborhood'}\n",
      "(Pdb) c\n"
     ]
    },
    {
     "name": "stderr",
     "output_type": "stream",
     "text": [
      "/Users/michal/.pyenv/versions/byke/lib/python2.7/site-packages/sklearn/metrics/classification.py:756: DeprecationWarning: The default `weighted` averaging is deprecated, and from version 0.18, use of precision, recall or F-score with multiclass or multilabel data or pos_label=None will result in an exception. Please set an explicit value for `average`, one of (None, 'micro', 'macro', 'weighted', 'samples'). In cross validation use, for instance, scoring=\"f1_weighted\" instead of scoring=\"f1\".\n",
      "  sample_weight=sample_weight)\n",
      "/Users/michal/.pyenv/versions/byke/lib/python2.7/site-packages/sklearn/metrics/classification.py:1304: DeprecationWarning: The default `weighted` averaging is deprecated, and from version 0.18, use of precision, recall or F-score with multiclass or multilabel data or pos_label=None will result in an exception. Please set an explicit value for `average`, one of (None, 'micro', 'macro', 'weighted', 'samples'). In cross validation use, for instance, scoring=\"f1_weighted\" instead of scoring=\"f1\".\n",
      "  sample_weight=sample_weight)\n",
      "/Users/michal/.pyenv/versions/byke/lib/python2.7/site-packages/sklearn/metrics/classification.py:1203: DeprecationWarning: The default `weighted` averaging is deprecated, and from version 0.18, use of precision, recall or F-score with multiclass or multilabel data or pos_label=None will result in an exception. Please set an explicit value for `average`, one of (None, 'micro', 'macro', 'weighted', 'samples'). In cross validation use, for instance, scoring=\"f1_weighted\" instead of scoring=\"f1\".\n",
      "  sample_weight=sample_weight)\n",
      "/Users/michal/.pyenv/versions/byke/lib/python2.7/site-packages/sklearn/metrics/classification.py:756: DeprecationWarning: The default `weighted` averaging is deprecated, and from version 0.18, use of precision, recall or F-score with multiclass or multilabel data or pos_label=None will result in an exception. Please set an explicit value for `average`, one of (None, 'micro', 'macro', 'weighted', 'samples'). In cross validation use, for instance, scoring=\"f1_weighted\" instead of scoring=\"f1\".\n",
      "  sample_weight=sample_weight)\n",
      "/Users/michal/.pyenv/versions/byke/lib/python2.7/site-packages/sklearn/metrics/classification.py:1304: DeprecationWarning: The default `weighted` averaging is deprecated, and from version 0.18, use of precision, recall or F-score with multiclass or multilabel data or pos_label=None will result in an exception. Please set an explicit value for `average`, one of (None, 'micro', 'macro', 'weighted', 'samples'). In cross validation use, for instance, scoring=\"f1_weighted\" instead of scoring=\"f1\".\n",
      "  sample_weight=sample_weight)\n",
      "/Users/michal/.pyenv/versions/byke/lib/python2.7/site-packages/sklearn/metrics/classification.py:1203: DeprecationWarning: The default `weighted` averaging is deprecated, and from version 0.18, use of precision, recall or F-score with multiclass or multilabel data or pos_label=None will result in an exception. Please set an explicit value for `average`, one of (None, 'micro', 'macro', 'weighted', 'samples'). In cross validation use, for instance, scoring=\"f1_weighted\" instead of scoring=\"f1\".\n",
      "  sample_weight=sample_weight)\n"
     ]
    },
    {
     "name": "stdout",
     "output_type": "stream",
     "text": [
      "couldnt run metrik  <function roc_curve at 0x10730eaa0>  =>  Data is not binary and pos_label is not specified\n",
      "couldnt run metrik  <function roc_curve at 0x10730eaa0>  =>  Data is not binary and pos_label is not specified\n",
      "> /Users/michal/repo/citibike/citibike_datas.py(105)build_classifier_to_predict_destination_station()\n",
      "-> best_params = grid_search_params(datas)\n",
      "(Pdb) c\n",
      "couldnt run metrik  <function roc_curve at 0x10730eaa0>  =>  Data is not binary and pos_label is not specified\n",
      "couldnt run metrik  <function roc_curve at 0x10730eaa0>  =>  Data is not binary and pos_label is not specified\n"
     ]
    },
    {
     "name": "stderr",
     "output_type": "stream",
     "text": [
      "/Users/michal/.pyenv/versions/byke/lib/python2.7/site-packages/sklearn/metrics/classification.py:756: DeprecationWarning: The default `weighted` averaging is deprecated, and from version 0.18, use of precision, recall or F-score with multiclass or multilabel data or pos_label=None will result in an exception. Please set an explicit value for `average`, one of (None, 'micro', 'macro', 'weighted', 'samples'). In cross validation use, for instance, scoring=\"f1_weighted\" instead of scoring=\"f1\".\n",
      "  sample_weight=sample_weight)\n",
      "/Users/michal/.pyenv/versions/byke/lib/python2.7/site-packages/sklearn/metrics/classification.py:1304: DeprecationWarning: The default `weighted` averaging is deprecated, and from version 0.18, use of precision, recall or F-score with multiclass or multilabel data or pos_label=None will result in an exception. Please set an explicit value for `average`, one of (None, 'micro', 'macro', 'weighted', 'samples'). In cross validation use, for instance, scoring=\"f1_weighted\" instead of scoring=\"f1\".\n",
      "  sample_weight=sample_weight)\n",
      "/Users/michal/.pyenv/versions/byke/lib/python2.7/site-packages/sklearn/metrics/classification.py:1203: DeprecationWarning: The default `weighted` averaging is deprecated, and from version 0.18, use of precision, recall or F-score with multiclass or multilabel data or pos_label=None will result in an exception. Please set an explicit value for `average`, one of (None, 'micro', 'macro', 'weighted', 'samples'). In cross validation use, for instance, scoring=\"f1_weighted\" instead of scoring=\"f1\".\n",
      "  sample_weight=sample_weight)\n",
      "/Users/michal/.pyenv/versions/byke/lib/python2.7/site-packages/sklearn/metrics/classification.py:756: DeprecationWarning: The default `weighted` averaging is deprecated, and from version 0.18, use of precision, recall or F-score with multiclass or multilabel data or pos_label=None will result in an exception. Please set an explicit value for `average`, one of (None, 'micro', 'macro', 'weighted', 'samples'). In cross validation use, for instance, scoring=\"f1_weighted\" instead of scoring=\"f1\".\n",
      "  sample_weight=sample_weight)\n",
      "/Users/michal/.pyenv/versions/byke/lib/python2.7/site-packages/sklearn/metrics/classification.py:1304: DeprecationWarning: The default `weighted` averaging is deprecated, and from version 0.18, use of precision, recall or F-score with multiclass or multilabel data or pos_label=None will result in an exception. Please set an explicit value for `average`, one of (None, 'micro', 'macro', 'weighted', 'samples'). In cross validation use, for instance, scoring=\"f1_weighted\" instead of scoring=\"f1\".\n",
      "  sample_weight=sample_weight)\n",
      "/Users/michal/.pyenv/versions/byke/lib/python2.7/site-packages/sklearn/metrics/classification.py:1203: DeprecationWarning: The default `weighted` averaging is deprecated, and from version 0.18, use of precision, recall or F-score with multiclass or multilabel data or pos_label=None will result in an exception. Please set an explicit value for `average`, one of (None, 'micro', 'macro', 'weighted', 'samples'). In cross validation use, for instance, scoring=\"f1_weighted\" instead of scoring=\"f1\".\n",
      "  sample_weight=sample_weight)\n"
     ]
    }
   ],
   "source": [
    "results = experiment_with_sgd(next_df)"
   ]
  },
  {
   "cell_type": "code",
   "execution_count": 15,
   "metadata": {
    "collapsed": true
   },
   "outputs": [],
   "source": [
    "def _df_from_results(results_list):\n",
    "    df_results_columns = ['indx','feature_standard_scaling', 'label_col',\n",
    "                          'classification', 'accuracy_score', 'f1_score', 'recall_score', \n",
    "                          'precision_score']\n",
    "\n",
    "    results_df = pd.DataFrame(columns=df_results_columns)\n",
    "    \n",
    "    for i, row in enumerate(results_list):\n",
    "        row_dict = deepcopy(row[0])\n",
    "        row_dict.update(row[1]['test'])\n",
    "        row_dict.update({'indx': i})\n",
    "        results_df.loc[i] = pd.Series(pd.Series(row_dict))\n",
    "    return results_df\n",
    "    \n",
    "    "
   ]
  },
  {
   "cell_type": "code",
   "execution_count": 23,
   "metadata": {
    "collapsed": false
   },
   "outputs": [],
   "source": [
    "results_df = _df_from_results(results)\n"
   ]
  },
  {
   "cell_type": "code",
   "execution_count": 24,
   "metadata": {
    "collapsed": false
   },
   "outputs": [
    {
     "data": {
      "text/html": [
       "<div>\n",
       "<table border=\"1\" class=\"dataframe\">\n",
       "  <thead>\n",
       "    <tr style=\"text-align: right;\">\n",
       "      <th></th>\n",
       "      <th>indx</th>\n",
       "      <th>feature_standard_scaling</th>\n",
       "      <th>label_col</th>\n",
       "      <th>classification</th>\n",
       "      <th>accuracy_score</th>\n",
       "      <th>f1_score</th>\n",
       "      <th>recall_score</th>\n",
       "      <th>precision_score</th>\n",
       "    </tr>\n",
       "  </thead>\n",
       "  <tbody>\n",
       "    <tr>\n",
       "      <th>0</th>\n",
       "      <td>0</td>\n",
       "      <td>0</td>\n",
       "      <td>end_sublocality</td>\n",
       "      <td>lr</td>\n",
       "      <td>0.952612</td>\n",
       "      <td>0.952955</td>\n",
       "      <td>0.952612</td>\n",
       "      <td>0.953891</td>\n",
       "    </tr>\n",
       "    <tr>\n",
       "      <th>1</th>\n",
       "      <td>1</td>\n",
       "      <td>0</td>\n",
       "      <td>end_sublocality</td>\n",
       "      <td>sgd</td>\n",
       "      <td>0.903069</td>\n",
       "      <td>0.857073</td>\n",
       "      <td>0.903069</td>\n",
       "      <td>0.815534</td>\n",
       "    </tr>\n",
       "    <tr>\n",
       "      <th>2</th>\n",
       "      <td>2</td>\n",
       "      <td>0</td>\n",
       "      <td>end_postal_code</td>\n",
       "      <td>lr</td>\n",
       "      <td>0.132549</td>\n",
       "      <td>0.058216</td>\n",
       "      <td>0.132549</td>\n",
       "      <td>0.049196</td>\n",
       "    </tr>\n",
       "    <tr>\n",
       "      <th>3</th>\n",
       "      <td>3</td>\n",
       "      <td>0</td>\n",
       "      <td>end_postal_code</td>\n",
       "      <td>sgd</td>\n",
       "      <td>0.076430</td>\n",
       "      <td>0.027110</td>\n",
       "      <td>0.076430</td>\n",
       "      <td>0.022991</td>\n",
       "    </tr>\n",
       "    <tr>\n",
       "      <th>4</th>\n",
       "      <td>4</td>\n",
       "      <td>0</td>\n",
       "      <td>end_neighborhood</td>\n",
       "      <td>lr</td>\n",
       "      <td>0.400109</td>\n",
       "      <td>0.293629</td>\n",
       "      <td>0.400109</td>\n",
       "      <td>0.275040</td>\n",
       "    </tr>\n",
       "  </tbody>\n",
       "</table>\n",
       "</div>"
      ],
      "text/plain": [
       "   indx  feature_standard_scaling         label_col classification  \\\n",
       "0     0                         0   end_sublocality             lr   \n",
       "1     1                         0   end_sublocality            sgd   \n",
       "2     2                         0   end_postal_code             lr   \n",
       "3     3                         0   end_postal_code            sgd   \n",
       "4     4                         0  end_neighborhood             lr   \n",
       "\n",
       "   accuracy_score  f1_score  recall_score  precision_score  \n",
       "0        0.952612  0.952955      0.952612         0.953891  \n",
       "1        0.903069  0.857073      0.903069         0.815534  \n",
       "2        0.132549  0.058216      0.132549         0.049196  \n",
       "3        0.076430  0.027110      0.076430         0.022991  \n",
       "4        0.400109  0.293629      0.400109         0.275040  "
      ]
     },
     "execution_count": 24,
     "metadata": {},
     "output_type": "execute_result"
    }
   ],
   "source": [
    "results_df.head()"
   ]
  },
  {
   "cell_type": "code",
   "execution_count": 25,
   "metadata": {
    "collapsed": false,
    "scrolled": true
   },
   "outputs": [
    {
     "data": {
      "image/png": "[encoded data removed]",
      "text/plain": [
       "<matplotlib.figure.Figure at 0x10899ac90>"
      ]
     },
     "metadata": {},
     "output_type": "display_data"
    }
   ],
   "source": [
    "# this result seems to show that standard scaling the features\n",
    "# does improve the SGD accuracy.\n",
    "sns.lmplot(\"f1_score\", \"accuracy_score\",\n",
    "           results_df[results_df['classification'] == 'sgd'],\n",
    "           col=\"feature_standard_scaling\");"
   ]
  },
  {
   "cell_type": "code",
   "execution_count": 32,
   "metadata": {
    "collapsed": false
   },
   "outputs": [],
   "source": [
    "results_sorted_by_accuracy = re_index(results_df.sort_values('accuracy_score'))\n"
   ]
  },
  {
   "cell_type": "code",
   "execution_count": 34,
   "metadata": {
    "collapsed": true
   },
   "outputs": [],
   "source": [
    "results_sorted_by_accuracy['indx'] = results_sorted_by_accuracy.index"
   ]
  },
  {
   "cell_type": "code",
   "execution_count": 35,
   "metadata": {
    "collapsed": false,
    "scrolled": false
   },
   "outputs": [
    {
     "data": {
      "text/html": [
       "<div>\n",
       "<table border=\"1\" class=\"dataframe\">\n",
       "  <thead>\n",
       "    <tr style=\"text-align: right;\">\n",
       "      <th></th>\n",
       "      <th>indx</th>\n",
       "      <th>feature_standard_scaling</th>\n",
       "      <th>label_col</th>\n",
       "      <th>classification</th>\n",
       "      <th>accuracy_score</th>\n",
       "      <th>f1_score</th>\n",
       "      <th>recall_score</th>\n",
       "      <th>precision_score</th>\n",
       "    </tr>\n",
       "  </thead>\n",
       "  <tbody>\n",
       "    <tr>\n",
       "      <th>0</th>\n",
       "      <td>0</td>\n",
       "      <td>1</td>\n",
       "      <td>end_postal_code</td>\n",
       "      <td>sgd</td>\n",
       "      <td>0.075361</td>\n",
       "      <td>0.059486</td>\n",
       "      <td>0.075361</td>\n",
       "      <td>0.061977</td>\n",
       "    </tr>\n",
       "    <tr>\n",
       "      <th>1</th>\n",
       "      <td>1</td>\n",
       "      <td>0</td>\n",
       "      <td>end_postal_code</td>\n",
       "      <td>sgd</td>\n",
       "      <td>0.076430</td>\n",
       "      <td>0.027110</td>\n",
       "      <td>0.076430</td>\n",
       "      <td>0.022991</td>\n",
       "    </tr>\n",
       "    <tr>\n",
       "      <th>2</th>\n",
       "      <td>2</td>\n",
       "      <td>0</td>\n",
       "      <td>end_postal_code</td>\n",
       "      <td>lr</td>\n",
       "      <td>0.132549</td>\n",
       "      <td>0.058216</td>\n",
       "      <td>0.132549</td>\n",
       "      <td>0.049196</td>\n",
       "    </tr>\n",
       "    <tr>\n",
       "      <th>3</th>\n",
       "      <td>3</td>\n",
       "      <td>1</td>\n",
       "      <td>end_postal_code</td>\n",
       "      <td>lr</td>\n",
       "      <td>0.160342</td>\n",
       "      <td>0.083981</td>\n",
       "      <td>0.160342</td>\n",
       "      <td>0.094756</td>\n",
       "    </tr>\n",
       "    <tr>\n",
       "      <th>4</th>\n",
       "      <td>4</td>\n",
       "      <td>0</td>\n",
       "      <td>end_neighborhood</td>\n",
       "      <td>sgd</td>\n",
       "      <td>0.187296</td>\n",
       "      <td>0.123287</td>\n",
       "      <td>0.187296</td>\n",
       "      <td>0.120098</td>\n",
       "    </tr>\n",
       "    <tr>\n",
       "      <th>5</th>\n",
       "      <td>5</td>\n",
       "      <td>1</td>\n",
       "      <td>end_neighborhood</td>\n",
       "      <td>sgd</td>\n",
       "      <td>0.318132</td>\n",
       "      <td>0.229970</td>\n",
       "      <td>0.318132</td>\n",
       "      <td>0.376443</td>\n",
       "    </tr>\n",
       "    <tr>\n",
       "      <th>6</th>\n",
       "      <td>6</td>\n",
       "      <td>0</td>\n",
       "      <td>end_neighborhood</td>\n",
       "      <td>lr</td>\n",
       "      <td>0.400109</td>\n",
       "      <td>0.293629</td>\n",
       "      <td>0.400109</td>\n",
       "      <td>0.275040</td>\n",
       "    </tr>\n",
       "    <tr>\n",
       "      <th>7</th>\n",
       "      <td>7</td>\n",
       "      <td>1</td>\n",
       "      <td>end_neighborhood</td>\n",
       "      <td>lr</td>\n",
       "      <td>0.406623</td>\n",
       "      <td>0.301851</td>\n",
       "      <td>0.406623</td>\n",
       "      <td>0.396778</td>\n",
       "    </tr>\n",
       "    <tr>\n",
       "      <th>8</th>\n",
       "      <td>8</td>\n",
       "      <td>0</td>\n",
       "      <td>end_sublocality</td>\n",
       "      <td>sgd</td>\n",
       "      <td>0.903069</td>\n",
       "      <td>0.857073</td>\n",
       "      <td>0.903069</td>\n",
       "      <td>0.815534</td>\n",
       "    </tr>\n",
       "    <tr>\n",
       "      <th>9</th>\n",
       "      <td>9</td>\n",
       "      <td>0</td>\n",
       "      <td>end_sublocality</td>\n",
       "      <td>lr</td>\n",
       "      <td>0.952612</td>\n",
       "      <td>0.952955</td>\n",
       "      <td>0.952612</td>\n",
       "      <td>0.953891</td>\n",
       "    </tr>\n",
       "    <tr>\n",
       "      <th>10</th>\n",
       "      <td>10</td>\n",
       "      <td>1</td>\n",
       "      <td>end_sublocality</td>\n",
       "      <td>lr</td>\n",
       "      <td>0.954227</td>\n",
       "      <td>0.954561</td>\n",
       "      <td>0.954227</td>\n",
       "      <td>0.956389</td>\n",
       "    </tr>\n",
       "    <tr>\n",
       "      <th>11</th>\n",
       "      <td>11</td>\n",
       "      <td>1</td>\n",
       "      <td>end_sublocality</td>\n",
       "      <td>sgd</td>\n",
       "      <td>0.957997</td>\n",
       "      <td>0.958806</td>\n",
       "      <td>0.957997</td>\n",
       "      <td>0.961875</td>\n",
       "    </tr>\n",
       "  </tbody>\n",
       "</table>\n",
       "</div>"
      ],
      "text/plain": [
       "    indx  feature_standard_scaling         label_col classification  \\\n",
       "0      0                         1   end_postal_code            sgd   \n",
       "1      1                         0   end_postal_code            sgd   \n",
       "2      2                         0   end_postal_code             lr   \n",
       "3      3                         1   end_postal_code             lr   \n",
       "4      4                         0  end_neighborhood            sgd   \n",
       "5      5                         1  end_neighborhood            sgd   \n",
       "6      6                         0  end_neighborhood             lr   \n",
       "7      7                         1  end_neighborhood             lr   \n",
       "8      8                         0   end_sublocality            sgd   \n",
       "9      9                         0   end_sublocality             lr   \n",
       "10    10                         1   end_sublocality             lr   \n",
       "11    11                         1   end_sublocality            sgd   \n",
       "\n",
       "    accuracy_score  f1_score  recall_score  precision_score  \n",
       "0         0.075361  0.059486      0.075361         0.061977  \n",
       "1         0.076430  0.027110      0.076430         0.022991  \n",
       "2         0.132549  0.058216      0.132549         0.049196  \n",
       "3         0.160342  0.083981      0.160342         0.094756  \n",
       "4         0.187296  0.123287      0.187296         0.120098  \n",
       "5         0.318132  0.229970      0.318132         0.376443  \n",
       "6         0.400109  0.293629      0.400109         0.275040  \n",
       "7         0.406623  0.301851      0.406623         0.396778  \n",
       "8         0.903069  0.857073      0.903069         0.815534  \n",
       "9         0.952612  0.952955      0.952612         0.953891  \n",
       "10        0.954227  0.954561      0.954227         0.956389  \n",
       "11        0.957997  0.958806      0.957997         0.961875  "
      ]
     },
     "execution_count": 35,
     "metadata": {},
     "output_type": "execute_result"
    }
   ],
   "source": [
    "results_sorted_by_accuracy"
   ]
  },
  {
   "cell_type": "code",
   "execution_count": null,
   "metadata": {
    "collapsed": true
   },
   "outputs": [],
   "source": [
    "''' Comparing by accuracy score, predicting the 'end_sublocality' (a.k.a. borough) \n",
    "is the most reliable. And in most cases, feature standard scaling improves the SGD performance,\n",
    "measuring by accuracy. But when it comes to predicting the neighborhood, although\n",
    "both basic LR and SGD are doing pretty poorly around 40%, LR is doing much better than SGD here.\n",
    "The note also is that SGD used here is w/o parameter tuning.\n",
    "'''"
   ]
  },
  {
   "cell_type": "code",
   "execution_count": 36,
   "metadata": {
    "collapsed": false
   },
   "outputs": [
    {
     "data": {
      "image/png": "[encoded data removed]",
      "text/plain": [
       "<matplotlib.figure.Figure at 0x10984e310>"
      ]
     },
     "metadata": {},
     "output_type": "display_data"
    }
   ],
   "source": [
    "ax = sns.regplot(x='indx', y=\"accuracy_score\", data=results_sorted_by_accuracy)"
   ]
  },
  {
   "cell_type": "code",
   "execution_count": null,
   "metadata": {
    "collapsed": true
   },
   "outputs": [],
   "source": [
    "'''\n",
    "output data columns are : accuracy, f1 score, \n",
    "\n",
    "inputs are classification, feature scaling, \n",
    "'''"
   ]
  },
  {
   "cell_type": "code",
   "execution_count": 37,
   "metadata": {
    "collapsed": true
   },
   "outputs": [],
   "source": [
    "# after introducing 'sgd_grid' , rerunning the experiment ....\n",
    "\n",
    "\n"
   ]
  },
  {
   "cell_type": "code",
   "execution_count": 13,
   "metadata": {
    "collapsed": false,
    "scrolled": true
   },
   "outputs": [
    {
     "name": "stdout",
     "output_type": "stream",
     "text": [
      "starting num  0 {'feature_standard_scaling': 0, 'label_col': 'end_sublocality', 'classification': 'sgd_grid'}\n"
     ]
    },
    {
     "name": "stderr",
     "output_type": "stream",
     "text": [
      "/Users/michal/.pyenv/versions/byke/lib/python2.7/site-packages/sklearn/metrics/classification.py:756: DeprecationWarning: The default `weighted` averaging is deprecated, and from version 0.18, use of precision, recall or F-score with multiclass or multilabel data or pos_label=None will result in an exception. Please set an explicit value for `average`, one of (None, 'micro', 'macro', 'weighted', 'samples'). In cross validation use, for instance, scoring=\"f1_weighted\" instead of scoring=\"f1\".\n",
      "  sample_weight=sample_weight)\n",
      "/Users/michal/.pyenv/versions/byke/lib/python2.7/site-packages/sklearn/metrics/classification.py:1304: DeprecationWarning: The default `weighted` averaging is deprecated, and from version 0.18, use of precision, recall or F-score with multiclass or multilabel data or pos_label=None will result in an exception. Please set an explicit value for `average`, one of (None, 'micro', 'macro', 'weighted', 'samples'). In cross validation use, for instance, scoring=\"f1_weighted\" instead of scoring=\"f1\".\n",
      "  sample_weight=sample_weight)\n",
      "/Users/michal/.pyenv/versions/byke/lib/python2.7/site-packages/sklearn/metrics/classification.py:1203: DeprecationWarning: The default `weighted` averaging is deprecated, and from version 0.18, use of precision, recall or F-score with multiclass or multilabel data or pos_label=None will result in an exception. Please set an explicit value for `average`, one of (None, 'micro', 'macro', 'weighted', 'samples'). In cross validation use, for instance, scoring=\"f1_weighted\" instead of scoring=\"f1\".\n",
      "  sample_weight=sample_weight)\n",
      "/Users/michal/.pyenv/versions/byke/lib/python2.7/site-packages/sklearn/metrics/classification.py:756: DeprecationWarning: The default `weighted` averaging is deprecated, and from version 0.18, use of precision, recall or F-score with multiclass or multilabel data or pos_label=None will result in an exception. Please set an explicit value for `average`, one of (None, 'micro', 'macro', 'weighted', 'samples'). In cross validation use, for instance, scoring=\"f1_weighted\" instead of scoring=\"f1\".\n",
      "  sample_weight=sample_weight)\n",
      "/Users/michal/.pyenv/versions/byke/lib/python2.7/site-packages/sklearn/metrics/classification.py:1304: DeprecationWarning: The default `weighted` averaging is deprecated, and from version 0.18, use of precision, recall or F-score with multiclass or multilabel data or pos_label=None will result in an exception. Please set an explicit value for `average`, one of (None, 'micro', 'macro', 'weighted', 'samples'). In cross validation use, for instance, scoring=\"f1_weighted\" instead of scoring=\"f1\".\n",
      "  sample_weight=sample_weight)\n",
      "/Users/michal/.pyenv/versions/byke/lib/python2.7/site-packages/sklearn/metrics/classification.py:1203: DeprecationWarning: The default `weighted` averaging is deprecated, and from version 0.18, use of precision, recall or F-score with multiclass or multilabel data or pos_label=None will result in an exception. Please set an explicit value for `average`, one of (None, 'micro', 'macro', 'weighted', 'samples'). In cross validation use, for instance, scoring=\"f1_weighted\" instead of scoring=\"f1\".\n",
      "  sample_weight=sample_weight)\n"
     ]
    },
    {
     "name": "stdout",
     "output_type": "stream",
     "text": [
      "couldnt run metrik  <function roc_curve at 0x10b098b18>  =>  Data is not binary and pos_label is not specified\n",
      "couldnt run metrik  <function roc_curve at 0x10b098b18>  =>  Data is not binary and pos_label is not specified\n",
      "starting num  1 {'feature_standard_scaling': 0, 'label_col': 'end_sublocality', 'classification': 'lr'}\n"
     ]
    },
    {
     "name": "stderr",
     "output_type": "stream",
     "text": [
      "/Users/michal/.pyenv/versions/byke/lib/python2.7/site-packages/sklearn/metrics/classification.py:756: DeprecationWarning: The default `weighted` averaging is deprecated, and from version 0.18, use of precision, recall or F-score with multiclass or multilabel data or pos_label=None will result in an exception. Please set an explicit value for `average`, one of (None, 'micro', 'macro', 'weighted', 'samples'). In cross validation use, for instance, scoring=\"f1_weighted\" instead of scoring=\"f1\".\n",
      "  sample_weight=sample_weight)\n",
      "/Users/michal/.pyenv/versions/byke/lib/python2.7/site-packages/sklearn/metrics/classification.py:1304: DeprecationWarning: The default `weighted` averaging is deprecated, and from version 0.18, use of precision, recall or F-score with multiclass or multilabel data or pos_label=None will result in an exception. Please set an explicit value for `average`, one of (None, 'micro', 'macro', 'weighted', 'samples'). In cross validation use, for instance, scoring=\"f1_weighted\" instead of scoring=\"f1\".\n",
      "  sample_weight=sample_weight)\n",
      "/Users/michal/.pyenv/versions/byke/lib/python2.7/site-packages/sklearn/metrics/classification.py:1203: DeprecationWarning: The default `weighted` averaging is deprecated, and from version 0.18, use of precision, recall or F-score with multiclass or multilabel data or pos_label=None will result in an exception. Please set an explicit value for `average`, one of (None, 'micro', 'macro', 'weighted', 'samples'). In cross validation use, for instance, scoring=\"f1_weighted\" instead of scoring=\"f1\".\n",
      "  sample_weight=sample_weight)\n",
      "/Users/michal/.pyenv/versions/byke/lib/python2.7/site-packages/sklearn/metrics/classification.py:756: DeprecationWarning: The default `weighted` averaging is deprecated, and from version 0.18, use of precision, recall or F-score with multiclass or multilabel data or pos_label=None will result in an exception. Please set an explicit value for `average`, one of (None, 'micro', 'macro', 'weighted', 'samples'). In cross validation use, for instance, scoring=\"f1_weighted\" instead of scoring=\"f1\".\n",
      "  sample_weight=sample_weight)\n",
      "/Users/michal/.pyenv/versions/byke/lib/python2.7/site-packages/sklearn/metrics/classification.py:1304: DeprecationWarning: The default `weighted` averaging is deprecated, and from version 0.18, use of precision, recall or F-score with multiclass or multilabel data or pos_label=None will result in an exception. Please set an explicit value for `average`, one of (None, 'micro', 'macro', 'weighted', 'samples'). In cross validation use, for instance, scoring=\"f1_weighted\" instead of scoring=\"f1\".\n",
      "  sample_weight=sample_weight)\n",
      "/Users/michal/.pyenv/versions/byke/lib/python2.7/site-packages/sklearn/metrics/classification.py:1203: DeprecationWarning: The default `weighted` averaging is deprecated, and from version 0.18, use of precision, recall or F-score with multiclass or multilabel data or pos_label=None will result in an exception. Please set an explicit value for `average`, one of (None, 'micro', 'macro', 'weighted', 'samples'). In cross validation use, for instance, scoring=\"f1_weighted\" instead of scoring=\"f1\".\n",
      "  sample_weight=sample_weight)\n"
     ]
    },
    {
     "name": "stdout",
     "output_type": "stream",
     "text": [
      "couldnt run metrik  <function roc_curve at 0x10b098b18>  =>  Data is not binary and pos_label is not specified\n",
      "couldnt run metrik  <function roc_curve at 0x10b098b18>  =>  Data is not binary and pos_label is not specified\n",
      "starting num  2 {'feature_standard_scaling': 0, 'label_col': 'end_sublocality', 'classification': 'sgd'}\n"
     ]
    },
    {
     "name": "stderr",
     "output_type": "stream",
     "text": [
      "/Users/michal/.pyenv/versions/byke/lib/python2.7/site-packages/sklearn/metrics/classification.py:756: DeprecationWarning: The default `weighted` averaging is deprecated, and from version 0.18, use of precision, recall or F-score with multiclass or multilabel data or pos_label=None will result in an exception. Please set an explicit value for `average`, one of (None, 'micro', 'macro', 'weighted', 'samples'). In cross validation use, for instance, scoring=\"f1_weighted\" instead of scoring=\"f1\".\n",
      "  sample_weight=sample_weight)\n",
      "/Users/michal/.pyenv/versions/byke/lib/python2.7/site-packages/sklearn/metrics/classification.py:1304: DeprecationWarning: The default `weighted` averaging is deprecated, and from version 0.18, use of precision, recall or F-score with multiclass or multilabel data or pos_label=None will result in an exception. Please set an explicit value for `average`, one of (None, 'micro', 'macro', 'weighted', 'samples'). In cross validation use, for instance, scoring=\"f1_weighted\" instead of scoring=\"f1\".\n",
      "  sample_weight=sample_weight)\n",
      "/Users/michal/.pyenv/versions/byke/lib/python2.7/site-packages/sklearn/metrics/classification.py:1203: DeprecationWarning: The default `weighted` averaging is deprecated, and from version 0.18, use of precision, recall or F-score with multiclass or multilabel data or pos_label=None will result in an exception. Please set an explicit value for `average`, one of (None, 'micro', 'macro', 'weighted', 'samples'). In cross validation use, for instance, scoring=\"f1_weighted\" instead of scoring=\"f1\".\n",
      "  sample_weight=sample_weight)\n",
      "/Users/michal/.pyenv/versions/byke/lib/python2.7/site-packages/sklearn/metrics/classification.py:756: DeprecationWarning: The default `weighted` averaging is deprecated, and from version 0.18, use of precision, recall or F-score with multiclass or multilabel data or pos_label=None will result in an exception. Please set an explicit value for `average`, one of (None, 'micro', 'macro', 'weighted', 'samples'). In cross validation use, for instance, scoring=\"f1_weighted\" instead of scoring=\"f1\".\n",
      "  sample_weight=sample_weight)\n",
      "/Users/michal/.pyenv/versions/byke/lib/python2.7/site-packages/sklearn/metrics/classification.py:1304: DeprecationWarning: The default `weighted` averaging is deprecated, and from version 0.18, use of precision, recall or F-score with multiclass or multilabel data or pos_label=None will result in an exception. Please set an explicit value for `average`, one of (None, 'micro', 'macro', 'weighted', 'samples'). In cross validation use, for instance, scoring=\"f1_weighted\" instead of scoring=\"f1\".\n",
      "  sample_weight=sample_weight)\n",
      "/Users/michal/.pyenv/versions/byke/lib/python2.7/site-packages/sklearn/metrics/classification.py:1203: DeprecationWarning: The default `weighted` averaging is deprecated, and from version 0.18, use of precision, recall or F-score with multiclass or multilabel data or pos_label=None will result in an exception. Please set an explicit value for `average`, one of (None, 'micro', 'macro', 'weighted', 'samples'). In cross validation use, for instance, scoring=\"f1_weighted\" instead of scoring=\"f1\".\n",
      "  sample_weight=sample_weight)\n"
     ]
    },
    {
     "name": "stdout",
     "output_type": "stream",
     "text": [
      "couldnt run metrik  <function roc_curve at 0x10b098b18>  =>  Data is not binary and pos_label is not specified\n",
      "couldnt run metrik  <function roc_curve at 0x10b098b18>  =>  Data is not binary and pos_label is not specified\n",
      "starting num  3 {'feature_standard_scaling': 0, 'label_col': 'end_postal_code', 'classification': 'sgd_grid'}\n"
     ]
    },
    {
     "name": "stderr",
     "output_type": "stream",
     "text": [
      "/Users/michal/.pyenv/versions/byke/lib/python2.7/site-packages/sklearn/cross_validation.py:516: Warning: The least populated class in y has only 1 members, which is too few. The minimum number of labels for any class cannot be less than n_folds=3.\n",
      "  % (min_labels, self.n_folds)), Warning)\n",
      "/Users/michal/.pyenv/versions/byke/lib/python2.7/site-packages/sklearn/metrics/classification.py:756: DeprecationWarning: The default `weighted` averaging is deprecated, and from version 0.18, use of precision, recall or F-score with multiclass or multilabel data or pos_label=None will result in an exception. Please set an explicit value for `average`, one of (None, 'micro', 'macro', 'weighted', 'samples'). In cross validation use, for instance, scoring=\"f1_weighted\" instead of scoring=\"f1\".\n",
      "  sample_weight=sample_weight)\n",
      "/Users/michal/.pyenv/versions/byke/lib/python2.7/site-packages/sklearn/metrics/classification.py:1304: DeprecationWarning: The default `weighted` averaging is deprecated, and from version 0.18, use of precision, recall or F-score with multiclass or multilabel data or pos_label=None will result in an exception. Please set an explicit value for `average`, one of (None, 'micro', 'macro', 'weighted', 'samples'). In cross validation use, for instance, scoring=\"f1_weighted\" instead of scoring=\"f1\".\n",
      "  sample_weight=sample_weight)\n",
      "/Users/michal/.pyenv/versions/byke/lib/python2.7/site-packages/sklearn/metrics/classification.py:1203: DeprecationWarning: The default `weighted` averaging is deprecated, and from version 0.18, use of precision, recall or F-score with multiclass or multilabel data or pos_label=None will result in an exception. Please set an explicit value for `average`, one of (None, 'micro', 'macro', 'weighted', 'samples'). In cross validation use, for instance, scoring=\"f1_weighted\" instead of scoring=\"f1\".\n",
      "  sample_weight=sample_weight)\n",
      "/Users/michal/.pyenv/versions/byke/lib/python2.7/site-packages/sklearn/metrics/classification.py:756: DeprecationWarning: The default `weighted` averaging is deprecated, and from version 0.18, use of precision, recall or F-score with multiclass or multilabel data or pos_label=None will result in an exception. Please set an explicit value for `average`, one of (None, 'micro', 'macro', 'weighted', 'samples'). In cross validation use, for instance, scoring=\"f1_weighted\" instead of scoring=\"f1\".\n",
      "  sample_weight=sample_weight)\n",
      "/Users/michal/.pyenv/versions/byke/lib/python2.7/site-packages/sklearn/metrics/classification.py:1304: DeprecationWarning: The default `weighted` averaging is deprecated, and from version 0.18, use of precision, recall or F-score with multiclass or multilabel data or pos_label=None will result in an exception. Please set an explicit value for `average`, one of (None, 'micro', 'macro', 'weighted', 'samples'). In cross validation use, for instance, scoring=\"f1_weighted\" instead of scoring=\"f1\".\n",
      "  sample_weight=sample_weight)\n",
      "/Users/michal/.pyenv/versions/byke/lib/python2.7/site-packages/sklearn/metrics/classification.py:1203: DeprecationWarning: The default `weighted` averaging is deprecated, and from version 0.18, use of precision, recall or F-score with multiclass or multilabel data or pos_label=None will result in an exception. Please set an explicit value for `average`, one of (None, 'micro', 'macro', 'weighted', 'samples'). In cross validation use, for instance, scoring=\"f1_weighted\" instead of scoring=\"f1\".\n",
      "  sample_weight=sample_weight)\n"
     ]
    },
    {
     "name": "stdout",
     "output_type": "stream",
     "text": [
      "couldnt run metrik  <function roc_curve at 0x10b098b18>  =>  Data is not binary and pos_label is not specified\n",
      "couldnt run metrik  <function roc_curve at 0x10b098b18>  =>  Data is not binary and pos_label is not specified\n",
      "starting num  4 {'feature_standard_scaling': 0, 'label_col': 'end_postal_code', 'classification': 'lr'}\n"
     ]
    },
    {
     "name": "stderr",
     "output_type": "stream",
     "text": [
      "/Users/michal/.pyenv/versions/byke/lib/python2.7/site-packages/sklearn/metrics/classification.py:756: DeprecationWarning: The default `weighted` averaging is deprecated, and from version 0.18, use of precision, recall or F-score with multiclass or multilabel data or pos_label=None will result in an exception. Please set an explicit value for `average`, one of (None, 'micro', 'macro', 'weighted', 'samples'). In cross validation use, for instance, scoring=\"f1_weighted\" instead of scoring=\"f1\".\n",
      "  sample_weight=sample_weight)\n",
      "/Users/michal/.pyenv/versions/byke/lib/python2.7/site-packages/sklearn/metrics/classification.py:1304: DeprecationWarning: The default `weighted` averaging is deprecated, and from version 0.18, use of precision, recall or F-score with multiclass or multilabel data or pos_label=None will result in an exception. Please set an explicit value for `average`, one of (None, 'micro', 'macro', 'weighted', 'samples'). In cross validation use, for instance, scoring=\"f1_weighted\" instead of scoring=\"f1\".\n",
      "  sample_weight=sample_weight)\n",
      "/Users/michal/.pyenv/versions/byke/lib/python2.7/site-packages/sklearn/metrics/classification.py:1203: DeprecationWarning: The default `weighted` averaging is deprecated, and from version 0.18, use of precision, recall or F-score with multiclass or multilabel data or pos_label=None will result in an exception. Please set an explicit value for `average`, one of (None, 'micro', 'macro', 'weighted', 'samples'). In cross validation use, for instance, scoring=\"f1_weighted\" instead of scoring=\"f1\".\n",
      "  sample_weight=sample_weight)\n",
      "/Users/michal/.pyenv/versions/byke/lib/python2.7/site-packages/sklearn/metrics/classification.py:756: DeprecationWarning: The default `weighted` averaging is deprecated, and from version 0.18, use of precision, recall or F-score with multiclass or multilabel data or pos_label=None will result in an exception. Please set an explicit value for `average`, one of (None, 'micro', 'macro', 'weighted', 'samples'). In cross validation use, for instance, scoring=\"f1_weighted\" instead of scoring=\"f1\".\n",
      "  sample_weight=sample_weight)\n",
      "/Users/michal/.pyenv/versions/byke/lib/python2.7/site-packages/sklearn/metrics/classification.py:1304: DeprecationWarning: The default `weighted` averaging is deprecated, and from version 0.18, use of precision, recall or F-score with multiclass or multilabel data or pos_label=None will result in an exception. Please set an explicit value for `average`, one of (None, 'micro', 'macro', 'weighted', 'samples'). In cross validation use, for instance, scoring=\"f1_weighted\" instead of scoring=\"f1\".\n",
      "  sample_weight=sample_weight)\n",
      "/Users/michal/.pyenv/versions/byke/lib/python2.7/site-packages/sklearn/metrics/classification.py:1203: DeprecationWarning: The default `weighted` averaging is deprecated, and from version 0.18, use of precision, recall or F-score with multiclass or multilabel data or pos_label=None will result in an exception. Please set an explicit value for `average`, one of (None, 'micro', 'macro', 'weighted', 'samples'). In cross validation use, for instance, scoring=\"f1_weighted\" instead of scoring=\"f1\".\n",
      "  sample_weight=sample_weight)\n"
     ]
    },
    {
     "name": "stdout",
     "output_type": "stream",
     "text": [
      "couldnt run metrik  <function roc_curve at 0x10b098b18>  =>  Data is not binary and pos_label is not specified\n",
      "couldnt run metrik  <function roc_curve at 0x10b098b18>  =>  Data is not binary and pos_label is not specified\n",
      "starting num  5 {'feature_standard_scaling': 0, 'label_col': 'end_postal_code', 'classification': 'sgd'}\n"
     ]
    },
    {
     "name": "stderr",
     "output_type": "stream",
     "text": [
      "/Users/michal/.pyenv/versions/byke/lib/python2.7/site-packages/sklearn/metrics/classification.py:756: DeprecationWarning: The default `weighted` averaging is deprecated, and from version 0.18, use of precision, recall or F-score with multiclass or multilabel data or pos_label=None will result in an exception. Please set an explicit value for `average`, one of (None, 'micro', 'macro', 'weighted', 'samples'). In cross validation use, for instance, scoring=\"f1_weighted\" instead of scoring=\"f1\".\n",
      "  sample_weight=sample_weight)\n",
      "/Users/michal/.pyenv/versions/byke/lib/python2.7/site-packages/sklearn/metrics/classification.py:1304: DeprecationWarning: The default `weighted` averaging is deprecated, and from version 0.18, use of precision, recall or F-score with multiclass or multilabel data or pos_label=None will result in an exception. Please set an explicit value for `average`, one of (None, 'micro', 'macro', 'weighted', 'samples'). In cross validation use, for instance, scoring=\"f1_weighted\" instead of scoring=\"f1\".\n",
      "  sample_weight=sample_weight)\n",
      "/Users/michal/.pyenv/versions/byke/lib/python2.7/site-packages/sklearn/metrics/classification.py:1203: DeprecationWarning: The default `weighted` averaging is deprecated, and from version 0.18, use of precision, recall or F-score with multiclass or multilabel data or pos_label=None will result in an exception. Please set an explicit value for `average`, one of (None, 'micro', 'macro', 'weighted', 'samples'). In cross validation use, for instance, scoring=\"f1_weighted\" instead of scoring=\"f1\".\n",
      "  sample_weight=sample_weight)\n",
      "/Users/michal/.pyenv/versions/byke/lib/python2.7/site-packages/sklearn/metrics/classification.py:756: DeprecationWarning: The default `weighted` averaging is deprecated, and from version 0.18, use of precision, recall or F-score with multiclass or multilabel data or pos_label=None will result in an exception. Please set an explicit value for `average`, one of (None, 'micro', 'macro', 'weighted', 'samples'). In cross validation use, for instance, scoring=\"f1_weighted\" instead of scoring=\"f1\".\n",
      "  sample_weight=sample_weight)\n",
      "/Users/michal/.pyenv/versions/byke/lib/python2.7/site-packages/sklearn/metrics/classification.py:1304: DeprecationWarning: The default `weighted` averaging is deprecated, and from version 0.18, use of precision, recall or F-score with multiclass or multilabel data or pos_label=None will result in an exception. Please set an explicit value for `average`, one of (None, 'micro', 'macro', 'weighted', 'samples'). In cross validation use, for instance, scoring=\"f1_weighted\" instead of scoring=\"f1\".\n",
      "  sample_weight=sample_weight)\n",
      "/Users/michal/.pyenv/versions/byke/lib/python2.7/site-packages/sklearn/metrics/classification.py:1203: DeprecationWarning: The default `weighted` averaging is deprecated, and from version 0.18, use of precision, recall or F-score with multiclass or multilabel data or pos_label=None will result in an exception. Please set an explicit value for `average`, one of (None, 'micro', 'macro', 'weighted', 'samples'). In cross validation use, for instance, scoring=\"f1_weighted\" instead of scoring=\"f1\".\n",
      "  sample_weight=sample_weight)\n"
     ]
    },
    {
     "name": "stdout",
     "output_type": "stream",
     "text": [
      "couldnt run metrik  <function roc_curve at 0x10b098b18>  =>  Data is not binary and pos_label is not specified\n",
      "couldnt run metrik  <function roc_curve at 0x10b098b18>  =>  Data is not binary and pos_label is not specified\n",
      "starting num  6 {'feature_standard_scaling': 0, 'label_col': 'end_neighborhood', 'classification': 'sgd_grid'}\n"
     ]
    },
    {
     "name": "stderr",
     "output_type": "stream",
     "text": [
      "/Users/michal/.pyenv/versions/byke/lib/python2.7/site-packages/sklearn/metrics/classification.py:756: DeprecationWarning: The default `weighted` averaging is deprecated, and from version 0.18, use of precision, recall or F-score with multiclass or multilabel data or pos_label=None will result in an exception. Please set an explicit value for `average`, one of (None, 'micro', 'macro', 'weighted', 'samples'). In cross validation use, for instance, scoring=\"f1_weighted\" instead of scoring=\"f1\".\n",
      "  sample_weight=sample_weight)\n",
      "/Users/michal/.pyenv/versions/byke/lib/python2.7/site-packages/sklearn/metrics/classification.py:1304: DeprecationWarning: The default `weighted` averaging is deprecated, and from version 0.18, use of precision, recall or F-score with multiclass or multilabel data or pos_label=None will result in an exception. Please set an explicit value for `average`, one of (None, 'micro', 'macro', 'weighted', 'samples'). In cross validation use, for instance, scoring=\"f1_weighted\" instead of scoring=\"f1\".\n",
      "  sample_weight=sample_weight)\n",
      "/Users/michal/.pyenv/versions/byke/lib/python2.7/site-packages/sklearn/metrics/classification.py:1203: DeprecationWarning: The default `weighted` averaging is deprecated, and from version 0.18, use of precision, recall or F-score with multiclass or multilabel data or pos_label=None will result in an exception. Please set an explicit value for `average`, one of (None, 'micro', 'macro', 'weighted', 'samples'). In cross validation use, for instance, scoring=\"f1_weighted\" instead of scoring=\"f1\".\n",
      "  sample_weight=sample_weight)\n",
      "/Users/michal/.pyenv/versions/byke/lib/python2.7/site-packages/sklearn/metrics/classification.py:756: DeprecationWarning: The default `weighted` averaging is deprecated, and from version 0.18, use of precision, recall or F-score with multiclass or multilabel data or pos_label=None will result in an exception. Please set an explicit value for `average`, one of (None, 'micro', 'macro', 'weighted', 'samples'). In cross validation use, for instance, scoring=\"f1_weighted\" instead of scoring=\"f1\".\n",
      "  sample_weight=sample_weight)\n",
      "/Users/michal/.pyenv/versions/byke/lib/python2.7/site-packages/sklearn/metrics/classification.py:1304: DeprecationWarning: The default `weighted` averaging is deprecated, and from version 0.18, use of precision, recall or F-score with multiclass or multilabel data or pos_label=None will result in an exception. Please set an explicit value for `average`, one of (None, 'micro', 'macro', 'weighted', 'samples'). In cross validation use, for instance, scoring=\"f1_weighted\" instead of scoring=\"f1\".\n",
      "  sample_weight=sample_weight)\n",
      "/Users/michal/.pyenv/versions/byke/lib/python2.7/site-packages/sklearn/metrics/classification.py:1203: DeprecationWarning: The default `weighted` averaging is deprecated, and from version 0.18, use of precision, recall or F-score with multiclass or multilabel data or pos_label=None will result in an exception. Please set an explicit value for `average`, one of (None, 'micro', 'macro', 'weighted', 'samples'). In cross validation use, for instance, scoring=\"f1_weighted\" instead of scoring=\"f1\".\n",
      "  sample_weight=sample_weight)\n"
     ]
    },
    {
     "name": "stdout",
     "output_type": "stream",
     "text": [
      "couldnt run metrik  <function roc_curve at 0x10b098b18>  =>  Data is not binary and pos_label is not specified\n",
      "couldnt run metrik  <function roc_curve at 0x10b098b18>  =>  Data is not binary and pos_label is not specified\n",
      "starting num  7 {'feature_standard_scaling': 0, 'label_col': 'end_neighborhood', 'classification': 'lr'}\n"
     ]
    },
    {
     "name": "stderr",
     "output_type": "stream",
     "text": [
      "/Users/michal/.pyenv/versions/byke/lib/python2.7/site-packages/sklearn/metrics/classification.py:756: DeprecationWarning: The default `weighted` averaging is deprecated, and from version 0.18, use of precision, recall or F-score with multiclass or multilabel data or pos_label=None will result in an exception. Please set an explicit value for `average`, one of (None, 'micro', 'macro', 'weighted', 'samples'). In cross validation use, for instance, scoring=\"f1_weighted\" instead of scoring=\"f1\".\n",
      "  sample_weight=sample_weight)\n",
      "/Users/michal/.pyenv/versions/byke/lib/python2.7/site-packages/sklearn/metrics/classification.py:1304: DeprecationWarning: The default `weighted` averaging is deprecated, and from version 0.18, use of precision, recall or F-score with multiclass or multilabel data or pos_label=None will result in an exception. Please set an explicit value for `average`, one of (None, 'micro', 'macro', 'weighted', 'samples'). In cross validation use, for instance, scoring=\"f1_weighted\" instead of scoring=\"f1\".\n",
      "  sample_weight=sample_weight)\n",
      "/Users/michal/.pyenv/versions/byke/lib/python2.7/site-packages/sklearn/metrics/classification.py:1203: DeprecationWarning: The default `weighted` averaging is deprecated, and from version 0.18, use of precision, recall or F-score with multiclass or multilabel data or pos_label=None will result in an exception. Please set an explicit value for `average`, one of (None, 'micro', 'macro', 'weighted', 'samples'). In cross validation use, for instance, scoring=\"f1_weighted\" instead of scoring=\"f1\".\n",
      "  sample_weight=sample_weight)\n",
      "/Users/michal/.pyenv/versions/byke/lib/python2.7/site-packages/sklearn/metrics/classification.py:756: DeprecationWarning: The default `weighted` averaging is deprecated, and from version 0.18, use of precision, recall or F-score with multiclass or multilabel data or pos_label=None will result in an exception. Please set an explicit value for `average`, one of (None, 'micro', 'macro', 'weighted', 'samples'). In cross validation use, for instance, scoring=\"f1_weighted\" instead of scoring=\"f1\".\n",
      "  sample_weight=sample_weight)\n",
      "/Users/michal/.pyenv/versions/byke/lib/python2.7/site-packages/sklearn/metrics/classification.py:1304: DeprecationWarning: The default `weighted` averaging is deprecated, and from version 0.18, use of precision, recall or F-score with multiclass or multilabel data or pos_label=None will result in an exception. Please set an explicit value for `average`, one of (None, 'micro', 'macro', 'weighted', 'samples'). In cross validation use, for instance, scoring=\"f1_weighted\" instead of scoring=\"f1\".\n",
      "  sample_weight=sample_weight)\n",
      "/Users/michal/.pyenv/versions/byke/lib/python2.7/site-packages/sklearn/metrics/classification.py:1203: DeprecationWarning: The default `weighted` averaging is deprecated, and from version 0.18, use of precision, recall or F-score with multiclass or multilabel data or pos_label=None will result in an exception. Please set an explicit value for `average`, one of (None, 'micro', 'macro', 'weighted', 'samples'). In cross validation use, for instance, scoring=\"f1_weighted\" instead of scoring=\"f1\".\n",
      "  sample_weight=sample_weight)\n"
     ]
    },
    {
     "name": "stdout",
     "output_type": "stream",
     "text": [
      "couldnt run metrik  <function roc_curve at 0x10b098b18>  =>  Data is not binary and pos_label is not specified\n",
      "couldnt run metrik  <function roc_curve at 0x10b098b18>  =>  Data is not binary and pos_label is not specified\n",
      "starting num  8 {'feature_standard_scaling': 0, 'label_col': 'end_neighborhood', 'classification': 'sgd'}\n"
     ]
    },
    {
     "name": "stderr",
     "output_type": "stream",
     "text": [
      "/Users/michal/.pyenv/versions/byke/lib/python2.7/site-packages/sklearn/metrics/classification.py:756: DeprecationWarning: The default `weighted` averaging is deprecated, and from version 0.18, use of precision, recall or F-score with multiclass or multilabel data or pos_label=None will result in an exception. Please set an explicit value for `average`, one of (None, 'micro', 'macro', 'weighted', 'samples'). In cross validation use, for instance, scoring=\"f1_weighted\" instead of scoring=\"f1\".\n",
      "  sample_weight=sample_weight)\n",
      "/Users/michal/.pyenv/versions/byke/lib/python2.7/site-packages/sklearn/metrics/classification.py:1304: DeprecationWarning: The default `weighted` averaging is deprecated, and from version 0.18, use of precision, recall or F-score with multiclass or multilabel data or pos_label=None will result in an exception. Please set an explicit value for `average`, one of (None, 'micro', 'macro', 'weighted', 'samples'). In cross validation use, for instance, scoring=\"f1_weighted\" instead of scoring=\"f1\".\n",
      "  sample_weight=sample_weight)\n",
      "/Users/michal/.pyenv/versions/byke/lib/python2.7/site-packages/sklearn/metrics/classification.py:1203: DeprecationWarning: The default `weighted` averaging is deprecated, and from version 0.18, use of precision, recall or F-score with multiclass or multilabel data or pos_label=None will result in an exception. Please set an explicit value for `average`, one of (None, 'micro', 'macro', 'weighted', 'samples'). In cross validation use, for instance, scoring=\"f1_weighted\" instead of scoring=\"f1\".\n",
      "  sample_weight=sample_weight)\n",
      "/Users/michal/.pyenv/versions/byke/lib/python2.7/site-packages/sklearn/metrics/classification.py:756: DeprecationWarning: The default `weighted` averaging is deprecated, and from version 0.18, use of precision, recall or F-score with multiclass or multilabel data or pos_label=None will result in an exception. Please set an explicit value for `average`, one of (None, 'micro', 'macro', 'weighted', 'samples'). In cross validation use, for instance, scoring=\"f1_weighted\" instead of scoring=\"f1\".\n",
      "  sample_weight=sample_weight)\n",
      "/Users/michal/.pyenv/versions/byke/lib/python2.7/site-packages/sklearn/metrics/classification.py:1304: DeprecationWarning: The default `weighted` averaging is deprecated, and from version 0.18, use of precision, recall or F-score with multiclass or multilabel data or pos_label=None will result in an exception. Please set an explicit value for `average`, one of (None, 'micro', 'macro', 'weighted', 'samples'). In cross validation use, for instance, scoring=\"f1_weighted\" instead of scoring=\"f1\".\n",
      "  sample_weight=sample_weight)\n",
      "/Users/michal/.pyenv/versions/byke/lib/python2.7/site-packages/sklearn/metrics/classification.py:1203: DeprecationWarning: The default `weighted` averaging is deprecated, and from version 0.18, use of precision, recall or F-score with multiclass or multilabel data or pos_label=None will result in an exception. Please set an explicit value for `average`, one of (None, 'micro', 'macro', 'weighted', 'samples'). In cross validation use, for instance, scoring=\"f1_weighted\" instead of scoring=\"f1\".\n",
      "  sample_weight=sample_weight)\n"
     ]
    },
    {
     "name": "stdout",
     "output_type": "stream",
     "text": [
      "couldnt run metrik  <function roc_curve at 0x10b098b18>  =>  Data is not binary and pos_label is not specified\n",
      "couldnt run metrik  <function roc_curve at 0x10b098b18>  =>  Data is not binary and pos_label is not specified\n",
      "starting num  9 {'feature_standard_scaling': 1, 'label_col': 'end_sublocality', 'classification': 'sgd_grid'}\n"
     ]
    },
    {
     "name": "stderr",
     "output_type": "stream",
     "text": [
      "/Users/michal/.pyenv/versions/byke/lib/python2.7/site-packages/sklearn/metrics/classification.py:756: DeprecationWarning: The default `weighted` averaging is deprecated, and from version 0.18, use of precision, recall or F-score with multiclass or multilabel data or pos_label=None will result in an exception. Please set an explicit value for `average`, one of (None, 'micro', 'macro', 'weighted', 'samples'). In cross validation use, for instance, scoring=\"f1_weighted\" instead of scoring=\"f1\".\n",
      "  sample_weight=sample_weight)\n",
      "/Users/michal/.pyenv/versions/byke/lib/python2.7/site-packages/sklearn/metrics/classification.py:1304: DeprecationWarning: The default `weighted` averaging is deprecated, and from version 0.18, use of precision, recall or F-score with multiclass or multilabel data or pos_label=None will result in an exception. Please set an explicit value for `average`, one of (None, 'micro', 'macro', 'weighted', 'samples'). In cross validation use, for instance, scoring=\"f1_weighted\" instead of scoring=\"f1\".\n",
      "  sample_weight=sample_weight)\n",
      "/Users/michal/.pyenv/versions/byke/lib/python2.7/site-packages/sklearn/metrics/classification.py:1203: DeprecationWarning: The default `weighted` averaging is deprecated, and from version 0.18, use of precision, recall or F-score with multiclass or multilabel data or pos_label=None will result in an exception. Please set an explicit value for `average`, one of (None, 'micro', 'macro', 'weighted', 'samples'). In cross validation use, for instance, scoring=\"f1_weighted\" instead of scoring=\"f1\".\n",
      "  sample_weight=sample_weight)\n",
      "/Users/michal/.pyenv/versions/byke/lib/python2.7/site-packages/sklearn/metrics/classification.py:756: DeprecationWarning: The default `weighted` averaging is deprecated, and from version 0.18, use of precision, recall or F-score with multiclass or multilabel data or pos_label=None will result in an exception. Please set an explicit value for `average`, one of (None, 'micro', 'macro', 'weighted', 'samples'). In cross validation use, for instance, scoring=\"f1_weighted\" instead of scoring=\"f1\".\n",
      "  sample_weight=sample_weight)\n",
      "/Users/michal/.pyenv/versions/byke/lib/python2.7/site-packages/sklearn/metrics/classification.py:1304: DeprecationWarning: The default `weighted` averaging is deprecated, and from version 0.18, use of precision, recall or F-score with multiclass or multilabel data or pos_label=None will result in an exception. Please set an explicit value for `average`, one of (None, 'micro', 'macro', 'weighted', 'samples'). In cross validation use, for instance, scoring=\"f1_weighted\" instead of scoring=\"f1\".\n",
      "  sample_weight=sample_weight)\n",
      "/Users/michal/.pyenv/versions/byke/lib/python2.7/site-packages/sklearn/metrics/classification.py:1203: DeprecationWarning: The default `weighted` averaging is deprecated, and from version 0.18, use of precision, recall or F-score with multiclass or multilabel data or pos_label=None will result in an exception. Please set an explicit value for `average`, one of (None, 'micro', 'macro', 'weighted', 'samples'). In cross validation use, for instance, scoring=\"f1_weighted\" instead of scoring=\"f1\".\n",
      "  sample_weight=sample_weight)\n"
     ]
    },
    {
     "name": "stdout",
     "output_type": "stream",
     "text": [
      "couldnt run metrik  <function roc_curve at 0x10b098b18>  =>  Data is not binary and pos_label is not specified\n",
      "couldnt run metrik  <function roc_curve at 0x10b098b18>  =>  Data is not binary and pos_label is not specified\n",
      "starting num  10 {'feature_standard_scaling': 1, 'label_col': 'end_sublocality', 'classification': 'lr'}\n"
     ]
    },
    {
     "name": "stderr",
     "output_type": "stream",
     "text": [
      "/Users/michal/.pyenv/versions/byke/lib/python2.7/site-packages/sklearn/metrics/classification.py:756: DeprecationWarning: The default `weighted` averaging is deprecated, and from version 0.18, use of precision, recall or F-score with multiclass or multilabel data or pos_label=None will result in an exception. Please set an explicit value for `average`, one of (None, 'micro', 'macro', 'weighted', 'samples'). In cross validation use, for instance, scoring=\"f1_weighted\" instead of scoring=\"f1\".\n",
      "  sample_weight=sample_weight)\n",
      "/Users/michal/.pyenv/versions/byke/lib/python2.7/site-packages/sklearn/metrics/classification.py:1304: DeprecationWarning: The default `weighted` averaging is deprecated, and from version 0.18, use of precision, recall or F-score with multiclass or multilabel data or pos_label=None will result in an exception. Please set an explicit value for `average`, one of (None, 'micro', 'macro', 'weighted', 'samples'). In cross validation use, for instance, scoring=\"f1_weighted\" instead of scoring=\"f1\".\n",
      "  sample_weight=sample_weight)\n",
      "/Users/michal/.pyenv/versions/byke/lib/python2.7/site-packages/sklearn/metrics/classification.py:1203: DeprecationWarning: The default `weighted` averaging is deprecated, and from version 0.18, use of precision, recall or F-score with multiclass or multilabel data or pos_label=None will result in an exception. Please set an explicit value for `average`, one of (None, 'micro', 'macro', 'weighted', 'samples'). In cross validation use, for instance, scoring=\"f1_weighted\" instead of scoring=\"f1\".\n",
      "  sample_weight=sample_weight)\n",
      "/Users/michal/.pyenv/versions/byke/lib/python2.7/site-packages/sklearn/metrics/classification.py:756: DeprecationWarning: The default `weighted` averaging is deprecated, and from version 0.18, use of precision, recall or F-score with multiclass or multilabel data or pos_label=None will result in an exception. Please set an explicit value for `average`, one of (None, 'micro', 'macro', 'weighted', 'samples'). In cross validation use, for instance, scoring=\"f1_weighted\" instead of scoring=\"f1\".\n",
      "  sample_weight=sample_weight)\n",
      "/Users/michal/.pyenv/versions/byke/lib/python2.7/site-packages/sklearn/metrics/classification.py:1304: DeprecationWarning: The default `weighted` averaging is deprecated, and from version 0.18, use of precision, recall or F-score with multiclass or multilabel data or pos_label=None will result in an exception. Please set an explicit value for `average`, one of (None, 'micro', 'macro', 'weighted', 'samples'). In cross validation use, for instance, scoring=\"f1_weighted\" instead of scoring=\"f1\".\n",
      "  sample_weight=sample_weight)\n",
      "/Users/michal/.pyenv/versions/byke/lib/python2.7/site-packages/sklearn/metrics/classification.py:1203: DeprecationWarning: The default `weighted` averaging is deprecated, and from version 0.18, use of precision, recall or F-score with multiclass or multilabel data or pos_label=None will result in an exception. Please set an explicit value for `average`, one of (None, 'micro', 'macro', 'weighted', 'samples'). In cross validation use, for instance, scoring=\"f1_weighted\" instead of scoring=\"f1\".\n",
      "  sample_weight=sample_weight)\n"
     ]
    },
    {
     "name": "stdout",
     "output_type": "stream",
     "text": [
      "couldnt run metrik  <function roc_curve at 0x10b098b18>  =>  Data is not binary and pos_label is not specified\n",
      "couldnt run metrik  <function roc_curve at 0x10b098b18>  =>  Data is not binary and pos_label is not specified\n",
      "starting num  11 {'feature_standard_scaling': 1, 'label_col': 'end_sublocality', 'classification': 'sgd'}\n"
     ]
    },
    {
     "name": "stderr",
     "output_type": "stream",
     "text": [
      "/Users/michal/.pyenv/versions/byke/lib/python2.7/site-packages/sklearn/metrics/classification.py:756: DeprecationWarning: The default `weighted` averaging is deprecated, and from version 0.18, use of precision, recall or F-score with multiclass or multilabel data or pos_label=None will result in an exception. Please set an explicit value for `average`, one of (None, 'micro', 'macro', 'weighted', 'samples'). In cross validation use, for instance, scoring=\"f1_weighted\" instead of scoring=\"f1\".\n",
      "  sample_weight=sample_weight)\n",
      "/Users/michal/.pyenv/versions/byke/lib/python2.7/site-packages/sklearn/metrics/classification.py:1304: DeprecationWarning: The default `weighted` averaging is deprecated, and from version 0.18, use of precision, recall or F-score with multiclass or multilabel data or pos_label=None will result in an exception. Please set an explicit value for `average`, one of (None, 'micro', 'macro', 'weighted', 'samples'). In cross validation use, for instance, scoring=\"f1_weighted\" instead of scoring=\"f1\".\n",
      "  sample_weight=sample_weight)\n",
      "/Users/michal/.pyenv/versions/byke/lib/python2.7/site-packages/sklearn/metrics/classification.py:1203: DeprecationWarning: The default `weighted` averaging is deprecated, and from version 0.18, use of precision, recall or F-score with multiclass or multilabel data or pos_label=None will result in an exception. Please set an explicit value for `average`, one of (None, 'micro', 'macro', 'weighted', 'samples'). In cross validation use, for instance, scoring=\"f1_weighted\" instead of scoring=\"f1\".\n",
      "  sample_weight=sample_weight)\n",
      "/Users/michal/.pyenv/versions/byke/lib/python2.7/site-packages/sklearn/metrics/classification.py:756: DeprecationWarning: The default `weighted` averaging is deprecated, and from version 0.18, use of precision, recall or F-score with multiclass or multilabel data or pos_label=None will result in an exception. Please set an explicit value for `average`, one of (None, 'micro', 'macro', 'weighted', 'samples'). In cross validation use, for instance, scoring=\"f1_weighted\" instead of scoring=\"f1\".\n",
      "  sample_weight=sample_weight)\n",
      "/Users/michal/.pyenv/versions/byke/lib/python2.7/site-packages/sklearn/metrics/classification.py:1304: DeprecationWarning: The default `weighted` averaging is deprecated, and from version 0.18, use of precision, recall or F-score with multiclass or multilabel data or pos_label=None will result in an exception. Please set an explicit value for `average`, one of (None, 'micro', 'macro', 'weighted', 'samples'). In cross validation use, for instance, scoring=\"f1_weighted\" instead of scoring=\"f1\".\n",
      "  sample_weight=sample_weight)\n",
      "/Users/michal/.pyenv/versions/byke/lib/python2.7/site-packages/sklearn/metrics/classification.py:1203: DeprecationWarning: The default `weighted` averaging is deprecated, and from version 0.18, use of precision, recall or F-score with multiclass or multilabel data or pos_label=None will result in an exception. Please set an explicit value for `average`, one of (None, 'micro', 'macro', 'weighted', 'samples'). In cross validation use, for instance, scoring=\"f1_weighted\" instead of scoring=\"f1\".\n",
      "  sample_weight=sample_weight)\n"
     ]
    },
    {
     "name": "stdout",
     "output_type": "stream",
     "text": [
      "couldnt run metrik  <function roc_curve at 0x10b098b18>  =>  Data is not binary and pos_label is not specified\n",
      "couldnt run metrik  <function roc_curve at 0x10b098b18>  =>  Data is not binary and pos_label is not specified\n",
      "starting num  12 {'feature_standard_scaling': 1, 'label_col': 'end_postal_code', 'classification': 'sgd_grid'}\n"
     ]
    },
    {
     "name": "stderr",
     "output_type": "stream",
     "text": [
      "/Users/michal/.pyenv/versions/byke/lib/python2.7/site-packages/sklearn/metrics/classification.py:756: DeprecationWarning: The default `weighted` averaging is deprecated, and from version 0.18, use of precision, recall or F-score with multiclass or multilabel data or pos_label=None will result in an exception. Please set an explicit value for `average`, one of (None, 'micro', 'macro', 'weighted', 'samples'). In cross validation use, for instance, scoring=\"f1_weighted\" instead of scoring=\"f1\".\n",
      "  sample_weight=sample_weight)\n",
      "/Users/michal/.pyenv/versions/byke/lib/python2.7/site-packages/sklearn/metrics/classification.py:1304: DeprecationWarning: The default `weighted` averaging is deprecated, and from version 0.18, use of precision, recall or F-score with multiclass or multilabel data or pos_label=None will result in an exception. Please set an explicit value for `average`, one of (None, 'micro', 'macro', 'weighted', 'samples'). In cross validation use, for instance, scoring=\"f1_weighted\" instead of scoring=\"f1\".\n",
      "  sample_weight=sample_weight)\n",
      "/Users/michal/.pyenv/versions/byke/lib/python2.7/site-packages/sklearn/metrics/classification.py:1203: DeprecationWarning: The default `weighted` averaging is deprecated, and from version 0.18, use of precision, recall or F-score with multiclass or multilabel data or pos_label=None will result in an exception. Please set an explicit value for `average`, one of (None, 'micro', 'macro', 'weighted', 'samples'). In cross validation use, for instance, scoring=\"f1_weighted\" instead of scoring=\"f1\".\n",
      "  sample_weight=sample_weight)\n",
      "/Users/michal/.pyenv/versions/byke/lib/python2.7/site-packages/sklearn/metrics/classification.py:756: DeprecationWarning: The default `weighted` averaging is deprecated, and from version 0.18, use of precision, recall or F-score with multiclass or multilabel data or pos_label=None will result in an exception. Please set an explicit value for `average`, one of (None, 'micro', 'macro', 'weighted', 'samples'). In cross validation use, for instance, scoring=\"f1_weighted\" instead of scoring=\"f1\".\n",
      "  sample_weight=sample_weight)\n",
      "/Users/michal/.pyenv/versions/byke/lib/python2.7/site-packages/sklearn/metrics/classification.py:1304: DeprecationWarning: The default `weighted` averaging is deprecated, and from version 0.18, use of precision, recall or F-score with multiclass or multilabel data or pos_label=None will result in an exception. Please set an explicit value for `average`, one of (None, 'micro', 'macro', 'weighted', 'samples'). In cross validation use, for instance, scoring=\"f1_weighted\" instead of scoring=\"f1\".\n",
      "  sample_weight=sample_weight)\n",
      "/Users/michal/.pyenv/versions/byke/lib/python2.7/site-packages/sklearn/metrics/classification.py:1203: DeprecationWarning: The default `weighted` averaging is deprecated, and from version 0.18, use of precision, recall or F-score with multiclass or multilabel data or pos_label=None will result in an exception. Please set an explicit value for `average`, one of (None, 'micro', 'macro', 'weighted', 'samples'). In cross validation use, for instance, scoring=\"f1_weighted\" instead of scoring=\"f1\".\n",
      "  sample_weight=sample_weight)\n"
     ]
    },
    {
     "name": "stdout",
     "output_type": "stream",
     "text": [
      "couldnt run metrik  <function roc_curve at 0x10b098b18>  =>  Data is not binary and pos_label is not specified\n",
      "couldnt run metrik  <function roc_curve at 0x10b098b18>  =>  Data is not binary and pos_label is not specified\n",
      "starting num  13 {'feature_standard_scaling': 1, 'label_col': 'end_postal_code', 'classification': 'lr'}\n"
     ]
    },
    {
     "name": "stderr",
     "output_type": "stream",
     "text": [
      "/Users/michal/.pyenv/versions/byke/lib/python2.7/site-packages/sklearn/metrics/classification.py:756: DeprecationWarning: The default `weighted` averaging is deprecated, and from version 0.18, use of precision, recall or F-score with multiclass or multilabel data or pos_label=None will result in an exception. Please set an explicit value for `average`, one of (None, 'micro', 'macro', 'weighted', 'samples'). In cross validation use, for instance, scoring=\"f1_weighted\" instead of scoring=\"f1\".\n",
      "  sample_weight=sample_weight)\n",
      "/Users/michal/.pyenv/versions/byke/lib/python2.7/site-packages/sklearn/metrics/classification.py:1304: DeprecationWarning: The default `weighted` averaging is deprecated, and from version 0.18, use of precision, recall or F-score with multiclass or multilabel data or pos_label=None will result in an exception. Please set an explicit value for `average`, one of (None, 'micro', 'macro', 'weighted', 'samples'). In cross validation use, for instance, scoring=\"f1_weighted\" instead of scoring=\"f1\".\n",
      "  sample_weight=sample_weight)\n",
      "/Users/michal/.pyenv/versions/byke/lib/python2.7/site-packages/sklearn/metrics/classification.py:1203: DeprecationWarning: The default `weighted` averaging is deprecated, and from version 0.18, use of precision, recall or F-score with multiclass or multilabel data or pos_label=None will result in an exception. Please set an explicit value for `average`, one of (None, 'micro', 'macro', 'weighted', 'samples'). In cross validation use, for instance, scoring=\"f1_weighted\" instead of scoring=\"f1\".\n",
      "  sample_weight=sample_weight)\n",
      "/Users/michal/.pyenv/versions/byke/lib/python2.7/site-packages/sklearn/metrics/classification.py:756: DeprecationWarning: The default `weighted` averaging is deprecated, and from version 0.18, use of precision, recall or F-score with multiclass or multilabel data or pos_label=None will result in an exception. Please set an explicit value for `average`, one of (None, 'micro', 'macro', 'weighted', 'samples'). In cross validation use, for instance, scoring=\"f1_weighted\" instead of scoring=\"f1\".\n",
      "  sample_weight=sample_weight)\n",
      "/Users/michal/.pyenv/versions/byke/lib/python2.7/site-packages/sklearn/metrics/classification.py:1304: DeprecationWarning: The default `weighted` averaging is deprecated, and from version 0.18, use of precision, recall or F-score with multiclass or multilabel data or pos_label=None will result in an exception. Please set an explicit value for `average`, one of (None, 'micro', 'macro', 'weighted', 'samples'). In cross validation use, for instance, scoring=\"f1_weighted\" instead of scoring=\"f1\".\n",
      "  sample_weight=sample_weight)\n",
      "/Users/michal/.pyenv/versions/byke/lib/python2.7/site-packages/sklearn/metrics/classification.py:1203: DeprecationWarning: The default `weighted` averaging is deprecated, and from version 0.18, use of precision, recall or F-score with multiclass or multilabel data or pos_label=None will result in an exception. Please set an explicit value for `average`, one of (None, 'micro', 'macro', 'weighted', 'samples'). In cross validation use, for instance, scoring=\"f1_weighted\" instead of scoring=\"f1\".\n",
      "  sample_weight=sample_weight)\n"
     ]
    },
    {
     "name": "stdout",
     "output_type": "stream",
     "text": [
      "couldnt run metrik  <function roc_curve at 0x10b098b18>  =>  Data is not binary and pos_label is not specified\n",
      "couldnt run metrik  <function roc_curve at 0x10b098b18>  =>  Data is not binary and pos_label is not specified\n",
      "starting num  14 {'feature_standard_scaling': 1, 'label_col': 'end_postal_code', 'classification': 'sgd'}\n"
     ]
    },
    {
     "name": "stderr",
     "output_type": "stream",
     "text": [
      "/Users/michal/.pyenv/versions/byke/lib/python2.7/site-packages/sklearn/metrics/classification.py:756: DeprecationWarning: The default `weighted` averaging is deprecated, and from version 0.18, use of precision, recall or F-score with multiclass or multilabel data or pos_label=None will result in an exception. Please set an explicit value for `average`, one of (None, 'micro', 'macro', 'weighted', 'samples'). In cross validation use, for instance, scoring=\"f1_weighted\" instead of scoring=\"f1\".\n",
      "  sample_weight=sample_weight)\n",
      "/Users/michal/.pyenv/versions/byke/lib/python2.7/site-packages/sklearn/metrics/classification.py:1304: DeprecationWarning: The default `weighted` averaging is deprecated, and from version 0.18, use of precision, recall or F-score with multiclass or multilabel data or pos_label=None will result in an exception. Please set an explicit value for `average`, one of (None, 'micro', 'macro', 'weighted', 'samples'). In cross validation use, for instance, scoring=\"f1_weighted\" instead of scoring=\"f1\".\n",
      "  sample_weight=sample_weight)\n",
      "/Users/michal/.pyenv/versions/byke/lib/python2.7/site-packages/sklearn/metrics/classification.py:1203: DeprecationWarning: The default `weighted` averaging is deprecated, and from version 0.18, use of precision, recall or F-score with multiclass or multilabel data or pos_label=None will result in an exception. Please set an explicit value for `average`, one of (None, 'micro', 'macro', 'weighted', 'samples'). In cross validation use, for instance, scoring=\"f1_weighted\" instead of scoring=\"f1\".\n",
      "  sample_weight=sample_weight)\n",
      "/Users/michal/.pyenv/versions/byke/lib/python2.7/site-packages/sklearn/metrics/classification.py:756: DeprecationWarning: The default `weighted` averaging is deprecated, and from version 0.18, use of precision, recall or F-score with multiclass or multilabel data or pos_label=None will result in an exception. Please set an explicit value for `average`, one of (None, 'micro', 'macro', 'weighted', 'samples'). In cross validation use, for instance, scoring=\"f1_weighted\" instead of scoring=\"f1\".\n",
      "  sample_weight=sample_weight)\n",
      "/Users/michal/.pyenv/versions/byke/lib/python2.7/site-packages/sklearn/metrics/classification.py:1304: DeprecationWarning: The default `weighted` averaging is deprecated, and from version 0.18, use of precision, recall or F-score with multiclass or multilabel data or pos_label=None will result in an exception. Please set an explicit value for `average`, one of (None, 'micro', 'macro', 'weighted', 'samples'). In cross validation use, for instance, scoring=\"f1_weighted\" instead of scoring=\"f1\".\n",
      "  sample_weight=sample_weight)\n",
      "/Users/michal/.pyenv/versions/byke/lib/python2.7/site-packages/sklearn/metrics/classification.py:1203: DeprecationWarning: The default `weighted` averaging is deprecated, and from version 0.18, use of precision, recall or F-score with multiclass or multilabel data or pos_label=None will result in an exception. Please set an explicit value for `average`, one of (None, 'micro', 'macro', 'weighted', 'samples'). In cross validation use, for instance, scoring=\"f1_weighted\" instead of scoring=\"f1\".\n",
      "  sample_weight=sample_weight)\n"
     ]
    },
    {
     "name": "stdout",
     "output_type": "stream",
     "text": [
      "couldnt run metrik  <function roc_curve at 0x10b098b18>  =>  Data is not binary and pos_label is not specified\n",
      "couldnt run metrik  <function roc_curve at 0x10b098b18>  =>  Data is not binary and pos_label is not specified\n",
      "starting num  15 {'feature_standard_scaling': 1, 'label_col': 'end_neighborhood', 'classification': 'sgd_grid'}\n"
     ]
    },
    {
     "name": "stderr",
     "output_type": "stream",
     "text": [
      "/Users/michal/.pyenv/versions/byke/lib/python2.7/site-packages/sklearn/metrics/classification.py:756: DeprecationWarning: The default `weighted` averaging is deprecated, and from version 0.18, use of precision, recall or F-score with multiclass or multilabel data or pos_label=None will result in an exception. Please set an explicit value for `average`, one of (None, 'micro', 'macro', 'weighted', 'samples'). In cross validation use, for instance, scoring=\"f1_weighted\" instead of scoring=\"f1\".\n",
      "  sample_weight=sample_weight)\n",
      "/Users/michal/.pyenv/versions/byke/lib/python2.7/site-packages/sklearn/metrics/classification.py:1304: DeprecationWarning: The default `weighted` averaging is deprecated, and from version 0.18, use of precision, recall or F-score with multiclass or multilabel data or pos_label=None will result in an exception. Please set an explicit value for `average`, one of (None, 'micro', 'macro', 'weighted', 'samples'). In cross validation use, for instance, scoring=\"f1_weighted\" instead of scoring=\"f1\".\n",
      "  sample_weight=sample_weight)\n",
      "/Users/michal/.pyenv/versions/byke/lib/python2.7/site-packages/sklearn/metrics/classification.py:1203: DeprecationWarning: The default `weighted` averaging is deprecated, and from version 0.18, use of precision, recall or F-score with multiclass or multilabel data or pos_label=None will result in an exception. Please set an explicit value for `average`, one of (None, 'micro', 'macro', 'weighted', 'samples'). In cross validation use, for instance, scoring=\"f1_weighted\" instead of scoring=\"f1\".\n",
      "  sample_weight=sample_weight)\n",
      "/Users/michal/.pyenv/versions/byke/lib/python2.7/site-packages/sklearn/metrics/classification.py:756: DeprecationWarning: The default `weighted` averaging is deprecated, and from version 0.18, use of precision, recall or F-score with multiclass or multilabel data or pos_label=None will result in an exception. Please set an explicit value for `average`, one of (None, 'micro', 'macro', 'weighted', 'samples'). In cross validation use, for instance, scoring=\"f1_weighted\" instead of scoring=\"f1\".\n",
      "  sample_weight=sample_weight)\n",
      "/Users/michal/.pyenv/versions/byke/lib/python2.7/site-packages/sklearn/metrics/classification.py:1304: DeprecationWarning: The default `weighted` averaging is deprecated, and from version 0.18, use of precision, recall or F-score with multiclass or multilabel data or pos_label=None will result in an exception. Please set an explicit value for `average`, one of (None, 'micro', 'macro', 'weighted', 'samples'). In cross validation use, for instance, scoring=\"f1_weighted\" instead of scoring=\"f1\".\n",
      "  sample_weight=sample_weight)\n",
      "/Users/michal/.pyenv/versions/byke/lib/python2.7/site-packages/sklearn/metrics/classification.py:1203: DeprecationWarning: The default `weighted` averaging is deprecated, and from version 0.18, use of precision, recall or F-score with multiclass or multilabel data or pos_label=None will result in an exception. Please set an explicit value for `average`, one of (None, 'micro', 'macro', 'weighted', 'samples'). In cross validation use, for instance, scoring=\"f1_weighted\" instead of scoring=\"f1\".\n",
      "  sample_weight=sample_weight)\n"
     ]
    },
    {
     "name": "stdout",
     "output_type": "stream",
     "text": [
      "couldnt run metrik  <function roc_curve at 0x10b098b18>  =>  Data is not binary and pos_label is not specified\n",
      "couldnt run metrik  <function roc_curve at 0x10b098b18>  =>  Data is not binary and pos_label is not specified\n",
      "starting num  16 {'feature_standard_scaling': 1, 'label_col': 'end_neighborhood', 'classification': 'lr'}\n"
     ]
    },
    {
     "name": "stderr",
     "output_type": "stream",
     "text": [
      "/Users/michal/.pyenv/versions/byke/lib/python2.7/site-packages/sklearn/metrics/classification.py:756: DeprecationWarning: The default `weighted` averaging is deprecated, and from version 0.18, use of precision, recall or F-score with multiclass or multilabel data or pos_label=None will result in an exception. Please set an explicit value for `average`, one of (None, 'micro', 'macro', 'weighted', 'samples'). In cross validation use, for instance, scoring=\"f1_weighted\" instead of scoring=\"f1\".\n",
      "  sample_weight=sample_weight)\n",
      "/Users/michal/.pyenv/versions/byke/lib/python2.7/site-packages/sklearn/metrics/classification.py:1304: DeprecationWarning: The default `weighted` averaging is deprecated, and from version 0.18, use of precision, recall or F-score with multiclass or multilabel data or pos_label=None will result in an exception. Please set an explicit value for `average`, one of (None, 'micro', 'macro', 'weighted', 'samples'). In cross validation use, for instance, scoring=\"f1_weighted\" instead of scoring=\"f1\".\n",
      "  sample_weight=sample_weight)\n",
      "/Users/michal/.pyenv/versions/byke/lib/python2.7/site-packages/sklearn/metrics/classification.py:1203: DeprecationWarning: The default `weighted` averaging is deprecated, and from version 0.18, use of precision, recall or F-score with multiclass or multilabel data or pos_label=None will result in an exception. Please set an explicit value for `average`, one of (None, 'micro', 'macro', 'weighted', 'samples'). In cross validation use, for instance, scoring=\"f1_weighted\" instead of scoring=\"f1\".\n",
      "  sample_weight=sample_weight)\n",
      "/Users/michal/.pyenv/versions/byke/lib/python2.7/site-packages/sklearn/metrics/classification.py:756: DeprecationWarning: The default `weighted` averaging is deprecated, and from version 0.18, use of precision, recall or F-score with multiclass or multilabel data or pos_label=None will result in an exception. Please set an explicit value for `average`, one of (None, 'micro', 'macro', 'weighted', 'samples'). In cross validation use, for instance, scoring=\"f1_weighted\" instead of scoring=\"f1\".\n",
      "  sample_weight=sample_weight)\n",
      "/Users/michal/.pyenv/versions/byke/lib/python2.7/site-packages/sklearn/metrics/classification.py:1304: DeprecationWarning: The default `weighted` averaging is deprecated, and from version 0.18, use of precision, recall or F-score with multiclass or multilabel data or pos_label=None will result in an exception. Please set an explicit value for `average`, one of (None, 'micro', 'macro', 'weighted', 'samples'). In cross validation use, for instance, scoring=\"f1_weighted\" instead of scoring=\"f1\".\n",
      "  sample_weight=sample_weight)\n",
      "/Users/michal/.pyenv/versions/byke/lib/python2.7/site-packages/sklearn/metrics/classification.py:1203: DeprecationWarning: The default `weighted` averaging is deprecated, and from version 0.18, use of precision, recall or F-score with multiclass or multilabel data or pos_label=None will result in an exception. Please set an explicit value for `average`, one of (None, 'micro', 'macro', 'weighted', 'samples'). In cross validation use, for instance, scoring=\"f1_weighted\" instead of scoring=\"f1\".\n",
      "  sample_weight=sample_weight)\n"
     ]
    },
    {
     "name": "stdout",
     "output_type": "stream",
     "text": [
      "couldnt run metrik  <function roc_curve at 0x10b098b18>  =>  Data is not binary and pos_label is not specified\n",
      "couldnt run metrik  <function roc_curve at 0x10b098b18>  =>  Data is not binary and pos_label is not specified\n",
      "starting num  17 {'feature_standard_scaling': 1, 'label_col': 'end_neighborhood', 'classification': 'sgd'}\n",
      "couldnt run metrik  <function roc_curve at 0x10b098b18>  =>  Data is not binary and pos_label is not specified\n",
      "couldnt run metrik  <function roc_curve at 0x10b098b18>  =>  Data is not binary and pos_label is not specified\n"
     ]
    },
    {
     "name": "stderr",
     "output_type": "stream",
     "text": [
      "/Users/michal/.pyenv/versions/byke/lib/python2.7/site-packages/sklearn/metrics/classification.py:756: DeprecationWarning: The default `weighted` averaging is deprecated, and from version 0.18, use of precision, recall or F-score with multiclass or multilabel data or pos_label=None will result in an exception. Please set an explicit value for `average`, one of (None, 'micro', 'macro', 'weighted', 'samples'). In cross validation use, for instance, scoring=\"f1_weighted\" instead of scoring=\"f1\".\n",
      "  sample_weight=sample_weight)\n",
      "/Users/michal/.pyenv/versions/byke/lib/python2.7/site-packages/sklearn/metrics/classification.py:1304: DeprecationWarning: The default `weighted` averaging is deprecated, and from version 0.18, use of precision, recall or F-score with multiclass or multilabel data or pos_label=None will result in an exception. Please set an explicit value for `average`, one of (None, 'micro', 'macro', 'weighted', 'samples'). In cross validation use, for instance, scoring=\"f1_weighted\" instead of scoring=\"f1\".\n",
      "  sample_weight=sample_weight)\n",
      "/Users/michal/.pyenv/versions/byke/lib/python2.7/site-packages/sklearn/metrics/classification.py:1203: DeprecationWarning: The default `weighted` averaging is deprecated, and from version 0.18, use of precision, recall or F-score with multiclass or multilabel data or pos_label=None will result in an exception. Please set an explicit value for `average`, one of (None, 'micro', 'macro', 'weighted', 'samples'). In cross validation use, for instance, scoring=\"f1_weighted\" instead of scoring=\"f1\".\n",
      "  sample_weight=sample_weight)\n",
      "/Users/michal/.pyenv/versions/byke/lib/python2.7/site-packages/sklearn/metrics/classification.py:756: DeprecationWarning: The default `weighted` averaging is deprecated, and from version 0.18, use of precision, recall or F-score with multiclass or multilabel data or pos_label=None will result in an exception. Please set an explicit value for `average`, one of (None, 'micro', 'macro', 'weighted', 'samples'). In cross validation use, for instance, scoring=\"f1_weighted\" instead of scoring=\"f1\".\n",
      "  sample_weight=sample_weight)\n",
      "/Users/michal/.pyenv/versions/byke/lib/python2.7/site-packages/sklearn/metrics/classification.py:1304: DeprecationWarning: The default `weighted` averaging is deprecated, and from version 0.18, use of precision, recall or F-score with multiclass or multilabel data or pos_label=None will result in an exception. Please set an explicit value for `average`, one of (None, 'micro', 'macro', 'weighted', 'samples'). In cross validation use, for instance, scoring=\"f1_weighted\" instead of scoring=\"f1\".\n",
      "  sample_weight=sample_weight)\n",
      "/Users/michal/.pyenv/versions/byke/lib/python2.7/site-packages/sklearn/metrics/classification.py:1203: DeprecationWarning: The default `weighted` averaging is deprecated, and from version 0.18, use of precision, recall or F-score with multiclass or multilabel data or pos_label=None will result in an exception. Please set an explicit value for `average`, one of (None, 'micro', 'macro', 'weighted', 'samples'). In cross validation use, for instance, scoring=\"f1_weighted\" instead of scoring=\"f1\".\n",
      "  sample_weight=sample_weight)\n"
     ]
    }
   ],
   "source": [
    "results = experiment_with_sgd(next_df)"
   ]
  },
  {
   "cell_type": "code",
   "execution_count": 14,
   "metadata": {
    "collapsed": false
   },
   "outputs": [
    {
     "data": {
      "text/plain": [
       "18"
      ]
     },
     "execution_count": 14,
     "metadata": {},
     "output_type": "execute_result"
    }
   ],
   "source": [
    "len(results)"
   ]
  },
  {
   "cell_type": "code",
   "execution_count": 16,
   "metadata": {
    "collapsed": true
   },
   "outputs": [],
   "source": [
    "results2_df = _df_from_results(results)"
   ]
  },
  {
   "cell_type": "code",
   "execution_count": 17,
   "metadata": {
    "collapsed": false,
    "scrolled": true
   },
   "outputs": [
    {
     "data": {
      "text/html": [
       "<div>\n",
       "<table border=\"1\" class=\"dataframe\">\n",
       "  <thead>\n",
       "    <tr style=\"text-align: right;\">\n",
       "      <th></th>\n",
       "      <th>indx</th>\n",
       "      <th>feature_standard_scaling</th>\n",
       "      <th>label_col</th>\n",
       "      <th>classification</th>\n",
       "      <th>accuracy_score</th>\n",
       "      <th>f1_score</th>\n",
       "      <th>recall_score</th>\n",
       "      <th>precision_score</th>\n",
       "    </tr>\n",
       "  </thead>\n",
       "  <tbody>\n",
       "    <tr>\n",
       "      <th>0</th>\n",
       "      <td>0</td>\n",
       "      <td>0</td>\n",
       "      <td>end_sublocality</td>\n",
       "      <td>sgd_grid</td>\n",
       "      <td>0.812601</td>\n",
       "      <td>0.841883</td>\n",
       "      <td>0.812601</td>\n",
       "      <td>0.884189</td>\n",
       "    </tr>\n",
       "    <tr>\n",
       "      <th>1</th>\n",
       "      <td>1</td>\n",
       "      <td>0</td>\n",
       "      <td>end_sublocality</td>\n",
       "      <td>lr</td>\n",
       "      <td>0.949919</td>\n",
       "      <td>0.944569</td>\n",
       "      <td>0.949919</td>\n",
       "      <td>0.940708</td>\n",
       "    </tr>\n",
       "    <tr>\n",
       "      <th>2</th>\n",
       "      <td>2</td>\n",
       "      <td>0</td>\n",
       "      <td>end_sublocality</td>\n",
       "      <td>sgd</td>\n",
       "      <td>0.916532</td>\n",
       "      <td>0.876616</td>\n",
       "      <td>0.916532</td>\n",
       "      <td>0.840031</td>\n",
       "    </tr>\n",
       "    <tr>\n",
       "      <th>3</th>\n",
       "      <td>3</td>\n",
       "      <td>0</td>\n",
       "      <td>end_postal_code</td>\n",
       "      <td>sgd_grid</td>\n",
       "      <td>0.068413</td>\n",
       "      <td>0.009632</td>\n",
       "      <td>0.068413</td>\n",
       "      <td>0.006215</td>\n",
       "    </tr>\n",
       "    <tr>\n",
       "      <th>4</th>\n",
       "      <td>4</td>\n",
       "      <td>0</td>\n",
       "      <td>end_postal_code</td>\n",
       "      <td>lr</td>\n",
       "      <td>0.125601</td>\n",
       "      <td>0.055104</td>\n",
       "      <td>0.125601</td>\n",
       "      <td>0.045031</td>\n",
       "    </tr>\n",
       "  </tbody>\n",
       "</table>\n",
       "</div>"
      ],
      "text/plain": [
       "   indx  feature_standard_scaling        label_col classification  \\\n",
       "0     0                         0  end_sublocality       sgd_grid   \n",
       "1     1                         0  end_sublocality             lr   \n",
       "2     2                         0  end_sublocality            sgd   \n",
       "3     3                         0  end_postal_code       sgd_grid   \n",
       "4     4                         0  end_postal_code             lr   \n",
       "\n",
       "   accuracy_score  f1_score  recall_score  precision_score  \n",
       "0        0.812601  0.841883      0.812601         0.884189  \n",
       "1        0.949919  0.944569      0.949919         0.940708  \n",
       "2        0.916532  0.876616      0.916532         0.840031  \n",
       "3        0.068413  0.009632      0.068413         0.006215  \n",
       "4        0.125601  0.055104      0.125601         0.045031  "
      ]
     },
     "execution_count": 17,
     "metadata": {},
     "output_type": "execute_result"
    }
   ],
   "source": [
    "results2_df.head()"
   ]
  },
  {
   "cell_type": "code",
   "execution_count": 19,
   "metadata": {
    "collapsed": false
   },
   "outputs": [
    {
     "data": {
      "image/png": "[encoded data removed]",
      "text/plain": [
       "<matplotlib.figure.Figure at 0x10af85cd0>"
      ]
     },
     "metadata": {},
     "output_type": "display_data"
    }
   ],
   "source": [
    "# see how sgd_grid compares in general, along accuracy, \n",
    "sns.lmplot(\"f1_score\", \"accuracy_score\",\n",
    "           results2_df,\n",
    "           col=\"classification\");"
   ]
  },
  {
   "cell_type": "code",
   "execution_count": 30,
   "metadata": {
    "collapsed": false,
    "scrolled": true
   },
   "outputs": [
    {
     "data": {
      "image/png": "[encoded data removed]",
      "text/plain": [
       "<matplotlib.figure.Figure at 0x10d302b10>"
      ]
     },
     "metadata": {},
     "output_type": "display_data"
    }
   ],
   "source": [
    "# see how sgd_grid compares in general, along accuracy, \n",
    "sns.lmplot(\"f1_score\", \"accuracy_score\",\n",
    "           results2_df[results2_df['label_col'] == 'end_neighborhood'],\n",
    "           col=\"classification\");"
   ]
  },
  {
   "cell_type": "code",
   "execution_count": 35,
   "metadata": {
    "collapsed": true
   },
   "outputs": [],
   "source": [
    "results2_sorted_by_accuracy = re_index(results2_df.sort_values('accuracy_score'))\n",
    "results2_sorted_by_accuracy['indx'] = results2_sorted_by_accuracy.index\n"
   ]
  },
  {
   "cell_type": "markdown",
   "metadata": {},
   "source": [
    "###### looking at some of latest sgd_grid results\n",
    "Very strange that sgd with more optimized alpha has worse performance that sgd using some randomly chosen alpha. That doesnt make much sense yet. There might be an error in useage somewhere."
   ]
  },
  {
   "cell_type": "code",
   "execution_count": 36,
   "metadata": {
    "collapsed": false,
    "scrolled": true
   },
   "outputs": [
    {
     "data": {
      "text/html": [
       "<div>\n",
       "<table border=\"1\" class=\"dataframe\">\n",
       "  <thead>\n",
       "    <tr style=\"text-align: right;\">\n",
       "      <th></th>\n",
       "      <th>indx</th>\n",
       "      <th>feature_standard_scaling</th>\n",
       "      <th>label_col</th>\n",
       "      <th>classification</th>\n",
       "      <th>accuracy_score</th>\n",
       "      <th>f1_score</th>\n",
       "      <th>recall_score</th>\n",
       "      <th>precision_score</th>\n",
       "    </tr>\n",
       "  </thead>\n",
       "  <tbody>\n",
       "    <tr>\n",
       "      <th>0</th>\n",
       "      <td>0</td>\n",
       "      <td>0</td>\n",
       "      <td>end_neighborhood</td>\n",
       "      <td>sgd_grid</td>\n",
       "      <td>0.039088</td>\n",
       "      <td>0.002941</td>\n",
       "      <td>0.039088</td>\n",
       "      <td>0.001528</td>\n",
       "    </tr>\n",
       "    <tr>\n",
       "      <th>1</th>\n",
       "      <td>1</td>\n",
       "      <td>0</td>\n",
       "      <td>end_postal_code</td>\n",
       "      <td>sgd</td>\n",
       "      <td>0.059327</td>\n",
       "      <td>0.006645</td>\n",
       "      <td>0.059327</td>\n",
       "      <td>0.003520</td>\n",
       "    </tr>\n",
       "    <tr>\n",
       "      <th>2</th>\n",
       "      <td>2</td>\n",
       "      <td>1</td>\n",
       "      <td>end_postal_code</td>\n",
       "      <td>sgd_grid</td>\n",
       "      <td>0.065206</td>\n",
       "      <td>0.050477</td>\n",
       "      <td>0.065206</td>\n",
       "      <td>0.082727</td>\n",
       "    </tr>\n",
       "    <tr>\n",
       "      <th>3</th>\n",
       "      <td>3</td>\n",
       "      <td>0</td>\n",
       "      <td>end_postal_code</td>\n",
       "      <td>sgd_grid</td>\n",
       "      <td>0.068413</td>\n",
       "      <td>0.009632</td>\n",
       "      <td>0.068413</td>\n",
       "      <td>0.006215</td>\n",
       "    </tr>\n",
       "    <tr>\n",
       "      <th>4</th>\n",
       "      <td>4</td>\n",
       "      <td>1</td>\n",
       "      <td>end_postal_code</td>\n",
       "      <td>sgd</td>\n",
       "      <td>0.087654</td>\n",
       "      <td>0.064523</td>\n",
       "      <td>0.087654</td>\n",
       "      <td>0.088158</td>\n",
       "    </tr>\n",
       "    <tr>\n",
       "      <th>5</th>\n",
       "      <td>5</td>\n",
       "      <td>0</td>\n",
       "      <td>end_postal_code</td>\n",
       "      <td>lr</td>\n",
       "      <td>0.125601</td>\n",
       "      <td>0.055104</td>\n",
       "      <td>0.125601</td>\n",
       "      <td>0.045031</td>\n",
       "    </tr>\n",
       "    <tr>\n",
       "      <th>6</th>\n",
       "      <td>6</td>\n",
       "      <td>1</td>\n",
       "      <td>end_postal_code</td>\n",
       "      <td>lr</td>\n",
       "      <td>0.155532</td>\n",
       "      <td>0.077763</td>\n",
       "      <td>0.155532</td>\n",
       "      <td>0.079457</td>\n",
       "    </tr>\n",
       "    <tr>\n",
       "      <th>7</th>\n",
       "      <td>7</td>\n",
       "      <td>0</td>\n",
       "      <td>end_neighborhood</td>\n",
       "      <td>sgd</td>\n",
       "      <td>0.279045</td>\n",
       "      <td>0.121808</td>\n",
       "      <td>0.279045</td>\n",
       "      <td>0.077908</td>\n",
       "    </tr>\n",
       "    <tr>\n",
       "      <th>8</th>\n",
       "      <td>8</td>\n",
       "      <td>1</td>\n",
       "      <td>end_neighborhood</td>\n",
       "      <td>sgd_grid</td>\n",
       "      <td>0.325190</td>\n",
       "      <td>0.279774</td>\n",
       "      <td>0.325190</td>\n",
       "      <td>0.265358</td>\n",
       "    </tr>\n",
       "    <tr>\n",
       "      <th>9</th>\n",
       "      <td>9</td>\n",
       "      <td>1</td>\n",
       "      <td>end_neighborhood</td>\n",
       "      <td>sgd</td>\n",
       "      <td>0.346363</td>\n",
       "      <td>0.314855</td>\n",
       "      <td>0.346363</td>\n",
       "      <td>0.313023</td>\n",
       "    </tr>\n",
       "    <tr>\n",
       "      <th>10</th>\n",
       "      <td>10</td>\n",
       "      <td>0</td>\n",
       "      <td>end_neighborhood</td>\n",
       "      <td>lr</td>\n",
       "      <td>0.399566</td>\n",
       "      <td>0.297787</td>\n",
       "      <td>0.399566</td>\n",
       "      <td>0.291081</td>\n",
       "    </tr>\n",
       "    <tr>\n",
       "      <th>11</th>\n",
       "      <td>11</td>\n",
       "      <td>1</td>\n",
       "      <td>end_neighborhood</td>\n",
       "      <td>lr</td>\n",
       "      <td>0.407709</td>\n",
       "      <td>0.302879</td>\n",
       "      <td>0.407709</td>\n",
       "      <td>0.319418</td>\n",
       "    </tr>\n",
       "    <tr>\n",
       "      <th>12</th>\n",
       "      <td>12</td>\n",
       "      <td>0</td>\n",
       "      <td>end_sublocality</td>\n",
       "      <td>sgd_grid</td>\n",
       "      <td>0.812601</td>\n",
       "      <td>0.841883</td>\n",
       "      <td>0.812601</td>\n",
       "      <td>0.884189</td>\n",
       "    </tr>\n",
       "    <tr>\n",
       "      <th>13</th>\n",
       "      <td>13</td>\n",
       "      <td>0</td>\n",
       "      <td>end_sublocality</td>\n",
       "      <td>sgd</td>\n",
       "      <td>0.916532</td>\n",
       "      <td>0.876616</td>\n",
       "      <td>0.916532</td>\n",
       "      <td>0.840031</td>\n",
       "    </tr>\n",
       "    <tr>\n",
       "      <th>14</th>\n",
       "      <td>14</td>\n",
       "      <td>0</td>\n",
       "      <td>end_sublocality</td>\n",
       "      <td>lr</td>\n",
       "      <td>0.949919</td>\n",
       "      <td>0.944569</td>\n",
       "      <td>0.949919</td>\n",
       "      <td>0.940708</td>\n",
       "    </tr>\n",
       "    <tr>\n",
       "      <th>15</th>\n",
       "      <td>15</td>\n",
       "      <td>1</td>\n",
       "      <td>end_sublocality</td>\n",
       "      <td>sgd_grid</td>\n",
       "      <td>0.957458</td>\n",
       "      <td>0.956446</td>\n",
       "      <td>0.957458</td>\n",
       "      <td>0.956674</td>\n",
       "    </tr>\n",
       "    <tr>\n",
       "      <th>16</th>\n",
       "      <td>16</td>\n",
       "      <td>1</td>\n",
       "      <td>end_sublocality</td>\n",
       "      <td>lr</td>\n",
       "      <td>0.959612</td>\n",
       "      <td>0.961182</td>\n",
       "      <td>0.959612</td>\n",
       "      <td>0.964560</td>\n",
       "    </tr>\n",
       "    <tr>\n",
       "      <th>17</th>\n",
       "      <td>17</td>\n",
       "      <td>1</td>\n",
       "      <td>end_sublocality</td>\n",
       "      <td>sgd</td>\n",
       "      <td>0.963382</td>\n",
       "      <td>0.964638</td>\n",
       "      <td>0.963382</td>\n",
       "      <td>0.966609</td>\n",
       "    </tr>\n",
       "  </tbody>\n",
       "</table>\n",
       "</div>"
      ],
      "text/plain": [
       "    indx  feature_standard_scaling         label_col classification  \\\n",
       "0      0                         0  end_neighborhood       sgd_grid   \n",
       "1      1                         0   end_postal_code            sgd   \n",
       "2      2                         1   end_postal_code       sgd_grid   \n",
       "3      3                         0   end_postal_code       sgd_grid   \n",
       "4      4                         1   end_postal_code            sgd   \n",
       "5      5                         0   end_postal_code             lr   \n",
       "6      6                         1   end_postal_code             lr   \n",
       "7      7                         0  end_neighborhood            sgd   \n",
       "8      8                         1  end_neighborhood       sgd_grid   \n",
       "9      9                         1  end_neighborhood            sgd   \n",
       "10    10                         0  end_neighborhood             lr   \n",
       "11    11                         1  end_neighborhood             lr   \n",
       "12    12                         0   end_sublocality       sgd_grid   \n",
       "13    13                         0   end_sublocality            sgd   \n",
       "14    14                         0   end_sublocality             lr   \n",
       "15    15                         1   end_sublocality       sgd_grid   \n",
       "16    16                         1   end_sublocality             lr   \n",
       "17    17                         1   end_sublocality            sgd   \n",
       "\n",
       "    accuracy_score  f1_score  recall_score  precision_score  \n",
       "0         0.039088  0.002941      0.039088         0.001528  \n",
       "1         0.059327  0.006645      0.059327         0.003520  \n",
       "2         0.065206  0.050477      0.065206         0.082727  \n",
       "3         0.068413  0.009632      0.068413         0.006215  \n",
       "4         0.087654  0.064523      0.087654         0.088158  \n",
       "5         0.125601  0.055104      0.125601         0.045031  \n",
       "6         0.155532  0.077763      0.155532         0.079457  \n",
       "7         0.279045  0.121808      0.279045         0.077908  \n",
       "8         0.325190  0.279774      0.325190         0.265358  \n",
       "9         0.346363  0.314855      0.346363         0.313023  \n",
       "10        0.399566  0.297787      0.399566         0.291081  \n",
       "11        0.407709  0.302879      0.407709         0.319418  \n",
       "12        0.812601  0.841883      0.812601         0.884189  \n",
       "13        0.916532  0.876616      0.916532         0.840031  \n",
       "14        0.949919  0.944569      0.949919         0.940708  \n",
       "15        0.957458  0.956446      0.957458         0.956674  \n",
       "16        0.959612  0.961182      0.959612         0.964560  \n",
       "17        0.963382  0.964638      0.963382         0.966609  "
      ]
     },
     "execution_count": 36,
     "metadata": {},
     "output_type": "execute_result"
    }
   ],
   "source": [
    "results2_sorted_by_accuracy"
   ]
  },
  {
   "cell_type": "code",
   "execution_count": 37,
   "metadata": {
    "collapsed": true
   },
   "outputs": [],
   "source": [
    "results2_sorted_by_precision = re_index(results2_df.sort_values('accuracy_score'))\n",
    "results2_sorted_by_precision['indx'] = results2_sorted_by_precision.index\n",
    "\n"
   ]
  },
  {
   "cell_type": "code",
   "execution_count": null,
   "metadata": {
    "collapsed": true
   },
   "outputs": [],
   "source": [
    "# Also, other basic metrics follow accuracy here for the different pipeline setups."
   ]
  },
  {
   "cell_type": "code",
   "execution_count": 38,
   "metadata": {
    "collapsed": false,
    "scrolled": true
   },
   "outputs": [
    {
     "data": {
      "text/html": [
       "<div>\n",
       "<table border=\"1\" class=\"dataframe\">\n",
       "  <thead>\n",
       "    <tr style=\"text-align: right;\">\n",
       "      <th></th>\n",
       "      <th>indx</th>\n",
       "      <th>feature_standard_scaling</th>\n",
       "      <th>label_col</th>\n",
       "      <th>classification</th>\n",
       "      <th>accuracy_score</th>\n",
       "      <th>f1_score</th>\n",
       "      <th>recall_score</th>\n",
       "      <th>precision_score</th>\n",
       "    </tr>\n",
       "  </thead>\n",
       "  <tbody>\n",
       "    <tr>\n",
       "      <th>0</th>\n",
       "      <td>0</td>\n",
       "      <td>0</td>\n",
       "      <td>end_neighborhood</td>\n",
       "      <td>sgd_grid</td>\n",
       "      <td>0.039088</td>\n",
       "      <td>0.002941</td>\n",
       "      <td>0.039088</td>\n",
       "      <td>0.001528</td>\n",
       "    </tr>\n",
       "    <tr>\n",
       "      <th>1</th>\n",
       "      <td>1</td>\n",
       "      <td>0</td>\n",
       "      <td>end_postal_code</td>\n",
       "      <td>sgd</td>\n",
       "      <td>0.059327</td>\n",
       "      <td>0.006645</td>\n",
       "      <td>0.059327</td>\n",
       "      <td>0.003520</td>\n",
       "    </tr>\n",
       "    <tr>\n",
       "      <th>2</th>\n",
       "      <td>2</td>\n",
       "      <td>1</td>\n",
       "      <td>end_postal_code</td>\n",
       "      <td>sgd_grid</td>\n",
       "      <td>0.065206</td>\n",
       "      <td>0.050477</td>\n",
       "      <td>0.065206</td>\n",
       "      <td>0.082727</td>\n",
       "    </tr>\n",
       "    <tr>\n",
       "      <th>3</th>\n",
       "      <td>3</td>\n",
       "      <td>0</td>\n",
       "      <td>end_postal_code</td>\n",
       "      <td>sgd_grid</td>\n",
       "      <td>0.068413</td>\n",
       "      <td>0.009632</td>\n",
       "      <td>0.068413</td>\n",
       "      <td>0.006215</td>\n",
       "    </tr>\n",
       "    <tr>\n",
       "      <th>4</th>\n",
       "      <td>4</td>\n",
       "      <td>1</td>\n",
       "      <td>end_postal_code</td>\n",
       "      <td>sgd</td>\n",
       "      <td>0.087654</td>\n",
       "      <td>0.064523</td>\n",
       "      <td>0.087654</td>\n",
       "      <td>0.088158</td>\n",
       "    </tr>\n",
       "    <tr>\n",
       "      <th>5</th>\n",
       "      <td>5</td>\n",
       "      <td>0</td>\n",
       "      <td>end_postal_code</td>\n",
       "      <td>lr</td>\n",
       "      <td>0.125601</td>\n",
       "      <td>0.055104</td>\n",
       "      <td>0.125601</td>\n",
       "      <td>0.045031</td>\n",
       "    </tr>\n",
       "    <tr>\n",
       "      <th>6</th>\n",
       "      <td>6</td>\n",
       "      <td>1</td>\n",
       "      <td>end_postal_code</td>\n",
       "      <td>lr</td>\n",
       "      <td>0.155532</td>\n",
       "      <td>0.077763</td>\n",
       "      <td>0.155532</td>\n",
       "      <td>0.079457</td>\n",
       "    </tr>\n",
       "    <tr>\n",
       "      <th>7</th>\n",
       "      <td>7</td>\n",
       "      <td>0</td>\n",
       "      <td>end_neighborhood</td>\n",
       "      <td>sgd</td>\n",
       "      <td>0.279045</td>\n",
       "      <td>0.121808</td>\n",
       "      <td>0.279045</td>\n",
       "      <td>0.077908</td>\n",
       "    </tr>\n",
       "    <tr>\n",
       "      <th>8</th>\n",
       "      <td>8</td>\n",
       "      <td>1</td>\n",
       "      <td>end_neighborhood</td>\n",
       "      <td>sgd_grid</td>\n",
       "      <td>0.325190</td>\n",
       "      <td>0.279774</td>\n",
       "      <td>0.325190</td>\n",
       "      <td>0.265358</td>\n",
       "    </tr>\n",
       "    <tr>\n",
       "      <th>9</th>\n",
       "      <td>9</td>\n",
       "      <td>1</td>\n",
       "      <td>end_neighborhood</td>\n",
       "      <td>sgd</td>\n",
       "      <td>0.346363</td>\n",
       "      <td>0.314855</td>\n",
       "      <td>0.346363</td>\n",
       "      <td>0.313023</td>\n",
       "    </tr>\n",
       "    <tr>\n",
       "      <th>10</th>\n",
       "      <td>10</td>\n",
       "      <td>0</td>\n",
       "      <td>end_neighborhood</td>\n",
       "      <td>lr</td>\n",
       "      <td>0.399566</td>\n",
       "      <td>0.297787</td>\n",
       "      <td>0.399566</td>\n",
       "      <td>0.291081</td>\n",
       "    </tr>\n",
       "    <tr>\n",
       "      <th>11</th>\n",
       "      <td>11</td>\n",
       "      <td>1</td>\n",
       "      <td>end_neighborhood</td>\n",
       "      <td>lr</td>\n",
       "      <td>0.407709</td>\n",
       "      <td>0.302879</td>\n",
       "      <td>0.407709</td>\n",
       "      <td>0.319418</td>\n",
       "    </tr>\n",
       "    <tr>\n",
       "      <th>12</th>\n",
       "      <td>12</td>\n",
       "      <td>0</td>\n",
       "      <td>end_sublocality</td>\n",
       "      <td>sgd_grid</td>\n",
       "      <td>0.812601</td>\n",
       "      <td>0.841883</td>\n",
       "      <td>0.812601</td>\n",
       "      <td>0.884189</td>\n",
       "    </tr>\n",
       "    <tr>\n",
       "      <th>13</th>\n",
       "      <td>13</td>\n",
       "      <td>0</td>\n",
       "      <td>end_sublocality</td>\n",
       "      <td>sgd</td>\n",
       "      <td>0.916532</td>\n",
       "      <td>0.876616</td>\n",
       "      <td>0.916532</td>\n",
       "      <td>0.840031</td>\n",
       "    </tr>\n",
       "    <tr>\n",
       "      <th>14</th>\n",
       "      <td>14</td>\n",
       "      <td>0</td>\n",
       "      <td>end_sublocality</td>\n",
       "      <td>lr</td>\n",
       "      <td>0.949919</td>\n",
       "      <td>0.944569</td>\n",
       "      <td>0.949919</td>\n",
       "      <td>0.940708</td>\n",
       "    </tr>\n",
       "    <tr>\n",
       "      <th>15</th>\n",
       "      <td>15</td>\n",
       "      <td>1</td>\n",
       "      <td>end_sublocality</td>\n",
       "      <td>sgd_grid</td>\n",
       "      <td>0.957458</td>\n",
       "      <td>0.956446</td>\n",
       "      <td>0.957458</td>\n",
       "      <td>0.956674</td>\n",
       "    </tr>\n",
       "    <tr>\n",
       "      <th>16</th>\n",
       "      <td>16</td>\n",
       "      <td>1</td>\n",
       "      <td>end_sublocality</td>\n",
       "      <td>lr</td>\n",
       "      <td>0.959612</td>\n",
       "      <td>0.961182</td>\n",
       "      <td>0.959612</td>\n",
       "      <td>0.964560</td>\n",
       "    </tr>\n",
       "    <tr>\n",
       "      <th>17</th>\n",
       "      <td>17</td>\n",
       "      <td>1</td>\n",
       "      <td>end_sublocality</td>\n",
       "      <td>sgd</td>\n",
       "      <td>0.963382</td>\n",
       "      <td>0.964638</td>\n",
       "      <td>0.963382</td>\n",
       "      <td>0.966609</td>\n",
       "    </tr>\n",
       "  </tbody>\n",
       "</table>\n",
       "</div>"
      ],
      "text/plain": [
       "    indx  feature_standard_scaling         label_col classification  \\\n",
       "0      0                         0  end_neighborhood       sgd_grid   \n",
       "1      1                         0   end_postal_code            sgd   \n",
       "2      2                         1   end_postal_code       sgd_grid   \n",
       "3      3                         0   end_postal_code       sgd_grid   \n",
       "4      4                         1   end_postal_code            sgd   \n",
       "5      5                         0   end_postal_code             lr   \n",
       "6      6                         1   end_postal_code             lr   \n",
       "7      7                         0  end_neighborhood            sgd   \n",
       "8      8                         1  end_neighborhood       sgd_grid   \n",
       "9      9                         1  end_neighborhood            sgd   \n",
       "10    10                         0  end_neighborhood             lr   \n",
       "11    11                         1  end_neighborhood             lr   \n",
       "12    12                         0   end_sublocality       sgd_grid   \n",
       "13    13                         0   end_sublocality            sgd   \n",
       "14    14                         0   end_sublocality             lr   \n",
       "15    15                         1   end_sublocality       sgd_grid   \n",
       "16    16                         1   end_sublocality             lr   \n",
       "17    17                         1   end_sublocality            sgd   \n",
       "\n",
       "    accuracy_score  f1_score  recall_score  precision_score  \n",
       "0         0.039088  0.002941      0.039088         0.001528  \n",
       "1         0.059327  0.006645      0.059327         0.003520  \n",
       "2         0.065206  0.050477      0.065206         0.082727  \n",
       "3         0.068413  0.009632      0.068413         0.006215  \n",
       "4         0.087654  0.064523      0.087654         0.088158  \n",
       "5         0.125601  0.055104      0.125601         0.045031  \n",
       "6         0.155532  0.077763      0.155532         0.079457  \n",
       "7         0.279045  0.121808      0.279045         0.077908  \n",
       "8         0.325190  0.279774      0.325190         0.265358  \n",
       "9         0.346363  0.314855      0.346363         0.313023  \n",
       "10        0.399566  0.297787      0.399566         0.291081  \n",
       "11        0.407709  0.302879      0.407709         0.319418  \n",
       "12        0.812601  0.841883      0.812601         0.884189  \n",
       "13        0.916532  0.876616      0.916532         0.840031  \n",
       "14        0.949919  0.944569      0.949919         0.940708  \n",
       "15        0.957458  0.956446      0.957458         0.956674  \n",
       "16        0.959612  0.961182      0.959612         0.964560  \n",
       "17        0.963382  0.964638      0.963382         0.966609  "
      ]
     },
     "execution_count": 38,
     "metadata": {},
     "output_type": "execute_result"
    }
   ],
   "source": [
    "results2_sorted_by_precision"
   ]
  },
  {
   "cell_type": "code",
   "execution_count": 39,
   "metadata": {
    "collapsed": true
   },
   "outputs": [],
   "source": [
    "# \n",
    "# using more data in the pipeline... \n",
    "# currently using 'data/201510-citibike-tripdata.csv.annotated.mini.02212016T1641.csv' \n",
    "# which has data prepared earlier. \n"
   ]
  },
  {
   "cell_type": "code",
   "execution_count": null,
   "metadata": {
    "collapsed": true
   },
   "outputs": [],
   "source": []
  }
 ],
 "metadata": {
  "kernelspec": {
   "display_name": "Python 2",
   "language": "python",
   "name": "python2"
  },
  "language_info": {
   "codemirror_mode": {
    "name": "ipython",
    "version": 2
   },
   "file_extension": ".py",
   "mimetype": "text/x-python",
   "name": "python",
   "nbconvert_exporter": "python",
   "pygments_lexer": "ipython2",
   "version": "2.7.8"
  }
 },
 "nbformat": 4,
 "nbformat_minor": 0
}
