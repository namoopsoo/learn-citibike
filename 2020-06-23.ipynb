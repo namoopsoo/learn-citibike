{
 "cells": [
  {
   "cell_type": "code",
   "execution_count": 1,
   "metadata": {},
   "outputs": [],
   "source": [
    "import pandas as pd\n",
    "import xgboost as xgb\n",
    "from xgboost import XGBClassifier\n",
    "import datetime; import pytz\n",
    "import matplotlib.pyplot as plt\n",
    "from scipy.special import softmax\n",
    "from sklearn.model_selection import cross_val_score\n",
    "from sklearn.model_selection import train_test_split # (*arrays, **options)\n",
    "import numpy as np\n",
    "from sklearn.metrics import log_loss\n",
    "from sklearn.preprocessing import OneHotEncoder, LabelEncoder\n",
    "\n",
    "from joblib import dump, load\n",
    "import joblib\n",
    "import os\n",
    "from sklearn.metrics import confusion_matrix, mean_squared_error\n",
    "from sklearn.model_selection import KFold, train_test_split, GridSearchCV\n",
    "from sklearn.metrics import accuracy_score\n",
    "import fresh.utils as fu\n",
    "\n",
    "from importlib import reload\n",
    "from collections import Counter\n",
    "from tqdm.notebook import tqdm\n",
    "import fresh.preproc.v1 as pv1"
   ]
  },
  {
   "cell_type": "code",
   "execution_count": 42,
   "metadata": {},
   "outputs": [
    {
     "data": {
      "text/plain": [
       "<module 'fresh.utils' from '/opt/program/fresh/utils.py'>"
      ]
     },
     "execution_count": 42,
     "metadata": {},
     "output_type": "execute_result"
    }
   ],
   "source": [
    "reload(fu)"
   ]
  },
  {
   "cell_type": "code",
   "execution_count": 2,
   "metadata": {},
   "outputs": [],
   "source": [
    "datadir = '/opt/data'\n",
    "localdir = '/opt/program'\n",
    "\n",
    "\n",
    "tripsdf = pd.read_csv(f'{datadir}/2013-07 - Citi Bike trip data.csv'\n",
    "                     )#.sample(frac=0.017, random_state=42)\n",
    "stationsdf = pd.read_csv(f'{localdir}/datas/stations/stations-2018-12-04-c.csv',\n",
    "                        index_col=0)"
   ]
  },
  {
   "cell_type": "code",
   "execution_count": 3,
   "metadata": {
    "scrolled": true
   },
   "outputs": [
    {
     "data": {
      "text/plain": [
       "tripduration                               634\n",
       "starttime                  2013-07-01 00:00:00\n",
       "stoptime                   2013-07-01 00:10:34\n",
       "start station id                           164\n",
       "start station name             E 47 St & 2 Ave\n",
       "start station latitude                 40.7532\n",
       "start station longitude               -73.9703\n",
       "end station id                             504\n",
       "end station name               1 Ave & E 15 St\n",
       "end station latitude                   40.7322\n",
       "end station longitude                 -73.9817\n",
       "bikeid                                   16950\n",
       "usertype                              Customer\n",
       "birth year                                  \\N\n",
       "gender                                       0\n",
       "Name: 0, dtype: object"
      ]
     },
     "execution_count": 3,
     "metadata": {},
     "output_type": "execute_result"
    }
   ],
   "source": [
    "tripsdf.iloc[0]"
   ]
  },
  {
   "cell_type": "code",
   "execution_count": 15,
   "metadata": {},
   "outputs": [
    {
     "name": "stdout",
     "output_type": "stream",
     "text": [
      "01, 1, Monday\n",
      "02, 2, Tuesday\n",
      "03, 3, Wednesday\n",
      "04, 4, Thursday\n",
      "05, 5, Friday\n",
      "06, 6, Saturday\n",
      "07, 0, Sunday\n",
      "08, 1, Monday\n"
     ]
    }
   ],
   "source": [
    "dt = datetime.datetime.strptime(\n",
    "        '2013-07-01 00:00:00', '%Y-%m-%d %H:%M:%S'\n",
    "        ).replace(tzinfo=pytz.timezone('US/Eastern'))\n",
    "for i in range(1,9):\n",
    "    print(dt.replace(day=i).strftime('%d, %w, %A'))"
   ]
  },
  {
   "cell_type": "code",
   "execution_count": 16,
   "metadata": {},
   "outputs": [],
   "source": [
    "tripsdf['start_dt'] = tripsdf['starttime'].map(\n",
    "            lambda x: datetime.datetime.strptime(\n",
    "                x, '%Y-%m-%d %H:%M:%S'\n",
    "                ).replace(tzinfo=pytz.timezone('US/Eastern')))\n",
    "weekdays = set(['Monday', 'Tuesday', 'Wednesday', \n",
    "                'Thursday', 'Friday'])\n",
    "tripsdf['weekday'] = tripsdf['start_dt'].map(\n",
    "            lambda x: x.strftime('%A') in weekdays)"
   ]
  },
  {
   "cell_type": "code",
   "execution_count": 20,
   "metadata": {},
   "outputs": [
    {
     "data": {
      "text/plain": [
       "True     634899\n",
       "False    208517\n",
       "Name: weekday, dtype: int64"
      ]
     },
     "execution_count": 20,
     "metadata": {},
     "output_type": "execute_result"
    }
   ],
   "source": [
    "tripsdf.weekday.value_counts()"
   ]
  },
  {
   "cell_type": "code",
   "execution_count": 33,
   "metadata": {},
   "outputs": [],
   "source": [
    "hours = {'06': 0, # morning\n",
    " '07': 0,\n",
    " '08': 0,\n",
    " '09': 0,\n",
    " '10': 1, # lunch\n",
    " '11': 1,\n",
    " '12': 1,\n",
    " '13': 1,\n",
    " '14': 2,\n",
    " '15': 2,\n",
    " '16': 2,\n",
    " '17': 3,\n",
    " '18': 3,\n",
    " '19': 3,\n",
    " '20': 3,\n",
    " '21': 3,\n",
    " '22': 4,\n",
    " '23': 4,\n",
    " '00': 4,\n",
    " '01': 4,\n",
    " '02': 4,\n",
    " '03': 4,\n",
    " '04': 4,\n",
    " '05': 4\n",
    "}\n",
    "tripsdf['time_of_day'] = tripsdf['starttime'].map(lambda x:hours.get(x[11:13]))\n",
    "#tripsdf['time_of_day'] = tripsdf['starttime'].iloc[0][11:13]"
   ]
  },
  {
   "cell_type": "code",
   "execution_count": 41,
   "metadata": {
    "scrolled": true
   },
   "outputs": [
    {
     "data": {
      "text/plain": [
       "1    634899\n",
       "0    208517\n",
       "Name: weekday, dtype: int64"
      ]
     },
     "execution_count": 41,
     "metadata": {},
     "output_type": "execute_result"
    }
   ],
   "source": [
    "tripsdf['weekday'].map(lambda x:int(x)).value_counts()"
   ]
  },
  {
   "cell_type": "code",
   "execution_count": 38,
   "metadata": {},
   "outputs": [
    {
     "data": {
      "text/plain": [
       "(843416, (843416, 18))"
      ]
     },
     "execution_count": 38,
     "metadata": {},
     "output_type": "execute_result"
    }
   ],
   "source": [
    "tripsdf.usertype.value_counts().sum(), tripsdf.shape"
   ]
  },
  {
   "cell_type": "code",
   "execution_count": 43,
   "metadata": {},
   "outputs": [],
   "source": [
    "X, y, neighborhoods = fu.prepare_data(tripsdf, stationsdf)\n"
   ]
  },
  {
   "cell_type": "code",
   "execution_count": 74,
   "metadata": {},
   "outputs": [
    {
     "data": {
      "text/plain": [
       "array(['Customer', 'Customer', 'Subscriber', 'Subscriber', 'Subscriber'],\n",
       "      dtype=object)"
      ]
     },
     "execution_count": 74,
     "metadata": {},
     "output_type": "execute_result"
    }
   ],
   "source": [
    "#np.allclose?\n",
    "# np.hstack((X[:5,:3], np.resize(X[:5, 3], (5, 1)) )) #, X[:5])\n",
    "X[:5, 3]\n",
    "#X[:10,3]"
   ]
  }
 ],
 "metadata": {
  "kernelspec": {
   "display_name": "Python 3",
   "language": "python",
   "name": "python3"
  },
  "language_info": {
   "codemirror_mode": {
    "name": "ipython",
    "version": 3
   },
   "file_extension": ".py",
   "mimetype": "text/x-python",
   "name": "python",
   "nbconvert_exporter": "python",
   "pygments_lexer": "ipython3",
   "version": "3.7.7"
  }
 },
 "nbformat": 4,
 "nbformat_minor": 4
}
