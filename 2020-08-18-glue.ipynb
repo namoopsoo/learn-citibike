{
 "cells": [
  {
   "cell_type": "code",
   "execution_count": 6,
   "metadata": {},
   "outputs": [],
   "source": [
    "import pandas as pd\n",
    "import pandas as pd\n",
    "import xgboost as xgb\n",
    "from xgboost import XGBClassifier\n",
    "import datetime; import pytz\n",
    "import matplotlib.pyplot as plt\n",
    "from scipy.special import softmax\n",
    "from sklearn.model_selection import cross_val_score\n",
    "from sklearn.model_selection import train_test_split # (*arrays, **options)\n",
    "import numpy as np\n",
    "from sklearn.metrics import log_loss\n",
    "from sklearn.preprocessing import OneHotEncoder, LabelEncoder\n",
    "\n",
    "from joblib import dump, load\n",
    "import joblib\n",
    "import os\n",
    "from sklearn.metrics import confusion_matrix, mean_squared_error\n",
    "from sklearn.model_selection import KFold, train_test_split, GridSearchCV\n",
    "from sklearn.metrics import accuracy_score\n",
    "import fresh.utils as fu\n",
    "\n",
    "from importlib import reload\n",
    "from collections import Counter\n",
    "from tqdm.notebook import tqdm\n",
    "import fresh.preproc.v1 as pv1\n",
    "import fresh.preproc.v2 as pv2"
   ]
  },
  {
   "cell_type": "code",
   "execution_count": 3,
   "metadata": {},
   "outputs": [],
   "source": [
    "datadir = '/opt/data'\n",
    "localdir = '/opt/program'\n",
    "tripsdf = pd.read_csv(f'{datadir}/2013-07 - Citi Bike trip data.csv')\n",
    "stationsdf = pd.read_csv(f'{localdir}/datas/stations/stations-2018-12-04-c.csv',\n",
    "                        index_col=0)"
   ]
  },
  {
   "cell_type": "code",
   "execution_count": 5,
   "metadata": {},
   "outputs": [
    {
     "data": {
      "text/plain": [
       "{'tripduration': 634,\n",
       " 'starttime': '2013-07-01 00:00:00',\n",
       " 'stoptime': '2013-07-01 00:10:34',\n",
       " 'start station id': 164,\n",
       " 'start station name': 'E 47 St & 2 Ave',\n",
       " 'start station latitude': 40.75323098,\n",
       " 'start station longitude': -73.97032517,\n",
       " 'end station id': 504,\n",
       " 'end station name': '1 Ave & E 15 St',\n",
       " 'end station latitude': 40.73221853,\n",
       " 'end station longitude': -73.98165557,\n",
       " 'bikeid': 16950,\n",
       " 'usertype': 'Customer',\n",
       " 'birth year': '\\\\N',\n",
       " 'gender': 0}"
      ]
     },
     "execution_count": 5,
     "metadata": {},
     "output_type": "execute_result"
    }
   ],
   "source": [
    "dict(tripsdf.iloc[0])"
   ]
  },
  {
   "cell_type": "code",
   "execution_count": 7,
   "metadata": {
    "scrolled": false
   },
   "outputs": [
    {
     "name": "stderr",
     "output_type": "stream",
     "text": [
      "/opt/conda/lib/python3.7/site-packages/sklearn/base.py:318: UserWarning: Trying to unpickle estimator OneHotEncoder from version 0.20.3 when using version 0.22.1. This might lead to breaking code or invalid results. Use at your own risk.\n",
      "  UserWarning)\n",
      "/opt/conda/lib/python3.7/site-packages/sklearn/utils/deprecation.py:144: FutureWarning: The sklearn.preprocessing.label module is  deprecated in version 0.22 and will be removed in version 0.24. The corresponding classes / functions should instead be imported from sklearn.preprocessing. Anything that cannot be imported from sklearn.preprocessing is now part of the private API.\n",
      "  warnings.warn(message, FutureWarning)\n",
      "/opt/conda/lib/python3.7/site-packages/sklearn/base.py:318: UserWarning: Trying to unpickle estimator LabelEncoder from version 0.20.3 when using version 0.22.1. This might lead to breaking code or invalid results. Use at your own risk.\n",
      "  UserWarning)\n"
     ]
    }
   ],
   "source": [
    "datadir = f'/opt/program/artifacts/2020-07-08T143732Z'\n",
    "proc_bundle = joblib.load(f'{datadir}/proc_bundle.joblib')"
   ]
  },
  {
   "cell_type": "code",
   "execution_count": 9,
   "metadata": {},
   "outputs": [
    {
     "data": {
      "text/plain": [
       "dict_keys(['enc', 'usertype_le', 'le'])"
      ]
     },
     "execution_count": 9,
     "metadata": {},
     "output_type": "execute_result"
    }
   ],
   "source": [
    "proc_bundle['proc_bundle'].keys()"
   ]
  },
  {
   "cell_type": "code",
   "execution_count": 11,
   "metadata": {},
   "outputs": [],
   "source": [
    "record = {\n",
    " 'starttime': '2013-07-01 00:00:00',\n",
    " 'start station id': 164,\n",
    " 'start station name': 'E 47 St & 2 Ave',\n",
    " 'start station latitude': 40.75323098,\n",
    " 'start station longitude': -73.97032517,\n",
    "# unknown\n",
    "# 'end station id': 504,\n",
    "# 'end station name': '1 Ave & E 15 St',\n",
    "# 'end station latitude': 40.73221853,\n",
    "# 'end station longitude': -73.98165557,\n",
    "# 'stoptime': '2013-07-01 00:10:34',\n",
    "# 'tripduration': 634,\n",
    " 'bikeid': 16950,\n",
    " 'usertype': 'Customer',\n",
    " 'birth year': '\\\\N',\n",
    " 'gender': 0}\n",
    "\n",
    "inputdf = pd.DataFrame.from_records([record])"
   ]
  },
  {
   "cell_type": "markdown",
   "metadata": {},
   "source": [
    "##### Here was my pv1 recipe for preprocess + predict \n",
    "\n",
    "\n",
    "```python\n",
    "X, y, neighborhoods = fu.prepare_data(tripsdf, stationsdf)\n",
    "X_train, X_test, y_train, y_test = train_test_split(X, y)\n",
    "\n",
    "# preproc\n",
    "(X_transformed,\n",
    "     one_hot_enc, le,\n",
    "     y_enc) = pv1.preprocess(X_train, y_train, # X[train_index]\n",
    "                         neighborhoods)\n",
    "labels = le.classes_\n",
    "\n",
    "# Test set\n",
    "X_test_transformed = one_hot_enc.transform(X_test)\n",
    "y_test_enc = le.transform(y_test)\n",
    "\n",
    "\n",
    "# predict\n",
    "y_prob_vec = fu.predict_proba(X_test_transformed, bundle_loc=bundle_loc)\n",
    "\n",
    "```\n",
    "\n",
    "##### ok what if the bundle already exists \n",
    "* Actually pv1 doesnt handle existing preproc bundles ..\n",
    "\n",
    "#### but pv2 does handle existing preproc bundles \n",
    "* the output is saved as a svm style file.. \n",
    "```python\n",
    "import fresh.preproc.v2 as pv2\n",
    "\n",
    "X, y, neighborhoods = fu.prepare_data(tripsdf, stationsdf)\n",
    "X_train, X_test, y_train, y_test = train_test_split(X, y)\n",
    "\n",
    "\n",
    "test_loc = pv2.preprocess(\n",
    "        X_test, y_test, neighborhoods, proc_bundle=proc_bundle,\n",
    "        workdir=workdir,\n",
    "        dataset_name='test')\n",
    "```"
   ]
  },
  {
   "cell_type": "code",
   "execution_count": 13,
   "metadata": {},
   "outputs": [
    {
     "data": {
      "text/plain": [
       "<module 'fresh.utils' from '/opt/program/fresh/utils.py'>"
      ]
     },
     "execution_count": 13,
     "metadata": {},
     "output_type": "execute_result"
    }
   ],
   "source": [
    "reload(fu)"
   ]
  },
  {
   "cell_type": "code",
   "execution_count": 21,
   "metadata": {},
   "outputs": [
    {
     "name": "stdout",
     "output_type": "stream",
     "text": [
      "/opt/program\r\n"
     ]
    }
   ],
   "source": [
    "!pwd"
   ]
  },
  {
   "cell_type": "code",
   "execution_count": 23,
   "metadata": {},
   "outputs": [
    {
     "name": "stdout",
     "output_type": "stream",
     "text": [
      "/opt/program/artifacts/2020-08-19T144654Z\n"
     ]
    }
   ],
   "source": [
    "reload(fu)\n",
    "rootdir = '/opt/program'\n",
    "workdir = fu.make_work_dir(rootdir)\n",
    "print(workdir)"
   ]
  },
  {
   "cell_type": "code",
   "execution_count": 41,
   "metadata": {},
   "outputs": [
    {
     "data": {
      "text/plain": [
       "dict_keys(['enc', 'usertype_le', 'le'])"
      ]
     },
     "execution_count": 41,
     "metadata": {},
     "output_type": "execute_result"
    }
   ],
   "source": [
    "proc_bundle['proc_bundle'].keys()\n"
   ]
  },
  {
   "cell_type": "code",
   "execution_count": 43,
   "metadata": {},
   "outputs": [],
   "source": [
    "# Hmm really weird, I was getting this weird error, \n",
    "# AttributeError: 'OneHotEncoder' object has no attribute 'drop'\n",
    "# And somehow got rid of it by setting \n",
    "# enc.drop = None"
   ]
  },
  {
   "cell_type": "code",
   "execution_count": 52,
   "metadata": {
    "scrolled": true
   },
   "outputs": [
    {
     "name": "stderr",
     "output_type": "stream",
     "text": [
      "  0%|          | 0/1 [00:00<?, ?it/s]"
     ]
    },
    {
     "name": "stdout",
     "output_type": "stream",
     "text": [
      "['start_neighborhood', 'gender', 'time_of_day', 'usertype', 'weekday']\n",
      "[['Midtown East' 0 4 'Customer' 1]]\n"
     ]
    },
    {
     "name": "stderr",
     "output_type": "stream",
     "text": [
      "\n"
     ]
    },
    {
     "ename": "ValueError",
     "evalue": "Input contains NaN, infinity or a value too large for dtype('float64').",
     "output_type": "error",
     "traceback": [
      "\u001b[0;31m---------------------------------------------------------------------------\u001b[0m",
      "\u001b[0;31mValueError\u001b[0m                                Traceback (most recent call last)",
      "\u001b[0;32m<ipython-input-52-d137f908c0fd>\u001b[0m in \u001b[0;36m<module>\u001b[0;34m\u001b[0m\n\u001b[1;32m      9\u001b[0m         \u001b[0mproc_bundle\u001b[0m\u001b[0;34m=\u001b[0m\u001b[0mproc_bundle\u001b[0m\u001b[0;34m[\u001b[0m\u001b[0;34m'proc_bundle'\u001b[0m\u001b[0;34m]\u001b[0m\u001b[0;34m,\u001b[0m\u001b[0;34m\u001b[0m\u001b[0;34m\u001b[0m\u001b[0m\n\u001b[1;32m     10\u001b[0m         \u001b[0mworkdir\u001b[0m\u001b[0;34m=\u001b[0m\u001b[0mworkdir\u001b[0m\u001b[0;34m,\u001b[0m\u001b[0;34m\u001b[0m\u001b[0;34m\u001b[0m\u001b[0m\n\u001b[0;32m---> 11\u001b[0;31m         dataset_name='input')\n\u001b[0m\u001b[1;32m     12\u001b[0m \u001b[0mprint\u001b[0m\u001b[0;34m(\u001b[0m\u001b[0minput_loc\u001b[0m\u001b[0;34m)\u001b[0m\u001b[0;34m\u001b[0m\u001b[0;34m\u001b[0m\u001b[0m\n",
      "\u001b[0;32m/opt/program/fresh/preproc/v2.py\u001b[0m in \u001b[0;36mpreprocess\u001b[0;34m(X, y, neighborhoods, proc_bundle, workdir, dataset_name)\u001b[0m\n\u001b[1;32m     20\u001b[0m     \u001b[0mnum_rows\u001b[0m \u001b[0;34m=\u001b[0m \u001b[0mX\u001b[0m\u001b[0;34m.\u001b[0m\u001b[0mshape\u001b[0m\u001b[0;34m[\u001b[0m\u001b[0;36m0\u001b[0m\u001b[0;34m]\u001b[0m\u001b[0;34m\u001b[0m\u001b[0;34m\u001b[0m\u001b[0m\n\u001b[1;32m     21\u001b[0m     \u001b[0;32mif\u001b[0m \u001b[0mproc_bundle\u001b[0m\u001b[0;34m:\u001b[0m\u001b[0;34m\u001b[0m\u001b[0;34m\u001b[0m\u001b[0m\n\u001b[0;32m---> 22\u001b[0;31m         \u001b[0moutfile\u001b[0m \u001b[0;34m=\u001b[0m \u001b[0mxform\u001b[0m\u001b[0;34m(\u001b[0m\u001b[0mproc_bundle\u001b[0m\u001b[0;34m,\u001b[0m \u001b[0mX\u001b[0m\u001b[0;34m,\u001b[0m \u001b[0my\u001b[0m\u001b[0;34m,\u001b[0m \u001b[0mworkdir\u001b[0m\u001b[0;34m,\u001b[0m \u001b[0mdataset_name\u001b[0m\u001b[0;34m,\u001b[0m \u001b[0mfiletype\u001b[0m\u001b[0;34m=\u001b[0m\u001b[0;34m'libsvm'\u001b[0m\u001b[0;34m)\u001b[0m\u001b[0;34m\u001b[0m\u001b[0;34m\u001b[0m\u001b[0m\n\u001b[0m\u001b[1;32m     23\u001b[0m         \u001b[0;32mreturn\u001b[0m \u001b[0moutfile\u001b[0m\u001b[0;34m\u001b[0m\u001b[0;34m\u001b[0m\u001b[0m\n\u001b[1;32m     24\u001b[0m     \u001b[0;32melse\u001b[0m\u001b[0;34m:\u001b[0m\u001b[0;34m\u001b[0m\u001b[0;34m\u001b[0m\u001b[0m\n",
      "\u001b[0;32m/opt/program/fresh/preproc/v2.py\u001b[0m in \u001b[0;36mxform\u001b[0;34m(proc_bundle, X, y, workdir, dataset_name, filetype)\u001b[0m\n\u001b[1;32m     67\u001b[0m             \u001b[0mto_csv\u001b[0m\u001b[0;34m(\u001b[0m\u001b[0mX_transformed\u001b[0m\u001b[0;34m,\u001b[0m \u001b[0my_enc\u001b[0m\u001b[0;34m,\u001b[0m \u001b[0moutfile\u001b[0m\u001b[0;34m)\u001b[0m\u001b[0;34m\u001b[0m\u001b[0;34m\u001b[0m\u001b[0m\n\u001b[1;32m     68\u001b[0m         \u001b[0;32melif\u001b[0m \u001b[0mfiletype\u001b[0m \u001b[0;34m==\u001b[0m \u001b[0;34m'libsvm'\u001b[0m\u001b[0;34m:\u001b[0m\u001b[0;34m\u001b[0m\u001b[0;34m\u001b[0m\u001b[0m\n\u001b[0;32m---> 69\u001b[0;31m             \u001b[0mto_libsvm\u001b[0m\u001b[0;34m(\u001b[0m\u001b[0mX_transformed\u001b[0m\u001b[0;34m,\u001b[0m \u001b[0my_enc\u001b[0m\u001b[0;34m,\u001b[0m \u001b[0moutfile\u001b[0m\u001b[0;34m)\u001b[0m\u001b[0;34m\u001b[0m\u001b[0;34m\u001b[0m\u001b[0m\n\u001b[0m\u001b[1;32m     70\u001b[0m     \u001b[0;32mreturn\u001b[0m \u001b[0moutfile\u001b[0m\u001b[0;34m\u001b[0m\u001b[0;34m\u001b[0m\u001b[0m\n\u001b[1;32m     71\u001b[0m \u001b[0;34m\u001b[0m\u001b[0m\n",
      "\u001b[0;32m/opt/program/fresh/preproc/v2.py\u001b[0m in \u001b[0;36mto_libsvm\u001b[0;34m(X, y, outfile)\u001b[0m\n\u001b[1;32m     84\u001b[0m \u001b[0;32mdef\u001b[0m \u001b[0mto_libsvm\u001b[0m\u001b[0;34m(\u001b[0m\u001b[0mX\u001b[0m\u001b[0;34m,\u001b[0m \u001b[0my\u001b[0m\u001b[0;34m,\u001b[0m \u001b[0moutfile\u001b[0m\u001b[0;34m)\u001b[0m\u001b[0;34m:\u001b[0m\u001b[0;34m\u001b[0m\u001b[0;34m\u001b[0m\u001b[0m\n\u001b[1;32m     85\u001b[0m     \u001b[0;32mwith\u001b[0m \u001b[0mopen\u001b[0m\u001b[0;34m(\u001b[0m\u001b[0moutfile\u001b[0m\u001b[0;34m,\u001b[0m \u001b[0;34m'ab'\u001b[0m\u001b[0;34m)\u001b[0m \u001b[0;32mas\u001b[0m \u001b[0mfd\u001b[0m\u001b[0;34m:\u001b[0m\u001b[0;34m\u001b[0m\u001b[0;34m\u001b[0m\u001b[0m\n\u001b[0;32m---> 86\u001b[0;31m         \u001b[0mdump_svmlight_file\u001b[0m\u001b[0;34m(\u001b[0m\u001b[0mX\u001b[0m\u001b[0;34m,\u001b[0m \u001b[0my\u001b[0m\u001b[0;34m,\u001b[0m \u001b[0mfd\u001b[0m\u001b[0;34m)\u001b[0m\u001b[0;34m\u001b[0m\u001b[0;34m\u001b[0m\u001b[0m\n\u001b[0m\u001b[1;32m     87\u001b[0m \u001b[0;34m\u001b[0m\u001b[0m\n",
      "\u001b[0;32m/opt/conda/lib/python3.7/site-packages/sklearn/datasets/_svmlight_format_io.py\u001b[0m in \u001b[0;36mdump_svmlight_file\u001b[0;34m(X, y, f, zero_based, comment, query_id, multilabel)\u001b[0m\n\u001b[1;32m    442\u001b[0m             \u001b[0;32mraise\u001b[0m \u001b[0mValueError\u001b[0m\u001b[0;34m(\u001b[0m\u001b[0;34m\"comment string contains NUL byte\"\u001b[0m\u001b[0;34m)\u001b[0m\u001b[0;34m\u001b[0m\u001b[0;34m\u001b[0m\u001b[0m\n\u001b[1;32m    443\u001b[0m \u001b[0;34m\u001b[0m\u001b[0m\n\u001b[0;32m--> 444\u001b[0;31m     \u001b[0myval\u001b[0m \u001b[0;34m=\u001b[0m \u001b[0mcheck_array\u001b[0m\u001b[0;34m(\u001b[0m\u001b[0my\u001b[0m\u001b[0;34m,\u001b[0m \u001b[0maccept_sparse\u001b[0m\u001b[0;34m=\u001b[0m\u001b[0;34m'csr'\u001b[0m\u001b[0;34m,\u001b[0m \u001b[0mensure_2d\u001b[0m\u001b[0;34m=\u001b[0m\u001b[0;32mFalse\u001b[0m\u001b[0;34m)\u001b[0m\u001b[0;34m\u001b[0m\u001b[0;34m\u001b[0m\u001b[0m\n\u001b[0m\u001b[1;32m    445\u001b[0m     \u001b[0;32mif\u001b[0m \u001b[0msp\u001b[0m\u001b[0;34m.\u001b[0m\u001b[0missparse\u001b[0m\u001b[0;34m(\u001b[0m\u001b[0myval\u001b[0m\u001b[0;34m)\u001b[0m\u001b[0;34m:\u001b[0m\u001b[0;34m\u001b[0m\u001b[0;34m\u001b[0m\u001b[0m\n\u001b[1;32m    446\u001b[0m         \u001b[0;32mif\u001b[0m \u001b[0myval\u001b[0m\u001b[0;34m.\u001b[0m\u001b[0mshape\u001b[0m\u001b[0;34m[\u001b[0m\u001b[0;36m1\u001b[0m\u001b[0;34m]\u001b[0m \u001b[0;34m!=\u001b[0m \u001b[0;36m1\u001b[0m \u001b[0;32mand\u001b[0m \u001b[0;32mnot\u001b[0m \u001b[0mmultilabel\u001b[0m\u001b[0;34m:\u001b[0m\u001b[0;34m\u001b[0m\u001b[0;34m\u001b[0m\u001b[0m\n",
      "\u001b[0;32m/opt/conda/lib/python3.7/site-packages/sklearn/utils/validation.py\u001b[0m in \u001b[0;36mcheck_array\u001b[0;34m(array, accept_sparse, accept_large_sparse, dtype, order, copy, force_all_finite, ensure_2d, allow_nd, ensure_min_samples, ensure_min_features, warn_on_dtype, estimator)\u001b[0m\n\u001b[1;32m    576\u001b[0m         \u001b[0;32mif\u001b[0m \u001b[0mforce_all_finite\u001b[0m\u001b[0;34m:\u001b[0m\u001b[0;34m\u001b[0m\u001b[0;34m\u001b[0m\u001b[0m\n\u001b[1;32m    577\u001b[0m             _assert_all_finite(array,\n\u001b[0;32m--> 578\u001b[0;31m                                allow_nan=force_all_finite == 'allow-nan')\n\u001b[0m\u001b[1;32m    579\u001b[0m \u001b[0;34m\u001b[0m\u001b[0m\n\u001b[1;32m    580\u001b[0m     \u001b[0;32mif\u001b[0m \u001b[0mensure_min_samples\u001b[0m \u001b[0;34m>\u001b[0m \u001b[0;36m0\u001b[0m\u001b[0;34m:\u001b[0m\u001b[0;34m\u001b[0m\u001b[0;34m\u001b[0m\u001b[0m\n",
      "\u001b[0;32m/opt/conda/lib/python3.7/site-packages/sklearn/utils/validation.py\u001b[0m in \u001b[0;36m_assert_all_finite\u001b[0;34m(X, allow_nan, msg_dtype)\u001b[0m\n\u001b[1;32m     58\u001b[0m                     \u001b[0mmsg_err\u001b[0m\u001b[0;34m.\u001b[0m\u001b[0mformat\u001b[0m\u001b[0;34m\u001b[0m\u001b[0;34m\u001b[0m\u001b[0m\n\u001b[1;32m     59\u001b[0m                     (type_err,\n\u001b[0;32m---> 60\u001b[0;31m                      msg_dtype if msg_dtype is not None else X.dtype)\n\u001b[0m\u001b[1;32m     61\u001b[0m             )\n\u001b[1;32m     62\u001b[0m     \u001b[0;31m# for object dtype data, we only check for NaNs (GH-13254)\u001b[0m\u001b[0;34m\u001b[0m\u001b[0;34m\u001b[0m\u001b[0;34m\u001b[0m\u001b[0m\n",
      "\u001b[0;31mValueError\u001b[0m: Input contains NaN, infinity or a value too large for dtype('float64')."
     ]
    }
   ],
   "source": [
    "X = fu.prepare_data(inputdf, stationsdf, labelled=False)\n",
    "neighborhoods = fu.neighborhoods_from_stations(stationsdf)\n",
    "\n",
    "print(['start_neighborhood', 'gender', 'time_of_day', 'usertype', 'weekday', ])\n",
    "print(X)\n",
    "\n",
    "input_loc = pv2.preprocess(\n",
    "        X=X, neighborhoods=neighborhoods, \n",
    "        proc_bundle=proc_bundle['proc_bundle'],\n",
    "        workdir=workdir,\n",
    "        dataset_name='input')\n",
    "print(input_loc)"
   ]
  },
  {
   "cell_type": "code",
   "execution_count": 51,
   "metadata": {},
   "outputs": [
    {
     "name": "stdout",
     "output_type": "stream",
     "text": [
      "num rows 1\n"
     ]
    },
    {
     "data": {
      "text/plain": [
       "array([[0., 0., 0., 0., 0., 0., 0., 0., 0., 0., 0., 0., 0., 0., 0., 0.,\n",
       "        0., 0., 0., 0., 0., 0., 0., 0., 0., 0., 0., 0., 0., 0., 0., 0.,\n",
       "        0., 0., 0., 0., 0., 0., 0., 0., 0., 0., 0., 0., 0., 0., 1., 0.,\n",
       "        0., 0., 0., 0., 0., 0., 0., 0., 0., 0., 0., 0., 0., 0., 0., 0.,\n",
       "        0., 0., 0., 0., 0., 0., 0., 0., 0., 0., 0., 1., 0., 0., 0., 0.,\n",
       "        0., 0., 1.]])"
      ]
     },
     "execution_count": 51,
     "metadata": {},
     "output_type": "execute_result"
    }
   ],
   "source": [
    "reload(fu)\n",
    "# num_rows = X.shape[0]\n",
    "print('num rows', num_rows)\n",
    "# fu.get_slices(list(range(num_rows)), num_slices=10)\n",
    "# fu.get_slices([1], num_slices=1) # [[1, 2]]\n",
    "\n",
    "\n",
    "#fu.get_partitions(vec, slice_size, keep_remainder)\n",
    "\n",
    "#fu.get_slices([1], num_slices=10) # [[1, 2]]\n",
    "\n",
    "#fu.get_partitions([1], slice_size=1, keep_remainder=True)\n",
    "\n",
    "\n",
    "#fu.get_slices(range(100), num_slices=11)\n",
    "fu.get_slices(list(range(1)), num_slices=10)\n",
    "\n",
    "X[0:1, :3] # array([['Midtown East', 0, 4]], dtype=object)\n",
    "\n",
    "proc_bundle['proc_bundle']['enc'].transform(X[0:1, :3]).toarray()\n",
    "enc = proc_bundle['proc_bundle']['enc']\n",
    "enc.drop = None\n",
    "enc.transform(X[0:1, :3]).toarray()"
   ]
  },
  {
   "cell_type": "code",
   "execution_count": 54,
   "metadata": {},
   "outputs": [],
   "source": [
    "# Next.. hmm , when trying to preprocess... \n",
    "# ValueError: Input contains NaN, infinity or a value too large for dtype('float64').\n",
    "# - I suspect because I left in the 'y' as None , ... \n",
    "# \n",
    "#      68         elif filetype == 'libsvm':\n",
    "# ---> 69             to_libsvm(X_transformed, y_enc, outfile)\n",
    "\n",
    "\n",
    "# And then Next...  in order to rrun this line...\n",
    "# y_prob_vec = fu.predict_proba(X_test_transformed, bundle_loc=bundle_loc)\n",
    "# got to load the bundle_loc ... \n",
    "i = 1187\n",
    "artifactsdir = 'artifacts/2020-07-10T135910Z'\n",
    "bundle = joblib.load(f'{artifactsdir}/{i}_bundle_with_metrics.joblib')\n",
    "model = bundle['xgb_model']\n"
   ]
  },
  {
   "cell_type": "code",
   "execution_count": 57,
   "metadata": {},
   "outputs": [],
   "source": [
    "from sklearn.datasets import dump_svmlight_file\n",
    "# dump_svmlight_file  .. can it take no y ? what happens then? \n",
    "# in that case i should  instead of dumping to file, just return it , makes more sense anyway. "
   ]
  },
  {
   "cell_type": "code",
   "execution_count": 61,
   "metadata": {},
   "outputs": [
    {
     "data": {
      "text/plain": [
       "<module 'fresh.utils' from '/opt/program/fresh/utils.py'>"
      ]
     },
     "execution_count": 61,
     "metadata": {},
     "output_type": "execute_result"
    }
   ],
   "source": [
    "reload(fu)"
   ]
  },
  {
   "cell_type": "code",
   "execution_count": 63,
   "metadata": {},
   "outputs": [
    {
     "data": {
      "text/plain": [
       "<module 'fresh.preproc.v2' from '/opt/program/fresh/preproc/v2.py'>"
      ]
     },
     "execution_count": 63,
     "metadata": {},
     "output_type": "execute_result"
    }
   ],
   "source": [
    "reload(pv2)"
   ]
  },
  {
   "cell_type": "code",
   "execution_count": 64,
   "metadata": {},
   "outputs": [
    {
     "name": "stderr",
     "output_type": "stream",
     "text": [
      "  0%|          | 0/1 [00:00<?, ?it/s]"
     ]
    },
    {
     "name": "stdout",
     "output_type": "stream",
     "text": [
      "['start_neighborhood', 'gender', 'time_of_day', 'usertype', 'weekday']\n",
      "[['Midtown East' 0 4 'Customer' 1]]\n",
      "[[0.0 0.0 0.0 0.0 0.0 0.0 0.0 0.0 0.0 0.0 0.0 0.0 0.0 0.0 0.0 0.0 0.0 0.0\n",
      "  0.0 0.0 0.0 0.0 0.0 0.0 0.0 0.0 0.0 0.0 0.0 0.0 0.0 0.0 0.0 0.0 0.0 0.0\n",
      "  0.0 0.0 0.0 0.0 0.0 0.0 0.0 0.0 0.0 0.0 1.0 0.0 0.0 0.0 0.0 0.0 0.0 0.0\n",
      "  0.0 0.0 0.0 0.0 0.0 0.0 0.0 0.0 0.0 0.0 0.0 0.0 0.0 0.0 0.0 0.0 0.0 0.0\n",
      "  0.0 0.0 0.0 1.0 0.0 0.0 0.0 0.0 0.0 0.0 1.0 0 1]]\n"
     ]
    },
    {
     "name": "stderr",
     "output_type": "stream",
     "text": [
      "\n"
     ]
    }
   ],
   "source": [
    "X = fu.prepare_data(inputdf, stationsdf, labelled=False)\n",
    "neighborhoods = fu.neighborhoods_from_stations(stationsdf)\n",
    "\n",
    "print(['start_neighborhood', 'gender', 'time_of_day', 'usertype', 'weekday', ])\n",
    "print(X)\n",
    "\n",
    "X_transformed = pv2.preprocess(\n",
    "        X=X, neighborhoods=neighborhoods, \n",
    "        proc_bundle=proc_bundle['proc_bundle'],\n",
    "        #workdir=workdir,\n",
    "        #dataset_name='input'\n",
    ")\n",
    "print(X_transformed)"
   ]
  },
  {
   "cell_type": "code",
   "execution_count": 65,
   "metadata": {},
   "outputs": [],
   "source": [
    "#dtrain = xgb.DMatrix(f'{train_loc}?format=libsvm')\n",
    "dtrain = xgb.DMatrix(X_transformed)\n",
    "# actuals = dtrain.get_label()"
   ]
  },
  {
   "cell_type": "code",
   "execution_count": 66,
   "metadata": {},
   "outputs": [],
   "source": [
    " y_prob_vec = model.predict(dtrain)\n",
    "predictions = np.argmax(y_prob_vec, axis=1)\n"
   ]
  },
  {
   "cell_type": "code",
   "execution_count": 67,
   "metadata": {},
   "outputs": [
    {
     "data": {
      "text/plain": [
       "(array([[0.00260068, 0.00211338, 0.18238813, 0.04775023, 0.00407627,\n",
       "         0.03426266, 0.01549505, 0.02768018, 0.00213743, 0.00634305,\n",
       "         0.02986856, 0.02481377, 0.07334273, 0.07258937, 0.04883923,\n",
       "         0.00380077, 0.00281027, 0.00450624, 0.03994255, 0.04935879,\n",
       "         0.00830992, 0.0083217 , 0.00283933, 0.00307513, 0.00572311,\n",
       "         0.00539479, 0.00300998, 0.0088579 , 0.00437763, 0.00306665,\n",
       "         0.00585913, 0.00202413, 0.00434052, 0.00435104, 0.00632701,\n",
       "         0.00504773, 0.00515511, 0.01245811, 0.00278124, 0.02105542,\n",
       "         0.00562638, 0.01457816, 0.00257211, 0.01134078, 0.03223165,\n",
       "         0.00336919, 0.00675962, 0.01909184, 0.00364397, 0.0023981 ,\n",
       "         0.00664525, 0.0740085 , 0.00168374, 0.01895574]], dtype=float32),\n",
       " array([2]))"
      ]
     },
     "execution_count": 67,
     "metadata": {},
     "output_type": "execute_result"
    }
   ],
   "source": [
    "y_prob_vec, predictions"
   ]
  },
  {
   "cell_type": "markdown",
   "metadata": {},
   "source": [
    "#### ok make a multi bundle from those"
   ]
  },
  {
   "cell_type": "code",
   "execution_count": 73,
   "metadata": {},
   "outputs": [
    {
     "name": "stderr",
     "output_type": "stream",
     "text": [
      "/opt/conda/lib/python3.7/site-packages/sklearn/base.py:318: UserWarning: Trying to unpickle estimator OneHotEncoder from version 0.20.3 when using version 0.22.1. This might lead to breaking code or invalid results. Use at your own risk.\n",
      "  UserWarning)\n",
      "/opt/conda/lib/python3.7/site-packages/sklearn/base.py:318: UserWarning: Trying to unpickle estimator LabelEncoder from version 0.20.3 when using version 0.22.1. This might lead to breaking code or invalid results. Use at your own risk.\n",
      "  UserWarning)\n"
     ]
    },
    {
     "name": "stdout",
     "output_type": "stream",
     "text": [
      "Outputing a combined bundle here... /opt/program/artifacts/2020-08-19T144654Z/all_bundle.joblib\n"
     ]
    },
    {
     "data": {
      "text/plain": [
       "['/opt/program/artifacts/2020-08-19T144654Z/all_bundle.joblib']"
      ]
     },
     "execution_count": 73,
     "metadata": {},
     "output_type": "execute_result"
    }
   ],
   "source": [
    "# Going from ....\n",
    "# this proc bundle\n",
    "datadir = f'/opt/program/artifacts/2020-07-08T143732Z'\n",
    "proc_bundle = joblib.load(f'{datadir}/proc_bundle.joblib')\n",
    "\n",
    "# and this model bundle\n",
    "i = 1187\n",
    "artifactsdir = 'artifacts/2020-07-10T135910Z'\n",
    "bundle = joblib.load(f'{artifactsdir}/{i}_bundle_with_metrics.joblib')\n",
    "# model = bundle['xgb_model']\n",
    "\n",
    "# and neighborhoods\n",
    "localdir = '/opt/program'\n",
    "stationsdf = pd.read_csv(f'{localdir}/datas/stations/stations-2018-12-04-c.csv',\n",
    "                        index_col=0)\n",
    "neighborhoods = fu.neighborhoods_from_stations(stationsdf)\n",
    "\n",
    "out_loc = f'{workdir}/all_bundle.joblib'\n",
    "print('Outputing a combined bundle here...', out_loc)\n",
    "joblib.dump({'notebook': '2020-08-18-glue.ipynb',\n",
    "            'model_bundle': {\n",
    "                'original_filename': f'{artifactsdir}/{i}_bundle_with_metrics.joblib',\n",
    "                'bundle': bundle},\n",
    "            'proc_bundle': {\n",
    "                'original_filename': f'{datadir}/proc_bundle.joblib',\n",
    "                'bundle': proc_bundle\n",
    "            },\n",
    "            'neighborhoods_bundle': {\n",
    "                'original_filename': f'{localdir}/datas/stations/stations-2018-12-04-c.csv',\n",
    "                'neighborhoods': neighborhoods\n",
    "            } \n",
    "            }, out_loc)\n"
   ]
  },
  {
   "cell_type": "code",
   "execution_count": 81,
   "metadata": {},
   "outputs": [
    {
     "name": "stderr",
     "output_type": "stream",
     "text": [
      "  0%|          | 0/1 [00:00<?, ?it/s]"
     ]
    },
    {
     "name": "stdout",
     "output_type": "stream",
     "text": [
      "['start_neighborhood', 'gender', 'time_of_day', 'usertype', 'weekday']\n",
      "[['Midtown East' 0 4 'Customer' 1]]\n",
      "[[0.0 0.0 0.0 0.0 0.0 0.0 0.0 0.0 0.0 0.0 0.0 0.0 0.0 0.0 0.0 0.0 0.0 0.0\n",
      "  0.0 0.0 0.0 0.0 0.0 0.0 0.0 0.0 0.0 0.0 0.0 0.0 0.0 0.0 0.0 0.0 0.0 0.0\n",
      "  0.0 0.0 0.0 0.0 0.0 0.0 0.0 0.0 0.0 0.0 1.0 0.0 0.0 0.0 0.0 0.0 0.0 0.0\n",
      "  0.0 0.0 0.0 0.0 0.0 0.0 0.0 0.0 0.0 0.0 0.0 0.0 0.0 0.0 0.0 0.0 0.0 0.0\n",
      "  0.0 0.0 0.0 1.0 0.0 0.0 0.0 0.0 0.0 0.0 1.0 0 1]]\n"
     ]
    },
    {
     "name": "stderr",
     "output_type": "stream",
     "text": [
      "\n"
     ]
    },
    {
     "data": {
      "text/plain": [
       "(array([[0.00260068, 0.00211338, 0.18238813, 0.04775023, 0.00407627,\n",
       "         0.03426266, 0.01549505, 0.02768018, 0.00213743, 0.00634305,\n",
       "         0.02986856, 0.02481377, 0.07334273, 0.07258937, 0.04883923,\n",
       "         0.00380077, 0.00281027, 0.00450624, 0.03994255, 0.04935879,\n",
       "         0.00830992, 0.0083217 , 0.00283933, 0.00307513, 0.00572311,\n",
       "         0.00539479, 0.00300998, 0.0088579 , 0.00437763, 0.00306665,\n",
       "         0.00585913, 0.00202413, 0.00434052, 0.00435104, 0.00632701,\n",
       "         0.00504773, 0.00515511, 0.01245811, 0.00278124, 0.02105542,\n",
       "         0.00562638, 0.01457816, 0.00257211, 0.01134078, 0.03223165,\n",
       "         0.00336919, 0.00675962, 0.01909184, 0.00364397, 0.0023981 ,\n",
       "         0.00664525, 0.0740085 , 0.00168374, 0.01895574]], dtype=float32),\n",
       " array([2]))"
      ]
     },
     "execution_count": 81,
     "metadata": {},
     "output_type": "execute_result"
    }
   ],
   "source": [
    "def full_predict(bundle, record):\n",
    "    inputdf = pd.DataFrame.from_records([record])\n",
    "    \n",
    "    X = fu.prepare_data(inputdf, stationsdf, labelled=False)\n",
    "    \n",
    "    print(['start_neighborhood', 'gender', 'time_of_day', 'usertype', 'weekday', ])\n",
    "    print(X)\n",
    "\n",
    "    X_transformed = pv2.preprocess(\n",
    "        X=X, \n",
    "        neighborhoods=bundle['neighborhoods_bundle']['neighborhoods'], \n",
    "        proc_bundle=bundle['proc_bundle']['bundle']['proc_bundle'],\n",
    "        #workdir=workdir,\n",
    "        #dataset_name='input'\n",
    "    )\n",
    "    print(X_transformed)\n",
    "    dtrain = xgb.DMatrix(X_transformed)\n",
    "    \n",
    "    model = bundle['model_bundle']['bundle']['xgb_model']\n",
    "    \n",
    "    y_prob_vec = model.predict(dtrain)\n",
    "    predictions = np.argmax(y_prob_vec, axis=1)\n",
    "\n",
    "    return y_prob_vec, predictions\n",
    "    \n",
    "all_bundle_loc = '/opt/program/artifacts/2020-08-19T144654Z/all_bundle.joblib'\n",
    "bundle = joblib.load(all_bundle_loc)\n",
    "\n",
    "# fix bundle... \n",
    "bundle['proc_bundle']['bundle']['proc_bundle']['enc'].drop = None\n",
    "\n",
    "record = {\n",
    " 'starttime': '2013-07-01 00:00:00',\n",
    " 'start station id': 164,\n",
    " 'start station name': 'E 47 St & 2 Ave',\n",
    " 'start station latitude': 40.75323098,\n",
    " 'start station longitude': -73.97032517,\n",
    "# unknown\n",
    "# 'end station id': 504,\n",
    "# 'end station name': '1 Ave & E 15 St',\n",
    "# 'end station latitude': 40.73221853,\n",
    "# 'end station longitude': -73.98165557,\n",
    "# 'stoptime': '2013-07-01 00:10:34',\n",
    "# 'tripduration': 634,\n",
    " 'bikeid': 16950,\n",
    " 'usertype': 'Customer',\n",
    " 'birth year': '\\\\N',\n",
    " 'gender': 0}\n",
    "\n",
    "\n",
    "full_predict(bundle, record)"
   ]
  },
  {
   "cell_type": "code",
   "execution_count": 76,
   "metadata": {},
   "outputs": [],
   "source": [
    "# next... ^ finish the all predict func... \n",
    "# so close"
   ]
  },
  {
   "cell_type": "code",
   "execution_count": null,
   "metadata": {},
   "outputs": [],
   "source": []
  }
 ],
 "metadata": {
  "kernelspec": {
   "display_name": "Python 3",
   "language": "python",
   "name": "python3"
  },
  "language_info": {
   "codemirror_mode": {
    "name": "ipython",
    "version": 3
   },
   "file_extension": ".py",
   "mimetype": "text/x-python",
   "name": "python",
   "nbconvert_exporter": "python",
   "pygments_lexer": "ipython3",
   "version": "3.7.7"
  }
 },
 "nbformat": 4,
 "nbformat_minor": 4
}
