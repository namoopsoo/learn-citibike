{
 "cells": [
  {
   "cell_type": "code",
   "execution_count": 1,
   "metadata": {},
   "outputs": [],
   "source": [
    "import pandas as pd\n",
    "import xgboost\n",
    "import datetime; import pytz\n",
    "import matplotlib as plt\n",
    "from scipy.special import softmax\n",
    "from sklearn.model_selection import cross_val_score\n",
    "from sklearn.model_selection import train_test_split # (*arrays, **options)\n",
    "import numpy as np\n",
    "from sklearn.metrics import log_loss\n",
    "from sklearn.preprocessing import OneHotEncoder"
   ]
  },
  {
   "cell_type": "code",
   "execution_count": 2,
   "metadata": {},
   "outputs": [
    {
     "data": {
      "text/plain": [
       "'2020-06-08T142456Z'"
      ]
     },
     "execution_count": 2,
     "metadata": {},
     "output_type": "execute_result"
    }
   ],
   "source": [
    "\n",
    "def utc_ts():\n",
    "    return datetime.datetime.utcnow(\n",
    "        ).replace(tzinfo=pytz.UTC).strftime('%Y-%m-%dT%H%M%SZ')\n",
    "utc_ts()"
   ]
  },
  {
   "cell_type": "markdown",
   "metadata": {},
   "source": [
    "#### The data\n"
   ]
  },
  {
   "cell_type": "code",
   "execution_count": 3,
   "metadata": {},
   "outputs": [],
   "source": [
    "datadir = '/opt/data'\n",
    "localdir = '/opt/program'\n",
    "tripsdf = pd.read_csv(f'{datadir}/2013-07 - Citi Bike trip data.csv')\n",
    "stationsdf = pd.read_csv(f'{localdir}/datas/stations/stations-2018-12-04-c.csv',\n",
    "                        index_col=0)"
   ]
  },
  {
   "cell_type": "code",
   "execution_count": 15,
   "metadata": {},
   "outputs": [],
   "source": [
    "def preprocess(df, stationsdf, labeled):\n",
    "    # Initially assuming labeled=True\n",
    "    labeled = True\n",
    "    \n",
    "    # Step 1, merge w/ stationsdf to get neighborhood data\n",
    "    mdf = tripsdf[['start station name', 'end station name', 'gender']\n",
    "            ].merge(stationsdf[['station_name', 'neighborhood']], \n",
    "                    left_on='start station name',\n",
    "                    right_on='station_name'\n",
    "                   ).rename(columns={'neighborhood': 'start_neighborhood'}\n",
    "                           ).merge(stationsdf[['station_name', 'neighborhood']],\n",
    "                                  left_on='end station name',\n",
    "                                   right_on='station_name'\n",
    "                                  ).rename(columns={'neighborhood': 'end_neighborhood'})\n",
    "    \n",
    "    neighborhoods = sorted(stationsdf.neighborhood.unique().tolist())\n",
    "    genders = [0, 1, 2]\n",
    "    \n",
    "    X, y = (mdf[['start_neighborhood', 'gender']].values, \n",
    "            np.array(mdf['end_neighborhood'].tolist()))\n",
    "    \n",
    "    enc = OneHotEncoder(handle_unknown='error', \n",
    "                        categories=[neighborhoods, genders])\n",
    "    enc.fit(X)\n",
    "    X_transformed = enc.transform(X)\n",
    "    return X, X_transformed, y, enc\n",
    "    \n",
    "    "
   ]
  },
  {
   "cell_type": "code",
   "execution_count": 16,
   "metadata": {},
   "outputs": [
    {
     "data": {
      "text/plain": [
       "tripduration                               634\n",
       "starttime                  2013-07-01 00:00:00\n",
       "stoptime                   2013-07-01 00:10:34\n",
       "start station id                           164\n",
       "start station name             E 47 St & 2 Ave\n",
       "start station latitude                 40.7532\n",
       "start station longitude               -73.9703\n",
       "end station id                             504\n",
       "end station name               1 Ave & E 15 St\n",
       "end station latitude                   40.7322\n",
       "end station longitude                 -73.9817\n",
       "bikeid                                   16950\n",
       "usertype                              Customer\n",
       "birth year                                  \\N\n",
       "gender                                       0\n",
       "Name: 0, dtype: object"
      ]
     },
     "execution_count": 16,
     "metadata": {},
     "output_type": "execute_result"
    }
   ],
   "source": [
    "tripsdf.iloc[0]"
   ]
  },
  {
   "cell_type": "code",
   "execution_count": 17,
   "metadata": {},
   "outputs": [],
   "source": [
    "(X, X_transformed, y, enc) = preprocess(tripsdf, stationsdf, labeled=True)"
   ]
  },
  {
   "cell_type": "code",
   "execution_count": 20,
   "metadata": {},
   "outputs": [
    {
     "data": {
      "text/plain": [
       "array([[0., 0., 0., 0., 0., 0., 0., 0., 0., 0., 0., 0., 0., 0., 0., 0.,\n",
       "        0., 0., 0., 0., 0., 0., 0., 0., 0., 0., 0., 0., 0., 0., 0., 0.,\n",
       "        0., 0., 0., 0., 0., 0., 0., 0., 0., 0., 0., 0., 0., 0., 1., 0.,\n",
       "        0., 0., 0., 0., 0., 0., 0., 0., 0., 0., 0., 0., 0., 0., 0., 0.,\n",
       "        0., 0., 0., 0., 0., 0., 0., 0., 0., 0., 0., 1., 0., 0.]])"
      ]
     },
     "execution_count": 20,
     "metadata": {},
     "output_type": "execute_result"
    }
   ],
   "source": [
    "X_transformed[0].toarray()"
   ]
  },
  {
   "cell_type": "code",
   "execution_count": 8,
   "metadata": {},
   "outputs": [
    {
     "data": {
      "text/plain": [
       "xgboost.core.DMatrix"
      ]
     },
     "execution_count": 8,
     "metadata": {},
     "output_type": "execute_result"
    }
   ],
   "source": [
    "# Get data..\n",
    "xgboost.DMatrix()"
   ]
  },
  {
   "cell_type": "code",
   "execution_count": 18,
   "metadata": {},
   "outputs": [
    {
     "data": {
      "text/plain": [
       "OneHotEncoder(categories=[['Midtown East', 'Stuyvesant Town'], [0, 1, 2]],\n",
       "              drop=None, dtype=<class 'numpy.float64'>, handle_unknown='ignore',\n",
       "              sparse=True)"
      ]
     },
     "execution_count": 18,
     "metadata": {},
     "output_type": "execute_result"
    }
   ],
   "source": [
    "neighborhoods = ['Midtown East', 'Stuyvesant Town',]; gender = [0,1,2]\n",
    "enc = OneHotEncoder(handle_unknown='ignore', categories=[neighborhoods, gender])\n",
    "X = np.array([['Midtown East', 1],\n",
    "             ['Midtown East',2],\n",
    "             ['Stuyvesant Town',0]])\n",
    "X2 = np.array([['foo', 1],\n",
    "             ['Midtown East',2],\n",
    "             ['Stuyvesant Town',0]])\n",
    "enc.fit(X)\n"
   ]
  },
  {
   "cell_type": "code",
   "execution_count": 19,
   "metadata": {
    "scrolled": false
   },
   "outputs": [
    {
     "data": {
      "text/plain": [
       "array([[0., 0., 0., 1., 0.],\n",
       "       [1., 0., 0., 0., 1.],\n",
       "       [0., 1., 1., 0., 0.]])"
      ]
     },
     "execution_count": 19,
     "metadata": {},
     "output_type": "execute_result"
    }
   ],
   "source": [
    "enc.transform(X2).toarray()"
   ]
  }
 ],
 "metadata": {
  "kernelspec": {
   "display_name": "Python 3",
   "language": "python",
   "name": "python3"
  },
  "language_info": {
   "codemirror_mode": {
    "name": "ipython",
    "version": 3
   },
   "file_extension": ".py",
   "mimetype": "text/x-python",
   "name": "python",
   "nbconvert_exporter": "python",
   "pygments_lexer": "ipython3",
   "version": "3.7.7"
  }
 },
 "nbformat": 4,
 "nbformat_minor": 2
}
