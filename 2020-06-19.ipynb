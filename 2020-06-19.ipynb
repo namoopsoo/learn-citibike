{
 "cells": [
  {
   "cell_type": "markdown",
   "metadata": {},
   "source": [
    "\n",
    "#### past\n",
    "- notebook \"2020-06-14.ipynb\", tested the capability to continue fitting `clf.fit(X[part], y_enc[part], xgb_model=prev_model)` and saving `clf.save_model(prev_model)` a model in a loop, over parts of a training set. \n",
    "- however, the `predict_proba()` step on the test set at each iteration, was taking a very long time. Somtimes half an hour or 40 minutes. \n",
    "- In notebook \"2020-06-16.ipynb\" , I switrched to evaluating on that test set every epoch instead of every batch. Still, this finished `14` epochs in `13` hours and I even cut my data set by `60x` . That also appears to have deteriorated the test accuracy from `acc=0.12` in \"2020-06-14.ipynb\" to `acc=0.021` in \"2020-06-16.ipynb\". Again the train and test sets were cut by `60x` so that definitely changed things. But also the `14` epochs did not appear to be helping. \n",
    "\n",
    "\n",
    "#### other notes\n",
    "- feels like better balanced datasets are important . Perhaps otherwise the time to use them is maybe excessively long.\n",
    "- predict proba is slow\n",
    "- I still feel like `100` iterations feels like a minimum of sorts to aim for.\n",
    "- got to re-do 3 or 5 fold cross validation now that weird log loss is good.\n",
    "- If I do the non-sklearn xgboost, I can take advantage of that dataset caching, which I think saved on memory.\n",
    "- So perhaps one goal is to try that non-sklearn xgboost, w/ `100` iterations, but using at least those parameters from bundle `'/opt/program/artifacts/2020-06-11T041641Z/bundle.joblib'` which appeared to be a good start..\n",
    "\n",
    "```\n",
    "\n",
    "XGBClassifier(base_score=0.5, booster='gbtree', colsample_bylevel=1,\n",
    "               colsample_bynode=1, colsample_bytree=1, gamma=0,\n",
    "               learning_rate=0.1, max_delta_step=0, max_depth=3,\n",
    "               min_child_weight=1, missing=nan, n_estimators=100, n_jobs=1,\n",
    "               nthread=None, objective='multi:softprob', random_state=0,\n",
    "               reg_alpha=0, reg_lambda=1, scale_pos_weight=1, seed=None,\n",
    "               silent=None, subsample=1, verbosity=1),\n",
    "               \n",
    "```\n",
    "\n"
   ]
  },
  {
   "cell_type": "code",
   "execution_count": 27,
   "metadata": {},
   "outputs": [
    {
     "name": "stdout",
     "output_type": "stream",
     "text": [
      "COMMAND\r\n",
      "/opt/conda/bin/python -m ipykernel_launcher -f /root/.local/share/jupyter/runtime/kernel-5732db1a-d484-4a58-9d67-de6ef5ac721b.json\r\n"
     ]
    }
   ],
   "source": [
    "#!ps -p 689 -o pid,ppid,pmem,rss,res\n",
    "!foo=$(ps -p 689 -o command); echo \"$foo\"\n",
    "#!ps -p 689 -o command\n",
    "# 727\n",
    "# COMMAND /opt/conda/bin/python -m ipykernel_launcher -f /root/.local/share/jupyter/runtime/kernel-11cd26cf-5715-4e84-abd4-ee49b0b06ed9.json\n",
    "\n",
    "# 689\n",
    "# COMMAND /opt/conda/bin/python -m ipykernel_launcher -f /root/.local/share/jupyter/runtime/kernel-5732db1a-d484-4a58-9d67-de6ef5ac721b.json\n",
    "#!cat /root/.local/share/jupyter/runtime/kernel-5732db1a-d484-4a58-9d67-de6ef5ac721b.json\n",
    "#os.getpid()\n",
    "\n",
    "# 667 , the parent\n",
    "# COMMAND /opt/conda/bin/python /opt/conda/bin/jupyter-notebook --ip 0.0.0.0 --port 8889 --no-browser --allow-root\n",
    "#!foo=$(ps auxww); echo \"$foo\""
   ]
  },
  {
   "cell_type": "code",
   "execution_count": 7,
   "metadata": {},
   "outputs": [
    {
     "name": "stdout",
     "output_type": "stream",
     "text": [
      "\u001b[?1h\u001b=\u001b[H\u001b[2J\u001b[mtop - 12:25:39 up 4 days,  6:45,  0 users,  load average: 0.00, 0.02, 0.00\u001b[m\u001b[m\u001b[m\u001b[m\u001b[K\n",
      "Tasks:\u001b[m\u001b[m\u001b[1m  10 \u001b[m\u001b[mtotal,\u001b[m\u001b[m\u001b[1m   1 \u001b[m\u001b[mrunning,\u001b[m\u001b[m\u001b[1m   9 \u001b[m\u001b[msleeping,\u001b[m\u001b[m\u001b[1m   0 \u001b[m\u001b[mstopped,\u001b[m\u001b[m\u001b[1m   0 \u001b[m\u001b[mzombie\u001b[m\u001b[m\u001b[m\u001b[m\u001b[K\n",
      "%Cpu(s):\u001b[m\u001b[m\u001b[1m  6.7 \u001b[m\u001b[mus,\u001b[m\u001b[m\u001b[1m  0.7 \u001b[m\u001b[msy,\u001b[m\u001b[m\u001b[1m  0.0 \u001b[m\u001b[mni,\u001b[m\u001b[m\u001b[1m 92.3 \u001b[m\u001b[mid,\u001b[m\u001b[m\u001b[1m  0.2 \u001b[m\u001b[mwa,\u001b[m\u001b[m\u001b[1m  0.0 \u001b[m\u001b[mhi,\u001b[m\u001b[m\u001b[1m  0.1 \u001b[m\u001b[msi,\u001b[m\u001b[m\u001b[1m  0.0 \u001b[m\u001b[mst\u001b[m\u001b[m\u001b[m\u001b[m\u001b[K\n",
      "KiB Mem :\u001b[m\u001b[m\u001b[1m  2046844 \u001b[m\u001b[mtotal,\u001b[m\u001b[m\u001b[1m    82660 \u001b[m\u001b[mfree,\u001b[m\u001b[m\u001b[1m  1855176 \u001b[m\u001b[mused,\u001b[m\u001b[m\u001b[1m   109008 \u001b[m\u001b[mbuff/cache\u001b[m\u001b[m\u001b[m\u001b[m\u001b[K\n",
      "KiB Swap:\u001b[m\u001b[m\u001b[1m  1048572 \u001b[m\u001b[mtotal,\u001b[m\u001b[m\u001b[1m   695520 \u001b[m\u001b[mfree,\u001b[m\u001b[m\u001b[1m   353052 \u001b[m\u001b[mused.\u001b[m\u001b[m\u001b[1m    50424 \u001b[m\u001b[mavail Mem \u001b[m\u001b[m\u001b[m\u001b[m\u001b[K\n",
      "\u001b[K\n",
      "\u001b[7m  PID USER      PR  NI    VIRT    RES    SHR S  %CPU %MEM     TIME+ COMMAND     \u001b[m\u001b[m\u001b[K\n",
      "\u001b[m    1 root      20   0   18236    204    100 S   0.0  0.0   0:00.11 bash        \u001b[m\u001b[m\u001b[K\n",
      "\u001b[m  667 root      20   0  999296  56116   5060 S   0.0  2.7   0:21.62 jupyter-no+ \u001b[m\u001b[m\u001b[K\n",
      "\u001b[m  673 root      20   0  555440   8460   3128 S   0.0  0.4   0:24.88 python      \u001b[m\u001b[m\u001b[K\n",
      "\u001b[m  689 root      20   0 2521820 1.492g  18052 S   0.0 76.4 760:54.45 python      \u001b[m\u001b[m\u001b[K\n",
      "\u001b[m  711 root      20   0  555292  44516   6204 S   0.0  2.2   0:15.04 python      \u001b[m\u001b[m\u001b[K\n",
      "\u001b[m  727 root      20   0  555292  44656   6280 S   0.0  2.2   0:15.52 python      \u001b[m\u001b[m\u001b[K\n",
      "\u001b[m  743 root      20   0  555292  44644   6316 S   0.0  2.2   0:14.36 python      \u001b[m\u001b[m\u001b[K\n",
      "\u001b[m  759 root      20   0  562420  53140  13436 S   0.0  2.6   0:02.17 python      \u001b[m\u001b[m\u001b[K\n",
      "\u001b[m  783 root      20   0    4500    672    600 S   0.0  0.0   0:00.53 sh          \u001b[m\u001b[m\u001b[K\n",
      "\u001b[m\u001b[1m  784 root      20   0   36856   3004   2592 R   0.0  0.1   0:00.00 top         \u001b[m\u001b[m\u001b[K\n",
      "\u001b[J\u001b[H\u001b[mtop - 12:25:42 up 4 days,  6:45,  0 users,  load average: 0.00, 0.02, 0.00\u001b[m\u001b[m\u001b[m\u001b[m\u001b[K\n",
      "Tasks:\u001b[m\u001b[m\u001b[1m  10 \u001b[m\u001b[mtotal,\u001b[m\u001b[m\u001b[1m   1 \u001b[m\u001b[mrunning,\u001b[m\u001b[m\u001b[1m   9 \u001b[m\u001b[msleeping,\u001b[m\u001b[m\u001b[1m   0 \u001b[m\u001b[mstopped,\u001b[m\u001b[m\u001b[1m   0 \u001b[m\u001b[mzombie\u001b[m\u001b[m\u001b[m\u001b[m\u001b[K\n",
      "%Cpu(s):\u001b[m\u001b[m\u001b[1m  0.4 \u001b[m\u001b[mus,\u001b[m\u001b[m\u001b[1m  0.5 \u001b[m\u001b[msy,\u001b[m\u001b[m\u001b[1m  0.0 \u001b[m\u001b[mni,\u001b[m\u001b[m\u001b[1m 99.1 \u001b[m\u001b[mid,\u001b[m\u001b[m\u001b[1m  0.0 \u001b[m\u001b[mwa,\u001b[m\u001b[m\u001b[1m  0.0 \u001b[m\u001b[mhi,\u001b[m\u001b[m\u001b[1m  0.0 \u001b[m\u001b[msi,\u001b[m\u001b[m\u001b[1m  0.0 \u001b[m\u001b[mst\u001b[m\u001b[m\u001b[m\u001b[m\u001b[K\n",
      "KiB Mem :\u001b[m\u001b[m\u001b[1m  2046844 \u001b[m\u001b[mtotal,\u001b[m\u001b[m\u001b[1m    82660 \u001b[m\u001b[mfree,\u001b[m\u001b[m\u001b[1m  1855168 \u001b[m\u001b[mused,\u001b[m\u001b[m\u001b[1m   109016 \u001b[m\u001b[mbuff/cache\u001b[m\u001b[m\u001b[m\u001b[m\u001b[K\n",
      "\n",
      "\u001b[K\n",
      "\n",
      "\u001b[m  759 root      20   0  562420  53140  13436 S   0.3  2.6   0:02.18 python      \u001b[m\u001b[m\u001b[K\n",
      "\u001b[m    1 root      20   0   18236    204    100 S   0.0  0.0   0:00.11 bash        \u001b[m\u001b[m\u001b[K\n",
      "\u001b[m  667 root      20   0  999296  56116   5060 S   0.0  2.7   0:21.62 jupyter-no+ \u001b[m\u001b[m\u001b[K\n",
      "\u001b[m  673 root      20   0  555440   8460   3128 S   0.0  0.4   0:24.88 python      \u001b[m\u001b[m\u001b[K\n",
      "\u001b[m  689 root      20   0 2521820 1.492g  18052 S   0.0 76.4 760:54.45 python      \u001b[m\u001b[m\u001b[K\n",
      "\u001b[m  711 root      20   0  555292  44516   6204 S   0.0  2.2   0:15.04 python      \u001b[m\u001b[m\u001b[K\n",
      "\u001b[m  727 root      20   0  555292  44656   6280 S   0.0  2.2   0:15.52 python      \u001b[m\u001b[m\u001b[K\n",
      "\u001b[m  743 root      20   0  555292  44644   6316 S   0.0  2.2   0:14.36 python      \u001b[m\u001b[m\u001b[K\n",
      "\n",
      "\u001b[m\u001b[1m  784 root      20   0   36824   3028   2592 R   0.0  0.1   0:00.00 top         \u001b[m\u001b[m\u001b[K\n",
      "\u001b[J\u001b[H\u001b[mtop - 12:25:45 up 4 days,  6:45,  0 users,  load average: 0.00, 0.02, 0.00\u001b[m\u001b[m\u001b[m\u001b[m\u001b[K\n",
      "\n",
      "%Cpu(s):\u001b[m\u001b[m\u001b[1m  0.7 \u001b[m\u001b[mus,\u001b[m\u001b[m\u001b[1m  0.3 \u001b[m\u001b[msy,\u001b[m\u001b[m\u001b[1m  0.0 \u001b[m\u001b[mni,\u001b[m\u001b[m\u001b[1m 99.1 \u001b[m\u001b[mid,\u001b[m\u001b[m\u001b[1m  0.0 \u001b[m\u001b[mwa,\u001b[m\u001b[m\u001b[1m  0.0 \u001b[m\u001b[mhi,\u001b[m\u001b[m\u001b[1m  0.0 \u001b[m\u001b[msi,\u001b[m\u001b[m\u001b[1m  0.0 \u001b[m\u001b[mst\u001b[m\u001b[m\u001b[m\u001b[m\u001b[K\n",
      "KiB Mem :\u001b[m\u001b[m\u001b[1m  2046844 \u001b[m\u001b[mtotal,\u001b[m\u001b[m\u001b[1m    82660 \u001b[m\u001b[mfree,\u001b[m\u001b[m\u001b[1m  1855164 \u001b[m\u001b[mused,\u001b[m\u001b[m\u001b[1m   109020 \u001b[m\u001b[mbuff/cache\u001b[m\u001b[m\u001b[m\u001b[m\u001b[K\n",
      "\n",
      "\u001b[K\n",
      "\n",
      "\u001b[m  667 root      20   0  999296  56116   5060 S   0.3  2.7   0:21.63 jupyter-no+ \u001b[m\u001b[m\u001b[K\n",
      "\n",
      "\u001b[m  673 root      20   0  555440   8460   3128 S   0.0  0.4   0:24.88 python      \u001b[m\u001b[m\u001b[K\n",
      "\u001b[m  689 root      20   0 2521820 1.492g  18052 S   0.0 76.4 760:54.45 python      \u001b[m\u001b[m\u001b[K\n",
      "\u001b[m  711 root      20   0  555292  44516   6204 S   0.0  2.2   0:15.04 python      \u001b[m\u001b[m\u001b[K\n",
      "\u001b[m  727 root      20   0  555292  44656   6280 S   0.0  2.2   0:15.52 python      \u001b[m\u001b[m\u001b[K\n",
      "\u001b[m  743 root      20   0  555292  44644   6316 S   0.0  2.2   0:14.36 python      \u001b[m\u001b[m\u001b[K\n",
      "\u001b[m  759 root      20   0  562420  53140  13436 S   0.0  2.6   0:02.18 python      \u001b[m\u001b[m\u001b[K\n",
      "\n",
      "\n",
      "\u001b[J\u001b[H\u001b[mtop - 12:25:48 up 4 days,  6:45,  0 users,  load average: 0.00, 0.02, 0.00\u001b[m\u001b[m\u001b[m\u001b[m\u001b[K\n",
      "\n",
      "%Cpu(s):\u001b[m\u001b[m\u001b[1m  0.7 \u001b[m\u001b[mus,\u001b[m\u001b[m\u001b[1m  0.6 \u001b[m\u001b[msy,\u001b[m\u001b[m\u001b[1m  0.0 \u001b[m\u001b[mni,\u001b[m\u001b[m\u001b[1m 98.7 \u001b[m\u001b[mid,\u001b[m\u001b[m\u001b[1m  0.0 \u001b[m\u001b[mwa,\u001b[m\u001b[m\u001b[1m  0.0 \u001b[m\u001b[mhi,\u001b[m\u001b[m\u001b[1m  0.0 \u001b[m\u001b[msi,\u001b[m\u001b[m\u001b[1m  0.0 \u001b[m\u001b[mst\u001b[m\u001b[m\u001b[m\u001b[m\u001b[K\n",
      "\n",
      "\n",
      "\u001b[K\n",
      "\n",
      "\u001b[m    1 root      20   0   18236    204    100 S   0.0  0.0   0:00.11 bash        \u001b[m\u001b[m\u001b[K\n",
      "\u001b[m  667 root      20   0  999296  56116   5060 S   0.0  2.7   0:21.63 jupyter-no+ \u001b[m\u001b[m\u001b[K\n",
      "\n",
      "\n",
      "\n",
      "\n",
      "\n",
      "\n",
      "\n",
      "\n",
      "\u001b[J\u001b[?1l\u001b>\u001b[25;1H\n",
      "\u001b[K"
     ]
    }
   ],
   "source": [
    "!top"
   ]
  }
 ],
 "metadata": {
  "kernelspec": {
   "display_name": "Python 3",
   "language": "python",
   "name": "python3"
  },
  "language_info": {
   "codemirror_mode": {
    "name": "ipython",
    "version": 3
   },
   "file_extension": ".py",
   "mimetype": "text/x-python",
   "name": "python",
   "nbconvert_exporter": "python",
   "pygments_lexer": "ipython3",
   "version": "3.7.7"
  }
 },
 "nbformat": 4,
 "nbformat_minor": 4
}
