{
 "cells": [
  {
   "cell_type": "code",
   "execution_count": 4,
   "metadata": {},
   "outputs": [],
   "source": [
    "import pandas as pd\n",
    "import xgboost as xgb\n",
    "from xgboost import XGBClassifier\n",
    "import datetime; import pytz\n",
    "import matplotlib as plt\n",
    "from scipy.special import softmax\n",
    "from sklearn.model_selection import cross_val_score\n",
    "from sklearn.model_selection import train_test_split # (*arrays, **options)\n",
    "import numpy as np\n",
    "from sklearn.metrics import log_loss\n",
    "from sklearn.preprocessing import OneHotEncoder, LabelEncoder\n",
    "\n",
    "from joblib import dump, load\n",
    "import joblib\n",
    "import os\n",
    "from sklearn.metrics import confusion_matrix, mean_squared_error\n",
    "from sklearn.model_selection import KFold, train_test_split, GridSearchCV"
   ]
  },
  {
   "cell_type": "code",
   "execution_count": 5,
   "metadata": {},
   "outputs": [],
   "source": [
    "datadir = '/opt/data'\n",
    "localdir = '/opt/program'\n",
    "tripsdf = pd.read_csv(f'{datadir}/2013-07 - Citi Bike trip data.csv')\n",
    "stationsdf = pd.read_csv(f'{localdir}/datas/stations/stations-2018-12-04-c.csv',\n",
    "                        index_col=0)"
   ]
  },
  {
   "cell_type": "code",
   "execution_count": 6,
   "metadata": {},
   "outputs": [
    {
     "data": {
      "text/plain": [
       "'/opt/program'"
      ]
     },
     "execution_count": 6,
     "metadata": {},
     "output_type": "execute_result"
    }
   ],
   "source": [
    "os.getcwd()"
   ]
  },
  {
   "cell_type": "code",
   "execution_count": 7,
   "metadata": {},
   "outputs": [],
   "source": [
    "# load model from 2020-06-10 notebook\n",
    "bundle = joblib.load('/opt/program/artifacts/2020-06-11T041641Z/bundle.joblib')"
   ]
  },
  {
   "cell_type": "code",
   "execution_count": 8,
   "metadata": {},
   "outputs": [
    {
     "data": {
      "text/plain": [
       "{'notebook': '2020-06-10-again',\n",
       " 'model': XGBClassifier(base_score=0.5, booster='gbtree', colsample_bylevel=1,\n",
       "               colsample_bynode=1, colsample_bytree=1, gamma=0,\n",
       "               learning_rate=0.1, max_delta_step=0, max_depth=3,\n",
       "               min_child_weight=1, missing=nan, n_estimators=100, n_jobs=1,\n",
       "               nthread=None, objective='multi:softprob', random_state=0,\n",
       "               reg_alpha=0, reg_lambda=1, scale_pos_weight=1, seed=None,\n",
       "               silent=None, subsample=1, verbosity=1),\n",
       " 'actuals': array([60, 60, 60, ...,  2,  2,  2]),\n",
       " 'predictions': array([46, 46, 46, ...,  2,  2,  2]),\n",
       " 'confusion_matrix': array([[ 193,   64,   14, ...,    0,    0,  150],\n",
       "        [  27, 1167,   16, ...,    0,    0,   28],\n",
       "        [   4,    6,  379, ...,    0,    0,  236],\n",
       "        ...,\n",
       "        [   0,    0,   17, ...,    0,    0,   46],\n",
       "        [  67,  599,   24, ...,    0,    0,   78],\n",
       "        [  19,    9,  196, ...,    0,    0, 2017]]),\n",
       " 'walltime_train': '19min 45s',\n",
       " 'preproc': {'le': LabelEncoder(),\n",
       "  'one_hot_enc': OneHotEncoder(categories=[['Alphabet City', 'Battery Park City',\n",
       "                             'Bedford-Stuyvesant', 'Bloomingdale', 'Boerum Hill',\n",
       "                             'Bowery', 'Broadway Triangle', 'Brooklyn Heights',\n",
       "                             'Brooklyn Navy Yard', 'Carnegie Hill',\n",
       "                             'Carroll Gardens', 'Central Park', 'Chelsea',\n",
       "                             'Chinatown', 'Civic Center', 'Clinton Hill',\n",
       "                             'Cobble Hill', 'Columbia Street Waterfront District',\n",
       "                             'Downtown Brooklyn', 'Dumbo', 'East Harlem',\n",
       "                             'East Village', 'East Williamsburg',\n",
       "                             'Financial District', 'Flatiron District',\n",
       "                             'Fort Greene', 'Fulton Ferry District',\n",
       "                             'Garment District', 'Governors Island', 'Gowanus', ...],\n",
       "                            [0, 1, 2]],\n",
       "                drop=None, dtype=<class 'numpy.float64'>, handle_unknown='error',\n",
       "                sparse=True)}}"
      ]
     },
     "execution_count": 8,
     "metadata": {},
     "output_type": "execute_result"
    }
   ],
   "source": [
    "bundle"
   ]
  },
  {
   "cell_type": "code",
   "execution_count": 20,
   "metadata": {},
   "outputs": [
    {
     "name": "stdout",
     "output_type": "stream",
     "text": [
      "{'overall accuracy': 0.1541161182619253, 'num_correct': 64992, 'total': 421708}\n",
      "(54, 54)\n",
      "[193, 1167, 379, 0, 0, 1406, 0, 1039, 30505, 0, 685, 557, 67, 62, 49, 0, 4534, 0, 2583, 109, 0, 0, 2766, 2003, 0, 0, 0, 236, 0, 2722, 0, 0, 612, 6064, 581, 0, 0, 0, 0, 24, 0, 0, 0, 0, 0, 0, 4632, 0, 0, 0, 0, 0, 0, 2017]\n",
      "confusion, sum, diagonal 64992\n"
     ]
    }
   ],
   "source": [
    "# quick manual accuracy computation\n",
    "bundle['actuals'].shape, bundle['predictions'].shape\n",
    "correct = len([i for i, _ in enumerate(bundle['actuals'])\n",
    "              if bundle['actuals'][i] == bundle['predictions'][i]\n",
    "              ])\n",
    "print({'overall accuracy': correct/len(bundle['actuals']), \n",
    "       'num_correct': correct, 'total': len(bundle['actuals'])})\n",
    "print(bundle['confusion_matrix'].shape)\n",
    "\n",
    "confusion_diagonal = [bundle['confusion_matrix'][i][j]\n",
    "                                  for i in range(54)\n",
    "                                  for j in range(54)\n",
    "                                  if i == j]\n",
    "print(confusion_diagonal)\n",
    "print('confusion, sum, diagonal', sum(confusion_diagonal))"
   ]
  },
  {
   "cell_type": "code",
   "execution_count": 25,
   "metadata": {},
   "outputs": [
    {
     "name": "stdout",
     "output_type": "stream",
     "text": [
      "78\n",
      "[0.0, 0.0, 0.0, 0.0, 0.0, 0.0, 0.0, 0.0, 0.0, 0.0, 0.0, 0.0, 0.0, 0.0, 0.0, 0.0, 0.0, 0.0, 0.0, 0.0, 0.0, 0.00057195826, 0.00096085493, 0.0019978876, 0.0028608162, 0.003014325, 0.0031509278, 0.005542396, 0.0055443724, 0.0056226645, 0.0064963517, 0.0066661313, 0.007307959, 0.007578683, 0.0077737863, 0.008284873, 0.00866166, 0.009315344, 0.010423137, 0.010517005, 0.010585468, 0.010727769, 0.012014797, 0.012143584, 0.012632706, 0.01298739, 0.013684955, 0.014033192, 0.014308239, 0.014311185, 0.016608043, 0.017402876, 0.017734889, 0.017809916, 0.017948298, 0.018543119, 0.01898507, 0.019225849, 0.02069202, 0.020770036, 0.021067692, 0.02152036, 0.022673236, 0.024081945, 0.02418218, 0.02421692, 0.026871085, 0.027934289, 0.02844202, 0.030187974, 0.032351416, 0.033994444, 0.035514593, 0.03653184, 0.036576174, 0.044999287, 0.04772858, 0.05568539]\n"
     ]
    }
   ],
   "source": [
    "model = bundle['model']\n",
    "print(len(model.feature_importances_))\n",
    "print(sorted(model.feature_importances_))"
   ]
  },
  {
   "cell_type": "code",
   "execution_count": 23,
   "metadata": {
    "scrolled": true
   },
   "outputs": [
    {
     "data": {
      "text/plain": [
       "array([ 0,  1,  2,  4,  5,  7,  8, 11, 12, 13, 14, 15, 17, 18, 19, 21, 23,\n",
       "       24, 25, 26, 27, 30, 32, 33, 34, 36, 37, 39, 40, 42, 43, 44, 45, 46,\n",
       "       47, 48, 49, 50, 51, 52, 53, 57, 58, 60, 62, 63, 64, 65, 66, 67, 68,\n",
       "       71, 72, 73])"
      ]
     },
     "execution_count": 23,
     "metadata": {},
     "output_type": "execute_result"
    }
   ],
   "source": [
    "# 78 features\n",
    "model.classes_"
   ]
  },
  {
   "cell_type": "code",
   "execution_count": 26,
   "metadata": {},
   "outputs": [
    {
     "ename": "NameError",
     "evalue": "name 'prepare_data' is not defined",
     "output_type": "error",
     "traceback": [
      "\u001b[0;31m---------------------------------------------------------------------------\u001b[0m",
      "\u001b[0;31mNameError\u001b[0m                                 Traceback (most recent call last)",
      "\u001b[0;32m<ipython-input-26-3602df6de0d4>\u001b[0m in \u001b[0;36m<module>\u001b[0;34m\u001b[0m\n\u001b[0;32m----> 1\u001b[0;31m \u001b[0mX\u001b[0m\u001b[0;34m,\u001b[0m \u001b[0my\u001b[0m \u001b[0;34m=\u001b[0m \u001b[0mprepare_data\u001b[0m\u001b[0;34m(\u001b[0m\u001b[0mtripsdf\u001b[0m\u001b[0;34m,\u001b[0m \u001b[0mstationsdf\u001b[0m\u001b[0;34m)\u001b[0m\u001b[0;34m\u001b[0m\u001b[0;34m\u001b[0m\u001b[0m\n\u001b[0m\u001b[1;32m      2\u001b[0m \u001b[0mneighborhoods\u001b[0m \u001b[0;34m=\u001b[0m \u001b[0msorted\u001b[0m\u001b[0;34m(\u001b[0m\u001b[0mstationsdf\u001b[0m\u001b[0;34m.\u001b[0m\u001b[0mneighborhood\u001b[0m\u001b[0;34m.\u001b[0m\u001b[0munique\u001b[0m\u001b[0;34m(\u001b[0m\u001b[0;34m)\u001b[0m\u001b[0;34m.\u001b[0m\u001b[0mtolist\u001b[0m\u001b[0;34m(\u001b[0m\u001b[0;34m)\u001b[0m\u001b[0;34m)\u001b[0m\u001b[0;34m\u001b[0m\u001b[0;34m\u001b[0m\u001b[0m\n",
      "\u001b[0;31mNameError\u001b[0m: name 'prepare_data' is not defined"
     ]
    }
   ],
   "source": []
  },
  {
   "cell_type": "code",
   "execution_count": 29,
   "metadata": {},
   "outputs": [
    {
     "data": {
      "text/plain": [
       "<module 'fresh.utils' from '/opt/program/fresh/utils.py'>"
      ]
     },
     "execution_count": 29,
     "metadata": {},
     "output_type": "execute_result"
    }
   ],
   "source": [
    "import fresh.utils as fu\n",
    "from importlib import reload\n",
    "reload(fu)"
   ]
  },
  {
   "cell_type": "code",
   "execution_count": 31,
   "metadata": {},
   "outputs": [],
   "source": [
    "X, y, neighborhoods = fu.prepare_data(tripsdf, stationsdf)\n",
    "# = sorted(stationsdf.neighborhood.unique().tolist())\n",
    "\n"
   ]
  },
  {
   "cell_type": "code",
   "execution_count": 34,
   "metadata": {
    "scrolled": true
   },
   "outputs": [
    {
     "data": {
      "text/plain": [
       "[['Alphabet City',\n",
       "  'Battery Park City',\n",
       "  'Bedford-Stuyvesant',\n",
       "  'Bloomingdale',\n",
       "  'Boerum Hill',\n",
       "  'Bowery',\n",
       "  'Broadway Triangle',\n",
       "  'Brooklyn Heights',\n",
       "  'Brooklyn Navy Yard',\n",
       "  'Carnegie Hill',\n",
       "  'Carroll Gardens',\n",
       "  'Central Park',\n",
       "  'Chelsea',\n",
       "  'Chinatown',\n",
       "  'Civic Center',\n",
       "  'Clinton Hill',\n",
       "  'Cobble Hill',\n",
       "  'Columbia Street Waterfront District',\n",
       "  'Downtown Brooklyn',\n",
       "  'Dumbo',\n",
       "  'East Harlem',\n",
       "  'East Village',\n",
       "  'East Williamsburg',\n",
       "  'Financial District',\n",
       "  'Flatiron District',\n",
       "  'Fort Greene',\n",
       "  'Fulton Ferry District',\n",
       "  'Garment District',\n",
       "  'Governors Island',\n",
       "  'Gowanus',\n",
       "  'Gramercy Park',\n",
       "  'Greenpoint',\n",
       "  'Greenwich Village',\n",
       "  \"Hell's Kitchen\",\n",
       "  'Hudson Square',\n",
       "  'Hunters Point',\n",
       "  'Kips Bay',\n",
       "  'Korea Town',\n",
       "  'Lenox Hill',\n",
       "  'Lincoln Square',\n",
       "  'Little Italy',\n",
       "  'Long Island City',\n",
       "  'Lower East Side',\n",
       "  'Lower Manhattan',\n",
       "  'Meatpacking District',\n",
       "  'Midtown',\n",
       "  'Midtown East',\n",
       "  'Midtown West',\n",
       "  'Murray Hill',\n",
       "  'NoHo',\n",
       "  'NoMad',\n",
       "  'Nolita',\n",
       "  'Park Slope',\n",
       "  'Peter Cooper Village',\n",
       "  'Prospect Heights',\n",
       "  'Prospect Park',\n",
       "  'Red Hook',\n",
       "  'Rose Hill',\n",
       "  'SoHo',\n",
       "  'Stuyvesant Heights',\n",
       "  'Stuyvesant Town',\n",
       "  'Sunset Park',\n",
       "  'Sutton Place',\n",
       "  'Theater District',\n",
       "  'Tribeca',\n",
       "  'Tudor City',\n",
       "  'Two Bridges',\n",
       "  'Ukrainian Village',\n",
       "  'Union Square',\n",
       "  'Upper East Side',\n",
       "  'Upper West Side',\n",
       "  'Vinegar Hill',\n",
       "  'West Village',\n",
       "  'Williamsburg',\n",
       "  'Yorkville'],\n",
       " [0, 1, 2]]"
      ]
     },
     "execution_count": 34,
     "metadata": {},
     "output_type": "execute_result"
    }
   ],
   "source": [
    "bundle['preproc']['one_hot_enc'].categories"
   ]
  },
  {
   "cell_type": "code",
   "execution_count": 35,
   "metadata": {
    "scrolled": true
   },
   "outputs": [
    {
     "data": {
      "text/plain": [
       "(75, 3)"
      ]
     },
     "execution_count": 35,
     "metadata": {},
     "output_type": "execute_result"
    }
   ],
   "source": [
    "len(bundle['preproc']['one_hot_enc'].categories[0]), len(bundle['preproc']['one_hot_enc'].categories[1])"
   ]
  },
  {
   "cell_type": "code",
   "execution_count": 36,
   "metadata": {
    "scrolled": true
   },
   "outputs": [
    {
     "name": "stdout",
     "output_type": "stream",
     "text": [
      "['feature_start_neighborhood=Alphabet City', 'feature_start_neighborhood=Battery Park City', 'feature_start_neighborhood=Bedford-Stuyvesant', 'feature_start_neighborhood=Bloomingdale', 'feature_start_neighborhood=Boerum Hill', 'feature_start_neighborhood=Bowery', 'feature_start_neighborhood=Broadway Triangle', 'feature_start_neighborhood=Brooklyn Heights', 'feature_start_neighborhood=Brooklyn Navy Yard', 'feature_start_neighborhood=Carnegie Hill', 'feature_start_neighborhood=Carroll Gardens', 'feature_start_neighborhood=Central Park', 'feature_start_neighborhood=Chelsea', 'feature_start_neighborhood=Chinatown', 'feature_start_neighborhood=Civic Center', 'feature_start_neighborhood=Clinton Hill', 'feature_start_neighborhood=Cobble Hill', 'feature_start_neighborhood=Columbia Street Waterfront District', 'feature_start_neighborhood=Downtown Brooklyn', 'feature_start_neighborhood=Dumbo', 'feature_start_neighborhood=East Harlem', 'feature_start_neighborhood=East Village', 'feature_start_neighborhood=East Williamsburg', 'feature_start_neighborhood=Financial District', 'feature_start_neighborhood=Flatiron District', 'feature_start_neighborhood=Fort Greene', 'feature_start_neighborhood=Fulton Ferry District', 'feature_start_neighborhood=Garment District', 'feature_start_neighborhood=Governors Island', 'feature_start_neighborhood=Gowanus', 'feature_start_neighborhood=Gramercy Park', 'feature_start_neighborhood=Greenpoint', 'feature_start_neighborhood=Greenwich Village', \"feature_start_neighborhood=Hell's Kitchen\", 'feature_start_neighborhood=Hudson Square', 'feature_start_neighborhood=Hunters Point', 'feature_start_neighborhood=Kips Bay', 'feature_start_neighborhood=Korea Town', 'feature_start_neighborhood=Lenox Hill', 'feature_start_neighborhood=Lincoln Square', 'feature_start_neighborhood=Little Italy', 'feature_start_neighborhood=Long Island City', 'feature_start_neighborhood=Lower East Side', 'feature_start_neighborhood=Lower Manhattan', 'feature_start_neighborhood=Meatpacking District', 'feature_start_neighborhood=Midtown', 'feature_start_neighborhood=Midtown East', 'feature_start_neighborhood=Midtown West', 'feature_start_neighborhood=Murray Hill', 'feature_start_neighborhood=NoHo', 'feature_start_neighborhood=NoMad', 'feature_start_neighborhood=Nolita', 'feature_start_neighborhood=Park Slope', 'feature_start_neighborhood=Peter Cooper Village', 'feature_start_neighborhood=Prospect Heights', 'feature_start_neighborhood=Prospect Park', 'feature_start_neighborhood=Red Hook', 'feature_start_neighborhood=Rose Hill', 'feature_start_neighborhood=SoHo', 'feature_start_neighborhood=Stuyvesant Heights', 'feature_start_neighborhood=Stuyvesant Town', 'feature_start_neighborhood=Sunset Park', 'feature_start_neighborhood=Sutton Place', 'feature_start_neighborhood=Theater District', 'feature_start_neighborhood=Tribeca', 'feature_start_neighborhood=Tudor City', 'feature_start_neighborhood=Two Bridges', 'feature_start_neighborhood=Ukrainian Village', 'feature_start_neighborhood=Union Square', 'feature_start_neighborhood=Upper East Side', 'feature_start_neighborhood=Upper West Side', 'feature_start_neighborhood=Vinegar Hill', 'feature_start_neighborhood=West Village', 'feature_start_neighborhood=Williamsburg', 'feature_start_neighborhood=Yorkville', 'feature_gender=0', 'feature_gender=1', 'feature_gender=2']\n"
     ]
    }
   ],
   "source": [
    "features = ([f'feature_start_neighborhood={x}' for x in bundle['preproc']['one_hot_enc'].categories[0]]\n",
    "           + [f'feature_gender={x}' for x in bundle['preproc']['one_hot_enc'].categories[1]])\n",
    "print(features)"
   ]
  },
  {
   "cell_type": "code",
   "execution_count": 39,
   "metadata": {},
   "outputs": [
    {
     "data": {
      "text/plain": [
       "[['feature_start_neighborhood=Bloomingdale', 0.0],\n",
       " ['feature_start_neighborhood=Broadway Triangle', 0.0],\n",
       " ['feature_start_neighborhood=Carnegie Hill', 0.0],\n",
       " ['feature_start_neighborhood=Carroll Gardens', 0.0],\n",
       " ['feature_start_neighborhood=Cobble Hill', 0.0],\n",
       " ['feature_start_neighborhood=East Harlem', 0.0],\n",
       " ['feature_start_neighborhood=East Williamsburg', 0.0],\n",
       " ['feature_start_neighborhood=Governors Island', 0.0],\n",
       " ['feature_start_neighborhood=Gowanus', 0.0],\n",
       " ['feature_start_neighborhood=Greenpoint', 0.0],\n",
       " ['feature_start_neighborhood=Hunters Point', 0.0],\n",
       " ['feature_start_neighborhood=Lenox Hill', 0.0],\n",
       " ['feature_start_neighborhood=Long Island City', 0.0],\n",
       " ['feature_start_neighborhood=Prospect Heights', 0.0],\n",
       " ['feature_start_neighborhood=Prospect Park', 0.0],\n",
       " ['feature_start_neighborhood=Red Hook', 0.0],\n",
       " ['feature_start_neighborhood=Stuyvesant Heights', 0.0],\n",
       " ['feature_start_neighborhood=Sunset Park', 0.0],\n",
       " ['feature_start_neighborhood=Upper East Side', 0.0],\n",
       " ['feature_start_neighborhood=Upper West Side', 0.0],\n",
       " ['feature_start_neighborhood=Yorkville', 0.0],\n",
       " ['feature_gender=2', 0.00057195826],\n",
       " ['feature_gender=1', 0.00096085493],\n",
       " ['feature_start_neighborhood=Tudor City', 0.0019978876],\n",
       " ['feature_gender=0', 0.0028608162],\n",
       " ['feature_start_neighborhood=Korea Town', 0.003014325],\n",
       " ['feature_start_neighborhood=Sutton Place', 0.0031509278],\n",
       " ['feature_start_neighborhood=Rose Hill', 0.005542396],\n",
       " ['feature_start_neighborhood=NoHo', 0.0055443724],\n",
       " ['feature_start_neighborhood=NoMad', 0.0056226645],\n",
       " ['feature_start_neighborhood=Union Square', 0.0064963517],\n",
       " ['feature_start_neighborhood=Little Italy', 0.0066661313],\n",
       " ['feature_start_neighborhood=Gramercy Park', 0.007307959],\n",
       " ['feature_start_neighborhood=Peter Cooper Village', 0.007578683],\n",
       " ['feature_start_neighborhood=Flatiron District', 0.0077737863],\n",
       " ['feature_start_neighborhood=Nolita', 0.008284873],\n",
       " ['feature_start_neighborhood=Lower Manhattan', 0.00866166],\n",
       " ['feature_start_neighborhood=SoHo', 0.009315344],\n",
       " ['feature_start_neighborhood=Stuyvesant Town', 0.010423137],\n",
       " ['feature_start_neighborhood=Garment District', 0.010517005],\n",
       " ['feature_start_neighborhood=Meatpacking District', 0.010585468],\n",
       " ['feature_start_neighborhood=Murray Hill', 0.010727769],\n",
       " ['feature_start_neighborhood=Kips Bay', 0.012014797],\n",
       " ['feature_start_neighborhood=Hudson Square', 0.012143584],\n",
       " ['feature_start_neighborhood=Ukrainian Village', 0.012632706],\n",
       " ['feature_start_neighborhood=Midtown', 0.01298739],\n",
       " ['feature_start_neighborhood=East Village', 0.013684955],\n",
       " ['feature_start_neighborhood=Park Slope', 0.014033192],\n",
       " ['feature_start_neighborhood=Vinegar Hill', 0.014308239],\n",
       " ['feature_start_neighborhood=Bowery', 0.014311185],\n",
       " ['feature_start_neighborhood=Chinatown', 0.016608043],\n",
       " ['feature_start_neighborhood=Alphabet City', 0.017402876],\n",
       " ['feature_start_neighborhood=Lincoln Square', 0.017734889],\n",
       " ['feature_start_neighborhood=Dumbo', 0.017809916],\n",
       " ['feature_start_neighborhood=Brooklyn Navy Yard', 0.017948298],\n",
       " ['feature_start_neighborhood=Civic Center', 0.018543119],\n",
       " ['feature_start_neighborhood=Theater District', 0.01898507],\n",
       " ['feature_start_neighborhood=Fulton Ferry District', 0.019225849],\n",
       " ['feature_start_neighborhood=West Village', 0.02069202],\n",
       " ['feature_start_neighborhood=Midtown West', 0.020770036],\n",
       " ['feature_start_neighborhood=Midtown East', 0.021067692],\n",
       " ['feature_start_neighborhood=Boerum Hill', 0.02152036],\n",
       " ['feature_start_neighborhood=Two Bridges', 0.022673236],\n",
       " [\"feature_start_neighborhood=Hell's Kitchen\", 0.024081945],\n",
       " ['feature_start_neighborhood=Greenwich Village', 0.02418218],\n",
       " ['feature_start_neighborhood=Columbia Street Waterfront District',\n",
       "  0.02421692],\n",
       " ['feature_start_neighborhood=Battery Park City', 0.026871085],\n",
       " ['feature_start_neighborhood=Chelsea', 0.027934289],\n",
       " ['feature_start_neighborhood=Lower East Side', 0.02844202],\n",
       " ['feature_start_neighborhood=Downtown Brooklyn', 0.030187974],\n",
       " ['feature_start_neighborhood=Tribeca', 0.032351416],\n",
       " ['feature_start_neighborhood=Clinton Hill', 0.033994444],\n",
       " ['feature_start_neighborhood=Brooklyn Heights', 0.035514593],\n",
       " ['feature_start_neighborhood=Bedford-Stuyvesant', 0.03653184],\n",
       " ['feature_start_neighborhood=Financial District', 0.036576174],\n",
       " ['feature_start_neighborhood=Fort Greene', 0.044999287],\n",
       " ['feature_start_neighborhood=Williamsburg', 0.04772858],\n",
       " ['feature_start_neighborhood=Central Park', 0.05568539]]"
      ]
     },
     "execution_count": 39,
     "metadata": {},
     "output_type": "execute_result"
    }
   ],
   "source": [
    "importances = model.feature_importances_\n",
    "labeled_importances = [[features[i], importances[i]] for i in range(78)]\n",
    "sorted(labeled_importances, key=lambda x:x[1])"
   ]
  },
  {
   "cell_type": "code",
   "execution_count": null,
   "metadata": {},
   "outputs": [],
   "source": [
    "# Perhaps indeed the starting locations which are so un-important, basically have just way too many\n",
    "# destinations, or maybe there are just not enough trips involving those stations.\n",
    "# But anyway, I think ultimately the importances which are there \n",
    "#    across different cross validation folds are the ones to focus on"
   ]
  },
  {
   "cell_type": "code",
   "execution_count": 40,
   "metadata": {},
   "outputs": [],
   "source": [
    "# retry that multi-logloss ...\n",
    "rng = np.random.RandomState(31337)\n",
    "indices1 = []\n",
    "kf = KFold(n_splits=2, shuffle=True, random_state=rng)\n",
    "for train_index, test_index in kf.split(X):\n",
    "    indices1.append([train_index, test_index])\n",
    "\n",
    "indices2 = []\n",
    "kf = KFold(n_splits=2, shuffle=True, random_state=rng)\n",
    "for train_index, test_index in kf.split(X):\n",
    "    indices2.append([train_index, test_index])\n",
    "    \n"
   ]
  },
  {
   "cell_type": "code",
   "execution_count": 44,
   "metadata": {},
   "outputs": [
    {
     "data": {
      "text/plain": [
       "([array([     0,      2,      3, ..., 843411, 843412, 843415]),\n",
       "  array([     1,      7,      8, ..., 843410, 843413, 843414])],\n",
       " [array([     5,      7,      9, ..., 843412, 843413, 843414]),\n",
       "  array([     0,      1,      2, ..., 843408, 843411, 843415])])"
      ]
     },
     "execution_count": 44,
     "metadata": {},
     "output_type": "execute_result"
    }
   ],
   "source": [
    "# hmm doesnt look the same though, guess that random seed doesnt work deterministically?\n",
    "indices1[0][:5] , indices2[0][:5]\n"
   ]
  },
  {
   "cell_type": "code",
   "execution_count": 51,
   "metadata": {},
   "outputs": [
    {
     "data": {
      "text/plain": [
       "(75,)"
      ]
     },
     "execution_count": 51,
     "metadata": {},
     "output_type": "execute_result"
    }
   ],
   "source": [
    "#log_loss(y_true_enc, y_prob, labels=self.labels)\n",
    "#help(log_loss)\n",
    "bundle['preproc']['le'].classes_.shape"
   ]
  },
  {
   "cell_type": "code",
   "execution_count": 54,
   "metadata": {},
   "outputs": [],
   "source": [
    "X_transformed = bundle['preproc']['one_hot_enc'].transform(X[:1000])\n",
    "y_prob = model.predict_proba(X_transformed)"
   ]
  },
  {
   "cell_type": "code",
   "execution_count": 57,
   "metadata": {},
   "outputs": [
    {
     "data": {
      "text/plain": [
       "(54,)"
      ]
     },
     "execution_count": 57,
     "metadata": {},
     "output_type": "execute_result"
    }
   ],
   "source": [
    "y_prob[0].shape"
   ]
  },
  {
   "cell_type": "code",
   "execution_count": 65,
   "metadata": {},
   "outputs": [
    {
     "name": "stdout",
     "output_type": "stream",
     "text": [
      "75\n",
      "54\n"
     ]
    }
   ],
   "source": [
    "# ok got to clear up this inconsistency.. so, len(bundle['preproc']['one_hot_enc'].categories[0]) => 75\n",
    "# but there are I believe only 54 neighborhoods actually represented in the data itself,\n",
    "\n",
    "from collections import Counter\n",
    "print(len(bundle['preproc']['one_hot_enc'].categories[0]))\n",
    "print(len(dict(Counter([x[0] for x in X]))))"
   ]
  },
  {
   "cell_type": "code",
   "execution_count": 66,
   "metadata": {},
   "outputs": [
    {
     "data": {
      "text/plain": [
       "54"
      ]
     },
     "execution_count": 66,
     "metadata": {},
     "output_type": "execute_result"
    }
   ],
   "source": [
    "len(Counter(y))"
   ]
  },
  {
   "cell_type": "code",
   "execution_count": null,
   "metadata": {},
   "outputs": [],
   "source": [
    "# yea so 54 in X and y... but i used stationsdf w/ 75 neighborhoods, \n",
    "# so at the very least I should not be using that if it ends up indeed , \n",
    "# blowing up the one hot encoder to 75 , ... this might be why we have those start neighborhoods, \n",
    "# with  0 importance, since there was just no data for them "
   ]
  }
 ],
 "metadata": {
  "kernelspec": {
   "display_name": "Python 3",
   "language": "python",
   "name": "python3"
  },
  "language_info": {
   "codemirror_mode": {
    "name": "ipython",
    "version": 3
   },
   "file_extension": ".py",
   "mimetype": "text/x-python",
   "name": "python",
   "nbconvert_exporter": "python",
   "pygments_lexer": "ipython3",
   "version": "3.7.7"
  }
 },
 "nbformat": 4,
 "nbformat_minor": 4
}
