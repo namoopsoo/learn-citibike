{
 "cells": [
  {
   "cell_type": "markdown",
   "metadata": {},
   "source": [
    "For the sake of the kernel dying even on the 4gig `ml.t2.medium` sagemaker notebook instance, using my [notebook here](https://github.com/namoopsoo/learn-citibike/blob/2020-revisit/notes/2020-06-28-take2.md) , going to use [the notes on class distribution](https://github.com/namoopsoo/learn-citibike/blob/2020-revisit/notes/2020-06-26.md#looking-at-target-class-distribution) to reduce the size"
   ]
  },
  {
   "cell_type": "code",
   "execution_count": 1,
   "metadata": {},
   "outputs": [],
   "source": [
    "import pandas as pd\n",
    "import xgboost as xgb\n",
    "from xgboost import XGBClassifier\n",
    "import datetime; import pytz\n",
    "import matplotlib.pyplot as plt\n",
    "from scipy.special import softmax\n",
    "from sklearn.model_selection import cross_val_score\n",
    "from sklearn.model_selection import train_test_split # (*arrays, **options)\n",
    "import numpy as np\n",
    "from sklearn.metrics import log_loss\n",
    "from sklearn.preprocessing import OneHotEncoder, LabelEncoder\n",
    "\n",
    "from joblib import dump, load\n",
    "import joblib\n",
    "import os\n",
    "from sklearn.metrics import confusion_matrix, mean_squared_error\n",
    "from sklearn.model_selection import KFold, train_test_split, GridSearchCV\n",
    "from sklearn.metrics import accuracy_score\n",
    "import fresh.utils as fu\n",
    "\n",
    "from importlib import reload\n",
    "from collections import Counter\n",
    "from tqdm.notebook import tqdm\n",
    "import fresh.preproc.v1 as pv1\n",
    "import fresh.preproc.v2 as pv2"
   ]
  },
  {
   "cell_type": "code",
   "execution_count": 2,
   "metadata": {},
   "outputs": [],
   "source": [
    "datadir = '/opt/data'\n",
    "localdir = '/opt/program'\n",
    "\n",
    "\n",
    "tripsdf = pd.read_csv(f'{datadir}/2013-07 - Citi Bike trip data.csv'\n",
    "                     )#.sample(frac=0.017, random_state=42)\n",
    "stationsdf = pd.read_csv(f'{localdir}/datas/stations/stations-2018-12-04-c.csv',\n",
    "                        index_col=0)"
   ]
  },
  {
   "cell_type": "code",
   "execution_count": 3,
   "metadata": {},
   "outputs": [
    {
     "data": {
      "text/plain": [
       "(843416, 15)"
      ]
     },
     "execution_count": 3,
     "metadata": {},
     "output_type": "execute_result"
    }
   ],
   "source": [
    "tripsdf.shape"
   ]
  },
  {
   "cell_type": "code",
   "execution_count": 7,
   "metadata": {},
   "outputs": [
    {
     "ename": "ValueError",
     "evalue": "probabilities do not sum to 1",
     "output_type": "error",
     "traceback": [
      "\u001b[0;31m---------------------------------------------------------------------------\u001b[0m",
      "\u001b[0;31mValueError\u001b[0m                                Traceback (most recent call last)",
      "\u001b[0;32m<ipython-input-7-58c81dfa6eab>\u001b[0m in \u001b[0;36m<module>\u001b[0;34m\u001b[0m\n\u001b[1;32m      1\u001b[0m x = np.random.choice(np.array(range(20)), size=10, replace=False, \n\u001b[0;32m----> 2\u001b[0;31m                  p=[1/200 for _ in range(20)])\n\u001b[0m\u001b[1;32m      3\u001b[0m \u001b[0msorted\u001b[0m\u001b[0;34m(\u001b[0m\u001b[0mx\u001b[0m\u001b[0;34m)\u001b[0m\u001b[0;34m\u001b[0m\u001b[0;34m\u001b[0m\u001b[0m\n",
      "\u001b[0;32mmtrand.pyx\u001b[0m in \u001b[0;36mnumpy.random.mtrand.RandomState.choice\u001b[0;34m()\u001b[0m\n",
      "\u001b[0;31mValueError\u001b[0m: probabilities do not sum to 1"
     ]
    }
   ],
   "source": [
    "x = np.random.choice(np.array(range(20)), size=10, replace=False, \n",
    "                 p=[1/200 for _ in range(20)])\n",
    "sorted(x)"
   ]
  },
  {
   "cell_type": "code",
   "execution_count": 10,
   "metadata": {},
   "outputs": [
    {
     "data": {
      "text/plain": [
       "array([0.48, 0.24, 0.16, 0.12])"
      ]
     },
     "execution_count": 10,
     "metadata": {},
     "output_type": "execute_result"
    }
   ],
   "source": [
    "a = np.array([.1, .2, .3, .4])\n",
    "average = .25\n",
    "b = .25/a\n",
    "new_norm = np.sum(b)\n",
    "c = b/new_norm\n",
    "c"
   ]
  },
  {
   "cell_type": "code",
   "execution_count": 18,
   "metadata": {},
   "outputs": [
    {
     "name": "stdout",
     "output_type": "stream",
     "text": [
      "[0.48 0.24 0.16 0.12] 1.0000000000000002\n"
     ]
    }
   ],
   "source": [
    "c = fu.rebalance_proportions(a)\n",
    "near1 = np.sum(c)\n",
    "#d = c/near1\n",
    "#sum(d)\n",
    "print(c, near1)"
   ]
  },
  {
   "cell_type": "code",
   "execution_count": 17,
   "metadata": {},
   "outputs": [
    {
     "data": {
      "text/plain": [
       "[1, 2, 3, 4]"
      ]
     },
     "execution_count": 17,
     "metadata": {},
     "output_type": "execute_result"
    }
   ],
   "source": [
    "# ok , looks like np.random.choice is ok with near1 sum..\n",
    "x = np.random.choice(np.array([1,2,3,4]), size=4, replace=False, \n",
    "                 p=c)\n",
    "sorted(x)"
   ]
  },
  {
   "cell_type": "markdown",
   "metadata": {},
   "source": [
    "### 2020-07-01\n",
    "\n",
    "#### Testing out dataset rebalancing ..\n",
    "First here creating a random dataset of a predictable proportion , and verifying I can tweak it.."
   ]
  },
  {
   "cell_type": "code",
   "execution_count": 53,
   "metadata": {},
   "outputs": [
    {
     "name": "stdout",
     "output_type": "stream",
     "text": [
      "skew: {5: 0.0985, 4: 0.399, 3: 0.2995, 1: 0.101, 2: 0.102}\n",
      "classes: [1, 2, 3, 4, 5]\n",
      "size before (10000,)\n",
      "{2: 0.1994, 1: 0.1968, 3: 0.2198, 5: 0.1946, 4: 0.1894}\n",
      "size after (5000,)\n"
     ]
    }
   ],
   "source": [
    "reload(fu); \n",
    "def make_skewed_array(skew):\n",
    "    array = np.array([1, 2, 3, 4, 5])\n",
    "    size = array.shape[0]\n",
    "    new_size = 10000\n",
    "    newarray = np.random.choice(array, replace=True,\n",
    "                    size=new_size, p=skew)\n",
    "    return newarray\n",
    "    \n",
    "newarray = make_skewed_array(skew=[.1, .1, .3, .4, .1])\n",
    "print('skew:', fu.get_proportions(newarray))\n",
    "print('classes:', list(sorted(set(newarray))))\n",
    "print('size before', newarray.shape)\n",
    "\n",
    "_, newy = fu.balance_dataset(newarray, newarray, shrinkage=.5)\n",
    "\n",
    "print(fu.get_proportions(newy))\n",
    "print('size after', newy.shape)"
   ]
  }
 ],
 "metadata": {
  "kernelspec": {
   "display_name": "Python 3",
   "language": "python",
   "name": "python3"
  },
  "language_info": {
   "codemirror_mode": {
    "name": "ipython",
    "version": 3
   },
   "file_extension": ".py",
   "mimetype": "text/x-python",
   "name": "python",
   "nbconvert_exporter": "python",
   "pygments_lexer": "ipython3",
   "version": "3.7.7"
  }
 },
 "nbformat": 4,
 "nbformat_minor": 4
}
