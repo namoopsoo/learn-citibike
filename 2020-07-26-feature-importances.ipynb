{
 "cells": [
  {
   "cell_type": "markdown",
   "metadata": {},
   "source": [
    "Look at the feature importances in the models from earlier tuning .\n",
    "\n",
    "Actually... would be kind of cool to try to plot top features against accuracy"
   ]
  },
  {
   "cell_type": "code",
   "execution_count": 1,
   "metadata": {},
   "outputs": [],
   "source": [
    "import pandas as pd\n",
    "import numpy as np\n",
    "import datetime; import pytz\n",
    "import matplotlib.pyplot as plt\n",
    "from joblib import dump, load\n",
    "import joblib\n",
    "import os\n",
    "from tqdm import tqdm\n",
    "from sklearn.datasets import load_svmlight_file\n",
    "from sklearn.metrics import accuracy_score, balanced_accuracy_score\n",
    "from functools import reduce\n",
    "import fresh.s3utils as fs3\n",
    "from importlib import reload\n",
    "import json\n",
    "import fresh.plot as fp\n",
    "import fresh.vanilla_utils as fvu\n",
    "import fresh.metrics as fm\n",
    "\n",
    "import fresh.utils as fu\n"
   ]
  },
  {
   "cell_type": "code",
   "execution_count": 11,
   "metadata": {
    "scrolled": true
   },
   "outputs": [
    {
     "data": {
      "text/plain": [
       "train_acc                   0.00797076\n",
       "train_balanced_acc           0.0185185\n",
       "i                                  868\n",
       "train_logloss                  34.2635\n",
       "train_karea                   0.473045\n",
       "max_depth                            4\n",
       "learning_rate                        1\n",
       "objective               multi:softprob\n",
       "num_class                           54\n",
       "base_score                         0.5\n",
       "booster                         gbtree\n",
       "colsample_bylevel                  0.1\n",
       "colsample_bynode                     1\n",
       "colsample_bytree                   0.1\n",
       "gamma                                0\n",
       "max_delta_step                       0\n",
       "min_child_weight                     1\n",
       "random_state                         0\n",
       "reg_alpha                            0\n",
       "reg_lambda                           1\n",
       "scale_pos_weight                     1\n",
       "seed                                42\n",
       "subsample                          0.4\n",
       "verbosity                            0\n",
       "acc                         0.00806245\n",
       "balanced_acc                 0.0185185\n",
       "logloss                        34.2602\n",
       "walltime                       718.513\n",
       "karea                         0.472606\n",
       "num_round                           80\n",
       "train_test_acc_delta       9.16906e-05\n",
       "Name: 0, dtype: object"
      ]
     },
     "execution_count": 11,
     "metadata": {},
     "output_type": "execute_result"
    }
   ],
   "source": [
    "artifactsdir = '/opt/program/artifacts/2020-07-10T135910Z'\n",
    "alldf = pd.read_csv(f'{artifactsdir}/train+test_results_vec.csv')\n",
    "alldf.iloc[0]\n"
   ]
  },
  {
   "cell_type": "code",
   "execution_count": 12,
   "metadata": {},
   "outputs": [],
   "source": [
    "# bundle feature access..\n",
    "def features_from_model(i):\n",
    "    bundle_loc = f'{artifactsdir}/{i}_bundle_with_metrics.joblib'\n",
    "    bundle = joblib.load(bundle_loc)\n",
    "    model = bundle['xgb_model']\n",
    "    return bundle, model\n",
    "    \n",
    "bundle, model = features_from_model(868)"
   ]
  },
  {
   "cell_type": "code",
   "execution_count": 13,
   "metadata": {},
   "outputs": [
    {
     "data": {
      "text/plain": [
       "(85,)"
      ]
     },
     "execution_count": 13,
     "metadata": {},
     "output_type": "execute_result"
    }
   ],
   "source": [
    "len(model.feature_names), "
   ]
  },
  {
   "cell_type": "code",
   "execution_count": 14,
   "metadata": {},
   "outputs": [
    {
     "data": {
      "text/plain": [
       "{'notebook': '2020-07-10-aws.ipynb',\n",
       " 'xgb_model': <xgboost.core.Booster at 0x7f076b88be10>,\n",
       " 'train': '/home/ec2-user/SageMaker/learn-citibike/artifacts/2020-07-08T143732Z/train.libsvm',\n",
       " 'walltime': 718.513401,\n",
       " 'primary_dataset': '2013-07 - Citi Bike trip data.csv',\n",
       " 'input_params': {'max_depth': 4,\n",
       "  'learning_rate': 1,\n",
       "  'objective': 'multi:softprob',\n",
       "  'num_class': 54,\n",
       "  'base_score': 0.5,\n",
       "  'booster': 'gbtree',\n",
       "  'colsample_bylevel': 0.1,\n",
       "  'colsample_bynode': 1,\n",
       "  'colsample_bytree': 0.1,\n",
       "  'gamma': 0,\n",
       "  'max_delta_step': 0,\n",
       "  'min_child_weight': 1,\n",
       "  'random_state': 0,\n",
       "  'reg_alpha': 0,\n",
       "  'reg_lambda': 1,\n",
       "  'scale_pos_weight': 1,\n",
       "  'seed': 42,\n",
       "  'subsample': 0.4,\n",
       "  'verbosity': 0},\n",
       " 'num_round': 80,\n",
       " 'validation_metrics': {'accuracy': 0.008062450795337057,\n",
       "  'balanced_accuracy': 0.018518518518518517,\n",
       "  'confusion': array([[0, 0, 0, ..., 0, 0, 0],\n",
       "         [0, 0, 0, ..., 0, 0, 0],\n",
       "         [0, 0, 0, ..., 0, 0, 0],\n",
       "         ...,\n",
       "         [0, 0, 0, ..., 0, 0, 0],\n",
       "         [0, 0, 0, ..., 0, 0, 0],\n",
       "         [0, 0, 0, ..., 0, 0, 0]]),\n",
       "  'logloss': 34.26022113302777,\n",
       "  'test': '/home/ec2-user/SageMaker/learn-citibike/artifacts/2020-07-08T143732Z/test.libsvm',\n",
       "  'karea': 0.4726062864632681}}"
      ]
     },
     "execution_count": 14,
     "metadata": {},
     "output_type": "execute_result"
    }
   ],
   "source": [
    "bundle"
   ]
  },
  {
   "cell_type": "code",
   "execution_count": 15,
   "metadata": {},
   "outputs": [
    {
     "data": {
      "text/plain": [
       "'artifacts/2020-07-08T143732Z/proc_bundle.joblib'"
      ]
     },
     "execution_count": 15,
     "metadata": {},
     "output_type": "execute_result"
    }
   ],
   "source": [
    "# from the bundle ^^ I also download the processing bundle... \n",
    "# by looking at the notebook, https://github.com/namoopsoo/learn-citibike/blob/2020-revisit/notes/2020-07-10-aws.md\n",
    "# for reference.\n",
    "datadir = f'/opt/program/artifacts/2020-07-08T143732Z'\n",
    "proc_bundle = joblib.load(f'{datadir}/proc_bundle.joblib')\n",
    "\n",
    "'artifacts/2020-07-08T143732Z/proc_bundle.joblib'"
   ]
  },
  {
   "cell_type": "code",
   "execution_count": 16,
   "metadata": {},
   "outputs": [
    {
     "name": "stderr",
     "output_type": "stream",
     "text": [
      "/opt/conda/lib/python3.7/site-packages/sklearn/base.py:197: FutureWarning: From version 0.24, get_params will raise an AttributeError if a parameter cannot be retrieved as an instance attribute. Previously it would return None.\n",
      "  FutureWarning)\n"
     ]
    },
    {
     "data": {
      "text/plain": [
       "{'notebook': '2020-07-03-aws.ipynb',\n",
       " 'proc_bundle': {'enc': OneHotEncoder(categories=[['Alphabet City', 'Battery Park City',\n",
       "                             'Bedford-Stuyvesant', 'Bloomingdale', 'Boerum Hill',\n",
       "                             'Bowery', 'Broadway Triangle', 'Brooklyn Heights',\n",
       "                             'Brooklyn Navy Yard', 'Carnegie Hill',\n",
       "                             'Carroll Gardens', 'Central Park', 'Chelsea',\n",
       "                             'Chinatown', 'Civic Center', 'Clinton Hill',\n",
       "                             'Cobble Hill', 'Columbia Street Waterfront District',\n",
       "                             'Downtown Brooklyn', 'Dumbo', 'East Harlem',\n",
       "                             'East Village', 'East Williamsburg',\n",
       "                             'Financial District', 'Flatiron District',\n",
       "                             'Fort Greene', 'Fulton Ferry District',\n",
       "                             'Garment District', 'Governors Island', 'Gowanus', ...],\n",
       "                            [0, 1, 2], [0, 1, 2, 3, 4]],\n",
       "                drop=None, dtype=<class 'numpy.float64'>, handle_unknown='error',\n",
       "                sparse=True),\n",
       "  'usertype_le': LabelEncoder(),\n",
       "  'le': LabelEncoder()}}"
      ]
     },
     "execution_count": 16,
     "metadata": {},
     "output_type": "execute_result"
    }
   ],
   "source": [
    "proc_bundle"
   ]
  },
  {
   "cell_type": "code",
   "execution_count": null,
   "metadata": {},
   "outputs": [],
   "source": [
    "# Now taking a look at the notebook https://github.com/namoopsoo/learn-citibike/blob/2020-revisit/notes/2020-07-03-aws.md\n",
    "# referred to in the proc_bundle, I note that this bundle uses the `v2` preprocessing\n",
    "# So features , looking at fresh/preproc/v2.py , the xform  func, \n",
    "# (Also refreshing my mind about the data going into preproc, looking at prepare_data in fresh/utils.py)\n",
    "# \n",
    "# There's 85 features\n",
    "# so the first 83 come from the OneHotEncoder, [neighborhoods, genders, time_of_day]\n",
    "# Then the usertype label encoder\n",
    "# And finally the last column is taken as is, which is just the weekday, \n"
   ]
  },
  {
   "cell_type": "code",
   "execution_count": 20,
   "metadata": {},
   "outputs": [
    {
     "data": {
      "text/plain": [
       "[75, 3, 5]"
      ]
     },
     "execution_count": 20,
     "metadata": {},
     "output_type": "execute_result"
    }
   ],
   "source": [
    "[len(x) for x in proc_bundle['proc_bundle']['enc'].categories]"
   ]
  },
  {
   "cell_type": "code",
   "execution_count": 26,
   "metadata": {},
   "outputs": [
    {
     "data": {
      "text/plain": [
       "array(['Customer', 'Subscriber'], dtype=object)"
      ]
     },
     "execution_count": 26,
     "metadata": {},
     "output_type": "execute_result"
    }
   ],
   "source": []
  },
  {
   "cell_type": "code",
   "execution_count": 28,
   "metadata": {
    "scrolled": true
   },
   "outputs": [
    {
     "data": {
      "text/plain": [
       "(['start_neighborhood=Alphabet City',\n",
       "  'start_neighborhood=Battery Park City',\n",
       "  'start_neighborhood=Bedford-Stuyvesant',\n",
       "  'start_neighborhood=Bloomingdale',\n",
       "  'start_neighborhood=Boerum Hill',\n",
       "  'start_neighborhood=Bowery',\n",
       "  'start_neighborhood=Broadway Triangle',\n",
       "  'start_neighborhood=Brooklyn Heights',\n",
       "  'start_neighborhood=Brooklyn Navy Yard',\n",
       "  'start_neighborhood=Carnegie Hill',\n",
       "  'start_neighborhood=Carroll Gardens',\n",
       "  'start_neighborhood=Central Park',\n",
       "  'start_neighborhood=Chelsea',\n",
       "  'start_neighborhood=Chinatown',\n",
       "  'start_neighborhood=Civic Center',\n",
       "  'start_neighborhood=Clinton Hill',\n",
       "  'start_neighborhood=Cobble Hill',\n",
       "  'start_neighborhood=Columbia Street Waterfront District',\n",
       "  'start_neighborhood=Downtown Brooklyn',\n",
       "  'start_neighborhood=Dumbo',\n",
       "  'start_neighborhood=East Harlem',\n",
       "  'start_neighborhood=East Village',\n",
       "  'start_neighborhood=East Williamsburg',\n",
       "  'start_neighborhood=Financial District',\n",
       "  'start_neighborhood=Flatiron District',\n",
       "  'start_neighborhood=Fort Greene',\n",
       "  'start_neighborhood=Fulton Ferry District',\n",
       "  'start_neighborhood=Garment District',\n",
       "  'start_neighborhood=Governors Island',\n",
       "  'start_neighborhood=Gowanus',\n",
       "  'start_neighborhood=Gramercy Park',\n",
       "  'start_neighborhood=Greenpoint',\n",
       "  'start_neighborhood=Greenwich Village',\n",
       "  \"start_neighborhood=Hell's Kitchen\",\n",
       "  'start_neighborhood=Hudson Square',\n",
       "  'start_neighborhood=Hunters Point',\n",
       "  'start_neighborhood=Kips Bay',\n",
       "  'start_neighborhood=Korea Town',\n",
       "  'start_neighborhood=Lenox Hill',\n",
       "  'start_neighborhood=Lincoln Square',\n",
       "  'start_neighborhood=Little Italy',\n",
       "  'start_neighborhood=Long Island City',\n",
       "  'start_neighborhood=Lower East Side',\n",
       "  'start_neighborhood=Lower Manhattan',\n",
       "  'start_neighborhood=Meatpacking District',\n",
       "  'start_neighborhood=Midtown',\n",
       "  'start_neighborhood=Midtown East',\n",
       "  'start_neighborhood=Midtown West',\n",
       "  'start_neighborhood=Murray Hill',\n",
       "  'start_neighborhood=NoHo',\n",
       "  'start_neighborhood=NoMad',\n",
       "  'start_neighborhood=Nolita',\n",
       "  'start_neighborhood=Park Slope',\n",
       "  'start_neighborhood=Peter Cooper Village',\n",
       "  'start_neighborhood=Prospect Heights',\n",
       "  'start_neighborhood=Prospect Park',\n",
       "  'start_neighborhood=Red Hook',\n",
       "  'start_neighborhood=Rose Hill',\n",
       "  'start_neighborhood=SoHo',\n",
       "  'start_neighborhood=Stuyvesant Heights',\n",
       "  'start_neighborhood=Stuyvesant Town',\n",
       "  'start_neighborhood=Sunset Park',\n",
       "  'start_neighborhood=Sutton Place',\n",
       "  'start_neighborhood=Theater District',\n",
       "  'start_neighborhood=Tribeca',\n",
       "  'start_neighborhood=Tudor City',\n",
       "  'start_neighborhood=Two Bridges',\n",
       "  'start_neighborhood=Ukrainian Village',\n",
       "  'start_neighborhood=Union Square',\n",
       "  'start_neighborhood=Upper East Side',\n",
       "  'start_neighborhood=Upper West Side',\n",
       "  'start_neighborhood=Vinegar Hill',\n",
       "  'start_neighborhood=West Village',\n",
       "  'start_neighborhood=Williamsburg',\n",
       "  'start_neighborhood=Yorkville',\n",
       "  'gender=0',\n",
       "  'gender=1',\n",
       "  'gender=2',\n",
       "  'time_of_day=0',\n",
       "  'time_of_day=1',\n",
       "  'time_of_day=2',\n",
       "  'time_of_day=3',\n",
       "  'time_of_day=4',\n",
       "  'usertype',\n",
       "  'weekday'],\n",
       " 85)"
      ]
     },
     "execution_count": 28,
     "metadata": {},
     "output_type": "execute_result"
    }
   ],
   "source": [
    "onehot = proc_bundle['proc_bundle']['enc'].categories\n",
    "usertypes = proc_bundle['proc_bundle']['usertype_le'].classes_\n",
    "feature_names = ([f'start_neighborhood={x}' for x in onehot[0]] \n",
    "                + [f'gender={x}' for x in onehot[1]]\n",
    "                + [f'time_of_day={x}' for x in onehot[2]]\n",
    "                + ['usertype']\n",
    "                + ['weekday']) \n",
    "feature_names, len(feature_names)"
   ]
  },
  {
   "cell_type": "code",
   "execution_count": 21,
   "metadata": {
    "scrolled": true
   },
   "outputs": [
    {
     "data": {
      "text/plain": [
       "[['Alphabet City',\n",
       "  'Battery Park City',\n",
       "  'Bedford-Stuyvesant',\n",
       "  'Bloomingdale',\n",
       "  'Boerum Hill',\n",
       "  'Bowery',\n",
       "  'Broadway Triangle',\n",
       "  'Brooklyn Heights',\n",
       "  'Brooklyn Navy Yard',\n",
       "  'Carnegie Hill',\n",
       "  'Carroll Gardens',\n",
       "  'Central Park',\n",
       "  'Chelsea',\n",
       "  'Chinatown',\n",
       "  'Civic Center',\n",
       "  'Clinton Hill',\n",
       "  'Cobble Hill',\n",
       "  'Columbia Street Waterfront District',\n",
       "  'Downtown Brooklyn',\n",
       "  'Dumbo',\n",
       "  'East Harlem',\n",
       "  'East Village',\n",
       "  'East Williamsburg',\n",
       "  'Financial District',\n",
       "  'Flatiron District',\n",
       "  'Fort Greene',\n",
       "  'Fulton Ferry District',\n",
       "  'Garment District',\n",
       "  'Governors Island',\n",
       "  'Gowanus',\n",
       "  'Gramercy Park',\n",
       "  'Greenpoint',\n",
       "  'Greenwich Village',\n",
       "  \"Hell's Kitchen\",\n",
       "  'Hudson Square',\n",
       "  'Hunters Point',\n",
       "  'Kips Bay',\n",
       "  'Korea Town',\n",
       "  'Lenox Hill',\n",
       "  'Lincoln Square',\n",
       "  'Little Italy',\n",
       "  'Long Island City',\n",
       "  'Lower East Side',\n",
       "  'Lower Manhattan',\n",
       "  'Meatpacking District',\n",
       "  'Midtown',\n",
       "  'Midtown East',\n",
       "  'Midtown West',\n",
       "  'Murray Hill',\n",
       "  'NoHo',\n",
       "  'NoMad',\n",
       "  'Nolita',\n",
       "  'Park Slope',\n",
       "  'Peter Cooper Village',\n",
       "  'Prospect Heights',\n",
       "  'Prospect Park',\n",
       "  'Red Hook',\n",
       "  'Rose Hill',\n",
       "  'SoHo',\n",
       "  'Stuyvesant Heights',\n",
       "  'Stuyvesant Town',\n",
       "  'Sunset Park',\n",
       "  'Sutton Place',\n",
       "  'Theater District',\n",
       "  'Tribeca',\n",
       "  'Tudor City',\n",
       "  'Two Bridges',\n",
       "  'Ukrainian Village',\n",
       "  'Union Square',\n",
       "  'Upper East Side',\n",
       "  'Upper West Side',\n",
       "  'Vinegar Hill',\n",
       "  'West Village',\n",
       "  'Williamsburg',\n",
       "  'Yorkville'],\n",
       " [0, 1, 2],\n",
       " [0, 1, 2, 3, 4]]"
      ]
     },
     "execution_count": 21,
     "metadata": {},
     "output_type": "execute_result"
    }
   ],
   "source": [
    "[x for x in proc_bundle['proc_bundle']['enc'].categories]\n",
    "['start_neighborhood', 'gender', 'time_of_day', 'usertype', 'weekday', ]"
   ]
  },
  {
   "cell_type": "code",
   "execution_count": 22,
   "metadata": {
    "scrolled": true
   },
   "outputs": [
    {
     "data": {
      "text/plain": [
       "OneHotEncoder(categories=[['Alphabet City', 'Battery Park City',\n",
       "                           'Bedford-Stuyvesant', 'Bloomingdale', 'Boerum Hill',\n",
       "                           'Bowery', 'Broadway Triangle', 'Brooklyn Heights',\n",
       "                           'Brooklyn Navy Yard', 'Carnegie Hill',\n",
       "                           'Carroll Gardens', 'Central Park', 'Chelsea',\n",
       "                           'Chinatown', 'Civic Center', 'Clinton Hill',\n",
       "                           'Cobble Hill', 'Columbia Street Waterfront District',\n",
       "                           'Downtown Brooklyn', 'Dumbo', 'East Harlem',\n",
       "                           'East Village', 'East Williamsburg',\n",
       "                           'Financial District', 'Flatiron District',\n",
       "                           'Fort Greene', 'Fulton Ferry District',\n",
       "                           'Garment District', 'Governors Island', 'Gowanus', ...],\n",
       "                          [0, 1, 2], [0, 1, 2, 3, 4]],\n",
       "              drop=None, dtype=<class 'numpy.float64'>, handle_unknown='error',\n",
       "              sparse=True)"
      ]
     },
     "execution_count": 22,
     "metadata": {},
     "output_type": "execute_result"
    }
   ],
   "source": [
    "proc_bundle['proc_bundle']['enc']"
   ]
  },
  {
   "cell_type": "code",
   "execution_count": 56,
   "metadata": {
    "scrolled": true
   },
   "outputs": [
    {
     "data": {
      "text/plain": [
       "{'f0': 21.84926239047878,\n",
       " 'f1': 37.786746494099994,\n",
       " 'f2': 433.8485397055555,\n",
       " 'f3': 0,\n",
       " 'f4': 16.223508027632352,\n",
       " 'f5': 9.42196043241206,\n",
       " 'f6': 0,\n",
       " 'f7': 312.1357001213905,\n",
       " 'f8': 183.591148200835,\n",
       " 'f9': 0,\n",
       " 'f10': 0,\n",
       " 'f11': 677.8533162,\n",
       " 'f12': 38.99434604246625,\n",
       " 'f13': 6.5263488942345464,\n",
       " 'f14': 26.45729177064285,\n",
       " 'f15': 175.7688860563296,\n",
       " 'f16': 0,\n",
       " 'f17': 90.76833475265924,\n",
       " 'f18': 72.15264768027933,\n",
       " 'f19': 21.99337013682858,\n",
       " 'f20': 0,\n",
       " 'f21': 10.54046058378206,\n",
       " 'f22': 0,\n",
       " 'f23': 17.879153117563337,\n",
       " 'f24': 3.570255177766334,\n",
       " 'f25': 84.93661638680767,\n",
       " 'f26': 430.67800551271426,\n",
       " 'f27': 4.882921038958334,\n",
       " 'f28': 0,\n",
       " 'f29': 0,\n",
       " 'f30': 4.647248752257143,\n",
       " 'f31': 0,\n",
       " 'f32': 6.513139701477776,\n",
       " 'f33': 44.31525139833,\n",
       " 'f34': 9.75682808103667,\n",
       " 'f35': 0,\n",
       " 'f36': 12.14313110033871,\n",
       " 'f37': 3.478033674544285,\n",
       " 'f38': 0,\n",
       " 'f39': 31.03448123228923,\n",
       " 'f40': 4.873982171226924,\n",
       " 'f41': 0,\n",
       " 'f42': 33.41495056715625,\n",
       " 'f43': 3.9420541673342404,\n",
       " 'f44': 1.783668180384583,\n",
       " 'f45': 18.68570371114403,\n",
       " 'f46': 53.18911013852187,\n",
       " 'f47': 34.886790859076925,\n",
       " 'f48': 11.333733844213043,\n",
       " 'f49': 4.0394160273988335,\n",
       " 'f50': 4.790216858138834,\n",
       " 'f51': 4.4780697267222225,\n",
       " 'f52': 3.365376609984877,\n",
       " 'f53': 4.78523913215375,\n",
       " 'f54': 0,\n",
       " 'f55': 0,\n",
       " 'f56': 0,\n",
       " 'f57': 3.318884340601371,\n",
       " 'f58': 7.3907565483359985,\n",
       " 'f59': 0,\n",
       " 'f60': 5.07374035854091,\n",
       " 'f61': 0,\n",
       " 'f62': 2.539707918004545,\n",
       " 'f63': 14.069518631388888,\n",
       " 'f64': 28.83570998994062,\n",
       " 'f65': 3.66199824563375,\n",
       " 'f66': 3.1278085277045453,\n",
       " 'f67': 9.516930901203033,\n",
       " 'f68': 2.66708374141353,\n",
       " 'f69': 0,\n",
       " 'f70': 0,\n",
       " 'f71': 12.570966613077418,\n",
       " 'f72': 11.393699257730953,\n",
       " 'f73': 8.111616334874284,\n",
       " 'f74': 0,\n",
       " 'f75': 15.477744170175452,\n",
       " 'f76': 11.491175790387242,\n",
       " 'f77': 4.441719544005313,\n",
       " 'f78': 39.071259107831914,\n",
       " 'f79': 3.738208895664341,\n",
       " 'f80': 0.6978698888044447,\n",
       " 'f81': 16.965743239596296,\n",
       " 'f82': 12.161108562157143,\n",
       " 'f83': 46.38866912147674,\n",
       " 'f84': 4.034771426104167}"
      ]
     },
     "execution_count": 56,
     "metadata": {},
     "output_type": "execute_result"
    }
   ],
   "source": [
    "len(model.get_score(importance_type='gain')),len(model.get_score(importance_type='weight'))\n",
    "features = {f'f{i}': model.get_score(importance_type='gain').get(f'f{i}', 0)\n",
    "               for i, x in enumerate(model.feature_names)}\n",
    "features"
   ]
  },
  {
   "cell_type": "code",
   "execution_count": 51,
   "metadata": {},
   "outputs": [],
   "source": [
    "# oops some how got two of these, but exactly the same so can drop one\n",
    "alldf[alldf['i'] == 0].T\n",
    "alldf = alldf.drop_duplicates(subset='i')"
   ]
  },
  {
   "cell_type": "code",
   "execution_count": 52,
   "metadata": {
    "scrolled": true
   },
   "outputs": [
    {
     "data": {
      "text/html": [
       "<div>\n",
       "<style scoped>\n",
       "    .dataframe tbody tr th:only-of-type {\n",
       "        vertical-align: middle;\n",
       "    }\n",
       "\n",
       "    .dataframe tbody tr th {\n",
       "        vertical-align: top;\n",
       "    }\n",
       "\n",
       "    .dataframe thead th {\n",
       "        text-align: right;\n",
       "    }\n",
       "</style>\n",
       "<table border=\"1\" class=\"dataframe\">\n",
       "  <thead>\n",
       "    <tr style=\"text-align: right;\">\n",
       "      <th></th>\n",
       "      <th>262</th>\n",
       "    </tr>\n",
       "  </thead>\n",
       "  <tbody>\n",
       "    <tr>\n",
       "      <th>train_acc</th>\n",
       "      <td>0.0527632</td>\n",
       "    </tr>\n",
       "    <tr>\n",
       "      <th>train_balanced_acc</th>\n",
       "      <td>0.0372754</td>\n",
       "    </tr>\n",
       "    <tr>\n",
       "      <th>i</th>\n",
       "      <td>0</td>\n",
       "    </tr>\n",
       "    <tr>\n",
       "      <th>train_logloss</th>\n",
       "      <td>3.97656</td>\n",
       "    </tr>\n",
       "    <tr>\n",
       "      <th>train_karea</th>\n",
       "      <td>0.643525</td>\n",
       "    </tr>\n",
       "    <tr>\n",
       "      <th>max_depth</th>\n",
       "      <td>3</td>\n",
       "    </tr>\n",
       "    <tr>\n",
       "      <th>learning_rate</th>\n",
       "      <td>0.01</td>\n",
       "    </tr>\n",
       "    <tr>\n",
       "      <th>objective</th>\n",
       "      <td>multi:softprob</td>\n",
       "    </tr>\n",
       "    <tr>\n",
       "      <th>num_class</th>\n",
       "      <td>54</td>\n",
       "    </tr>\n",
       "    <tr>\n",
       "      <th>base_score</th>\n",
       "      <td>0.5</td>\n",
       "    </tr>\n",
       "    <tr>\n",
       "      <th>booster</th>\n",
       "      <td>gbtree</td>\n",
       "    </tr>\n",
       "    <tr>\n",
       "      <th>colsample_bylevel</th>\n",
       "      <td>0.1</td>\n",
       "    </tr>\n",
       "    <tr>\n",
       "      <th>colsample_bynode</th>\n",
       "      <td>1</td>\n",
       "    </tr>\n",
       "    <tr>\n",
       "      <th>colsample_bytree</th>\n",
       "      <td>0.1</td>\n",
       "    </tr>\n",
       "    <tr>\n",
       "      <th>gamma</th>\n",
       "      <td>0</td>\n",
       "    </tr>\n",
       "    <tr>\n",
       "      <th>max_delta_step</th>\n",
       "      <td>0</td>\n",
       "    </tr>\n",
       "    <tr>\n",
       "      <th>min_child_weight</th>\n",
       "      <td>1</td>\n",
       "    </tr>\n",
       "    <tr>\n",
       "      <th>random_state</th>\n",
       "      <td>0</td>\n",
       "    </tr>\n",
       "    <tr>\n",
       "      <th>reg_alpha</th>\n",
       "      <td>0</td>\n",
       "    </tr>\n",
       "    <tr>\n",
       "      <th>reg_lambda</th>\n",
       "      <td>1</td>\n",
       "    </tr>\n",
       "    <tr>\n",
       "      <th>scale_pos_weight</th>\n",
       "      <td>1</td>\n",
       "    </tr>\n",
       "    <tr>\n",
       "      <th>seed</th>\n",
       "      <td>42</td>\n",
       "    </tr>\n",
       "    <tr>\n",
       "      <th>subsample</th>\n",
       "      <td>0.1</td>\n",
       "    </tr>\n",
       "    <tr>\n",
       "      <th>verbosity</th>\n",
       "      <td>0</td>\n",
       "    </tr>\n",
       "    <tr>\n",
       "      <th>acc</th>\n",
       "      <td>0.0509642</td>\n",
       "    </tr>\n",
       "    <tr>\n",
       "      <th>balanced_acc</th>\n",
       "      <td>0.0368461</td>\n",
       "    </tr>\n",
       "    <tr>\n",
       "      <th>logloss</th>\n",
       "      <td>3.97663</td>\n",
       "    </tr>\n",
       "    <tr>\n",
       "      <th>walltime</th>\n",
       "      <td>22.0236</td>\n",
       "    </tr>\n",
       "    <tr>\n",
       "      <th>karea</th>\n",
       "      <td>0.64264</td>\n",
       "    </tr>\n",
       "    <tr>\n",
       "      <th>num_round</th>\n",
       "      <td>10</td>\n",
       "    </tr>\n",
       "    <tr>\n",
       "      <th>train_test_acc_delta</th>\n",
       "      <td>0.00179903</td>\n",
       "    </tr>\n",
       "  </tbody>\n",
       "</table>\n",
       "</div>"
      ],
      "text/plain": [
       "                                 262\n",
       "train_acc                  0.0527632\n",
       "train_balanced_acc         0.0372754\n",
       "i                                  0\n",
       "train_logloss                3.97656\n",
       "train_karea                 0.643525\n",
       "max_depth                          3\n",
       "learning_rate                   0.01\n",
       "objective             multi:softprob\n",
       "num_class                         54\n",
       "base_score                       0.5\n",
       "booster                       gbtree\n",
       "colsample_bylevel                0.1\n",
       "colsample_bynode                   1\n",
       "colsample_bytree                 0.1\n",
       "gamma                              0\n",
       "max_delta_step                     0\n",
       "min_child_weight                   1\n",
       "random_state                       0\n",
       "reg_alpha                          0\n",
       "reg_lambda                         1\n",
       "scale_pos_weight                   1\n",
       "seed                              42\n",
       "subsample                        0.1\n",
       "verbosity                          0\n",
       "acc                        0.0509642\n",
       "balanced_acc               0.0368461\n",
       "logloss                      3.97663\n",
       "walltime                     22.0236\n",
       "karea                        0.64264\n",
       "num_round                         10\n",
       "train_test_acc_delta      0.00179903"
      ]
     },
     "execution_count": 52,
     "metadata": {},
     "output_type": "execute_result"
    }
   ],
   "source": [
    "# alldf[alldf['i'] == 0].T\n",
    "alldf."
   ]
  },
  {
   "cell_type": "code",
   "execution_count": 70,
   "metadata": {
    "collapsed": true
   },
   "outputs": [
    {
     "data": {
      "text/plain": [
       "{'f0': 21.84926239047878,\n",
       " 'f1': 37.786746494099994,\n",
       " 'f2': 433.8485397055555,\n",
       " 'f3': 0,\n",
       " 'f4': 16.223508027632352,\n",
       " 'f5': 9.42196043241206,\n",
       " 'f6': 0,\n",
       " 'f7': 312.1357001213905,\n",
       " 'f8': 183.591148200835,\n",
       " 'f9': 0,\n",
       " 'f10': 0,\n",
       " 'f11': 677.8533162,\n",
       " 'f12': 38.99434604246625,\n",
       " 'f13': 6.5263488942345464,\n",
       " 'f14': 26.45729177064285,\n",
       " 'f15': 175.7688860563296,\n",
       " 'f16': 0,\n",
       " 'f17': 90.76833475265924,\n",
       " 'f18': 72.15264768027933,\n",
       " 'f19': 21.99337013682858,\n",
       " 'f20': 0,\n",
       " 'f21': 10.54046058378206,\n",
       " 'f22': 0,\n",
       " 'f23': 17.879153117563337,\n",
       " 'f24': 3.570255177766334,\n",
       " 'f25': 84.93661638680767,\n",
       " 'f26': 430.67800551271426,\n",
       " 'f27': 4.882921038958334,\n",
       " 'f28': 0,\n",
       " 'f29': 0,\n",
       " 'f30': 4.647248752257143,\n",
       " 'f31': 0,\n",
       " 'f32': 6.513139701477776,\n",
       " 'f33': 44.31525139833,\n",
       " 'f34': 9.75682808103667,\n",
       " 'f35': 0,\n",
       " 'f36': 12.14313110033871,\n",
       " 'f37': 3.478033674544285,\n",
       " 'f38': 0,\n",
       " 'f39': 31.03448123228923,\n",
       " 'f40': 4.873982171226924,\n",
       " 'f41': 0,\n",
       " 'f42': 33.41495056715625,\n",
       " 'f43': 3.9420541673342404,\n",
       " 'f44': 1.783668180384583,\n",
       " 'f45': 18.68570371114403,\n",
       " 'f46': 53.18911013852187,\n",
       " 'f47': 34.886790859076925,\n",
       " 'f48': 11.333733844213043,\n",
       " 'f49': 4.0394160273988335,\n",
       " 'f50': 4.790216858138834,\n",
       " 'f51': 4.4780697267222225,\n",
       " 'f52': 3.365376609984877,\n",
       " 'f53': 4.78523913215375,\n",
       " 'f54': 0,\n",
       " 'f55': 0,\n",
       " 'f56': 0,\n",
       " 'f57': 3.318884340601371,\n",
       " 'f58': 7.3907565483359985,\n",
       " 'f59': 0,\n",
       " 'f60': 5.07374035854091,\n",
       " 'f61': 0,\n",
       " 'f62': 2.539707918004545,\n",
       " 'f63': 14.069518631388888,\n",
       " 'f64': 28.83570998994062,\n",
       " 'f65': 3.66199824563375,\n",
       " 'f66': 3.1278085277045453,\n",
       " 'f67': 9.516930901203033,\n",
       " 'f68': 2.66708374141353,\n",
       " 'f69': 0,\n",
       " 'f70': 0,\n",
       " 'f71': 12.570966613077418,\n",
       " 'f72': 11.393699257730953,\n",
       " 'f73': 8.111616334874284,\n",
       " 'f74': 0,\n",
       " 'f75': 15.477744170175452,\n",
       " 'f76': 11.491175790387242,\n",
       " 'f77': 4.441719544005313,\n",
       " 'f78': 39.071259107831914,\n",
       " 'f79': 3.738208895664341,\n",
       " 'f80': 0.6978698888044447,\n",
       " 'f81': 16.965743239596296,\n",
       " 'f82': 12.161108562157143,\n",
       " 'f83': 46.38866912147674,\n",
       " 'f84': 4.034771426104167,\n",
       " 'acc': 0.008062450795337055,\n",
       " 'karea': 0.4726062864632681}"
      ]
     },
     "execution_count": 70,
     "metadata": {},
     "output_type": "execute_result"
    }
   ],
   "source": [
    "# bundle feature access..\n",
    "def feature_stats_from_model(alldf, i):\n",
    "    bundle_loc = f'{artifactsdir}/{i}_bundle_with_metrics.joblib'\n",
    "    bundle = joblib.load(bundle_loc)\n",
    "    model = bundle['xgb_model']\n",
    "    # return bundle, model\n",
    "    row = alldf[alldf['i'] == i].iloc[0]\n",
    "    features = {f'f{i}': model.get_score(importance_type='gain').get(f'f{i}', 0)\n",
    "               for i, x in enumerate(model.feature_names)}\n",
    "    return {**features, 'acc': float(row.acc), 'karea': float(row.karea)}\n",
    "\n",
    "row = feature_stats_from_model(alldf, 868)\n",
    "row"
   ]
  },
  {
   "cell_type": "code",
   "execution_count": 69,
   "metadata": {},
   "outputs": [
    {
     "data": {
      "text/plain": [
       "0.050964174262760016"
      ]
     },
     "execution_count": 69,
     "metadata": {},
     "output_type": "execute_result"
    }
   ],
   "source": [
    "row = alldf[alldf['i'] == 0]\n",
    "float(row.iloc[0].acc)"
   ]
  },
  {
   "cell_type": "code",
   "execution_count": 71,
   "metadata": {},
   "outputs": [
    {
     "name": "stderr",
     "output_type": "stream",
     "text": [
      "100%|██████████| 1253/1253 [3:43:03<00:00, 10.68s/it]  \n"
     ]
    }
   ],
   "source": [
    "stats_vec = []\n",
    "for i in tqdm(alldf['i'].tolist()):\n",
    "    stats_vec.append(feature_stats_from_model(alldf, i))"
   ]
  },
  {
   "cell_type": "code",
   "execution_count": 74,
   "metadata": {},
   "outputs": [],
   "source": [
    "foodf = pd.DataFrame.from_records(stats_vec)\n",
    "foodf.corr().to_csv(f'{artifactsdir}/feature_acc_corr.csv')"
   ]
  },
  {
   "cell_type": "code",
   "execution_count": 75,
   "metadata": {},
   "outputs": [
    {
     "data": {
      "image/png": "[encoded data removed]",
      "text/plain": [
       "<Figure size 720x720 with 2 Axes>"
      ]
     },
     "metadata": {
      "needs_background": "light"
     },
     "output_type": "display_data"
    }
   ],
   "source": [
    "plt.figure(figsize=(10,10))\n",
    "plt.imshow(foodf.corr())\n",
    "plt.colorbar()\n",
    "plt.grid(False)\n",
    "plt.show()\n"
   ]
  },
  {
   "cell_type": "markdown",
   "metadata": {},
   "source": [
    "This is an attempt to see which features being important correlates with higher accuracy. I guess this is another way of asking the question, given the higher accuracy models, do they share some of the top features?\n",
    "\n",
    "Basically is there a trend there or is it pretty random."
   ]
  },
  {
   "cell_type": "code",
   "execution_count": 77,
   "metadata": {
    "scrolled": true
   },
   "outputs": [
    {
     "data": {
      "text/plain": [
       "f0        21.849262\n",
       "f1        37.786746\n",
       "f2       433.848540\n",
       "f3         0.000000\n",
       "f4        16.223508\n",
       "            ...    \n",
       "f82       12.161109\n",
       "f83       46.388669\n",
       "f84        4.034771\n",
       "acc        0.008062\n",
       "karea      0.472606\n",
       "Name: 0, Length: 87, dtype: float64"
      ]
     },
     "execution_count": 77,
     "metadata": {},
     "output_type": "execute_result"
    }
   ],
   "source": [
    "foodf.iloc[0]"
   ]
  },
  {
   "cell_type": "code",
   "execution_count": 81,
   "metadata": {},
   "outputs": [],
   "source": [
    "foodf['i'] = alldf['i'].tolist()"
   ]
  },
  {
   "cell_type": "code",
   "execution_count": 84,
   "metadata": {},
   "outputs": [],
   "source": [
    "foodf.sort_values(by='acc').to_csv(f'{artifactsdir}/feature_importances.csv')"
   ]
  },
  {
   "cell_type": "code",
   "execution_count": 91,
   "metadata": {},
   "outputs": [
    {
     "data": {
      "text/plain": [
       "[-0.22249028433987125,\n",
       " -0.2146619609978095,\n",
       " -0.18244263134367497,\n",
       " -0.17365844155587123,\n",
       " -0.17290120681000407,\n",
       " -0.1671679775812512,\n",
       " -0.1667816434203584,\n",
       " -0.1618100863720859,\n",
       " -0.15993725926056238,\n",
       " -0.1571657789494311,\n",
       " -0.15691696599470017,\n",
       " -0.15359107691068863,\n",
       " -0.1526146337471444,\n",
       " -0.15192954875843095,\n",
       " -0.14988719316482935,\n",
       " -0.1485679345446469,\n",
       " -0.14848568392802328,\n",
       " -0.14148592302023344,\n",
       " -0.14044175116931404,\n",
       " -0.12903514620585077,\n",
       " -0.12866145769710494,\n",
       " -0.12781799189987822,\n",
       " -0.1277534168716233,\n",
       " -0.12450423647018186,\n",
       " -0.11960031267262315,\n",
       " -0.11902185698543191,\n",
       " -0.11827748747262198,\n",
       " -0.11729214357164451,\n",
       " -0.11526483521004573,\n",
       " -0.11506083639110845,\n",
       " -0.11347420363145143,\n",
       " -0.11313720499150802,\n",
       " -0.11225904071671343,\n",
       " -0.11163087167685924,\n",
       " -0.11101930170239466,\n",
       " -0.11063757047545346,\n",
       " -0.11047868892759936,\n",
       " -0.10947215709446233,\n",
       " -0.10883598231327433,\n",
       " -0.10686461955713056,\n",
       " -0.10533517240859021,\n",
       " -0.10142423745196777,\n",
       " -0.10128485600188009,\n",
       " -0.09999140404084249,\n",
       " -0.09712375774647566,\n",
       " -0.09503813417300294,\n",
       " -0.0926194776541293,\n",
       " -0.09225834868861116,\n",
       " -0.09125375334950694,\n",
       " -0.08699785109112515,\n",
       " -0.08519046754459657,\n",
       " -0.08173592165797806,\n",
       " -0.07743753253683384,\n",
       " -0.07000703267926792,\n",
       " -0.06903841875335529,\n",
       " -0.06785232350947863,\n",
       " -0.06775581611602649,\n",
       " -0.052126180356056845,\n",
       " -0.04813601804862376,\n",
       " -0.023457297920787167,\n",
       " -0.021671955204269372,\n",
       " 0.009036826935946292,\n",
       " 0.02753122546362949,\n",
       " 0.11538350070065725,\n",
       " 0.24244473225551957,\n",
       " 0.9446158287561083,\n",
       " 1.0,\n",
       " nan,\n",
       " nan,\n",
       " nan,\n",
       " nan,\n",
       " nan,\n",
       " nan,\n",
       " nan,\n",
       " nan,\n",
       " nan,\n",
       " nan,\n",
       " nan,\n",
       " nan,\n",
       " nan,\n",
       " nan,\n",
       " nan,\n",
       " nan,\n",
       " nan,\n",
       " nan,\n",
       " nan,\n",
       " nan,\n",
       " nan]"
      ]
     },
     "execution_count": 91,
     "metadata": {},
     "output_type": "execute_result"
    }
   ],
   "source": [
    "foodf.corr().sort_values(by='acc')['acc'].tolist()"
   ]
  },
  {
   "cell_type": "code",
   "execution_count": 92,
   "metadata": {},
   "outputs": [
    {
     "data": {
      "text/plain": [
       "f75   -0.222490\n",
       "f73   -0.214662\n",
       "f81   -0.182443\n",
       "f12   -0.173658\n",
       "f78   -0.172901\n",
       "         ...   \n",
       "f59         NaN\n",
       "f61         NaN\n",
       "f69         NaN\n",
       "f70         NaN\n",
       "f74         NaN\n",
       "Name: acc, Length: 88, dtype: float64"
      ]
     },
     "execution_count": 92,
     "metadata": {},
     "output_type": "execute_result"
    }
   ],
   "source": [
    "foodf.corr().sort_values(by='acc')['acc']"
   ]
  },
  {
   "cell_type": "code",
   "execution_count": 97,
   "metadata": {},
   "outputs": [],
   "source": [
    "feature_map = {f'f{i}': feature_names[i] for i in range(len(feature_names))}"
   ]
  },
  {
   "cell_type": "code",
   "execution_count": 98,
   "metadata": {},
   "outputs": [],
   "source": [
    "#foodf.corr().sort_values(by='acc')['acc']\n",
    "foodf.to_records?"
   ]
  },
  {
   "cell_type": "code",
   "execution_count": 114,
   "metadata": {},
   "outputs": [
    {
     "data": {
      "text/plain": [
       "['i', 'karea', 'acc']"
      ]
     },
     "execution_count": 114,
     "metadata": {},
     "output_type": "execute_result"
    }
   ],
   "source": [
    "\n",
    "x = foodf.corr().sort_values(by='acc')['acc'].index.tolist()\n",
    "[x[i]  for (i, _) in enumerate(x)\n",
    "         if feature_map.get(x[i]) is None]\n"
   ]
  },
  {
   "cell_type": "markdown",
   "metadata": {},
   "source": [
    "### 2020-07-31\n",
    "\n",
    "#### represent as horizontal bar chart...\n",
    "- this figure below looks interesting but still the correlations are I think way too small to be interesting.\n",
    "- That being said, looking at a correlation between two quantities like accuracy (float between 0 and ~0.12) and xgboost feature weight (unbounded number that can be 0, 2, 100, 400 or more), maybe is not proper. Perhaps the numbers need to be normalized?"
   ]
  },
  {
   "cell_type": "code",
   "execution_count": 115,
   "metadata": {},
   "outputs": [
    {
     "data": {
      "text/plain": [
       "<BarContainer object of 64 artists>"
      ]
     },
     "execution_count": 115,
     "metadata": {},
     "output_type": "execute_result"
    },
    {
     "data": {
      "image/png": "[encoded data removed]",
      "text/plain": [
       "<Figure size 720x2160 with 1 Axes>"
      ]
     },
     "metadata": {
      "needs_background": "light"
     },
     "output_type": "display_data"
    }
   ],
   "source": [
    "# TODO.. gotta just take out 'karea' and makis bigger... \n",
    "# maybe take out the ones that area too small? \n",
    "x = foodf.corr().sort_values(by='acc')['acc'].index.tolist()\n",
    "y = foodf.corr().sort_values(by='acc')['acc'].tolist()\n",
    "\n",
    "index = [i for (i, _) in enumerate(x)\n",
    "        if (\n",
    "            (not pd.isnull(y[i]))\n",
    "          and (x[i] not in ['i', 'karea', 'acc']))\n",
    "        ]\n",
    "x =  [feature_map.get(x[i]) for i in index\n",
    "     ]\n",
    "y = [y[i] for i in index]\n",
    "\n",
    "\n",
    "\n",
    "fig = plt.figure(figsize=(10,30))\n",
    "#plt.figure?\n",
    "ax = fig.add_subplot(121)\n",
    "ax.barh(x, y)"
   ]
  },
  {
   "cell_type": "code",
   "execution_count": null,
   "metadata": {},
   "outputs": [],
   "source": [
    "# this figure looks interesting "
   ]
  }
 ],
 "metadata": {
  "kernelspec": {
   "display_name": "Python 3",
   "language": "python",
   "name": "python3"
  },
  "language_info": {
   "codemirror_mode": {
    "name": "ipython",
    "version": 3
   },
   "file_extension": ".py",
   "mimetype": "text/x-python",
   "name": "python",
   "nbconvert_exporter": "python",
   "pygments_lexer": "ipython3",
   "version": "3.7.7"
  }
 },
 "nbformat": 4,
 "nbformat_minor": 4
}
